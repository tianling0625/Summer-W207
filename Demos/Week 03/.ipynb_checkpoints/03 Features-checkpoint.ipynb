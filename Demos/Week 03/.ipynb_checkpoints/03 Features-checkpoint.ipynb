{
 "cells": [
  {
   "cell_type": "markdown",
   "metadata": {},
   "source": [
    "# Features (using multivariate linear regression)"
   ]
  },
  {
   "cell_type": "markdown",
   "metadata": {},
   "source": [
    "---\n",
    "#### ``Objectives:``\n",
    "1.  you will use a real dataset to **predict COVID-19 growth rates of cumulative cases** during the first wave of the pandemic<br>\n",
    "2. work with panel data (contains geospatial and time information) <br>\n",
    "3. perform ouutcome and feature engineering:\n",
    "    - create outcome from exisiting data: i.e., define growth rates of COVID-19 cumulative ases <br>\n",
    "    - create new features from existing data: categorical (one-hot encodings) and continous (rolling averages of human mobility) <br>\n",
    "    - visualize distributions and correlations of features and outcome\n",
    "4. perform non-random split between training and test data (remember the data has a time dimension!) <br>\n",
    "5. train a **baseline** and a **mobility** model using: <br>\n",
    "    - a closed-form solution for linear regression using statsmodels, and\n",
    "    - an interative solution (gradient descent) using Tensorflow\n",
    "6. evaluate and plot the performance of the two models"
   ]
  },
  {
   "cell_type": "markdown",
   "metadata": {},
   "source": [
    "---\n",
    "#### ``Data:``"
   ]
  },
  {
   "cell_type": "markdown",
   "metadata": {},
   "source": [
    "The data is at the country-day level (panel) and provides information on:\n",
    "* COVID-19 cumulative case numbers\n",
    "* Google residential mobility\n",
    "\n",
    "\n",
    "The data is publically available here:\n",
    " - Covid-19 cumulative cases: https://www.arcgis.com/apps/opsdashboard/index.html#/bda7594740fd40299423467b48e9ecf6 \n",
    " - Residential mobility: https://www.google.com/covid19/mobility/data_documentation.html\n",
    "\n",
    "But to make it easier for you, we combined these data sources in the``03 Features.csv`` file. \n",
    "\n",
    "**Data dictionary**:\n",
    "\n",
    "* adm0_name: administrative region 0 (i.e., country name)\n",
    "* date: date of COVID-19 cumulative cases and mobility data\n",
    "* day_of_week: day of week in date (Monday=0, etc...)\n",
    "* cum_cases: cumulative number of COVID-19 cases at a given point in time\n",
    "* mob_resid: percentage change in residential mobility compared to a baseline period. This baseline is defined as the median value for the corresponding day of the week, during the 5-week period Jan 3–Feb 6, 2020; see [here](https://www.google.com/covid19/mobility/data_documentation.html) for more information"
   ]
  },
  {
   "cell_type": "markdown",
   "metadata": {},
   "source": [
    "---\n",
    "### Step 1: Import packages"
   ]
  },
  {
   "cell_type": "code",
   "execution_count": 3,
   "metadata": {},
   "outputs": [
    {
     "name": "stderr",
     "output_type": "stream",
     "text": [
      "2022-05-22 23:59:44.663591: W tensorflow/stream_executor/platform/default/dso_loader.cc:64] Could not load dynamic library 'libcudart.so.11.0'; dlerror: libcudart.so.11.0: cannot open shared object file: No such file or directory\n",
      "2022-05-22 23:59:44.663621: I tensorflow/stream_executor/cuda/cudart_stub.cc:29] Ignore above cudart dlerror if you do not have a GPU set up on your machine.\n"
     ]
    }
   ],
   "source": [
    "import pandas as pd\n",
    "import numpy as np\n",
    "\n",
    "# data preprocessing\n",
    "from sklearn import preprocessing\n",
    "\n",
    "# exploratory analysis\n",
    "import matplotlib.pyplot as plt\n",
    "import mlxtend\n",
    "from mlxtend.plotting import scatterplotmatrix\n",
    "from mlxtend.plotting import heatmap\n",
    "import seaborn as sns\n",
    "\n",
    "# model fit\n",
    "import statsmodels.api as sm\n",
    "import tensorflow as tf\n",
    "\n",
    "# ignore warnings (libraries are rapidly changing)\n",
    "import warnings\n",
    "warnings.filterwarnings('ignore')"
   ]
  },
  {
   "cell_type": "markdown",
   "metadata": {},
   "source": [
    "### Step 2: Define functions"
   ]
  },
  {
   "cell_type": "markdown",
   "metadata": {},
   "source": [
    "``plots``"
   ]
  },
  {
   "cell_type": "code",
   "execution_count": 4,
   "metadata": {},
   "outputs": [],
   "source": [
    "def pct_error_plot(df_b, df_m, plot_type, solution):\n",
    "    \"\"\" Plot relationship between (forecast length, training length) and pct_error\n",
    "    \n",
    "    params:\n",
    "    -------\n",
    "    df_b: df, predictions using test data for baseline model\n",
    "    df_m: df, predictions using test data for mobility model\n",
    "    plot_type: str, you can choose between 'violin', 'box'\n",
    "    solution: str, 'closed_form' or 'tf'\n",
    "    \n",
    "    return:\n",
    "    -------\n",
    "    plot\n",
    "    \"\"\"\n",
    "\n",
    "    if solution=='closed_form':\n",
    "        # add test predictions from both models, baseline and mobility\n",
    "        df_b['model'] = 'baseline'\n",
    "        df_m['model'] = \"mobility\"\n",
    "\n",
    "        df = pd.concat(\n",
    "            [df_b, df_m],\n",
    "            axis=0\n",
    "        )\n",
    "    \n",
    "    if solution=='tf':\n",
    "        # keep only test test predictions for baseline model\n",
    "        df = df_b\n",
    "    \n",
    "    # add length of forecast (in days) variable\n",
    "    df['pred_day'] = df.groupby(\n",
    "        ['adm0_name', 'model'],\n",
    "        as_index = False)['date'].cumcount() #we have 10 days in forecast (test), this will start count at 0\n",
    "    \n",
    "    df['pred_day'] = df['pred_day'] + 1 #starts count at one now\n",
    "    \n",
    "    # initialize new figure\n",
    "    sns.set(rc={'figure.figsize':(5,5)})\n",
    "    \n",
    "    \n",
    "    # plot axes\n",
    "    ax = sns.catplot(\n",
    "        x='pred_day',\n",
    "        y='pct_error',\n",
    "        hue='model',\n",
    "        data=df,\n",
    "        kind=plot_type,\n",
    "        palette='muted',\n",
    "        legend=False\n",
    "    )\n",
    "    \n",
    "    # set figure size\n",
    "    ax.fig.set_figwidth(10)\n",
    "    ax.fig.set_figheight(6)\n",
    "\n",
    "    # set title, axes\n",
    "    plt.title(\n",
    "        'Percentage error in predicted number of cases at the country level \\n train_length = 20 days',\n",
    "        fontsize = 16\n",
    "    )\n",
    "    \n",
    "    plt.ylabel('pct_error')\n",
    "    plt.xlabel('length of forecast (days)')\n",
    "    \n",
    "    if solution=='baseline':\n",
    "        ax.set(ylim=(-75, 75))\n",
    "    \n",
    "    # add vertical line at y=0\n",
    "    plt.axhline(y=0, linestyle='--', color='black', linewidth=1)\n",
    "    \n",
    "    # set legend\n",
    "    legend = plt.legend(\n",
    "        loc='upper center',\n",
    "        bbox_to_anchor=(0.5, -0.15),\n",
    "        fancybox=True,\n",
    "        shadow=True,\n",
    "        ncol=10,\n",
    "        prop={'size': 10}\n",
    "    )\n",
    "    \n",
    "    return df"
   ]
  },
  {
   "cell_type": "markdown",
   "metadata": {},
   "source": [
    "---\n",
    "### Step 3: Read data\n",
    "---"
   ]
  },
  {
   "cell_type": "code",
   "execution_count": 5,
   "metadata": {},
   "outputs": [
    {
     "name": "stdout",
     "output_type": "stream",
     "text": [
      "Shape of data:  (19552, 5)\n",
      "Number of counties:  188\n",
      "Time period covered: 2020-02-16 to 2020-05-29\n"
     ]
    },
    {
     "data": {
      "text/html": [
       "<div>\n",
       "<style scoped>\n",
       "    .dataframe tbody tr th:only-of-type {\n",
       "        vertical-align: middle;\n",
       "    }\n",
       "\n",
       "    .dataframe tbody tr th {\n",
       "        vertical-align: top;\n",
       "    }\n",
       "\n",
       "    .dataframe thead th {\n",
       "        text-align: right;\n",
       "    }\n",
       "</style>\n",
       "<table border=\"1\" class=\"dataframe\">\n",
       "  <thead>\n",
       "    <tr style=\"text-align: right;\">\n",
       "      <th></th>\n",
       "      <th>adm0_name</th>\n",
       "      <th>date</th>\n",
       "      <th>day_of_week</th>\n",
       "      <th>cum_cases</th>\n",
       "      <th>mob_resid</th>\n",
       "    </tr>\n",
       "  </thead>\n",
       "  <tbody>\n",
       "    <tr>\n",
       "      <th>0</th>\n",
       "      <td>Afghanistan</td>\n",
       "      <td>2020-02-16</td>\n",
       "      <td>6</td>\n",
       "      <td>0</td>\n",
       "      <td>0.0</td>\n",
       "    </tr>\n",
       "    <tr>\n",
       "      <th>1</th>\n",
       "      <td>Afghanistan</td>\n",
       "      <td>2020-02-17</td>\n",
       "      <td>0</td>\n",
       "      <td>0</td>\n",
       "      <td>-1.0</td>\n",
       "    </tr>\n",
       "  </tbody>\n",
       "</table>\n",
       "</div>"
      ],
      "text/plain": [
       "     adm0_name        date  day_of_week  cum_cases  mob_resid\n",
       "0  Afghanistan  2020-02-16            6          0        0.0\n",
       "1  Afghanistan  2020-02-17            0          0       -1.0"
      ]
     },
     "execution_count": 5,
     "metadata": {},
     "output_type": "execute_result"
    }
   ],
   "source": [
    "# read data\n",
    "init_df = pd.read_csv(\n",
    "    '03 Features.csv', \n",
    "    sep=','\n",
    ")\n",
    "\n",
    "\n",
    "# print shape of df, number of countries, and time period covered\n",
    "print(\n",
    "    'Shape of data: ',\n",
    "    init_df.shape\n",
    ")\n",
    "\n",
    "print(\n",
    "    'Number of counties: ',\n",
    "    len(init_df.adm0_name.unique())\n",
    ")\n",
    "\n",
    "print(\n",
    "    'Time period covered:',\n",
    "    init_df.date.min(), 'to',\n",
    "    init_df.date.max()\n",
    ")\n",
    "init_df.head(2)"
   ]
  },
  {
   "cell_type": "markdown",
   "metadata": {},
   "source": [
    "Our data contains information on COVID-19 cumulative cases and residential mobility for 188 counties in the world. The time period is between 2020-02-16 and 2020-05-29 (this corresponds with the first wave of the pandemic).\n",
    "\n",
    "Because not all countries began testing for COVID-19 on the same date, these samples are unbalanced panels.\n",
    "\n",
    "There are not too many features to choose from (see shape of data) but you can create additional ones using the exisiting data (we will do this in the Data preprocessing step below)."
   ]
  },
  {
   "cell_type": "markdown",
   "metadata": {},
   "source": [
    "---\n",
    "### Step 4: Data preprocessing\n",
    "---"
   ]
  },
  {
   "cell_type": "markdown",
   "metadata": {},
   "source": [
    "The quality of the data and the time we put into preprocessing it are very good determinants of how well our machine learning algorithm can learn. In the next subsections we will implement essential data preprocessing steps. Note that there are general rules on where one should start but keep in mind that this step often requires knowledge of the domain of study."
   ]
  },
  {
   "cell_type": "markdown",
   "metadata": {},
   "source": [
    "##### ``Step 4.1. Create outcome variable``"
   ]
  },
  {
   "cell_type": "markdown",
   "metadata": {},
   "source": [
    "We are interested to predict the **growth rate of COVID-19 cumulative cases**. This is going to be our outcome variable (denote it 'D_ln_cum_cases'). It's defined as follows:\n",
    "\n",
    "$D\\_ln\\_cum\\_cases = \\frac{cum\\_cases_{t+1} - cum\\_cases_{t}}{cum\\_cases_{t}} = ln(\\frac{cum\\_cases_{t+1}}{cum\\_cases_{t}}) = ln(cum\\_cases_{t+1}) - ln(cum\\_cases_{t})$"
   ]
  },
  {
   "cell_type": "code",
   "execution_count": 6,
   "metadata": {},
   "outputs": [
    {
     "data": {
      "text/html": [
       "<div>\n",
       "<style scoped>\n",
       "    .dataframe tbody tr th:only-of-type {\n",
       "        vertical-align: middle;\n",
       "    }\n",
       "\n",
       "    .dataframe tbody tr th {\n",
       "        vertical-align: top;\n",
       "    }\n",
       "\n",
       "    .dataframe thead th {\n",
       "        text-align: right;\n",
       "    }\n",
       "</style>\n",
       "<table border=\"1\" class=\"dataframe\">\n",
       "  <thead>\n",
       "    <tr style=\"text-align: right;\">\n",
       "      <th></th>\n",
       "      <th>adm0_name</th>\n",
       "      <th>date</th>\n",
       "      <th>day_of_week</th>\n",
       "      <th>cum_cases</th>\n",
       "      <th>mob_resid</th>\n",
       "      <th>ln_cum_cases</th>\n",
       "      <th>D_ln_cum_cases</th>\n",
       "    </tr>\n",
       "  </thead>\n",
       "  <tbody>\n",
       "    <tr>\n",
       "      <th>0</th>\n",
       "      <td>Afghanistan</td>\n",
       "      <td>2020-02-16</td>\n",
       "      <td>6</td>\n",
       "      <td>0</td>\n",
       "      <td>0.0</td>\n",
       "      <td>-inf</td>\n",
       "      <td>NaN</td>\n",
       "    </tr>\n",
       "    <tr>\n",
       "      <th>1</th>\n",
       "      <td>Afghanistan</td>\n",
       "      <td>2020-02-17</td>\n",
       "      <td>0</td>\n",
       "      <td>0</td>\n",
       "      <td>-1.0</td>\n",
       "      <td>-inf</td>\n",
       "      <td>NaN</td>\n",
       "    </tr>\n",
       "    <tr>\n",
       "      <th>2</th>\n",
       "      <td>Afghanistan</td>\n",
       "      <td>2020-02-18</td>\n",
       "      <td>1</td>\n",
       "      <td>0</td>\n",
       "      <td>-1.0</td>\n",
       "      <td>-inf</td>\n",
       "      <td>NaN</td>\n",
       "    </tr>\n",
       "    <tr>\n",
       "      <th>3</th>\n",
       "      <td>Afghanistan</td>\n",
       "      <td>2020-02-19</td>\n",
       "      <td>2</td>\n",
       "      <td>0</td>\n",
       "      <td>1.0</td>\n",
       "      <td>-inf</td>\n",
       "      <td>NaN</td>\n",
       "    </tr>\n",
       "    <tr>\n",
       "      <th>4</th>\n",
       "      <td>Afghanistan</td>\n",
       "      <td>2020-02-20</td>\n",
       "      <td>3</td>\n",
       "      <td>0</td>\n",
       "      <td>1.0</td>\n",
       "      <td>-inf</td>\n",
       "      <td>NaN</td>\n",
       "    </tr>\n",
       "  </tbody>\n",
       "</table>\n",
       "</div>"
      ],
      "text/plain": [
       "     adm0_name        date  day_of_week  cum_cases  mob_resid  ln_cum_cases  \\\n",
       "0  Afghanistan  2020-02-16            6          0        0.0          -inf   \n",
       "1  Afghanistan  2020-02-17            0          0       -1.0          -inf   \n",
       "2  Afghanistan  2020-02-18            1          0       -1.0          -inf   \n",
       "3  Afghanistan  2020-02-19            2          0        1.0          -inf   \n",
       "4  Afghanistan  2020-02-20            3          0        1.0          -inf   \n",
       "\n",
       "   D_ln_cum_cases  \n",
       "0             NaN  \n",
       "1             NaN  \n",
       "2             NaN  \n",
       "3             NaN  \n",
       "4             NaN  "
      ]
     },
     "execution_count": 6,
     "metadata": {},
     "output_type": "execute_result"
    }
   ],
   "source": [
    "## define outcome variable ##\n",
    "#############################\n",
    "\n",
    "# define log of cum_cases\n",
    "init_df['ln_cum_cases'] = np.log(\n",
    "    init_df.cum_cases\n",
    ")\n",
    "    \n",
    "# one period difference of log of cum_cases (remember that we need to do this for each country separately! groupby is esential here)\n",
    "init_df['D_ln_cum_cases'] = init_df.groupby(\n",
    "    ['adm0_name']\n",
    ")['ln_cum_cases'].diff()\n",
    "\n",
    "init_df.head()"
   ]
  },
  {
   "cell_type": "markdown",
   "metadata": {},
   "source": [
    "##### ``Step 4.2: Drop features``"
   ]
  },
  {
   "cell_type": "markdown",
   "metadata": {},
   "source": [
    "For ease of visualization let's keep only columns related to country, date, COVID-19 cumulative cases and associated growth rates, and residential mobility."
   ]
  },
  {
   "cell_type": "code",
   "execution_count": 7,
   "metadata": {},
   "outputs": [
    {
     "data": {
      "text/html": [
       "<div>\n",
       "<style scoped>\n",
       "    .dataframe tbody tr th:only-of-type {\n",
       "        vertical-align: middle;\n",
       "    }\n",
       "\n",
       "    .dataframe tbody tr th {\n",
       "        vertical-align: top;\n",
       "    }\n",
       "\n",
       "    .dataframe thead th {\n",
       "        text-align: right;\n",
       "    }\n",
       "</style>\n",
       "<table border=\"1\" class=\"dataframe\">\n",
       "  <thead>\n",
       "    <tr style=\"text-align: right;\">\n",
       "      <th></th>\n",
       "      <th>adm0_name</th>\n",
       "      <th>date</th>\n",
       "      <th>day_of_week</th>\n",
       "      <th>cum_cases</th>\n",
       "      <th>D_ln_cum_cases</th>\n",
       "      <th>mob_resid</th>\n",
       "    </tr>\n",
       "  </thead>\n",
       "  <tbody>\n",
       "    <tr>\n",
       "      <th>0</th>\n",
       "      <td>Afghanistan</td>\n",
       "      <td>2020-02-16</td>\n",
       "      <td>6</td>\n",
       "      <td>0</td>\n",
       "      <td>NaN</td>\n",
       "      <td>0.0</td>\n",
       "    </tr>\n",
       "    <tr>\n",
       "      <th>1</th>\n",
       "      <td>Afghanistan</td>\n",
       "      <td>2020-02-17</td>\n",
       "      <td>0</td>\n",
       "      <td>0</td>\n",
       "      <td>NaN</td>\n",
       "      <td>-1.0</td>\n",
       "    </tr>\n",
       "  </tbody>\n",
       "</table>\n",
       "</div>"
      ],
      "text/plain": [
       "     adm0_name        date  day_of_week  cum_cases  D_ln_cum_cases  mob_resid\n",
       "0  Afghanistan  2020-02-16            6          0             NaN        0.0\n",
       "1  Afghanistan  2020-02-17            0          0             NaN       -1.0"
      ]
     },
     "execution_count": 7,
     "metadata": {},
     "output_type": "execute_result"
    }
   ],
   "source": [
    "cols = [\n",
    "    'adm0_name', 'date', 'day_of_week',\n",
    "    'cum_cases', 'D_ln_cum_cases', 'mob_resid'\n",
    "]\n",
    "init_df = init_df[cols]  \n",
    "init_df.head(2)"
   ]
  },
  {
   "cell_type": "markdown",
   "metadata": {},
   "source": [
    "##### ``Step 4.3. Add features``"
   ]
  },
  {
   "cell_type": "markdown",
   "metadata": {},
   "source": [
    "Here we will create additional features using existing data. \n",
    "\n",
    "For example, in addition to a **baseline** model we will also fit a **mobility** model. The later will include mobility features. It's likely that residential mobility today (mob_resid, this is what we currently have in the data) and the growth rate of COVID-19 cases are weekly correlated (think how the virus spreads: it takes time to see any effects on cases as a result of more people staying at home). Creating features that show how changes in rolling avarages of mobility 1,2,3 weeks ago affect the growth rate of cases today is instead more informative. \n",
    "\n",
    "One-hot-encodings (a.k.a. dummies or fixed effects in your Stats class) are other useful features that one can create using existing data. We can use them to specify what kind of variation in the data we would like to explore. A fixed effect for country and a fixed effect for day of the week will account for differences across countries and differences across days of the week within a given country (e.g. US vs. Afganistan, and Monday vs. Saturday in Afganistan). "
   ]
  },
  {
   "cell_type": "code",
   "execution_count": 8,
   "metadata": {},
   "outputs": [],
   "source": [
    "## create lagged mobility variables ##\n",
    "######################################\n",
    "\n",
    "# define L0 mob vars\n",
    "L0_vars = ['mob_resid']\n",
    "\n",
    "# define 1 to 21 days\n",
    "days = np.arange(1,22, 1)\n",
    "\n",
    "# define lagged mob variable names for 1 to 21 days\n",
    "L_vars = []\n",
    "for day in days:\n",
    "    L_vars.append('L'+str(day)+'_mob_resid')\n",
    "\n",
    "# create lag variables and add to initial df\n",
    "for i, var in enumerate(L_vars):\n",
    "    init_df[L_vars[i]] = init_df.groupby(\n",
    "        ['adm0_name']\n",
    ")[L0_vars[0]].shift(i+1)"
   ]
  },
  {
   "cell_type": "code",
   "execution_count": 9,
   "metadata": {},
   "outputs": [],
   "source": [
    "## create rolling averages of mobility variables ##\n",
    "###################################################\n",
    "# roling averages for mobility 1,2,and 3 weeks ago\n",
    "rol_mob_resid = ['mob_L1to7', 'mob_L8to14', 'mob_L15to21']\n",
    "\n",
    "for i, var in enumerate(rol_mob_resid):\n",
    "    if i == 0:\n",
    "        init_df[rol_mob_resid[i]] = init_df[\n",
    "            [L_vars[i], L_vars[i+1], L_vars[i+2], L_vars[i+3], L_vars[i+4], L_vars[i+5], L_vars[i+6]]\n",
    "        ].mean(axis=1)\n",
    "        \n",
    "    if i == 1:    \n",
    "        init_df[rol_mob_resid[i]] = init_df[\n",
    "            [L_vars[i+6], L_vars[i+7], L_vars[i+8], L_vars[i+9], L_vars[i+10], L_vars[i+11], L_vars[i+12]]\n",
    "        ].mean(axis=1)\n",
    "        \n",
    "    if i == 2:\n",
    "        init_df[rol_mob_resid[i]] = init_df[\n",
    "            [L_vars[i+12], L_vars[i+13], L_vars[i+14], L_vars[i+15], L_vars[i+16], L_vars[i+17], L_vars[i+18]]\n",
    "        ].mean(axis=1)"
   ]
  },
  {
   "cell_type": "code",
   "execution_count": 10,
   "metadata": {},
   "outputs": [],
   "source": [
    "## create one-hot-encodings ##\n",
    "##############################\n",
    "# for adm0_name (country)\n",
    "adm0_name_d = pd.get_dummies(\n",
    "    init_df['adm0_name'],\n",
    "    drop_first = False\n",
    ") #don't drop first adm0_name (we will drop one for day of week to account for the intercept (bias unit))\n",
    "\n",
    "# for day of week\n",
    "days = ['1', '2', '3', '4', '5', '6'] #dropped the first day == \"0\" (as a result, you don't need an intercept in the model)\n",
    "doy_of_w_d = pd.get_dummies(\n",
    "    init_df['day_of_week'],\n",
    "    prefix='',\n",
    "    prefix_sep='',\n",
    "    drop_first = True\n",
    ") \n",
    "doy_of_w_d = doy_of_w_d.T.reindex(days).T.fillna(0)\n",
    "\n",
    "# join one-hot-encodings\n",
    "dummies = adm0_name_d.join(doy_of_w_d)\n",
    "\n",
    "# add to initial df\n",
    "init_df = pd.concat(\n",
    "    [init_df, dummies],\n",
    "    axis=1\n",
    ")"
   ]
  },
  {
   "cell_type": "code",
   "execution_count": 11,
   "metadata": {},
   "outputs": [
    {
     "name": "stdout",
     "output_type": "stream",
     "text": [
      "Shape of data:  (19552, 224)\n"
     ]
    },
    {
     "data": {
      "text/html": [
       "<div>\n",
       "<style scoped>\n",
       "    .dataframe tbody tr th:only-of-type {\n",
       "        vertical-align: middle;\n",
       "    }\n",
       "\n",
       "    .dataframe tbody tr th {\n",
       "        vertical-align: top;\n",
       "    }\n",
       "\n",
       "    .dataframe thead th {\n",
       "        text-align: right;\n",
       "    }\n",
       "</style>\n",
       "<table border=\"1\" class=\"dataframe\">\n",
       "  <thead>\n",
       "    <tr style=\"text-align: right;\">\n",
       "      <th></th>\n",
       "      <th>adm0_name</th>\n",
       "      <th>date</th>\n",
       "      <th>day_of_week</th>\n",
       "      <th>cum_cases</th>\n",
       "      <th>D_ln_cum_cases</th>\n",
       "      <th>mob_resid</th>\n",
       "      <th>L1_mob_resid</th>\n",
       "      <th>L2_mob_resid</th>\n",
       "      <th>L3_mob_resid</th>\n",
       "      <th>L4_mob_resid</th>\n",
       "      <th>...</th>\n",
       "      <th>Western Sahara</th>\n",
       "      <th>Yemen</th>\n",
       "      <th>Zambia</th>\n",
       "      <th>Zimbabwe</th>\n",
       "      <th>1</th>\n",
       "      <th>2</th>\n",
       "      <th>3</th>\n",
       "      <th>4</th>\n",
       "      <th>5</th>\n",
       "      <th>6</th>\n",
       "    </tr>\n",
       "  </thead>\n",
       "  <tbody>\n",
       "    <tr>\n",
       "      <th>0</th>\n",
       "      <td>Afghanistan</td>\n",
       "      <td>2020-02-16</td>\n",
       "      <td>6</td>\n",
       "      <td>0</td>\n",
       "      <td>NaN</td>\n",
       "      <td>0.0</td>\n",
       "      <td>NaN</td>\n",
       "      <td>NaN</td>\n",
       "      <td>NaN</td>\n",
       "      <td>NaN</td>\n",
       "      <td>...</td>\n",
       "      <td>0</td>\n",
       "      <td>0</td>\n",
       "      <td>0</td>\n",
       "      <td>0</td>\n",
       "      <td>0</td>\n",
       "      <td>0</td>\n",
       "      <td>0</td>\n",
       "      <td>0</td>\n",
       "      <td>0</td>\n",
       "      <td>1</td>\n",
       "    </tr>\n",
       "    <tr>\n",
       "      <th>1</th>\n",
       "      <td>Afghanistan</td>\n",
       "      <td>2020-02-17</td>\n",
       "      <td>0</td>\n",
       "      <td>0</td>\n",
       "      <td>NaN</td>\n",
       "      <td>-1.0</td>\n",
       "      <td>0.0</td>\n",
       "      <td>NaN</td>\n",
       "      <td>NaN</td>\n",
       "      <td>NaN</td>\n",
       "      <td>...</td>\n",
       "      <td>0</td>\n",
       "      <td>0</td>\n",
       "      <td>0</td>\n",
       "      <td>0</td>\n",
       "      <td>0</td>\n",
       "      <td>0</td>\n",
       "      <td>0</td>\n",
       "      <td>0</td>\n",
       "      <td>0</td>\n",
       "      <td>0</td>\n",
       "    </tr>\n",
       "  </tbody>\n",
       "</table>\n",
       "<p>2 rows × 224 columns</p>\n",
       "</div>"
      ],
      "text/plain": [
       "     adm0_name        date  day_of_week  cum_cases  D_ln_cum_cases  mob_resid  \\\n",
       "0  Afghanistan  2020-02-16            6          0             NaN        0.0   \n",
       "1  Afghanistan  2020-02-17            0          0             NaN       -1.0   \n",
       "\n",
       "   L1_mob_resid  L2_mob_resid  L3_mob_resid  L4_mob_resid  ...  \\\n",
       "0           NaN           NaN           NaN           NaN  ...   \n",
       "1           0.0           NaN           NaN           NaN  ...   \n",
       "\n",
       "   Western Sahara  Yemen  Zambia  Zimbabwe  1  2  3  4  5  6  \n",
       "0               0      0       0         0  0  0  0  0  0  1  \n",
       "1               0      0       0         0  0  0  0  0  0  0  \n",
       "\n",
       "[2 rows x 224 columns]"
      ]
     },
     "execution_count": 11,
     "metadata": {},
     "output_type": "execute_result"
    }
   ],
   "source": [
    "# export the data to see value of features\n",
    "# init_df.to_csv('init_df.csv')\n",
    "\n",
    "print('Shape of data: ', init_df.shape)\n",
    "init_df.head(2)"
   ]
  },
  {
   "cell_type": "markdown",
   "metadata": {},
   "source": [
    "Note: It's a good idea to export the data at this stage to see how the value of the features look like before we move to the Clean features step below."
   ]
  },
  {
   "cell_type": "markdown",
   "metadata": {},
   "source": [
    "##### ``Step 4.4. Clean features``"
   ]
  },
  {
   "cell_type": "code",
   "execution_count": 12,
   "metadata": {},
   "outputs": [],
   "source": [
    "## redefine features ##\n",
    "#######################\n",
    "# drop year (easier for graph visualizations, all data points are in 2020)\n",
    "init_df['date'] = init_df.date.astype(str);\n",
    "init_df['date'] = init_df.date.str.slice(start=6)"
   ]
  },
  {
   "cell_type": "code",
   "execution_count": 13,
   "metadata": {},
   "outputs": [],
   "source": [
    "## drop observations ##\n",
    "#######################\n",
    "# To ensure data quality, we restrict our analysis to countries after they have reported at least ten cumulative infections.\n",
    "# drop if cum_cases < 10  \n",
    "df = init_df[init_df.cum_cases.ge(10)]\n",
    "\n",
    "# drop if D_ln_cum_cases < 0 or inf/-inf\n",
    "df = df.replace(\n",
    "    [np.inf, -np.inf],\n",
    "    np.nan\n",
    ")\n",
    "df = df[\n",
    "    (df.D_ln_cum_cases >= 0) | (~df.D_ln_cum_cases.isna())\n",
    "]\n",
    "\n",
    "# drop if mobility and rolling averages of mobility are NaN\n",
    "df = df.dropna(\n",
    "    how = 'any',\n",
    "    subset=['mob_resid', 'mob_L1to7', 'mob_L8to14', 'mob_L15to21']\n",
    ")\n",
    "\n",
    "# drop if country is 'Antigua and Barbuda' (this country has lots of missing case data)\n",
    "df = df[~df.adm0_name.isin(['Antigua and Barbuda'])]\n",
    "\n",
    "# reset index\n",
    "df.reset_index(\n",
    "    drop=True,\n",
    "    inplace=True\n",
    ")"
   ]
  },
  {
   "cell_type": "code",
   "execution_count": 14,
   "metadata": {},
   "outputs": [
    {
     "name": "stdout",
     "output_type": "stream",
     "text": [
      "Shape of data:  (9017, 224)\n"
     ]
    },
    {
     "data": {
      "text/html": [
       "<div>\n",
       "<style scoped>\n",
       "    .dataframe tbody tr th:only-of-type {\n",
       "        vertical-align: middle;\n",
       "    }\n",
       "\n",
       "    .dataframe tbody tr th {\n",
       "        vertical-align: top;\n",
       "    }\n",
       "\n",
       "    .dataframe thead th {\n",
       "        text-align: right;\n",
       "    }\n",
       "</style>\n",
       "<table border=\"1\" class=\"dataframe\">\n",
       "  <thead>\n",
       "    <tr style=\"text-align: right;\">\n",
       "      <th></th>\n",
       "      <th>adm0_name</th>\n",
       "      <th>date</th>\n",
       "      <th>day_of_week</th>\n",
       "      <th>cum_cases</th>\n",
       "      <th>D_ln_cum_cases</th>\n",
       "      <th>mob_resid</th>\n",
       "      <th>L1_mob_resid</th>\n",
       "      <th>L2_mob_resid</th>\n",
       "      <th>L3_mob_resid</th>\n",
       "      <th>L4_mob_resid</th>\n",
       "      <th>...</th>\n",
       "      <th>Western Sahara</th>\n",
       "      <th>Yemen</th>\n",
       "      <th>Zambia</th>\n",
       "      <th>Zimbabwe</th>\n",
       "      <th>1</th>\n",
       "      <th>2</th>\n",
       "      <th>3</th>\n",
       "      <th>4</th>\n",
       "      <th>5</th>\n",
       "      <th>6</th>\n",
       "    </tr>\n",
       "  </thead>\n",
       "  <tbody>\n",
       "    <tr>\n",
       "      <th>0</th>\n",
       "      <td>Afghanistan</td>\n",
       "      <td>3-14</td>\n",
       "      <td>5</td>\n",
       "      <td>11</td>\n",
       "      <td>0.451985</td>\n",
       "      <td>0.0</td>\n",
       "      <td>0.0</td>\n",
       "      <td>1.0</td>\n",
       "      <td>1.0</td>\n",
       "      <td>1.0</td>\n",
       "      <td>...</td>\n",
       "      <td>0</td>\n",
       "      <td>0</td>\n",
       "      <td>0</td>\n",
       "      <td>0</td>\n",
       "      <td>0</td>\n",
       "      <td>0</td>\n",
       "      <td>0</td>\n",
       "      <td>0</td>\n",
       "      <td>1</td>\n",
       "      <td>0</td>\n",
       "    </tr>\n",
       "    <tr>\n",
       "      <th>1</th>\n",
       "      <td>Afghanistan</td>\n",
       "      <td>3-15</td>\n",
       "      <td>6</td>\n",
       "      <td>16</td>\n",
       "      <td>0.374693</td>\n",
       "      <td>0.0</td>\n",
       "      <td>0.0</td>\n",
       "      <td>0.0</td>\n",
       "      <td>1.0</td>\n",
       "      <td>1.0</td>\n",
       "      <td>...</td>\n",
       "      <td>0</td>\n",
       "      <td>0</td>\n",
       "      <td>0</td>\n",
       "      <td>0</td>\n",
       "      <td>0</td>\n",
       "      <td>0</td>\n",
       "      <td>0</td>\n",
       "      <td>0</td>\n",
       "      <td>0</td>\n",
       "      <td>1</td>\n",
       "    </tr>\n",
       "  </tbody>\n",
       "</table>\n",
       "<p>2 rows × 224 columns</p>\n",
       "</div>"
      ],
      "text/plain": [
       "     adm0_name  date  day_of_week  cum_cases  D_ln_cum_cases  mob_resid  \\\n",
       "0  Afghanistan  3-14            5         11        0.451985        0.0   \n",
       "1  Afghanistan  3-15            6         16        0.374693        0.0   \n",
       "\n",
       "   L1_mob_resid  L2_mob_resid  L3_mob_resid  L4_mob_resid  ...  \\\n",
       "0           0.0           1.0           1.0           1.0  ...   \n",
       "1           0.0           0.0           1.0           1.0  ...   \n",
       "\n",
       "   Western Sahara  Yemen  Zambia  Zimbabwe  1  2  3  4  5  6  \n",
       "0               0      0       0         0  0  0  0  0  1  0  \n",
       "1               0      0       0         0  0  0  0  0  0  1  \n",
       "\n",
       "[2 rows x 224 columns]"
      ]
     },
     "execution_count": 14,
     "metadata": {},
     "output_type": "execute_result"
    }
   ],
   "source": [
    "# export the data to see value of features\n",
    "# df.to_csv('df.csv')\n",
    "\n",
    "print('Shape of data: ', df.shape)\n",
    "df.head(2)"
   ]
  },
  {
   "cell_type": "markdown",
   "metadata": {},
   "source": [
    "Note: You can now export the data again and see how the value of features compare to the previous stage."
   ]
  },
  {
   "cell_type": "markdown",
   "metadata": {},
   "source": [
    "##### ``Step 4.5. Feature selection``"
   ]
  },
  {
   "cell_type": "markdown",
   "metadata": {},
   "source": [
    "We will train two models: a **baseline** model that only includes the one-hot-encodings defined at Step 4.4, and a **mobility** model that improves over the baseline by adding all residential mobility variables (mob_resid, mob_L1to7, mob_L8to14, mob_L15to21)."
   ]
  },
  {
   "cell_type": "code",
   "execution_count": 15,
   "metadata": {},
   "outputs": [
    {
     "name": "stdout",
     "output_type": "stream",
     "text": [
      "Features in baseline model: 194\n",
      "Features in mobility model: 198\n"
     ]
    }
   ],
   "source": [
    "## baseline model ##\n",
    "####################\n",
    "base_model_features = [val for val in dummies.columns]\n",
    "\n",
    "## mobility model ##\n",
    "####################\n",
    "mob_model_features = ['mob_resid','mob_L1to7', 'mob_L8to14', 'mob_L15to21'] + base_model_features\n",
    "\n",
    "print('Features in baseline model:', len(base_model_features))\n",
    "print('Features in mobility model:', len(mob_model_features))"
   ]
  },
  {
   "cell_type": "markdown",
   "metadata": {},
   "source": [
    "##### ``Step 4.6. Define train and test period``"
   ]
  },
  {
   "cell_type": "markdown",
   "metadata": {},
   "source": [
    "When we work with time series data it is important not to split the data at random into training and test sets. Why? For simplicity, and randomly chosen, we will run a model using a 20 day training window betwween April 1-20, and a 10 day testing window between April 21-30. All data refers to year 2020."
   ]
  },
  {
   "cell_type": "code",
   "execution_count": 16,
   "metadata": {},
   "outputs": [],
   "source": [
    "train_period = ['4-01', '4-02', '4-03', '4-04', '4-05', \n",
    "                '4-06', '4-07', '4-08', '4-09', '4-10',\n",
    "                '4-11', '4-12', '4-13', '4-14', '4-15',\n",
    "                '4-16', '4-17', '4-18', '4-19', '4-20']\n",
    "\n",
    "test_period = ['4-21', '4-22', '4-23', '4-24', '4-25',\n",
    "               '4-26', '4-27', '4-28', '4-29', '4-30']"
   ]
  },
  {
   "cell_type": "markdown",
   "metadata": {},
   "source": [
    "##### ``Step 4.7: Define X and y for train and test data``"
   ]
  },
  {
   "cell_type": "markdown",
   "metadata": {},
   "source": [
    "Here we define the **train_test_data()** function to creaye X and y arrays, and the corresponding dataframes for train and test data.\n",
    "\n",
    "We will do this for each of the two models (baseline and mobility). We will use the same countries in the train and test set but keep in mind that the time period will be different in the train and test sets (see Step 4.6). \n",
    "\n",
    "**Notes**: \n",
    "You can train on more countries and do predictions on less, but the code becomes a bit more complicated. Let's keep it simple for the moment."
   ]
  },
  {
   "cell_type": "code",
   "execution_count": 17,
   "metadata": {},
   "outputs": [],
   "source": [
    "def train_test_data(df, model, adm0_names, dates):\n",
    "    \"\"\" Create Y, X arrays, depending on model specification\n",
    "    params:\n",
    "    -------\n",
    "    df: dataframe, cleaned init_df \n",
    "    model: string, defines model of interest: 'baseline' or 'mobility'\n",
    "    adm0_names: list of strings, adm0_names of interest\n",
    "    dates: list of strings, dates of interest\n",
    "    \n",
    "    return:\n",
    "    ------\n",
    "    y: np.array, outcome variable (this is what we are trying to predict)\n",
    "    X: np.array, features corresponding to the chosen model\n",
    "    mini_df: df cleaned based on arguments adm0_names and dates;\n",
    "             you want to return this df because it contains additional variables (e.g., country name, date) that\n",
    "             will be used to compute the performance of the model\n",
    "    \"\"\"\n",
    "    ## keep observations only if adm0_name is in training\n",
    "    mini_df = df[df.adm0_name.isin(adm0_names)]\n",
    "    \n",
    "    ## keep observations only if date is in dates\n",
    "    mini_df = mini_df[mini_df.date.isin(dates)]\n",
    "    \n",
    "    ## create dependent variable\n",
    "    y = mini_df['D_ln_cum_cases']\n",
    "\n",
    "    ## create explanatory variables\n",
    "    if model == \"baseline\":\n",
    "        X = mini_df[base_model_features]\n",
    "        \n",
    "    if model == \"mobility\":\n",
    "        X = mini_df[mob_model_features]\n",
    "\n",
    "    return X, y, mini_df"
   ]
  },
  {
   "cell_type": "markdown",
   "metadata": {},
   "source": [
    "If our implementation of the **train_test_data()** function is correct we should now be able to run the following code to generate train and test data for the **baseline** and **mobility** models."
   ]
  },
  {
   "cell_type": "code",
   "execution_count": 18,
   "metadata": {},
   "outputs": [
    {
     "name": "stdout",
     "output_type": "stream",
     "text": [
      "baseline model\n",
      "--------------\n",
      "Shape of X_train_b (2254, 194)\n",
      "Shape of X_test_b (1159, 194)\n",
      "Number of countries in train set: 116\n",
      "Number of countries in test set: 116\n",
      "Countries in train set but not in test set:  []\n"
     ]
    }
   ],
   "source": [
    "## X, y, mini_df for the baseline model ##\n",
    "##########################################\n",
    "print('baseline model')\n",
    "print('--------------')\n",
    "X_train_b, y_train_b, df_train_b = train_test_data(\n",
    "    df, \n",
    "    model='baseline',\n",
    "    adm0_names=df.adm0_name.unique(),\n",
    "    dates=train_period)\n",
    "\n",
    "X_test_b, y_test_b, df_test_b = train_test_data(\n",
    "    df,\n",
    "    model='baseline', \n",
    "    adm0_names=df_train_b.adm0_name.unique(),\n",
    "    dates=test_period)\n",
    "\n",
    "# check shape of data\n",
    "print('Shape of X_train_b', X_train_b.shape)\n",
    "print('Shape of X_test_b', X_test_b.shape)\n",
    "\n",
    "print(\n",
    "    'Number of countries in train set:',\n",
    "    df_train_b.adm0_name.nunique()\n",
    ")\n",
    "\n",
    "print(\n",
    "    'Number of countries in test set:',\n",
    "    df_test_b.adm0_name.nunique()\n",
    ")\n",
    "\n",
    "# just making sure that we have the same countries in train and test sets\n",
    "set_diff_b = np.setdiff1d(\n",
    "          df_train_b.adm0_name.unique(),\n",
    "          df_test_b.adm0_name.unique()\n",
    "      )\n",
    "\n",
    "print(\n",
    "    'Countries in train set but not in test set: ',\n",
    "    set_diff_b\n",
    ")"
   ]
  },
  {
   "cell_type": "code",
   "execution_count": 19,
   "metadata": {},
   "outputs": [
    {
     "name": "stdout",
     "output_type": "stream",
     "text": [
      "\n",
      "mobility model\n",
      "--------------\n",
      "Shape of X_train_b (2254, 198)\n",
      "Shape of X_test_b (1159, 198)\n",
      "Number of countries in train set: 116\n",
      "Number of countries in test set: 116\n",
      "Countries in train set but not in test set:  []\n"
     ]
    }
   ],
   "source": [
    "## X, y, mini_df for the mobility model ##\n",
    "##########################################\n",
    "print()\n",
    "print('mobility model')\n",
    "print('--------------')\n",
    "X_train_m, y_train_m, df_train_m = train_test_data(\n",
    "    df, \n",
    "    model='mobility',\n",
    "    adm0_names=df.adm0_name.unique(),\n",
    "    dates=train_period)\n",
    "\n",
    "X_test_m, y_test_m, df_test_m = train_test_data(\n",
    "    df,\n",
    "    model='mobility', \n",
    "    adm0_names=df_train_m.adm0_name.unique(),\n",
    "    dates=test_period)\n",
    "\n",
    "\n",
    "# check shape of data\n",
    "print('Shape of X_train_b', X_train_m.shape)\n",
    "print('Shape of X_test_b', X_test_m.shape)\n",
    "\n",
    "print(\n",
    "    'Number of countries in train set:',\n",
    "    df_train_m.adm0_name.nunique()\n",
    ")\n",
    "\n",
    "print(\n",
    "    'Number of countries in test set:',\n",
    "    df_test_m.adm0_name.nunique()\n",
    ")\n",
    "\n",
    "# just making sure that we have the same countries in train and test sets\n",
    "set_diff_m = np.setdiff1d(\n",
    "          df_train_m.adm0_name.unique(),\n",
    "          df_test_m.adm0_name.unique()\n",
    "      )\n",
    "print(\n",
    "    'Countries in train set but not in test set: ',\n",
    "    set_diff_m\n",
    ")"
   ]
  },
  {
   "cell_type": "markdown",
   "metadata": {},
   "source": [
    "---\n",
    "### Step 5: Exploratory Data Analysis (EDA)\n",
    "---"
   ]
  },
  {
   "cell_type": "markdown",
   "metadata": {},
   "source": [
    "Prior to training a model it is important to perform exploratory data analysis. The idea is to detect the presence of outliers, the feature distribution, and the relationship between features and outcome. Note that typically there is a back and forth between Step 4 and 5, depending on how satisfied we are with the results of the EDA."
   ]
  },
  {
   "cell_type": "markdown",
   "metadata": {},
   "source": [
    "##### ``Step 5.1: Scatterplot of outcome and feature variables``"
   ]
  },
  {
   "cell_type": "markdown",
   "metadata": {},
   "source": [
    "Using the **scatterplotmatrix** method in the **mlxtend** package we will print a scatterplot to visualize distributions and relationships between features and outcome variable in one plot. We will focus on the non-dummy variables in the mobility model and the outcome variable (Hint: use df_train_b).\n",
    "\n",
    "We will then answer the following questions:\n",
    "\n",
    "1. What is the relationship between the growth rate of COVID-19 cumulative cases and mobility rolling average 3 weeks ago (mob_L15to21)?\n",
    "2. What can we say about the distribution of the four mobility variables? ('mob_resid', 'mob_L1to7', 'mob_L8to14', 'mob_L15to21')\n",
    "3. How does the distribution of each mobility variable compare relative to the other mobility variables? Do you think feature normalization or standardization will be useful if you want to fit the **mobility** model using an interative solution? (remember that aside from mobility variables there are also dummies in the model)\n",
    "4. Does predictive analysis require the outcome and features to be normally distributed?"
   ]
  },
  {
   "cell_type": "code",
   "execution_count": 20,
   "metadata": {},
   "outputs": [
    {
     "data": {
      "image/png": "[encoded data removed]",
      "text/plain": [
       "<Figure size 1296x1296 with 25 Axes>"
      ]
     },
     "metadata": {
      "needs_background": "light"
     },
     "output_type": "display_data"
    }
   ],
   "source": [
    "variables = ['D_ln_cum_cases', 'mob_resid','mob_L1to7', 'mob_L8to14', 'mob_L15to21']\n",
    "\n",
    "scatterplotmatrix(\n",
    "    df_train_b[variables].values,\n",
    "    names=variables,\n",
    "    figsize=(18,18), alpha=1\n",
    ");"
   ]
  },
  {
   "cell_type": "markdown",
   "metadata": {},
   "source": [
    "1. It appears that an increase in residential mobility 3 weeks ago leads to a lower growth rate of COVID-19 infections.\n",
    "\n",
    "2. The four mobility variables seem to be normally distributed.\n",
    "\n",
    "3. The distribution of the mobility features does not vary, so there is no need to scale (standardize/normalize) them **IF** one-hot encodings are **NOT** added to the model. SGD will fail if features are not normalized when one-hot encodings are added.\n",
    "\n",
    "4. ML prediction does not require the outcome and feature variables to be normally distributed! This is a requirement for inference and hypothesis testing but not for predictive analysis! "
   ]
  },
  {
   "cell_type": "markdown",
   "metadata": {},
   "source": [
    "##### ``Step 5.2: Correlation matrix of outcome and feature variables``"
   ]
  },
  {
   "cell_type": "markdown",
   "metadata": {},
   "source": [
    "Using the **heatmap** method in the **mlxtend** package we will now print the correltation matrix between the growth rate of COVID-19 cumulative cases and mobility features in the **mobility** model. (Hint: use df_train_b).\n",
    "\n",
    "We will then answer the following questions:\n",
    "\n",
    "1. Which mobility features seem to be most informative to predict the growth rate of COVID-19 infections?\n",
    "2. What can you say about the correlation between the four mobility variables?"
   ]
  },
  {
   "cell_type": "code",
   "execution_count": 21,
   "metadata": {},
   "outputs": [
    {
     "data": {
      "image/png": "[encoded data removed]",
      "text/plain": [
       "<Figure size 432x288 with 2 Axes>"
      ]
     },
     "metadata": {
      "needs_background": "light"
     },
     "output_type": "display_data"
    }
   ],
   "source": [
    "variables = ['D_ln_cum_cases', 'mob_resid', 'mob_L1to7', 'mob_L8to14', 'mob_L15to21']\n",
    "cm = df_train_m[variables].corr().values\n",
    "hm = heatmap(\n",
    "    cm,\n",
    "    row_names=variables,\n",
    "    column_names=variables)"
   ]
  },
  {
   "cell_type": "markdown",
   "metadata": {},
   "source": [
    "1. In general, we are interested in those features that have a high correlation with the target variable. We can see a relatively low correlation between mobility today (mob_resid) and the growth rate of Covid-19 cases. Is this surprising? Not really. It's very unlikely to see that an increase in residential mobility today affects the growth rate of cases today. Instead, looking at how changes in mobility 1,2,3 weeks ago affects the growth rate today is more informative.\n",
    "\n",
    "2. The four mobility variables are positively correlated with values ranging between 0.47 and 0.90."
   ]
  },
  {
   "cell_type": "markdown",
   "metadata": {},
   "source": [
    "---\n",
    "### Step 6: Analysis - linear regression (OLS)\n",
    "---"
   ]
  },
  {
   "cell_type": "markdown",
   "metadata": {},
   "source": [
    "The idea behind linear regression is to obtain the best-fitting straight line through the examples in the training data.\n",
    "\n",
    "There are two ways you can fit the training data:\n",
    " - using a closed-form solution: $(X'X)^{-1}(X'y)$\n",
    " - using an iterative solution: gradient descent (stochastic, batch, etc.)"
   ]
  },
  {
   "cell_type": "markdown",
   "metadata": {},
   "source": [
    "##### ``Step 6.2 Fit, predict and evaluate model performance using a closed-form solution``"
   ]
  },
  {
   "cell_type": "markdown",
   "metadata": {},
   "source": [
    "Now that we have all data needed, we can fit, make predictions, and evaluate performance for the **baseline** and **mobility** models using a closed-form solution. We will use the **statsmodels** library for this exercise."
   ]
  },
  {
   "cell_type": "markdown",
   "metadata": {},
   "source": [
    "model fit "
   ]
  },
  {
   "cell_type": "code",
   "execution_count": 25,
   "metadata": {},
   "outputs": [
    {
     "name": "stdout",
     "output_type": "stream",
     "text": [
      "                            OLS Regression Results                            \n",
      "==============================================================================\n",
      "Dep. Variable:         D_ln_cum_cases   R-squared:                       0.249\n",
      "Model:                            OLS   Adj. R-squared:                  0.206\n",
      "Method:                 Least Squares   F-statistic:                     5.830\n",
      "Date:                Mon, 23 May 2022   Prob (F-statistic):           4.25e-69\n",
      "Time:                        00:00:44   Log-Likelihood:                 3023.2\n",
      "No. Observations:                2254   AIC:                            -5802.\n",
      "Df Residuals:                    2132   BIC:                            -5105.\n",
      "Df Model:                         121                                         \n",
      "Covariance Type:            nonrobust                                         \n",
      "====================================================================================================\n",
      "                                       coef    std err          t      P>|t|      [0.025      0.975]\n",
      "----------------------------------------------------------------------------------------------------\n",
      "Afghanistan                          0.0820      0.015      5.504      0.000       0.053       0.111\n",
      "Albania                          -1.391e-15   1.08e-16    -12.882      0.000    -1.6e-15   -1.18e-15\n",
      "Algeria                          -2.106e-16   3.67e-17     -5.741      0.000   -2.83e-16   -1.39e-16\n",
      "Andorra                          -2.706e-16   3.66e-17     -7.391      0.000   -3.42e-16   -1.99e-16\n",
      "Angola                               0.0594      0.016      3.690      0.000       0.028       0.091\n",
      "Antigua and Barbuda              -6.314e-16   5.91e-17    -10.688      0.000   -7.47e-16   -5.16e-16\n",
      "Argentina                            0.0446      0.015      2.994      0.003       0.015       0.074\n",
      "Armenia                           1.727e-16   1.15e-16      1.502      0.133   -5.28e-17    3.98e-16\n",
      "Australia                            0.0120      0.015      0.805      0.421      -0.017       0.041\n",
      "Austria                              0.0120      0.015      0.806      0.420      -0.017       0.041\n",
      "Azerbaijan                       -4.652e-16   7.77e-17     -5.988      0.000   -6.18e-16   -3.13e-16\n",
      "Bahamas                           9.799e-16   1.38e-16      7.076      0.000    7.08e-16    1.25e-15\n",
      "Bahrain                              0.0540      0.015      3.621      0.000       0.025       0.083\n",
      "Bangladesh                           0.1962      0.015     13.160      0.000       0.167       0.225\n",
      "Barbados                             0.0321      0.017      1.938      0.053      -0.000       0.065\n",
      "Belarus                              0.1793      0.015     12.025      0.000       0.150       0.208\n",
      "Belgium                              0.0504      0.015      3.379      0.001       0.021       0.080\n",
      "Belize                              -0.0076      0.027     -0.284      0.776      -0.060       0.045\n",
      "Benin                                0.0829      0.015      5.562      0.000       0.054       0.112\n",
      "Bhutan                            2.459e-16   5.27e-17      4.666      0.000    1.43e-16    3.49e-16\n",
      "Bolivia                              0.0764      0.015      5.128      0.000       0.047       0.106\n",
      "Bosnia and Herzegovina               0.0502      0.015      3.365      0.001       0.021       0.079\n",
      "Botswana                             0.0946      0.019      4.967      0.000       0.057       0.132\n",
      "Brazil                               0.0915      0.015      6.139      0.000       0.062       0.121\n",
      "Brunei                            2.209e-16   3.39e-17      6.509      0.000    1.54e-16    2.87e-16\n",
      "Bulgaria                             0.0356      0.015      2.387      0.017       0.006       0.065\n",
      "Burkina Faso                         0.0333      0.015      2.236      0.025       0.004       0.063\n",
      "Burma                            -2.384e-18   1.82e-17     -0.131      0.896    -3.8e-17    3.33e-17\n",
      "Burundi                           1.283e-16   2.54e-17      5.045      0.000    7.85e-17    1.78e-16\n",
      "Cabo Verde                        9.744e-17   1.88e-17      5.171      0.000    6.05e-17    1.34e-16\n",
      "Cambodia                            -0.0010      0.015     -0.070      0.944      -0.030       0.028\n",
      "Cameroon                             0.0831      0.015      5.577      0.000       0.054       0.112\n",
      "Canada                               0.0676      0.015      4.534      0.000       0.038       0.097\n",
      "Central African Republic          5.604e-17   1.89e-17      2.965      0.003     1.9e-17    9.31e-17\n",
      "Chad                              3.674e-17   1.29e-17      2.853      0.004    1.15e-17     6.2e-17\n",
      "Chile                                0.0606      0.015      4.063      0.000       0.031       0.090\n",
      "China                            -1.098e-17    1.3e-17     -0.845      0.398   -3.65e-17    1.45e-17\n",
      "Colombia                             0.0673      0.015      4.514      0.000       0.038       0.097\n",
      "Comoros                          -5.093e-18   1.26e-17     -0.405      0.685   -2.97e-17    1.96e-17\n",
      "Congo (Brazzaville)               1.499e-17   1.92e-17      0.782      0.434   -2.26e-17    5.26e-17\n",
      "Congo (Kinshasa)                  6.812e-18   1.37e-17      0.497      0.619   -2.01e-17    3.37e-17\n",
      "Costa Rica                           0.0256      0.015      1.719      0.086      -0.004       0.055\n",
      "Cote d'Ivoire                    -1.884e-17   9.46e-18     -1.991      0.047   -3.74e-17    -2.8e-19\n",
      "Croatia                              0.0321      0.015      2.150      0.032       0.003       0.061\n",
      "Cuba                             -3.231e-17   1.79e-17     -1.803      0.071   -6.74e-17    2.83e-18\n",
      "Cyprus                           -1.558e-17   1.95e-17     -0.800      0.424   -5.38e-17    2.26e-17\n",
      "Czechia                              0.0301      0.015      2.018      0.044       0.001       0.059\n",
      "Denmark                              0.0399      0.015      2.675      0.008       0.011       0.069\n",
      "Diamond Princess                 -2.006e-17   1.15e-17     -1.750      0.080   -4.25e-17    2.42e-18\n",
      "Djibouti                          3.549e-17   1.41e-17      2.522      0.012     7.9e-18    6.31e-17\n",
      "Dominica                          -2.57e-17   2.39e-17     -1.075      0.282   -7.26e-17    2.12e-17\n",
      "Dominican Republic                   0.0683      0.015      4.579      0.000       0.039       0.098\n",
      "Ecuador                              0.0688      0.015      4.613      0.000       0.040       0.098\n",
      "Egypt                                0.0706      0.015      4.739      0.000       0.041       0.100\n",
      "El Salvador                          0.0893      0.015      5.988      0.000       0.060       0.119\n",
      "Equatorial Guinea                -1.754e-17   2.85e-17     -0.615      0.538   -7.34e-17    3.84e-17\n",
      "Eritrea                           1.742e-17   1.76e-17      0.991      0.322   -1.71e-17    5.19e-17\n",
      "Estonia                              0.0295      0.015      1.977      0.048       0.000       0.059\n",
      "Eswatini                             -6e-17   5.87e-17     -1.023      0.306   -1.75e-16     5.5e-17\n",
      "Ethiopia                         -3.631e-18   1.71e-17     -0.213      0.832   -3.71e-17    2.99e-17\n",
      "Fiji                                 0.0503      0.016      3.127      0.002       0.019       0.082\n",
      "Finland                              0.0435      0.015      2.918      0.004       0.014       0.073\n",
      "France                               0.0473      0.015      3.171      0.002       0.018       0.077\n",
      "Gabon                                0.0941      0.015      6.311      0.000       0.065       0.123\n",
      "Gambia                           -2.188e-17   1.28e-17     -1.715      0.086   -4.69e-17    3.14e-18\n",
      "Georgia                              0.0581      0.015      3.899      0.000       0.029       0.087\n",
      "Germany                              0.0292      0.015      1.957      0.050    -6.2e-05       0.058\n",
      "Ghana                                0.0867      0.015      5.816      0.000       0.057       0.116\n",
      "Greece                               0.0201      0.015      1.349      0.177      -0.009       0.049\n",
      "Grenada                           1.797e-17   2.02e-17      0.891      0.373   -2.16e-17    5.75e-17\n",
      "Guatemala                            0.0948      0.015      6.357      0.000       0.066       0.124\n",
      "Guinea                            2.772e-18   1.16e-17      0.239      0.811      -2e-17    2.55e-17\n",
      "Guinea-Bissau                    -1.112e-16   5.08e-17     -2.191      0.029   -2.11e-16   -1.17e-17\n",
      "Guyana                            1.556e-16   1.17e-16      1.327      0.185   -7.44e-17    3.86e-16\n",
      "Haiti                                0.0601      0.015      4.030      0.000       0.031       0.089\n",
      "Holy See                         -7.808e-17   4.39e-17     -1.780      0.075   -1.64e-16    7.94e-18\n",
      "Honduras                             0.0543      0.015      3.640      0.000       0.025       0.084\n",
      "Hungary                              0.0630      0.015      4.229      0.000       0.034       0.092\n",
      "Iceland                           4.033e-18   2.22e-17      0.182      0.856   -3.94e-17    4.75e-17\n",
      "India                                0.1226      0.015      8.225      0.000       0.093       0.152\n",
      "Indonesia                            0.0677      0.015      4.540      0.000       0.038       0.097\n",
      "Iran                             -2.462e-17   2.49e-17     -0.988      0.323   -7.35e-17    2.42e-17\n",
      "Iraq                                 0.0343      0.015      2.299      0.022       0.005       0.064\n",
      "Ireland                              0.0722      0.015      4.840      0.000       0.043       0.101\n",
      "Israel                               0.0403      0.015      2.704      0.007       0.011       0.070\n",
      "Italy                                0.0202      0.015      1.358      0.175      -0.009       0.049\n",
      "Jamaica                              0.0845      0.015      5.669      0.000       0.055       0.114\n",
      "Japan                                0.0788      0.015      5.288      0.000       0.050       0.108\n",
      "Jordan                               0.0153      0.015      1.025      0.306      -0.014       0.045\n",
      "Kazakhstan                           0.0776      0.015      5.208      0.000       0.048       0.107\n",
      "Kenya                                0.0714      0.015      4.788      0.000       0.042       0.101\n",
      "Korea, South                      1.273e-17   1.28e-17      0.992      0.321   -1.24e-17    3.79e-17\n",
      "Kosovo                            3.239e-17   2.01e-17      1.612      0.107   -7.02e-18    7.18e-17\n",
      "Kuwait                               0.0899      0.015      6.032      0.000       0.061       0.119\n",
      "Kyrgyzstan                           0.0768      0.015      5.151      0.000       0.048       0.106\n",
      "Laos                                 0.0307      0.015      2.059      0.040       0.001       0.060\n",
      "Latvia                               0.0243      0.015      1.628      0.104      -0.005       0.054\n",
      "Lebanon                              0.0116      0.015      0.776      0.438      -0.018       0.041\n",
      "Lesotho                          -1.212e-17   1.24e-17     -0.974      0.330   -3.65e-17    1.23e-17\n",
      "Liberia                           8.097e-18   1.05e-17      0.769      0.442   -1.26e-17    2.88e-17\n",
      "Libya                                0.0748      0.015      5.017      0.000       0.046       0.104\n",
      "Liechtenstein                    -2.065e-17   7.46e-18     -2.769      0.006   -3.53e-17   -6.03e-18\n",
      "Lithuania                            0.0385      0.015      2.584      0.010       0.009       0.068\n",
      "Luxembourg                           0.0179      0.015      1.199      0.231      -0.011       0.047\n",
      "MS Zaandam                        1.363e-17   1.28e-17      1.067      0.286   -1.14e-17    3.87e-17\n",
      "Madagascar                       -1.377e-17   4.47e-17     -0.308      0.758   -1.01e-16    7.38e-17\n",
      "Malawi                           -2.984e-17   2.77e-17     -1.076      0.282   -8.42e-17    2.45e-17\n",
      "Malaysia                             0.0270      0.015      1.812      0.070      -0.002       0.056\n",
      "Maldives                          3.538e-17   2.39e-17      1.480      0.139   -1.15e-17    8.23e-17\n",
      "Mali                                 0.1020      0.015      6.841      0.000       0.073       0.131\n",
      "Malta                                0.0401      0.015      2.693      0.007       0.011       0.069\n",
      "Mauritania                        1.448e-17   1.23e-17      1.178      0.239   -9.62e-18    3.86e-17\n",
      "Mauritius                            0.0348      0.015      2.337      0.020       0.006       0.064\n",
      "Mexico                               0.0922      0.015      6.183      0.000       0.063       0.121\n",
      "Moldova                              0.0922      0.015      6.182      0.000       0.063       0.121\n",
      "Monaco                           -1.391e-17   9.31e-18     -1.495      0.135   -3.22e-17    4.34e-18\n",
      "Mongolia                             0.0439      0.015      2.945      0.003       0.015       0.073\n",
      "Montenegro                        1.355e-17    1.3e-17      1.039      0.299    -1.2e-17    3.91e-17\n",
      "Morocco                          -2.194e-17    1.1e-17     -1.996      0.046   -4.35e-17   -3.81e-19\n",
      "Mozambique                           0.0725      0.015      4.866      0.000       0.043       0.102\n",
      "Namibia                              0.0121      0.015      0.809      0.418      -0.017       0.041\n",
      "Nepal                                0.1324      0.022      6.049      0.000       0.090       0.175\n",
      "Netherlands                          0.0421      0.015      2.823      0.005       0.013       0.071\n",
      "New Zealand                          0.0333      0.015      2.236      0.025       0.004       0.063\n",
      "Nicaragua                            0.0529      0.046      1.148      0.251      -0.037       0.143\n",
      "Niger                                0.1522      0.015     10.212      0.000       0.123       0.181\n",
      "Nigeria                              0.0731      0.015      4.901      0.000       0.044       0.102\n",
      "North Macedonia                      0.0591      0.015      3.962      0.000       0.030       0.088\n",
      "Norway                               0.0150      0.015      1.005      0.315      -0.014       0.044\n",
      "Oman                                 0.0930      0.015      6.240      0.000       0.064       0.122\n",
      "Pakistan                             0.0668      0.015      4.479      0.000       0.038       0.096\n",
      "Panama                               0.0598      0.015      4.015      0.000       0.031       0.089\n",
      "Papua New Guinea                 -5.536e-18   5.31e-18     -1.042      0.297    -1.6e-17    4.88e-18\n",
      "Paraguay                             0.0515      0.015      3.454      0.001       0.022       0.081\n",
      "Peru                                 0.1298      0.015      8.708      0.000       0.101       0.159\n",
      "Philippines                          0.0499      0.015      3.347      0.001       0.021       0.079\n",
      "Poland                               0.0645      0.015      4.326      0.000       0.035       0.094\n",
      "Portugal                             0.0449      0.015      3.010      0.003       0.016       0.074\n",
      "Qatar                                0.0954      0.015      6.400      0.000       0.066       0.125\n",
      "Romania                              0.0624      0.015      4.186      0.000       0.033       0.092\n",
      "Russia                           -2.035e-18    7.2e-18     -0.283      0.777   -1.62e-17    1.21e-17\n",
      "Rwanda                               0.0270      0.015      1.810      0.071      -0.002       0.056\n",
      "Saint Kitts and Nevis            -4.656e-18   3.99e-18     -1.167      0.243   -1.25e-17    3.17e-18\n",
      "Saint Lucia                       4.124e-18   5.49e-18      0.751      0.453   -6.64e-18    1.49e-17\n",
      "Saint Vincent and the Grenadines   4.24e-18   4.75e-18      0.892      0.372   -5.08e-18    1.36e-17\n",
      "San Marino                       -1.383e-17   4.46e-18     -3.099      0.002   -2.26e-17   -5.08e-18\n",
      "Sao Tome and Principe             1.375e-17   7.12e-18      1.932      0.054    -2.1e-19    2.77e-17\n",
      "Saudi Arabia                         0.0885      0.015      5.936      0.000       0.059       0.118\n",
      "Senegal                              0.0317      0.015      2.127      0.034       0.002       0.061\n",
      "Serbia                               0.0932      0.015      6.250      0.000       0.064       0.122\n",
      "Seychelles                        -9.59e-19    4.1e-18     -0.234      0.815      -9e-18    7.08e-18\n",
      "Sierra Leone                       1.64e-18    3.2e-18      0.513      0.608   -4.63e-18    7.91e-18\n",
      "Singapore                            0.1012      0.015      6.791      0.000       0.072       0.130\n",
      "Slovakia                             0.0520      0.015      3.487      0.000       0.023       0.081\n",
      "Slovenia                             0.0188      0.015      1.262      0.207      -0.010       0.048\n",
      "Somalia                          -1.589e-17    4.5e-18     -3.535      0.000   -2.47e-17   -7.08e-18\n",
      "South Africa                         0.0379      0.015      2.543      0.011       0.009       0.067\n",
      "South Sudan                      -4.025e-18   3.01e-18     -1.336      0.182   -9.93e-18    1.88e-18\n",
      "Spain                                0.0301      0.015      2.020      0.043       0.001       0.059\n",
      "Sri Lanka                            0.0310      0.015      2.082      0.037       0.002       0.060\n",
      "Sudan                             9.428e-18   3.97e-18      2.377      0.018    1.65e-18    1.72e-17\n",
      "Suriname                         -5.516e-18   2.43e-18     -2.270      0.023   -1.03e-17   -7.51e-19\n",
      "Sweden                               0.0535      0.015      3.589      0.000       0.024       0.083\n",
      "Switzerland                          0.0194      0.015      1.298      0.194      -0.010       0.049\n",
      "Syria                             3.968e-18   1.85e-18      2.144      0.032    3.38e-19     7.6e-18\n",
      "Taiwan*                            9.18e-18   5.17e-18      1.775      0.076   -9.61e-19    1.93e-17\n",
      "Tajikistan                       -9.148e-19    1.5e-18     -0.609      0.542   -3.86e-18    2.03e-18\n",
      "Tanzania                             0.1230      0.015      8.249      0.000       0.094       0.152\n",
      "Thailand                             0.0196      0.015      1.315      0.189      -0.010       0.049\n",
      "Timor-Leste                      -7.625e-19   5.85e-19     -1.303      0.193   -1.91e-18    3.85e-19\n",
      "Togo                                 0.0386      0.015      2.586      0.010       0.009       0.068\n",
      "Trinidad and Tobago                  0.0068      0.015      0.459      0.646      -0.022       0.036\n",
      "Tunisia                           2.286e-19   2.34e-19      0.976      0.329   -2.31e-19    6.88e-19\n",
      "Turkey                               0.0886      0.015      5.944      0.000       0.059       0.118\n",
      "Uganda                               0.0054      0.015      0.361      0.718      -0.024       0.035\n",
      "Ukraine                                   0          0        nan        nan           0           0\n",
      "United Arab Emirates                 0.1130      0.015      7.577      0.000       0.084       0.142\n",
      "United Kingdom                       0.0732      0.015      4.910      0.000       0.044       0.102\n",
      "United States                        0.0647      0.015      4.342      0.000       0.035       0.094\n",
      "Uruguay                              0.0163      0.015      1.093      0.275      -0.013       0.046\n",
      "Uzbekistan                                0          0        nan        nan           0           0\n",
      "Venezuela                            0.0253      0.015      1.699      0.090      -0.004       0.055\n",
      "Vietnam                              0.0050      0.015      0.339      0.735      -0.024       0.034\n",
      "West Bank and Gaza                        0          0        nan        nan           0           0\n",
      "Western Sahara                            0          0        nan        nan           0           0\n",
      "Yemen                                     0          0        nan        nan           0           0\n",
      "Zambia                               0.0243      0.015      1.629      0.104      -0.005       0.054\n",
      "Zimbabwe                             0.0621      0.017      3.636      0.000       0.029       0.096\n",
      "1                                    0.0022      0.006      0.390      0.697      -0.009       0.013\n",
      "2                                    0.0199      0.005      3.972      0.000       0.010       0.030\n",
      "3                                    0.0152      0.005      3.038      0.002       0.005       0.025\n",
      "4                                    0.0093      0.005      1.866      0.062      -0.000       0.019\n",
      "5                                   -0.0010      0.005     -0.191      0.848      -0.011       0.009\n",
      "6                                   -0.0004      0.005     -0.078      0.938      -0.010       0.009\n",
      "==============================================================================\n",
      "Omnibus:                     1916.776   Durbin-Watson:                   1.907\n",
      "Prob(Omnibus):                  0.000   Jarque-Bera (JB):            93183.212\n",
      "Skew:                           3.731   Prob(JB):                         0.00\n",
      "Kurtosis:                      33.603   Cond. No.                     9.25e+16\n",
      "==============================================================================\n",
      "\n",
      "Notes:\n",
      "[1] Standard Errors assume that the covariance matrix of the errors is correctly specified.\n",
      "[2] The smallest eigenvalue is 4.12e-32. This might indicate that there are\n",
      "strong multicollinearity problems or that the design matrix is singular.\n",
      "                            OLS Regression Results                            \n",
      "==============================================================================\n",
      "Dep. Variable:         D_ln_cum_cases   R-squared:                       0.290\n",
      "Model:                            OLS   Adj. R-squared:                  0.248\n",
      "Method:                 Least Squares   F-statistic:                     6.938\n",
      "Date:                Mon, 23 May 2022   Prob (F-statistic):           2.08e-89\n",
      "Time:                        00:00:44   Log-Likelihood:                 3086.4\n",
      "No. Observations:                2254   AIC:                            -5921.\n",
      "Df Residuals:                    2128   BIC:                            -5200.\n",
      "Df Model:                         125                                         \n",
      "Covariance Type:            nonrobust                                         \n",
      "====================================================================================================\n",
      "                                       coef    std err          t      P>|t|      [0.025      0.975]\n",
      "----------------------------------------------------------------------------------------------------\n",
      "mob_resid                            0.0006      0.000      1.475      0.140      -0.000       0.001\n",
      "mob_L1to7                           -0.0010      0.001     -1.116      0.265      -0.003       0.001\n",
      "mob_L8to14                          -0.0004      0.001     -0.684      0.494      -0.001       0.001\n",
      "mob_L15to21                         -0.0022      0.000     -8.242      0.000      -0.003      -0.002\n",
      "Afghanistan                          0.1041      0.018      5.903      0.000       0.070       0.139\n",
      "Albania                          -1.756e-15   2.78e-16     -6.327      0.000    -2.3e-15   -1.21e-15\n",
      "Algeria                           2.765e-15   4.62e-16      5.987      0.000    1.86e-15    3.67e-15\n",
      "Andorra                          -5.133e-16   2.02e-16     -2.543      0.011   -9.09e-16   -1.17e-16\n",
      "Angola                               0.1170      0.027      4.325      0.000       0.064       0.170\n",
      "Antigua and Barbuda              -3.801e-16   1.52e-16     -2.509      0.012   -6.77e-16    -8.3e-17\n",
      "Argentina                            0.1206      0.027      4.525      0.000       0.068       0.173\n",
      "Armenia                           4.835e-16   2.95e-16      1.640      0.101   -9.48e-17    1.06e-15\n",
      "Australia                            0.0507      0.021      2.398      0.017       0.009       0.092\n",
      "Austria                              0.0795      0.023      3.531      0.000       0.035       0.124\n",
      "Azerbaijan                       -2.572e-16   2.74e-16     -0.939      0.348   -7.94e-16     2.8e-16\n",
      "Bahamas                          -4.667e-16    2.5e-16     -1.869      0.062   -9.56e-16    2.31e-17\n",
      "Bahrain                              0.0970      0.020      4.935      0.000       0.058       0.136\n",
      "Bangladesh                           0.2451      0.024     10.118      0.000       0.198       0.293\n",
      "Barbados                             0.0880      0.029      3.002      0.003       0.031       0.146\n",
      "Belarus                              0.1903      0.015     12.350      0.000       0.160       0.221\n",
      "Belgium                              0.1229      0.025      4.860      0.000       0.073       0.173\n",
      "Belize                               0.0604      0.034      1.758      0.079      -0.007       0.128\n",
      "Benin                                0.0996      0.017      5.935      0.000       0.067       0.132\n",
      "Bhutan                            -3.02e-16   2.07e-16     -1.460      0.144   -7.08e-16    1.04e-16\n",
      "Bolivia                              0.1725      0.035      4.987      0.000       0.105       0.240\n",
      "Bosnia and Herzegovina               0.1005      0.020      5.065      0.000       0.062       0.139\n",
      "Botswana                             0.1461      0.037      3.939      0.000       0.073       0.219\n",
      "Brazil                               0.1419      0.021      6.794      0.000       0.101       0.183\n",
      "Brunei                           -7.637e-16   3.03e-16     -2.517      0.012   -1.36e-15   -1.69e-16\n",
      "Bulgaria                             0.0887      0.020      4.455      0.000       0.050       0.128\n",
      "Burkina Faso                         0.0814      0.021      3.818      0.000       0.040       0.123\n",
      "Burma                             5.524e-16   2.27e-16      2.434      0.015    1.07e-16    9.97e-16\n",
      "Burundi                           6.218e-17   7.04e-17      0.883      0.377   -7.59e-17       2e-16\n",
      "Cabo Verde                        1.557e-16   1.02e-16      1.529      0.127   -4.41e-17    3.55e-16\n",
      "Cambodia                             0.0336      0.018      1.877      0.061      -0.002       0.069\n",
      "Cameroon                             0.1086      0.017      6.307      0.000       0.075       0.142\n",
      "Canada                               0.1263      0.023      5.419      0.000       0.081       0.172\n",
      "Central African Republic          1.563e-16   1.06e-16      1.476      0.140   -5.13e-17    3.64e-16\n",
      "Chad                             -1.085e-16   9.11e-17     -1.191      0.234   -2.87e-16    7.02e-17\n",
      "Chile                                0.1286      0.025      5.111      0.000       0.079       0.178\n",
      "China                            -8.806e-17   1.05e-16     -0.840      0.401   -2.94e-16    1.17e-16\n",
      "Colombia                             0.1494      0.031      4.896      0.000       0.090       0.209\n",
      "Comoros                          -1.625e-16    1.4e-16     -1.164      0.244   -4.36e-16    1.11e-16\n",
      "Congo (Brazzaville)               1.755e-17   1.16e-16      0.151      0.880    -2.1e-16    2.45e-16\n",
      "Congo (Kinshasa)                  -1.18e-16   7.22e-17     -1.636      0.102    -2.6e-16    2.35e-17\n",
      "Costa Rica                           0.0839      0.025      3.418      0.001       0.036       0.132\n",
      "Cote d'Ivoire                    -1.862e-16   9.06e-17     -2.056      0.040   -3.64e-16    -8.6e-18\n",
      "Croatia                              0.0919      0.023      4.081      0.000       0.048       0.136\n",
      "Cuba                             -2.135e-16   6.26e-17     -3.413      0.001   -3.36e-16   -9.08e-17\n",
      "Cyprus                           -3.411e-16   1.46e-16     -2.336      0.020   -6.28e-16   -5.47e-17\n",
      "Czechia                              0.0845      0.020      4.253      0.000       0.046       0.124\n",
      "Denmark                              0.0910      0.019      4.704      0.000       0.053       0.129\n",
      "Diamond Princess                  3.774e-16   1.14e-16      3.319      0.001    1.54e-16       6e-16\n",
      "Djibouti                         -1.855e-16      9e-17     -2.061      0.039   -3.62e-16   -8.99e-18\n",
      "Dominica                           2.16e-16   7.57e-17      2.852      0.004    6.75e-17    3.65e-16\n",
      "Dominican Republic                   0.1450      0.029      5.087      0.000       0.089       0.201\n",
      "Ecuador                              0.1694      0.033      5.158      0.000       0.105       0.234\n",
      "Egypt                                0.1133      0.019      5.856      0.000       0.075       0.151\n",
      "El Salvador                          0.1682      0.030      5.674      0.000       0.110       0.226\n",
      "Equatorial Guinea                -1.496e-16    1.3e-16     -1.146      0.252   -4.05e-16    1.06e-16\n",
      "Eritrea                          -2.647e-16   1.26e-16     -2.107      0.035   -5.11e-16   -1.83e-17\n",
      "Estonia                              0.0810      0.020      4.004      0.000       0.041       0.121\n",
      "Eswatini                         -2.913e-16   1.96e-16     -1.486      0.138   -6.76e-16    9.32e-17\n",
      "Ethiopia                          1.001e-17   1.48e-16      0.068      0.946    -2.8e-16       3e-16\n",
      "Fiji                                 0.0946      0.023      4.040      0.000       0.049       0.141\n",
      "Finland                              0.0868      0.019      4.533      0.000       0.049       0.124\n",
      "France                               0.1315      0.028      4.683      0.000       0.076       0.187\n",
      "Gabon                                0.1377      0.022      6.295      0.000       0.095       0.181\n",
      "Gambia                            8.027e-17   1.28e-16      0.629      0.529    -1.7e-16     3.3e-16\n",
      "Georgia                              0.1078      0.022      4.883      0.000       0.064       0.151\n",
      "Germany                              0.0741      0.019      3.816      0.000       0.036       0.112\n",
      "Ghana                                0.1330      0.025      5.401      0.000       0.085       0.181\n",
      "Greece                               0.0883      0.024      3.701      0.000       0.041       0.135\n",
      "Grenada                          -2.789e-16   9.48e-17     -2.943      0.003   -4.65e-16    -9.3e-17\n",
      "Guatemala                            0.1683      0.026      6.363      0.000       0.116       0.220\n",
      "Guinea                           -2.416e-16   7.57e-17     -3.192      0.001    -3.9e-16   -9.32e-17\n",
      "Guinea-Bissau                    -1.524e-16   1.62e-16     -0.943      0.346   -4.69e-16    1.64e-16\n",
      "Guyana                            2.148e-16   2.91e-16      0.737      0.461   -3.56e-16    7.86e-16\n",
      "Haiti                                0.0857      0.017      5.060      0.000       0.052       0.119\n",
      "Holy See                           1.42e-16   7.58e-17      1.873      0.061   -6.67e-18    2.91e-16\n",
      "Honduras                             0.1318      0.027      4.961      0.000       0.080       0.184\n",
      "Hungary                              0.1144      0.021      5.498      0.000       0.074       0.155\n",
      "Iceland                            6.81e-17   5.83e-17      1.168      0.243   -4.62e-17    1.82e-16\n",
      "India                                0.1869      0.027      6.813      0.000       0.133       0.241\n",
      "Indonesia                            0.1085      0.020      5.517      0.000       0.070       0.147\n",
      "Iran                             -8.958e-17   4.64e-17     -1.932      0.053    -1.8e-16    1.33e-18\n",
      "Iraq                                 0.0898      0.021      4.237      0.000       0.048       0.131\n",
      "Ireland                              0.1442      0.027      5.372      0.000       0.092       0.197\n",
      "Israel                               0.1180      0.027      4.326      0.000       0.065       0.172\n",
      "Italy                                0.1139      0.029      3.934      0.000       0.057       0.171\n",
      "Jamaica                              0.1375      0.023      6.063      0.000       0.093       0.182\n",
      "Japan                                0.0983      0.016      6.002      0.000       0.066       0.130\n",
      "Jordan                               0.0858      0.026      3.341      0.001       0.035       0.136\n",
      "Kazakhstan                           0.1142      0.020      5.658      0.000       0.075       0.154\n",
      "Kenya                                0.1196      0.023      5.166      0.000       0.074       0.165\n",
      "Korea, South                     -3.025e-16   8.51e-17     -3.555      0.000   -4.69e-16   -1.36e-16\n",
      "Kosovo                           -1.197e-16   8.85e-17     -1.353      0.176   -2.93e-16    5.38e-17\n",
      "Kuwait                               0.1572      0.026      6.070      0.000       0.106       0.208\n",
      "Kyrgyzstan                           0.1238      0.023      5.301      0.000       0.078       0.170\n",
      "Laos                                 0.0619      0.020      3.108      0.002       0.023       0.101\n",
      "Latvia                               0.0640      0.018      3.477      0.001       0.028       0.100\n",
      "Lebanon                              0.0682      0.020      3.326      0.001       0.028       0.108\n",
      "Lesotho                           3.387e-16   1.18e-16      2.872      0.004    1.07e-16     5.7e-16\n",
      "Liberia                          -8.881e-17   1.03e-16     -0.860      0.390   -2.91e-16    1.14e-16\n",
      "Libya                                0.1195      0.020      6.123      0.000       0.081       0.158\n",
      "Liechtenstein                      1.22e-16   1.93e-16      0.633      0.526   -2.56e-16       5e-16\n",
      "Lithuania                            0.0936      0.021      4.400      0.000       0.052       0.135\n",
      "Luxembourg                           0.1105      0.029      3.761      0.000       0.053       0.168\n",
      "MS Zaandam                       -7.568e-17   1.12e-16     -0.673      0.501   -2.96e-16    1.45e-16\n",
      "Madagascar                        4.976e-17   7.44e-17      0.669      0.504   -9.61e-17    1.96e-16\n",
      "Malawi                            5.196e-16   1.57e-16      3.318      0.001    2.13e-16    8.27e-16\n",
      "Malaysia                             0.1204      0.033      3.641      0.000       0.056       0.185\n",
      "Maldives                         -8.877e-16   2.03e-16     -4.381      0.000   -1.29e-15    -4.9e-16\n",
      "Mali                                 0.1254      0.017      7.420      0.000       0.092       0.159\n",
      "Malta                                0.1133      0.025      4.515      0.000       0.064       0.163\n",
      "Mauritania                       -8.838e-17   3.68e-16     -0.240      0.810   -8.11e-16    6.34e-16\n",
      "Mauritius                            0.1196      0.031      3.894      0.000       0.059       0.180\n",
      "Mexico                               0.1321      0.021      6.265      0.000       0.091       0.174\n",
      "Moldova                              0.1460      0.021      7.056      0.000       0.105       0.187\n",
      "Monaco                           -1.531e-17    7.4e-17     -0.207      0.836    -1.6e-16     1.3e-16\n",
      "Mongolia                             0.0648      0.015      4.359      0.000       0.036       0.094\n",
      "Montenegro                       -1.354e-16   4.74e-17     -2.856      0.004   -2.28e-16   -4.24e-17\n",
      "Morocco                           3.482e-16   9.18e-17      3.792      0.000    1.68e-16    5.28e-16\n",
      "Mozambique                           0.0924      0.018      5.238      0.000       0.058       0.127\n",
      "Namibia                              0.0545      0.023      2.339      0.019       0.009       0.100\n",
      "Nepal                                0.2089      0.029      7.150      0.000       0.152       0.266\n",
      "Netherlands                          0.0929      0.020      4.666      0.000       0.054       0.132\n",
      "New Zealand                          0.0939      0.029      3.237      0.001       0.037       0.151\n",
      "Nicaragua                            0.0834      0.046      1.822      0.069      -0.006       0.173\n",
      "Niger                                0.1749      0.018      9.888      0.000       0.140       0.210\n",
      "Nigeria                              0.1153      0.025      4.605      0.000       0.066       0.164\n",
      "North Macedonia                      0.1167      0.023      5.138      0.000       0.072       0.161\n",
      "Norway                               0.0684      0.020      3.419      0.001       0.029       0.108\n",
      "Oman                                 0.1404      0.022      6.466      0.000       0.098       0.183\n",
      "Pakistan                             0.1180      0.022      5.368      0.000       0.075       0.161\n",
      "Panama                               0.1589      0.036      4.445      0.000       0.089       0.229\n",
      "Papua New Guinea                 -5.747e-16   2.03e-16     -2.826      0.005   -9.74e-16   -1.76e-16\n",
      "Paraguay                             0.1292      0.028      4.664      0.000       0.075       0.184\n",
      "Peru                                 0.2364      0.035      6.834      0.000       0.169       0.304\n",
      "Philippines                          0.1415      0.031      4.518      0.000       0.080       0.203\n",
      "Poland                               0.1191      0.021      5.587      0.000       0.077       0.161\n",
      "Portugal                             0.1331      0.029      4.538      0.000       0.076       0.191\n",
      "Qatar                                0.1551      0.024      6.548      0.000       0.109       0.201\n",
      "Romania                              0.1126      0.021      5.366      0.000       0.071       0.154\n",
      "Russia                           -7.175e-16   1.64e-16     -4.380      0.000   -1.04e-15   -3.96e-16\n",
      "Rwanda                               0.0929      0.028      3.352      0.001       0.039       0.147\n",
      "Saint Kitts and Nevis            -6.365e-16   1.28e-16     -4.958      0.000   -8.88e-16   -3.85e-16\n",
      "Saint Lucia                       2.572e-16   6.06e-17      4.242      0.000    1.38e-16    3.76e-16\n",
      "Saint Vincent and the Grenadines -1.333e-16   1.27e-16     -1.051      0.293   -3.82e-16    1.15e-16\n",
      "San Marino                       -2.816e-16   7.38e-17     -3.814      0.000   -4.26e-16   -1.37e-16\n",
      "Sao Tome and Principe             2.816e-16    1.9e-16      1.479      0.139   -9.17e-17    6.55e-16\n",
      "Saudi Arabia                         0.1482      0.025      5.881      0.000       0.099       0.198\n",
      "Senegal                              0.0737      0.020      3.654      0.000       0.034       0.113\n",
      "Serbia                               0.1491      0.023      6.543      0.000       0.104       0.194\n",
      "Seychelles                       -4.771e-16   1.12e-16     -4.241      0.000   -6.98e-16   -2.57e-16\n",
      "Sierra Leone                      3.361e-16   1.79e-16      1.882      0.060   -1.42e-17    6.86e-16\n",
      "Singapore                            0.1484      0.027      5.509      0.000       0.096       0.201\n",
      "Slovakia                             0.1092      0.021      5.304      0.000       0.069       0.150\n",
      "Slovenia                             0.0879      0.023      3.797      0.000       0.043       0.133\n",
      "Somalia                           4.629e-16   1.17e-16      3.943      0.000    2.33e-16    6.93e-16\n",
      "South Africa                         0.0983      0.031      3.222      0.001       0.038       0.158\n",
      "South Sudan                      -6.391e-16   2.47e-16     -2.590      0.010   -1.12e-15   -1.55e-16\n",
      "Spain                                0.1158      0.029      4.042      0.000       0.060       0.172\n",
      "Sri Lanka                            0.1359      0.035      3.850      0.000       0.067       0.205\n",
      "Sudan                             2.222e-16   5.62e-17      3.954      0.000    1.12e-16    3.32e-16\n",
      "Suriname                         -4.761e-16   1.18e-16     -4.041      0.000   -7.07e-16   -2.45e-16\n",
      "Sweden                               0.0849      0.017      4.985      0.000       0.052       0.118\n",
      "Switzerland                          0.0808      0.022      3.608      0.000       0.037       0.125\n",
      "Syria                            -4.071e-18   1.07e-18     -3.809      0.000   -6.17e-18   -1.97e-18\n",
      "Taiwan*                          -4.534e-19   1.18e-18     -0.384      0.701   -2.77e-18    1.86e-18\n",
      "Tajikistan                       -1.966e-18   3.23e-18     -0.608      0.543   -8.31e-18    4.38e-18\n",
      "Tanzania                             0.1379      0.016      8.724      0.000       0.107       0.169\n",
      "Thailand                             0.0603      0.021      2.933      0.003       0.020       0.101\n",
      "Timor-Leste                        1.59e-17   3.62e-18      4.387      0.000    8.79e-18     2.3e-17\n",
      "Togo                                 0.0805      0.021      3.805      0.000       0.039       0.122\n",
      "Trinidad and Tobago                  0.0646      0.025      2.538      0.011       0.015       0.114\n",
      "Tunisia                                   0          0        nan        nan           0           0\n",
      "Turkey                               0.1416      0.024      6.026      0.000       0.096       0.188\n",
      "Uganda                               0.0547      0.028      1.941      0.052      -0.001       0.110\n",
      "Ukraine                                   0          0        nan        nan           0           0\n",
      "United Arab Emirates                 0.1724      0.027      6.482      0.000       0.120       0.225\n",
      "United Kingdom                       0.1320      0.025      5.278      0.000       0.083       0.181\n",
      "United States                        0.1146      0.021      5.411      0.000       0.073       0.156\n",
      "Uruguay                              0.0742      0.022      3.339      0.001       0.031       0.118\n",
      "Uzbekistan                                0          0        nan        nan           0           0\n",
      "Venezuela                            0.0860      0.022      3.830      0.000       0.042       0.130\n",
      "Vietnam                              0.0455      0.021      2.190      0.029       0.005       0.086\n",
      "West Bank and Gaza                        0          0        nan        nan           0           0\n",
      "Western Sahara                            0          0        nan        nan           0           0\n",
      "Yemen                                     0          0        nan        nan           0           0\n",
      "Zambia                               0.0482      0.018      2.748      0.006       0.014       0.083\n",
      "Zimbabwe                             0.1372      0.037      3.690      0.000       0.064       0.210\n",
      "1                                    0.0009      0.005      0.162      0.871      -0.010       0.012\n",
      "2                                    0.0102      0.005      2.046      0.041       0.000       0.020\n",
      "3                                    0.0075      0.005      1.531      0.126      -0.002       0.017\n",
      "4                                    0.0032      0.005      0.643      0.520      -0.007       0.013\n",
      "5                                   -0.0012      0.005     -0.226      0.821      -0.011       0.009\n",
      "6                                    0.0023      0.006      0.419      0.675      -0.008       0.013\n",
      "==============================================================================\n",
      "Omnibus:                     1950.162   Durbin-Watson:                   1.987\n",
      "Prob(Omnibus):                  0.000   Jarque-Bera (JB):           103101.109\n",
      "Skew:                           3.804   Prob(JB):                         0.00\n",
      "Kurtosis:                      35.248   Cond. No.                     1.16e+19\n",
      "==============================================================================\n",
      "\n",
      "Notes:\n",
      "[1] Standard Errors assume that the covariance matrix of the errors is correctly specified.\n",
      "[2] The smallest eigenvalue is 3.16e-32. This might indicate that there are\n",
      "strong multicollinearity problems or that the design matrix is singular.\n"
     ]
    }
   ],
   "source": [
    "# baseline model\n",
    "baseline_fit = sm.OLS(y_train_b, X_train_b).fit()\n",
    "print(baseline_fit.summary())\n",
    "\n",
    "# mobility model\n",
    "mobility_fit = sm.OLS(y_train_m, X_train_m).fit() \n",
    "print(mobility_fit.summary())"
   ]
  },
  {
   "cell_type": "markdown",
   "metadata": {},
   "source": [
    "model prediction"
   ]
  },
  {
   "cell_type": "code",
   "execution_count": 23,
   "metadata": {},
   "outputs": [],
   "source": [
    "# baseline model\n",
    "baseline_yhat = baseline_fit.predict(X_test_b)\n",
    "\n",
    "# nmobility model\n",
    "mobility_yhat = mobility_fit.predict(X_test_m)"
   ]
  },
  {
   "cell_type": "code",
   "execution_count": 24,
   "metadata": {},
   "outputs": [
    {
     "data": {
      "text/html": [
       "<div>\n",
       "<style scoped>\n",
       "    .dataframe tbody tr th:only-of-type {\n",
       "        vertical-align: middle;\n",
       "    }\n",
       "\n",
       "    .dataframe tbody tr th {\n",
       "        vertical-align: top;\n",
       "    }\n",
       "\n",
       "    .dataframe thead th {\n",
       "        text-align: right;\n",
       "    }\n",
       "</style>\n",
       "<table border=\"1\" class=\"dataframe\">\n",
       "  <thead>\n",
       "    <tr style=\"text-align: right;\">\n",
       "      <th></th>\n",
       "      <th>date</th>\n",
       "      <th>adm0_name</th>\n",
       "      <th>cum_cases</th>\n",
       "      <th>D_ln_cum_cases</th>\n",
       "      <th>yhat</th>\n",
       "    </tr>\n",
       "  </thead>\n",
       "  <tbody>\n",
       "    <tr>\n",
       "      <th>38</th>\n",
       "      <td>4-21</td>\n",
       "      <td>Afghanistan</td>\n",
       "      <td>1092</td>\n",
       "      <td>0.062343</td>\n",
       "      <td>0.084217</td>\n",
       "    </tr>\n",
       "    <tr>\n",
       "      <th>39</th>\n",
       "      <td>4-22</td>\n",
       "      <td>Afghanistan</td>\n",
       "      <td>1176</td>\n",
       "      <td>0.074108</td>\n",
       "      <td>0.101908</td>\n",
       "    </tr>\n",
       "    <tr>\n",
       "      <th>40</th>\n",
       "      <td>4-23</td>\n",
       "      <td>Afghanistan</td>\n",
       "      <td>1279</td>\n",
       "      <td>0.083960</td>\n",
       "      <td>0.097229</td>\n",
       "    </tr>\n",
       "    <tr>\n",
       "      <th>41</th>\n",
       "      <td>4-24</td>\n",
       "      <td>Afghanistan</td>\n",
       "      <td>1351</td>\n",
       "      <td>0.054767</td>\n",
       "      <td>0.091378</td>\n",
       "    </tr>\n",
       "    <tr>\n",
       "      <th>42</th>\n",
       "      <td>4-25</td>\n",
       "      <td>Afghanistan</td>\n",
       "      <td>1463</td>\n",
       "      <td>0.079644</td>\n",
       "      <td>0.081091</td>\n",
       "    </tr>\n",
       "  </tbody>\n",
       "</table>\n",
       "</div>"
      ],
      "text/plain": [
       "    date    adm0_name  cum_cases  D_ln_cum_cases      yhat\n",
       "38  4-21  Afghanistan       1092        0.062343  0.084217\n",
       "39  4-22  Afghanistan       1176        0.074108  0.101908\n",
       "40  4-23  Afghanistan       1279        0.083960  0.097229\n",
       "41  4-24  Afghanistan       1351        0.054767  0.091378\n",
       "42  4-25  Afghanistan       1463        0.079644  0.081091"
      ]
     },
     "execution_count": 24,
     "metadata": {},
     "output_type": "execute_result"
    }
   ],
   "source": [
    "# add predicted growth rate to test dataframes for the two models (call it yhat)\n",
    "df_test_b['yhat'] = baseline_yhat\n",
    "df_test_m['yhat'] = mobility_yhat\n",
    "\n",
    "# keep only cols of interest in test dataframes\n",
    "cols = ['date', 'adm0_name', 'cum_cases', 'D_ln_cum_cases', 'yhat'] \n",
    "df_test_b = df_test_b[cols]\n",
    "df_test_m = df_test_m[cols]\n",
    "\n",
    "# for visualization purposes, print head of the baseline test df\n",
    "df_test_b.head()"
   ]
  },
  {
   "cell_type": "markdown",
   "metadata": {},
   "source": [
    "Our next task is to evaluate performance on the test data.\n",
    "\n",
    "For each country and each day in the test sample of the **baseline** and **mobility** models, we will compute percentage error (compares actual vs. predicted values). Let's call this new variable \"pct_error\" and add it to df_test_b and df_test_m, respectively.  Finally, we will report MSE for both models and comment on model fit."
   ]
  },
  {
   "cell_type": "code",
   "execution_count": 28,
   "metadata": {},
   "outputs": [
    {
     "name": "stdout",
     "output_type": "stream",
     "text": [
      "MSE test baseline model: 0.1907350823929066\n",
      "MSE test mobility model: 0.16898026195945412\n"
     ]
    }
   ],
   "source": [
    "# compute percentage error: actual vs predicted values (for each date/country)\n",
    "df_test_b['pct_error'] = ((df_test_b.yhat - df_test_b.D_ln_cum_cases))*100\n",
    "df_test_m['pct_error'] = ((df_test_m.yhat - df_test_m.D_ln_cum_cases))*100\n",
    "\n",
    "# compute mean square error (MSE) for each model\n",
    "print(\n",
    "    'MSE test baseline model:', np.mean(np.sqrt(df_test_b.yhat - df_test_b.D_ln_cum_cases))\n",
    ")\n",
    "print(\n",
    "    'MSE test mobility model:', np.mean(np.sqrt(df_test_m.yhat - df_test_m.D_ln_cum_cases))\n",
    ")"
   ]
  },
  {
   "cell_type": "markdown",
   "metadata": {},
   "source": [
    "The mobility model seems to do better. However, one needs to do a cross-validation exercise on the train/test split period to accurately evaluate model performance."
   ]
  },
  {
   "cell_type": "markdown",
   "metadata": {},
   "source": [
    "Boxplot visualizations of the percentage error provide nice insights into model performance as well. Unlike MSE, which is aggregating the results acros countries and days, a  percentage error boxplot shows the distribution of predictions at the country/day level.\n",
    "\n",
    "The plot below uses the **pct_error_plot()** function implemented at the top of the notebook."
   ]
  },
  {
   "cell_type": "code",
   "execution_count": 29,
   "metadata": {},
   "outputs": [
    {
     "data": {
      "image/png": "[encoded data removed]",
      "text/plain": [
       "<Figure size 720x432 with 1 Axes>"
      ]
     },
     "metadata": {},
     "output_type": "display_data"
    }
   ],
   "source": [
    "# plot boxplot and return combined df_test for baseline and mobility model\n",
    "df_test_mb = pct_error_plot(\n",
    "    df_test_b,\n",
    "    df_test_m,\n",
    "    'box',\n",
    "    'closed_form'\n",
    ")"
   ]
  },
  {
   "cell_type": "markdown",
   "metadata": {},
   "source": [
    "You can now dive deeper into the predictive results of the two models to investigate what are the countries with the largest outliers. You can also play aroud with the pct_error threshold that you want to investigate."
   ]
  },
  {
   "cell_type": "code",
   "execution_count": 30,
   "metadata": {},
   "outputs": [
    {
     "name": "stdout",
     "output_type": "stream",
     "text": [
      "It seems that ['Ecuador' 'Tanzania'] are outlier countries, i.e the pct_error is pretty high.\n"
     ]
    }
   ],
   "source": [
    "print('It seems that',\n",
    "      df_test_m[df_test_m.pct_error.le(-30)].adm0_name.unique(),\n",
    "      'are outlier countries, i.e the pct_error is pretty high.'\n",
    "     )"
   ]
  },
  {
   "cell_type": "markdown",
   "metadata": {},
   "source": [
    "##### ``Step 6.2 Fit, predict and evaluate model performance using an iterative solution``"
   ]
  },
  {
   "cell_type": "markdown",
   "metadata": {},
   "source": [
    "Closed-form solutions find the optimal solution analytically, which is a good thing, but:\n",
    "- if working with very large data sets, inveting the X'X matrix can be computationally very expensive\n",
    "- X'X may be singular (not-invertible); this happens when two or more features are co-linear\n",
    "- it cannot be used for regularization\n",
    "- the linear model has a closed-form solution, but most other ML models don't have this luxury\n",
    "\n",
    "An iterative solution like gradient descent can overcome these issues. "
   ]
  },
  {
   "cell_type": "markdown",
   "metadata": {},
   "source": [
    "We will now fit, predict and evaluate the performance of the **baseline** model using **TensorFlow**. We will use Keras API - it allows prototyping and building of models with just a few lines of codes, and it was developed with the idea to run on top of libraries such as TensorFlow. \n",
    "\n",
    "Our tasks are as follows:\n",
    "\n",
    "1. Build and compile a TensorFlow model (use the **build_compile_tf_model()** function defined below)\n",
    "2. Fit the TensorFlow model on the training data using a learning rate = [0.0001, 0.1] and 20 epochs of training\n",
    "3. Predict growth rate of COVID-19 cumulative cases using the test data for each of the learning rates defined at point 2.\n",
    "4. Evaluate performance of the model using the test data for each of the learning rates defined at point 2:\n",
    "     * compute MSE. What learning rate leads to better performance of the model?\n",
    "     * create a boxplot to show the pct_error of growth rates of COVID-19 cumulative cases at the country/day level. Our boxplot will compare pct_error using the TensorFlow solution (for both learning rates) and the pct_error using the closed-form solution. Which solution performs better?"
   ]
  },
  {
   "cell_type": "code",
   "execution_count": 31,
   "metadata": {},
   "outputs": [],
   "source": [
    "def build_compile_tf_model(num_features, learning_rate):\n",
    "    \"\"\"Build a TF linear regression model using Keras.\n",
    "\n",
    "    params:\n",
    "    -------\n",
    "    num_features: int, the number of input features\n",
    "    learning_rate: int, the desired learning rate for SGD\n",
    "\n",
    "    returns:\n",
    "    -------\n",
    "    model: a tf.keras model (graph).\n",
    "    \"\"\"\n",
    "    # This is not strictly necessary, but each time you build a model, TF adds\n",
    "    # new nodes (rather than overwriting), so the colab session can end up\n",
    "    # storing lots of copies of the graph when you only care about the most\n",
    "    # recent. Also, as there is some randomness built into training with SGD,\n",
    "    # setting a random seed ensures that results are the same on each identical\n",
    "    # training run.\n",
    "    tf.keras.backend.clear_session()\n",
    "    tf.random.set_seed(0)\n",
    "\n",
    "    # Build a model using keras.Sequential. While this is intended for neural\n",
    "    # networks (which may have multiple layers), we want just a single layer for\n",
    "    # linear regression.\n",
    "    model = tf.keras.Sequential()\n",
    "    model.add(tf.keras.layers.Dense(\n",
    "          activation = None,           # linear activation is used\n",
    "          units=1,                     # output dim\n",
    "          input_shape=[num_features],  # input dim\n",
    "          use_bias=False,              # do not use a bias (intercept) param (see how fixed effects have been added to the model)\n",
    "          kernel_initializer=tf.ones_initializer,  # initialize params to 1\n",
    "      ))\n",
    "    \n",
    "    # We need to choose an optimizer. We'll use SGD, which is actually mini-batch\n",
    "    # SGD. We can specify the batch size to use for training later.\n",
    "    optimizer = tf.keras.optimizers.SGD(learning_rate=learning_rate)\n",
    "\n",
    "    # Finally, we compile the model. We specify the MSE loss.\n",
    "    model.compile(\n",
    "        optimizer=optimizer,\n",
    "        loss='mse', \n",
    "    )\n",
    "    \n",
    "    return model"
   ]
  },
  {
   "cell_type": "code",
   "execution_count": 37,
   "metadata": {},
   "outputs": [
    {
     "name": "stdout",
     "output_type": "stream",
     "text": [
      "learning_rate: 0.0001\n",
      "---------------------\n",
      "MSE baseline model: 0.7620689159389988 \n",
      "\n",
      "learning_rate: 0.1\n",
      "---------------------\n",
      "MSE baseline model: 0.18439097893482018 \n",
      "\n"
     ]
    }
   ],
   "source": [
    "# define learning rates\n",
    "learning_rates = [0.0001, 0.1]\n",
    "\n",
    "# create dictionary to keep track of loss\n",
    "growth_rate_mse_dict = {}\n",
    "\n",
    "for idx, eta in enumerate(learning_rates):\n",
    "    print('learning_rate:', eta)\n",
    "    print('---------------------')\n",
    "    \n",
    "    # (1) Build and compile the baseline model #\n",
    "    ############################################\n",
    "    model_b = build_compile_tf_model(\n",
    "        num_features=X_train_b.shape[1],\n",
    "        learning_rate=eta\n",
    "    )\n",
    "\n",
    "    # (2) Fit the model using the train data #\n",
    "    ##########################################\n",
    "    baseline_fit_tf = model_b.fit(\n",
    "      x = X_train_b,\n",
    "      y = y_train_b,\n",
    "      epochs=20,\n",
    "      batch_size=1, #use all the data\n",
    "      verbose=0) # silence the output\n",
    "    \n",
    "    # (3) Predict using the test data #\n",
    "    ###################################\n",
    "    baseline_yhat_tf = model_b.predict(X_test_b)\n",
    "    \n",
    "    # add predicted growth rate of COVID-19 cases to test dataframe\n",
    "    df_test_b['yhat_tf'+'_'+str(eta)] = baseline_yhat_tf\n",
    "    \n",
    "    # (4) Evaluate performance of the model #\n",
    "    ########################################\n",
    "    # compute percentage error (for each date/country)\n",
    "    df_test_b['pct_error_tf_'+str(eta)] = (\n",
    "        (df_test_b['yhat_tf_'+str(eta)] - df_test_b.D_ln_cum_cases))*100\n",
    "    \n",
    "    # compute mean square error (MSE)\n",
    "    print(\n",
    "        'MSE baseline model:', np.mean(np.sqrt(df_test_b['yhat_tf_'+str(eta)] - df_test_b.D_ln_cum_cases)),\n",
    "        '\\n'\n",
    "    )"
   ]
  },
  {
   "cell_type": "markdown",
   "metadata": {},
   "source": [
    "Interpretation: remember that the number of TF epochs is set to 20. In this case, a larger learning rate leads to better performance in the baseline model (MSE for learning rate=0.1 < MSE for learning rate = 0.0001)"
   ]
  },
  {
   "cell_type": "markdown",
   "metadata": {},
   "source": [
    "Let's look at the percentage error boxplot next:"
   ]
  },
  {
   "cell_type": "code",
   "execution_count": 33,
   "metadata": {},
   "outputs": [
    {
     "data": {
      "image/png": "[encoded data removed]",
      "text/plain": [
       "<Figure size 720x432 with 1 Axes>"
      ]
     },
     "metadata": {},
     "output_type": "display_data"
    }
   ],
   "source": [
    "# boxplot of percentage error for baseline model\n",
    "cols = [val for val in df_test_b if 'pct' in val]\n",
    "df_test_b_tf = pd.melt(df_test_b,\n",
    "        id_vars=['adm0_name', 'date'],\n",
    "        var_name='model',\n",
    "        value_vars=cols,\n",
    "        value_name='pct_error')\n",
    "\n",
    "# rename pct_error for closed-form baseline model as pct_error_cf \n",
    "df_test_b_tf['model'] = np.where(\n",
    "    df_test_b_tf.model.eq('pct_error'), 'pct_error_cf', df_test_b_tf.model\n",
    ")\n",
    "\n",
    "df_test_b_tf = pct_error_plot(\n",
    "    df_test_b_tf,\n",
    "    df_test_m,\n",
    "    'box',\n",
    "    'tf'\n",
    ")"
   ]
  },
  {
   "cell_type": "markdown",
   "metadata": {},
   "source": [
    "In the plot above, the blue boxes represents pct_error using the closed-form solution. The orange and green boxes represent TensorFlow pct_errors for learning rates 0.0001 and 0.1, respetively."
   ]
  },
  {
   "cell_type": "markdown",
   "metadata": {},
   "source": [
    "With 20 training epochs, it seems that the closed-form solution and TensorFlow solution with learning rate 0.1 perform equally well. The TensorFlow solution with learning rate 0.0001 has a low performance (likely because 20 epochs is not sufficient given the small learning rate)."
   ]
  },
  {
   "cell_type": "markdown",
   "metadata": {},
   "source": [
    "``How would your answers to the exercise above change if you set the number of training epochs to 200?``"
   ]
  },
  {
   "cell_type": "code",
   "execution_count": 34,
   "metadata": {},
   "outputs": [
    {
     "name": "stdout",
     "output_type": "stream",
     "text": [
      "learning_rate: 0.0001\n",
      "---------------------\n",
      "MSE baseline model: 0.2664668050104604 \n",
      "\n",
      "learning_rate: 0.1\n",
      "---------------------\n",
      "MSE baseline model: 0.19727674195022615 \n",
      "\n"
     ]
    }
   ],
   "source": [
    "# define learning rates\n",
    "learning_rates = [0.0001, 0.1]\n",
    "\n",
    "# create dictionary to keep track of loss\n",
    "growth_rate_mse_dict = {}\n",
    "\n",
    "for idx, eta in enumerate(learning_rates):\n",
    "    print('learning_rate:', eta)\n",
    "    print('---------------------')\n",
    "    \n",
    "    # (1) Build and compile the baseline model #\n",
    "    ############################################\n",
    "    model_b = build_compile_tf_model(\n",
    "        num_features=X_train_b.shape[1],\n",
    "        learning_rate=eta\n",
    "    )\n",
    "\n",
    "    # (2) Fit the model using the train data #\n",
    "    ##########################################\n",
    "    baseline_fit_tf = model_b.fit(\n",
    "      x = X_train_b,\n",
    "      y = y_train_b,\n",
    "      epochs=200,\n",
    "      batch_size=1, #use all the data\n",
    "      verbose=0) # silence the output\n",
    "    \n",
    "    # (3) Predict using the test data #\n",
    "    ###################################\n",
    "    baseline_yhat_tf = model_b.predict(X_test_b)\n",
    "    \n",
    "    # add predicted growth rate of COVID-19 cases to test dataframe\n",
    "    df_test_b['yhat_tf'+'_'+str(eta)] = baseline_yhat_tf\n",
    "    \n",
    "    # (4) Evaluate performance of the model #\n",
    "    ########################################\n",
    "    # compute percentage error (for each date/country)\n",
    "    df_test_b['pct_error_tf_'+str(eta)] = (\n",
    "        (df_test_b['yhat_tf_'+str(eta)] - df_test_b.D_ln_cum_cases))*100\n",
    "    \n",
    "    # compute mean square error (MSE)\n",
    "    print(\n",
    "        'MSE baseline model:', np.mean(np.sqrt(df_test_b['yhat_tf_'+str(eta)] - df_test_b.D_ln_cum_cases)),\n",
    "        '\\n'\n",
    "    )"
   ]
  },
  {
   "cell_type": "markdown",
   "metadata": {},
   "source": [
    "A larger learning rate leads to better performance in the baseline model even when the number of training epochs is set to 200 (MSE for learning rate=0.1 < MSE for learning rate = 0.0001). The boxplot belows indicates this is likely because of noisy predictions in the 7 day of test."
   ]
  },
  {
   "cell_type": "code",
   "execution_count": 35,
   "metadata": {},
   "outputs": [
    {
     "data": {
      "image/png": "[encoded data removed]",
      "text/plain": [
       "<Figure size 720x432 with 1 Axes>"
      ]
     },
     "metadata": {},
     "output_type": "display_data"
    }
   ],
   "source": [
    "# boxplot of percentage error for baseline model\n",
    "cols = [val for val in df_test_b if 'pct' in val]\n",
    "df_test_b_tf = pd.melt(df_test_b,\n",
    "        id_vars=['adm0_name', 'date'],\n",
    "        var_name='model',\n",
    "        value_vars=cols,\n",
    "        value_name='pct_error')\n",
    "\n",
    "# rename pct_error for closed-form baseline model as pct_error_cf \n",
    "df_test_b_tf['model'] = np.where(\n",
    "    df_test_b_tf.model.eq('pct_error'), 'pct_error_cf', df_test_b_tf.model\n",
    ")\n",
    "\n",
    "df_test_b_tf = pct_error_plot(\n",
    "    df_test_b_tf,\n",
    "    df_test_m,\n",
    "    'box',\n",
    "    'tf'\n",
    ")"
   ]
  },
  {
   "cell_type": "markdown",
   "metadata": {},
   "source": [
    "With 200 training epochs, it seems that the closed-form solution and TensorFlow solutions with learning rates 0.0001 and 0.1, respectively perform equally well on average for all days of test except day=7. The TensorFlow solution with learning rate 0.0001 has a low performance on the 7 day, it will be worth investigating why."
   ]
  },
  {
   "cell_type": "markdown",
   "metadata": {},
   "source": [
    "---\n",
    "#### References\n",
    "---"
   ]
  },
  {
   "cell_type": "markdown",
   "metadata": {},
   "source": [
    "This Demo was motivated by a recently published paper in Nature - Scientific Reports: [Public mobility data enables COVID-19 forecasting and management at local and global scales](https://www.nature.com/articles/s41598-021-92892-8). "
   ]
  },
  {
   "cell_type": "code",
   "execution_count": null,
   "metadata": {},
   "outputs": [],
   "source": []
  }
 ],
 "metadata": {
  "kernelspec": {
   "display_name": "Python 3 (ipykernel)",
   "language": "python",
   "name": "python3"
  },
  "language_info": {
   "codemirror_mode": {
    "name": "ipython",
    "version": 3
   },
   "file_extension": ".py",
   "mimetype": "text/x-python",
   "name": "python",
   "nbconvert_exporter": "python",
   "pygments_lexer": "ipython3",
   "version": "3.9.12"
  }
 },
 "nbformat": 4,
 "nbformat_minor": 4
}
