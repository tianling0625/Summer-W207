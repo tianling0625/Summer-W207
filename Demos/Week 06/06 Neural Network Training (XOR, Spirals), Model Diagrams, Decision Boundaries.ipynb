{
 "cells": [
  {
   "cell_type": "code",
   "execution_count": 3,
   "metadata": {
    "id": "imcNmFXhPdCh"
   },
   "outputs": [
    {
     "name": "stderr",
     "output_type": "stream",
     "text": [
      "2022-06-14 22:44:48.114012: W tensorflow/stream_executor/platform/default/dso_loader.cc:64] Could not load dynamic library 'libcudart.so.11.0'; dlerror: libcudart.so.11.0: cannot open shared object file: No such file or directory\n",
      "2022-06-14 22:44:48.114051: I tensorflow/stream_executor/cuda/cudart_stub.cc:29] Ignore above cudart dlerror if you do not have a GPU set up on your machine.\n"
     ]
    }
   ],
   "source": [
    "# Import our standard libraries.\n",
    "import numpy as np\n",
    "from matplotlib import pyplot as plt\n",
    "import seaborn as sns  # for nicer plots\n",
    "sns.set(style='darkgrid')  # default style\n",
    "import tensorflow as tf"
   ]
  },
  {
   "cell_type": "markdown",
   "metadata": {
    "id": "m9YumbH4cZ0R"
   },
   "source": [
    "## Helper function(s)\n",
    "Here are some helper function for:\n",
    "\n",
    "* Drawing neural network diagrams\n",
    "* Plotting learned decision boundaries"
   ]
  },
  {
   "cell_type": "code",
   "execution_count": 4,
   "metadata": {
    "id": "nZMAvH2OU2LA"
   },
   "outputs": [],
   "source": [
    "def draw_neural_net(ax, layer_sizes, coefs_, intercepts_,\n",
    "                    left=0.1, right=.9, bottom=0.1, top=.9):\n",
    "    '''\n",
    "    Draw a neural network cartoon using matplotilb.\n",
    "    Adapted: https://gist.github.com/craffel/2d727968c3aaebd10359\n",
    "    \n",
    "    Args:\n",
    "        - ax : matplotlib.axes.AxesSubplot\n",
    "            The axes on which to plot the cartoon (get e.g. by plt.gca())\n",
    "        - layer_sizes : list of int\n",
    "            List of layer sizes, including input and output dimensionality\n",
    "    '''\n",
    "    n_layers = len(layer_sizes)\n",
    "    v_spacing = (top - bottom)/float(max(layer_sizes))\n",
    "    h_spacing = (right - left)/float(len(layer_sizes) - 1)\n",
    "    \n",
    "    # Input-Arrows\n",
    "    layer_top_0 = v_spacing*(layer_sizes[0] - 1)/2. + (top + bottom)/2.\n",
    "    for m in range(layer_sizes[0]):\n",
    "        plt.arrow(left-0.18, layer_top_0 - m*v_spacing, 0.12, 0,  lw=1, head_width=0.01, head_length=0.02)\n",
    "    \n",
    "    # Nodes\n",
    "    for n, layer_size in enumerate(layer_sizes):\n",
    "        layer_top = v_spacing*(layer_size - 1)/2. + (top + bottom)/2.\n",
    "        for m in range(layer_size):\n",
    "            circle = plt.Circle((n*h_spacing + left, layer_top - m*v_spacing), v_spacing/8.,\n",
    "                                color='w', ec='k', zorder=4)\n",
    "            if n == 0:\n",
    "                plt.text(left-0.125, layer_top - m*v_spacing, r'$X_{'+str(m+1)+'}$', fontsize=15)\n",
    "            elif (n_layers == 3) & (n == 1):\n",
    "                plt.text(n*h_spacing + left+0.00, layer_top - m*v_spacing+ (v_spacing/8.+0.01*v_spacing), r'$H_{'+str(m+1)+'}$', fontsize=15)\n",
    "            elif n == n_layers -1:\n",
    "                plt.text(n*h_spacing + left+0.10, layer_top - m*v_spacing, r'$y_{'+str(m+1)+'}$', fontsize=15)\n",
    "            ax.add_artist(circle)\n",
    "    # Bias-Nodes\n",
    "    for n, layer_size in enumerate(layer_sizes):\n",
    "        if n < n_layers -1:\n",
    "            x_bias = (n+0.5)*h_spacing + left\n",
    "            y_bias = top + 0.005\n",
    "            circle = plt.Circle((x_bias, y_bias), v_spacing/8., color='w', ec='k', zorder=4)\n",
    "            plt.text(x_bias-(v_spacing/8.+0.10*v_spacing-0.01), y_bias, r'$1$', fontsize=15)\n",
    "            ax.add_artist(circle)   \n",
    "    # Edges\n",
    "    # Edges between nodes\n",
    "    for n, (layer_size_a, layer_size_b) in enumerate(zip(layer_sizes[:-1], layer_sizes[1:])):\n",
    "        layer_top_a = v_spacing*(layer_size_a - 1)/2. + (top + bottom)/2.\n",
    "        layer_top_b = v_spacing*(layer_size_b - 1)/2. + (top + bottom)/2.\n",
    "        for m in range(layer_size_a):\n",
    "            for o in range(layer_size_b):\n",
    "                line = plt.Line2D([n*h_spacing + left, (n + 1)*h_spacing + left],\n",
    "                                  [layer_top_a - m*v_spacing, layer_top_b - o*v_spacing], c='k')\n",
    "                ax.add_artist(line)\n",
    "                xm = (n*h_spacing + left)\n",
    "                xo = ((n + 1)*h_spacing + left)\n",
    "                ym = (layer_top_a - m*v_spacing)\n",
    "                yo = (layer_top_b - o*v_spacing)\n",
    "                rot_mo_rad = np.arctan((yo-ym)/(xo-xm))\n",
    "                rot_mo_deg = rot_mo_rad*180./np.pi\n",
    "                xm1 = xm + (v_spacing/8.+0.05)*np.cos(rot_mo_rad)\n",
    "                if n == 0:\n",
    "                    if yo > ym:\n",
    "                        ym1 = ym + (v_spacing/8.+0.08)*np.sin(rot_mo_rad)\n",
    "                    else:\n",
    "                        ym1 = ym + (v_spacing/8.+0.1)*np.sin(rot_mo_rad) + .01\n",
    "                else:\n",
    "                    if yo > ym:\n",
    "                        ym1 = ym + (v_spacing/8.+0.08)*np.sin(rot_mo_rad)\n",
    "                    else:\n",
    "                        ym1 = ym + (v_spacing/8.+0.08)*np.sin(rot_mo_rad)\n",
    "                plt.text(xm1, ym1,\n",
    "                         str(round(coefs_[n][m, o],2)),\n",
    "                         rotation = rot_mo_deg,\n",
    "                         fontsize = 10)\n",
    "    # Edges between bias and nodes\n",
    "    for n, (layer_size_a, layer_size_b) in enumerate(zip(layer_sizes[:-1], layer_sizes[1:])):\n",
    "        if n < n_layers-1:\n",
    "            layer_top_a = v_spacing*(layer_size_a - 1)/2. + (top + bottom)/2.\n",
    "            layer_top_b = v_spacing*(layer_size_b - 1)/2. + (top + bottom)/2.\n",
    "        x_bias = (n+0.5)*h_spacing + left\n",
    "        y_bias = top + 0.005 \n",
    "        for o in range(layer_size_b):\n",
    "            line = plt.Line2D([x_bias, (n + 1)*h_spacing + left],\n",
    "                          [y_bias, layer_top_b - o*v_spacing], c='k')\n",
    "            ax.add_artist(line)\n",
    "            xo = ((n + 1)*h_spacing + left)\n",
    "            yo = (layer_top_b - o*v_spacing)\n",
    "            rot_bo_rad = np.arctan((yo-y_bias)/(xo-x_bias))\n",
    "            rot_bo_deg = rot_bo_rad*180./np.pi\n",
    "            xo2 = xo - (v_spacing/8.+0.01)*np.cos(rot_bo_rad)\n",
    "            yo2 = yo - (v_spacing/8.+0.01)*np.sin(rot_bo_rad)\n",
    "            xo1 = xo2 -0.08 * np.cos(rot_bo_rad)\n",
    "            yo1 = yo2 -0.05 * np.sin(rot_bo_rad)\n",
    "            plt.text(xo1, yo1,\n",
    "                 str(round(intercepts_[n][o],2)),\n",
    "                 rotation = rot_bo_deg,\n",
    "                 fontsize = 10)    \n",
    "                \n",
    "    # Output-Arrows\n",
    "    layer_top_0 = v_spacing*(layer_sizes[-1] - 1)/2. + (top + bottom)/2.\n",
    "    for m in range(layer_sizes[-1]):\n",
    "        plt.arrow(right+0.015, layer_top_0 - m*v_spacing, 0.16*h_spacing, 0,  lw =1, head_width=0.01, head_length=0.02)"
   ]
  },
  {
   "cell_type": "code",
   "execution_count": 5,
   "metadata": {
    "id": "nymKlPTLaNev"
   },
   "outputs": [],
   "source": [
    "def plot_decision_boundary(X, Y, model, steps=100, size=3, cmap='bwr'):\n",
    "    \"\"\"\n",
    "    Function to plot the decision boundary and data points of a model.\n",
    "    Data points are colored based on their actual label.\n",
    "    \"\"\"\n",
    "    cmap = plt.get_cmap(cmap)\n",
    "    \n",
    "    # Define region of interest by data limits\n",
    "    xmin, xmax = X[:,0].min() - 1, X[:,0].max() + 1\n",
    "    ymin, ymax = X[:,1].min() - 1, X[:,1].max() + 1\n",
    "    x_span = np.linspace(xmin, xmax, steps)\n",
    "    y_span = np.linspace(ymin, ymax, steps)\n",
    "    xx, yy = np.meshgrid(x_span, y_span)\n",
    "\n",
    "    # Make predictions across region of interest\n",
    "    labels = model.predict(np.c_[xx.ravel(), yy.ravel()])\n",
    "\n",
    "    # Plot decision boundary in region of interest\n",
    "    z = labels.reshape(xx.shape)\n",
    "    \n",
    "    fig, ax = plt.subplots()\n",
    "    ax.contourf(xx, yy, z, cmap=cmap, alpha=0.3)\n",
    "\n",
    "    # Get predicted labels on training data and plot\n",
    "    train_labels = model.predict(X)\n",
    "    ax.scatter(X[:,0], X[:,1], c=Y, cmap=cmap, s=size)\n",
    "    \n",
    "    return fig, ax"
   ]
  },
  {
   "cell_type": "code",
   "execution_count": 6,
   "metadata": {
    "id": "kpJi_ukU32OJ"
   },
   "outputs": [],
   "source": [
    "def generate_spiral_data(num=1000):\n",
    "  np.random.seed(1)\n",
    "  X = []\n",
    "  \n",
    "  # The delta values correspond to different offsets for the 2 classes.\n",
    "  for delta in [0, np.pi]:\n",
    "    for i in range(num):\n",
    "      r = 1.0 * i / num * 5\n",
    "      t = 1.75 * i / num * 2 * np.pi + delta\n",
    "      x0 = r * np.sin(t) + (2 * np.random.rand() - 1) * 0.1\n",
    "      x1 = r * np.cos(t) + (2 * np.random.rand() - 1) * 0.1\n",
    "      X.append([x0, x1])\n",
    "      \n",
    "  X = np.array(X)\n",
    "  Y = np.concatenate([np.zeros(num), np.ones(num)]).astype(int)\n",
    "\n",
    "  shuf_idx = np.random.permutation(len(Y))\n",
    "  X = X[shuf_idx]\n",
    "  Y = Y[shuf_idx]\n",
    "\n",
    "  return X, Y"
   ]
  },
  {
   "cell_type": "markdown",
   "metadata": {
    "id": "n1I7jrHHdBdL"
   },
   "source": [
    "## The XOR Problem"
   ]
  },
  {
   "cell_type": "code",
   "execution_count": 7,
   "metadata": {
    "id": "AafvM2hh9OS8"
   },
   "outputs": [
    {
     "data": {
      "image/png": "[encoded data removed]",
      "text/plain": [
       "<Figure size 432x288 with 1 Axes>"
      ]
     },
     "metadata": {},
     "output_type": "display_data"
    }
   ],
   "source": [
    "# Define XOR data.\n",
    "X = np.array([[0, 0], [0, 1], [1, 0], [1, 1]])\n",
    "Y = np.array([0, 1, 1, 0])\n",
    "\n",
    "# Plot XOR data.\n",
    "pos_X = X[Y==1]\n",
    "neg_X = X[Y==0]\n",
    "plt.scatter(x=pos_X[:,0], y=pos_X[:,1], marker='+', c='r', s=1000, linewidth=4)\n",
    "plt.scatter(x=neg_X[:,0], y=neg_X[:,1], marker='_', c='k', s=1000, linewidth=4)\n",
    "plt.xlim(-0.15, 1.15)\n",
    "plt.ylim(-0.15, 1.15)\n",
    "plt.show()"
   ]
  },
  {
   "cell_type": "code",
   "execution_count": 8,
   "metadata": {},
   "outputs": [
    {
     "name": "stdout",
     "output_type": "stream",
     "text": [
      "(4, 2)\n"
     ]
    }
   ],
   "source": [
    "print(X.shape)"
   ]
  },
  {
   "cell_type": "markdown",
   "metadata": {
    "id": "EmWkXbucdJY5"
   },
   "source": [
    "### Linear Models"
   ]
  },
  {
   "cell_type": "code",
   "execution_count": null,
   "metadata": {
    "id": "uwRbcIIj9hjU"
   },
   "outputs": [],
   "source": [
    "def build_linear_xor_model():\n",
    "  tf.keras.backend.clear_session()\n",
    "  tf.random.set_seed(0)\n",
    "\n",
    "  model = tf.keras.Sequential()\n",
    "\n",
    "  # Set input shape in advance\n",
    "  model.add(tf.keras.Input(shape=(2,), name='Input'))\n",
    "  model.add(tf.keras.layers.Dense(units=1, activation='sigmoid', name='Output'))\n",
    "  model.compile(loss='binary_crossentropy',\n",
    "                optimizer=tf.keras.optimizers.SGD(learning_rate=1))\n",
    "  return model"
   ]
  },
  {
   "cell_type": "code",
   "execution_count": null,
   "metadata": {
    "id": "CKkRMx_797nd"
   },
   "outputs": [],
   "source": [
    "# Build the model and show a summary.\n",
    "xor_model = build_linear_xor_model()\n",
    "print(xor_model.summary())\n",
    "\n",
    "# Train a model and show loss\n",
    "history = xor_model.fit(\n",
    "    x=X,\n",
    "    y=Y,\n",
    "    epochs=100,\n",
    "    batch_size=4,\n",
    "    verbose=0)\n",
    "losses = history.history['loss']\n",
    "plt.plot(losses)\n",
    "plt.xlabel('Training Step')\n",
    "plt.ylabel('Cross-Entropy Loss')\n",
    "plt.show()\n",
    "\n",
    "# Show data and predictions\n",
    "preds = xor_model.predict(X)\n",
    "for i in range(len(Y)):\n",
    "  (x1,x2) = X[i]\n",
    "  y = Y[i]\n",
    "  y_hat = preds[i]\n",
    "  print(\"x [%d %d]  y [%d]  ŷ [%.4f]\" %(x1, x2, y, y_hat))\n",
    "\n",
    "# Show learned model\n",
    "w, b = xor_model.layers[0].get_weights()\n",
    "print('f(x) = sigmoid(%.4f + %.4f*x1 + %.4f*x2)' %(b[0], w[0], w[1]))"
   ]
  },
  {
   "cell_type": "code",
   "execution_count": null,
   "metadata": {
    "id": "sr-TuwX-d38_"
   },
   "outputs": [],
   "source": [
    "fig = plt.figure(figsize=(5, 5))\n",
    "ax = fig.gca()\n",
    "ax.axis('off')\n",
    "draw_neural_net(ax, [2, 1], {0:w}, {0:b})"
   ]
  },
  {
   "cell_type": "markdown",
   "metadata": {
    "id": "zymzU-OmdRSi"
   },
   "source": [
    "### Neural Network Models"
   ]
  },
  {
   "cell_type": "code",
   "execution_count": null,
   "metadata": {
    "id": "8fWTqjdiBmWT"
   },
   "outputs": [],
   "source": [
    "def build_ffnn_xor_model(hidden_layer_sizes=[]):\n",
    "  tf.keras.backend.clear_session()\n",
    "  tf.random.set_seed(1)\n",
    "\n",
    "  model = tf.keras.Sequential()\n",
    "  # Set input shape in advance\n",
    "  model.add(tf.keras.Input(shape=(2,), name='Input'))\n",
    "  for hidden_layer_size in hidden_layer_sizes:\n",
    "    model.add(tf.keras.layers.Dense(units=hidden_layer_size,\n",
    "                                    activation='relu',\n",
    "                                    name='Hidden'))\n",
    "  model.add(tf.keras.layers.Dense(units=1, activation='sigmoid', name='Output'))\n",
    "  model.compile(loss='binary_crossentropy',\n",
    "                optimizer=tf.keras.optimizers.SGD(learning_rate=1))\n",
    "  return model"
   ]
  },
  {
   "cell_type": "code",
   "execution_count": null,
   "metadata": {
    "id": "H_2gV1SXB-K3"
   },
   "outputs": [],
   "source": [
    "# Build the model and show a summary.\n",
    "xor_model = build_ffnn_xor_model(hidden_layer_sizes=[2])\n",
    "print(xor_model.summary())\n",
    "\n",
    "# Train a model and show loss\n",
    "history = xor_model.fit(\n",
    "    x = X,\n",
    "    y = Y,\n",
    "    epochs=2000,\n",
    "    batch_size=4,\n",
    "    verbose=0)\n",
    "losses = history.history['loss']\n",
    "plt.plot(losses)\n",
    "plt.xlabel('Training Step')\n",
    "plt.ylabel('Cross-Entropy Loss')\n",
    "plt.show()\n",
    "\n",
    "# Show data and predictions\n",
    "preds = xor_model.predict(X)\n",
    "for i in range(len(Y)):\n",
    "  (x1,x2) = X[i]\n",
    "  y = Y[i]\n",
    "  y_hat = preds[i]\n",
    "  print(\"x [%d %d]  y [%d]  ŷ [%.4f]\" %(x1, x2, y, y_hat))\n",
    "\n",
    "# Get model weights\n",
    "w0, b0 = xor_model.layers[0].get_weights()\n",
    "w1, b1 = xor_model.layers[1].get_weights()"
   ]
  },
  {
   "cell_type": "code",
   "execution_count": null,
   "metadata": {
    "id": "hYuyEihTVkJu"
   },
   "outputs": [],
   "source": [
    "fig = plt.figure(figsize=(8, 8))\n",
    "ax = fig.gca()\n",
    "ax.axis('off')\n",
    "draw_neural_net(ax, [2, 2, 1], {0:w0, 1:w1}, {0:b0, 1:b1})"
   ]
  },
  {
   "cell_type": "markdown",
   "metadata": {
    "id": "7HYf2_JbzX4P"
   },
   "source": [
    "### Forward Pass Prediction\n",
    "\n",
    "Use the learned weights shown in the model diagram to fill in the intermediate values $h_1$ and $h_2$ and the final predictions $\\hat{y}$. Remember to use the right *activation* functions.\n",
    "\n",
    "$x_1$ | $x_2$ | $h_1$ | $h_2$ | $\\hat{y}$ | $y$\n",
    "-|-|-|-|-|-\n",
    "0|0|\n",
    "0|1|\n",
    "1|0|\n",
    "1|1|"
   ]
  },
  {
   "cell_type": "markdown",
   "metadata": {
    "id": "XmOlUNx4bcL9"
   },
   "source": [
    "### Decision Boundary\n",
    "\n",
    "Use the helper function to draw the decision boundary learned by the XOR model."
   ]
  },
  {
   "cell_type": "code",
   "execution_count": null,
   "metadata": {
    "id": "uKWGewOgacK_"
   },
   "outputs": [],
   "source": [
    "plot_decision_boundary(X, Y, xor_model, size=30)\n",
    "plt.show()"
   ]
  },
  {
   "cell_type": "markdown",
   "metadata": {
    "id": "2bd96NyEboqF"
   },
   "source": [
    "## The Spiral Problem"
   ]
  },
  {
   "cell_type": "code",
   "execution_count": null,
   "metadata": {
    "id": "JFP-qC9LbwJQ"
   },
   "outputs": [],
   "source": [
    "X, Y = generate_spiral_data(1000)\n",
    "plt.scatter(X[:,0], X[:,1], c=Y, cmap='bwr', s=3)\n",
    "plt.show()"
   ]
  },
  {
   "cell_type": "code",
   "execution_count": null,
   "metadata": {
    "id": "XxSGZnwfcgT-"
   },
   "outputs": [],
   "source": [
    "def build_spiral_model(hidden_layer_sizes=[], seed=0):\n",
    "  tf.keras.backend.clear_session()\n",
    "  tf.random.set_seed(seed)\n",
    "\n",
    "  model = tf.keras.Sequential()\n",
    "  model.add(tf.keras.Input(shape=(2,), name='Input'))\n",
    "  for hidden_layer_size in hidden_layer_sizes:\n",
    "    model.add(tf.keras.layers.Dense(units=hidden_layer_size,\n",
    "                                    activation='relu'))\n",
    "  model.add(tf.keras.layers.Dense(units=1, activation='sigmoid', name='Output'))\n",
    "  model.compile(loss='binary_crossentropy',\n",
    "                optimizer=tf.keras.optimizers.SGD(learning_rate=.03))\n",
    "  return model"
   ]
  },
  {
   "cell_type": "markdown",
   "metadata": {
    "id": "WgDJyzXAdyh0"
   },
   "source": [
    "### Neural Network Models"
   ]
  },
  {
   "cell_type": "code",
   "execution_count": null,
   "metadata": {
    "id": "VX1mjahxcuuX"
   },
   "outputs": [],
   "source": [
    "layer_sizes = [8, 8, 4, 4]\n",
    "spiral_model = build_spiral_model(hidden_layer_sizes=layer_sizes)\n",
    "print(spiral_model.summary())\n",
    "\n",
    "history = spiral_model.fit(\n",
    "    x=X, y=Y, epochs=100, batch_size=16, verbose=0)\n",
    "losses = history.history['loss']\n",
    "plt.plot(losses)\n",
    "plt.xlabel('Training Step')\n",
    "plt.ylabel('Cross-Entropy Loss')\n",
    "label = '{:.2f}'.format(losses[-1])\n",
    "plt.annotate(label, (len(losses), losses[-1]))\n",
    "plt.show()"
   ]
  },
  {
   "cell_type": "code",
   "execution_count": null,
   "metadata": {
    "id": "08zmwwQqd7LM"
   },
   "outputs": [],
   "source": [
    "weights_as_dict = {}\n",
    "biases_as_dict = {}\n",
    "for i in range(len(layer_sizes) + 1):\n",
    "  w, b = spiral_model.layers[i].get_weights()\n",
    "  weights_as_dict[i] = w\n",
    "  biases_as_dict[i] = b\n",
    "\n",
    "fig = plt.figure(figsize=(12, 12))\n",
    "ax = fig.gca()\n",
    "ax.axis('off')\n",
    "draw_neural_net(ax, [2]+layer_sizes+[1], weights_as_dict, biases_as_dict)"
   ]
  },
  {
   "cell_type": "markdown",
   "metadata": {
    "id": "GTfdPxgSd4II"
   },
   "source": [
    "### Decision Boundary"
   ]
  },
  {
   "cell_type": "code",
   "execution_count": null,
   "metadata": {
    "id": "zYVJ3xMFdP-9"
   },
   "outputs": [],
   "source": [
    "plot_decision_boundary(X, Y, spiral_model, size=3)\n",
    "plt.show()"
   ]
  }
 ],
 "metadata": {
  "colab": {
   "authorship_tag": "ABX9TyOi3V1i+beS2BzQ+KQUajQG",
   "name": "04 Neural Network Training (XOR, Spirals), Model Diagrams, Decision Boundaries.ipynb",
   "provenance": [],
   "toc_visible": true
  },
  "kernelspec": {
   "display_name": "Python 3 (ipykernel)",
   "language": "python",
   "name": "python3"
  },
  "language_info": {
   "codemirror_mode": {
    "name": "ipython",
    "version": 3
   },
   "file_extension": ".py",
   "mimetype": "text/x-python",
   "name": "python",
   "nbconvert_exporter": "python",
   "pygments_lexer": "ipython3",
   "version": "3.9.13"
  }
 },
 "nbformat": 4,
 "nbformat_minor": 4
}
