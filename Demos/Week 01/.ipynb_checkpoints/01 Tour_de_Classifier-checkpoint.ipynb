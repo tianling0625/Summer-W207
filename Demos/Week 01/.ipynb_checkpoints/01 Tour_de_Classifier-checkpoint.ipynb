{
 "cells": [
  {
   "cell_type": "code",
   "execution_count": 2,
   "metadata": {},
   "outputs": [],
   "source": [
    "import pandas\n",
    "import os\n",
    "import matplotlib.pyplot as plt\n",
    "import numpy as np\n",
    "from sklearn.naive_bayes import GaussianNB\n",
    "from sklearn.preprocessing import StandardScaler\n",
    "from sklearn import linear_model\n",
    "from sklearn import svm\n",
    "\n",
    "\n",
    "%matplotlib inline"
   ]
  },
  {
   "cell_type": "markdown",
   "metadata": {},
   "source": [
    "## read in the data and preliminary visualization"
   ]
  },
  {
   "cell_type": "code",
   "execution_count": 3,
   "metadata": {},
   "outputs": [],
   "source": [
    "df = pandas.read_csv(\"data/ex2data2.txt\", names=['x','y','label'], index_col=False)"
   ]
  },
  {
   "cell_type": "code",
   "execution_count": 31,
   "metadata": {},
   "outputs": [
    {
     "data": {
      "text/html": [
       "<div>\n",
       "<style scoped>\n",
       "    .dataframe tbody tr th:only-of-type {\n",
       "        vertical-align: middle;\n",
       "    }\n",
       "\n",
       "    .dataframe tbody tr th {\n",
       "        vertical-align: top;\n",
       "    }\n",
       "\n",
       "    .dataframe thead th {\n",
       "        text-align: right;\n",
       "    }\n",
       "</style>\n",
       "<table border=\"1\" class=\"dataframe\">\n",
       "  <thead>\n",
       "    <tr style=\"text-align: right;\">\n",
       "      <th></th>\n",
       "      <th>x</th>\n",
       "      <th>y</th>\n",
       "      <th>label</th>\n",
       "    </tr>\n",
       "  </thead>\n",
       "  <tbody>\n",
       "    <tr>\n",
       "      <th>0</th>\n",
       "      <td>0.051267</td>\n",
       "      <td>0.69956</td>\n",
       "      <td>1</td>\n",
       "    </tr>\n",
       "    <tr>\n",
       "      <th>1</th>\n",
       "      <td>-0.092742</td>\n",
       "      <td>0.68494</td>\n",
       "      <td>1</td>\n",
       "    </tr>\n",
       "    <tr>\n",
       "      <th>2</th>\n",
       "      <td>-0.213710</td>\n",
       "      <td>0.69225</td>\n",
       "      <td>1</td>\n",
       "    </tr>\n",
       "    <tr>\n",
       "      <th>3</th>\n",
       "      <td>-0.375000</td>\n",
       "      <td>0.50219</td>\n",
       "      <td>1</td>\n",
       "    </tr>\n",
       "    <tr>\n",
       "      <th>4</th>\n",
       "      <td>-0.513250</td>\n",
       "      <td>0.46564</td>\n",
       "      <td>1</td>\n",
       "    </tr>\n",
       "  </tbody>\n",
       "</table>\n",
       "</div>"
      ],
      "text/plain": [
       "          x        y  label\n",
       "0  0.051267  0.69956      1\n",
       "1 -0.092742  0.68494      1\n",
       "2 -0.213710  0.69225      1\n",
       "3 -0.375000  0.50219      1\n",
       "4 -0.513250  0.46564      1"
      ]
     },
     "execution_count": 31,
     "metadata": {},
     "output_type": "execute_result"
    }
   ],
   "source": [
    "df.head()"
   ]
  },
  {
   "cell_type": "code",
   "execution_count": 4,
   "metadata": {},
   "outputs": [
    {
     "data": {
      "text/html": [
       "<div>\n",
       "<style scoped>\n",
       "    .dataframe tbody tr th:only-of-type {\n",
       "        vertical-align: middle;\n",
       "    }\n",
       "\n",
       "    .dataframe tbody tr th {\n",
       "        vertical-align: top;\n",
       "    }\n",
       "\n",
       "    .dataframe thead th {\n",
       "        text-align: right;\n",
       "    }\n",
       "</style>\n",
       "<table border=\"1\" class=\"dataframe\">\n",
       "  <thead>\n",
       "    <tr style=\"text-align: right;\">\n",
       "      <th></th>\n",
       "      <th>x</th>\n",
       "      <th>y</th>\n",
       "      <th>label</th>\n",
       "    </tr>\n",
       "  </thead>\n",
       "  <tbody>\n",
       "    <tr>\n",
       "      <th>113</th>\n",
       "      <td>-0.720620</td>\n",
       "      <td>0.538740</td>\n",
       "      <td>0</td>\n",
       "    </tr>\n",
       "    <tr>\n",
       "      <th>114</th>\n",
       "      <td>-0.593890</td>\n",
       "      <td>0.494880</td>\n",
       "      <td>0</td>\n",
       "    </tr>\n",
       "    <tr>\n",
       "      <th>115</th>\n",
       "      <td>-0.484450</td>\n",
       "      <td>0.999270</td>\n",
       "      <td>0</td>\n",
       "    </tr>\n",
       "    <tr>\n",
       "      <th>116</th>\n",
       "      <td>-0.006336</td>\n",
       "      <td>0.999270</td>\n",
       "      <td>0</td>\n",
       "    </tr>\n",
       "    <tr>\n",
       "      <th>117</th>\n",
       "      <td>0.632650</td>\n",
       "      <td>-0.030612</td>\n",
       "      <td>0</td>\n",
       "    </tr>\n",
       "  </tbody>\n",
       "</table>\n",
       "</div>"
      ],
      "text/plain": [
       "            x         y  label\n",
       "113 -0.720620  0.538740      0\n",
       "114 -0.593890  0.494880      0\n",
       "115 -0.484450  0.999270      0\n",
       "116 -0.006336  0.999270      0\n",
       "117  0.632650 -0.030612      0"
      ]
     },
     "execution_count": 4,
     "metadata": {},
     "output_type": "execute_result"
    }
   ],
   "source": [
    "df.tail()"
   ]
  },
  {
   "cell_type": "code",
   "execution_count": 5,
   "metadata": {},
   "outputs": [
    {
     "data": {
      "text/html": [
       "<div>\n",
       "<style scoped>\n",
       "    .dataframe tbody tr th:only-of-type {\n",
       "        vertical-align: middle;\n",
       "    }\n",
       "\n",
       "    .dataframe tbody tr th {\n",
       "        vertical-align: top;\n",
       "    }\n",
       "\n",
       "    .dataframe thead th {\n",
       "        text-align: right;\n",
       "    }\n",
       "</style>\n",
       "<table border=\"1\" class=\"dataframe\">\n",
       "  <thead>\n",
       "    <tr style=\"text-align: right;\">\n",
       "      <th></th>\n",
       "      <th>x</th>\n",
       "      <th>y</th>\n",
       "      <th>label</th>\n",
       "    </tr>\n",
       "  </thead>\n",
       "  <tbody>\n",
       "    <tr>\n",
       "      <th>count</th>\n",
       "      <td>118.000000</td>\n",
       "      <td>118.000000</td>\n",
       "      <td>118.000000</td>\n",
       "    </tr>\n",
       "    <tr>\n",
       "      <th>mean</th>\n",
       "      <td>0.054779</td>\n",
       "      <td>0.183102</td>\n",
       "      <td>0.491525</td>\n",
       "    </tr>\n",
       "    <tr>\n",
       "      <th>std</th>\n",
       "      <td>0.496654</td>\n",
       "      <td>0.519743</td>\n",
       "      <td>0.502060</td>\n",
       "    </tr>\n",
       "    <tr>\n",
       "      <th>min</th>\n",
       "      <td>-0.830070</td>\n",
       "      <td>-0.769740</td>\n",
       "      <td>0.000000</td>\n",
       "    </tr>\n",
       "    <tr>\n",
       "      <th>25%</th>\n",
       "      <td>-0.372120</td>\n",
       "      <td>-0.254385</td>\n",
       "      <td>0.000000</td>\n",
       "    </tr>\n",
       "    <tr>\n",
       "      <th>50%</th>\n",
       "      <td>-0.006336</td>\n",
       "      <td>0.213455</td>\n",
       "      <td>0.000000</td>\n",
       "    </tr>\n",
       "    <tr>\n",
       "      <th>75%</th>\n",
       "      <td>0.478970</td>\n",
       "      <td>0.646563</td>\n",
       "      <td>1.000000</td>\n",
       "    </tr>\n",
       "    <tr>\n",
       "      <th>max</th>\n",
       "      <td>1.070900</td>\n",
       "      <td>1.108900</td>\n",
       "      <td>1.000000</td>\n",
       "    </tr>\n",
       "  </tbody>\n",
       "</table>\n",
       "</div>"
      ],
      "text/plain": [
       "                x           y       label\n",
       "count  118.000000  118.000000  118.000000\n",
       "mean     0.054779    0.183102    0.491525\n",
       "std      0.496654    0.519743    0.502060\n",
       "min     -0.830070   -0.769740    0.000000\n",
       "25%     -0.372120   -0.254385    0.000000\n",
       "50%     -0.006336    0.213455    0.000000\n",
       "75%      0.478970    0.646563    1.000000\n",
       "max      1.070900    1.108900    1.000000"
      ]
     },
     "execution_count": 5,
     "metadata": {},
     "output_type": "execute_result"
    }
   ],
   "source": [
    "df.describe()"
   ]
  },
  {
   "cell_type": "code",
   "execution_count": 6,
   "metadata": {},
   "outputs": [
    {
     "data": {
      "text/plain": [
       "array([1, 0])"
      ]
     },
     "execution_count": 6,
     "metadata": {},
     "output_type": "execute_result"
    }
   ],
   "source": [
    "df.label.unique()"
   ]
  },
  {
   "cell_type": "code",
   "execution_count": 7,
   "metadata": {},
   "outputs": [
    {
     "data": {
      "text/plain": [
       "0    60\n",
       "1    58\n",
       "Name: label, dtype: int64"
      ]
     },
     "execution_count": 7,
     "metadata": {},
     "output_type": "execute_result"
    }
   ],
   "source": [
    "df.label.value_counts()"
   ]
  },
  {
   "cell_type": "code",
   "execution_count": 8,
   "metadata": {},
   "outputs": [
    {
     "data": {
      "image/png": "[encoded data removed]",
      "text/plain": [
       "<Figure size 432x288 with 1 Axes>"
      ]
     },
     "metadata": {
      "needs_background": "light"
     },
     "output_type": "display_data"
    }
   ],
   "source": [
    "\n",
    "groups = df.groupby('label')\n",
    "\n",
    "# Plot\n",
    "fig, ax = plt.subplots()\n",
    "ax.margins(0.05) # Optional, just adds 5% padding to the autoscaling\n",
    "for name, group in groups:\n",
    "    ax.plot(group.x, group.y, marker='o', linestyle='', ms=6, label=name)\n",
    "ax.legend()\n",
    "\n",
    "plt.show()"
   ]
  },
  {
   "cell_type": "markdown",
   "metadata": {},
   "source": [
    "## train a classifier from scratch - Naive Bayes"
   ]
  },
  {
   "cell_type": "code",
   "execution_count": 9,
   "metadata": {},
   "outputs": [],
   "source": [
    "# get the data into arrays since that is what scikit expects\n",
    "feature_cols = ['x','y']\n",
    "\n",
    "X = df[feature_cols].values\n",
    "y = df['label'].values\n",
    "\n"
   ]
  },
  {
   "cell_type": "code",
   "execution_count": 10,
   "metadata": {},
   "outputs": [
    {
     "data": {
      "text/plain": [
       "(array([[ 0.051267 ,  0.69956  ],\n",
       "        [-0.092742 ,  0.68494  ],\n",
       "        [-0.21371  ,  0.69225  ],\n",
       "        [-0.375    ,  0.50219  ],\n",
       "        [-0.51325  ,  0.46564  ],\n",
       "        [-0.52477  ,  0.2098   ],\n",
       "        [-0.39804  ,  0.034357 ],\n",
       "        [-0.30588  , -0.19225  ],\n",
       "        [ 0.016705 , -0.40424  ],\n",
       "        [ 0.13191  , -0.51389  ],\n",
       "        [ 0.38537  , -0.56506  ],\n",
       "        [ 0.52938  , -0.5212   ],\n",
       "        [ 0.63882  , -0.24342  ],\n",
       "        [ 0.73675  , -0.18494  ],\n",
       "        [ 0.54666  ,  0.48757  ],\n",
       "        [ 0.322    ,  0.5826   ],\n",
       "        [ 0.16647  ,  0.53874  ],\n",
       "        [-0.046659 ,  0.81652  ],\n",
       "        [-0.17339  ,  0.69956  ],\n",
       "        [-0.47869  ,  0.63377  ],\n",
       "        [-0.60541  ,  0.59722  ],\n",
       "        [-0.62846  ,  0.33406  ],\n",
       "        [-0.59389  ,  0.005117 ],\n",
       "        [-0.42108  , -0.27266  ],\n",
       "        [-0.11578  , -0.39693  ],\n",
       "        [ 0.20104  , -0.60161  ],\n",
       "        [ 0.46601  , -0.53582  ],\n",
       "        [ 0.67339  , -0.53582  ],\n",
       "        [-0.13882  ,  0.54605  ],\n",
       "        [-0.29435  ,  0.77997  ],\n",
       "        [-0.26555  ,  0.96272  ],\n",
       "        [-0.16187  ,  0.8019   ],\n",
       "        [-0.17339  ,  0.64839  ],\n",
       "        [-0.28283  ,  0.47295  ],\n",
       "        [-0.36348  ,  0.31213  ],\n",
       "        [-0.30012  ,  0.027047 ],\n",
       "        [-0.23675  , -0.21418  ],\n",
       "        [-0.06394  , -0.18494  ],\n",
       "        [ 0.062788 , -0.16301  ],\n",
       "        [ 0.22984  , -0.41155  ],\n",
       "        [ 0.2932   , -0.2288   ],\n",
       "        [ 0.48329  , -0.18494  ],\n",
       "        [ 0.64459  , -0.14108  ],\n",
       "        [ 0.46025  ,  0.012427 ],\n",
       "        [ 0.6273   ,  0.15863  ],\n",
       "        [ 0.57546  ,  0.26827  ],\n",
       "        [ 0.72523  ,  0.44371  ],\n",
       "        [ 0.22408  ,  0.52412  ],\n",
       "        [ 0.44297  ,  0.67032  ],\n",
       "        [ 0.322    ,  0.69225  ],\n",
       "        [ 0.13767  ,  0.57529  ],\n",
       "        [-0.0063364,  0.39985  ],\n",
       "        [-0.092742 ,  0.55336  ],\n",
       "        [-0.20795  ,  0.35599  ],\n",
       "        [-0.20795  ,  0.17325  ],\n",
       "        [-0.43836  ,  0.21711  ],\n",
       "        [-0.21947  , -0.016813 ],\n",
       "        [-0.13882  , -0.27266  ],\n",
       "        [ 0.18376  ,  0.93348  ],\n",
       "        [ 0.22408  ,  0.77997  ],\n",
       "        [ 0.29896  ,  0.61915  ],\n",
       "        [ 0.50634  ,  0.75804  ],\n",
       "        [ 0.61578  ,  0.7288   ],\n",
       "        [ 0.60426  ,  0.59722  ],\n",
       "        [ 0.76555  ,  0.50219  ],\n",
       "        [ 0.92684  ,  0.3633   ],\n",
       "        [ 0.82316  ,  0.27558  ],\n",
       "        [ 0.96141  ,  0.085526 ],\n",
       "        [ 0.93836  ,  0.012427 ],\n",
       "        [ 0.86348  , -0.082602 ],\n",
       "        [ 0.89804  , -0.20687  ],\n",
       "        [ 0.85196  , -0.36769  ],\n",
       "        [ 0.82892  , -0.5212   ],\n",
       "        [ 0.79435  , -0.55775  ],\n",
       "        [ 0.59274  , -0.7405   ],\n",
       "        [ 0.51786  , -0.5943   ],\n",
       "        [ 0.46601  , -0.41886  ],\n",
       "        [ 0.35081  , -0.57968  ],\n",
       "        [ 0.28744  , -0.76974  ],\n",
       "        [ 0.085829 , -0.75512  ],\n",
       "        [ 0.14919  , -0.57968  ],\n",
       "        [-0.13306  , -0.4481   ],\n",
       "        [-0.40956  , -0.41155  ],\n",
       "        [-0.39228  , -0.25804  ],\n",
       "        [-0.74366  , -0.25804  ],\n",
       "        [-0.69758  ,  0.041667 ],\n",
       "        [-0.75518  ,  0.2902   ],\n",
       "        [-0.69758  ,  0.68494  ],\n",
       "        [-0.4038   ,  0.70687  ],\n",
       "        [-0.38076  ,  0.91886  ],\n",
       "        [-0.50749  ,  0.90424  ],\n",
       "        [-0.54781  ,  0.70687  ],\n",
       "        [ 0.10311  ,  0.77997  ],\n",
       "        [ 0.057028 ,  0.91886  ],\n",
       "        [-0.10426  ,  0.99196  ],\n",
       "        [-0.081221 ,  1.1089   ],\n",
       "        [ 0.28744  ,  1.087    ],\n",
       "        [ 0.39689  ,  0.82383  ],\n",
       "        [ 0.63882  ,  0.88962  ],\n",
       "        [ 0.82316  ,  0.66301  ],\n",
       "        [ 0.67339  ,  0.64108  ],\n",
       "        [ 1.0709   ,  0.10015  ],\n",
       "        [-0.046659 , -0.57968  ],\n",
       "        [-0.23675  , -0.63816  ],\n",
       "        [-0.15035  , -0.36769  ],\n",
       "        [-0.49021  , -0.3019   ],\n",
       "        [-0.46717  , -0.13377  ],\n",
       "        [-0.28859  , -0.060673 ],\n",
       "        [-0.61118  , -0.067982 ],\n",
       "        [-0.66302  , -0.21418  ],\n",
       "        [-0.59965  , -0.41886  ],\n",
       "        [-0.72638  , -0.082602 ],\n",
       "        [-0.83007  ,  0.31213  ],\n",
       "        [-0.72062  ,  0.53874  ],\n",
       "        [-0.59389  ,  0.49488  ],\n",
       "        [-0.48445  ,  0.99927  ],\n",
       "        [-0.0063364,  0.99927  ],\n",
       "        [ 0.63265  , -0.030612 ]]),\n",
       " array([1, 1, 1, 1, 1, 1, 1, 1, 1, 1, 1, 1, 1, 1, 1, 1, 1, 1, 1, 1, 1, 1,\n",
       "        1, 1, 1, 1, 1, 1, 1, 1, 1, 1, 1, 1, 1, 1, 1, 1, 1, 1, 1, 1, 1, 1,\n",
       "        1, 1, 1, 1, 1, 1, 1, 1, 1, 1, 1, 1, 1, 1, 0, 0, 0, 0, 0, 0, 0, 0,\n",
       "        0, 0, 0, 0, 0, 0, 0, 0, 0, 0, 0, 0, 0, 0, 0, 0, 0, 0, 0, 0, 0, 0,\n",
       "        0, 0, 0, 0, 0, 0, 0, 0, 0, 0, 0, 0, 0, 0, 0, 0, 0, 0, 0, 0, 0, 0,\n",
       "        0, 0, 0, 0, 0, 0, 0, 0]))"
      ]
     },
     "execution_count": 10,
     "metadata": {},
     "output_type": "execute_result"
    }
   ],
   "source": [
    "X, y"
   ]
  },
  {
   "cell_type": "code",
   "execution_count": 11,
   "metadata": {},
   "outputs": [
    {
     "data": {
      "text/plain": [
       "GaussianNB()"
      ]
     },
     "execution_count": 11,
     "metadata": {},
     "output_type": "execute_result"
    }
   ],
   "source": [
    "# train a classifier\n",
    "classifier = GaussianNB() # step 1\n",
    "trained_classifier = classifier.fit(X,y)  # step 2 \n",
    "trained_classifier\n"
   ]
  },
  {
   "cell_type": "code",
   "execution_count": 12,
   "metadata": {
    "scrolled": true
   },
   "outputs": [
    {
     "data": {
      "text/plain": [
       "array([1, 1, 1, 1, 1, 1, 1, 1, 1, 1, 0, 0, 0, 0, 0, 1, 1, 1, 1, 1, 0, 0,\n",
       "       1, 1, 1, 0, 0, 0, 1, 1, 0, 1, 1, 1, 1, 1, 1, 1, 1, 1, 1, 0, 0, 1,\n",
       "       0, 0, 0, 1, 0, 1, 1, 1, 1, 1, 1, 1, 1, 1, 0, 1, 1, 0, 0, 0, 0, 0,\n",
       "       0, 0, 0, 0, 0, 0, 0, 0, 0, 0, 0, 0, 0, 0, 0, 1, 1, 1, 0, 0, 0, 0,\n",
       "       1, 0, 0, 0, 1, 1, 0, 0, 0, 0, 0, 0, 0, 0, 1, 0, 1, 1, 1, 1, 0, 0,\n",
       "       0, 0, 0, 0, 0, 0, 0, 0])"
      ]
     },
     "execution_count": 12,
     "metadata": {},
     "output_type": "execute_result"
    }
   ],
   "source": [
    "# make some predictions\n",
    "y_predict = trained_classifier.predict(X) # step 3 \n",
    "\n",
    "y_predict\n"
   ]
  },
  {
   "cell_type": "code",
   "execution_count": 13,
   "metadata": {
    "scrolled": true
   },
   "outputs": [
    {
     "data": {
      "text/html": [
       "<div>\n",
       "<style scoped>\n",
       "    .dataframe tbody tr th:only-of-type {\n",
       "        vertical-align: middle;\n",
       "    }\n",
       "\n",
       "    .dataframe tbody tr th {\n",
       "        vertical-align: top;\n",
       "    }\n",
       "\n",
       "    .dataframe thead th {\n",
       "        text-align: right;\n",
       "    }\n",
       "</style>\n",
       "<table border=\"1\" class=\"dataframe\">\n",
       "  <thead>\n",
       "    <tr style=\"text-align: right;\">\n",
       "      <th></th>\n",
       "      <th>x</th>\n",
       "      <th>y</th>\n",
       "      <th>label</th>\n",
       "      <th>predict</th>\n",
       "    </tr>\n",
       "  </thead>\n",
       "  <tbody>\n",
       "    <tr>\n",
       "      <th>0</th>\n",
       "      <td>0.051267</td>\n",
       "      <td>0.699560</td>\n",
       "      <td>1</td>\n",
       "      <td>1</td>\n",
       "    </tr>\n",
       "    <tr>\n",
       "      <th>1</th>\n",
       "      <td>-0.092742</td>\n",
       "      <td>0.684940</td>\n",
       "      <td>1</td>\n",
       "      <td>1</td>\n",
       "    </tr>\n",
       "    <tr>\n",
       "      <th>2</th>\n",
       "      <td>-0.213710</td>\n",
       "      <td>0.692250</td>\n",
       "      <td>1</td>\n",
       "      <td>1</td>\n",
       "    </tr>\n",
       "    <tr>\n",
       "      <th>3</th>\n",
       "      <td>-0.375000</td>\n",
       "      <td>0.502190</td>\n",
       "      <td>1</td>\n",
       "      <td>1</td>\n",
       "    </tr>\n",
       "    <tr>\n",
       "      <th>4</th>\n",
       "      <td>-0.513250</td>\n",
       "      <td>0.465640</td>\n",
       "      <td>1</td>\n",
       "      <td>1</td>\n",
       "    </tr>\n",
       "    <tr>\n",
       "      <th>...</th>\n",
       "      <td>...</td>\n",
       "      <td>...</td>\n",
       "      <td>...</td>\n",
       "      <td>...</td>\n",
       "    </tr>\n",
       "    <tr>\n",
       "      <th>113</th>\n",
       "      <td>-0.720620</td>\n",
       "      <td>0.538740</td>\n",
       "      <td>0</td>\n",
       "      <td>0</td>\n",
       "    </tr>\n",
       "    <tr>\n",
       "      <th>114</th>\n",
       "      <td>-0.593890</td>\n",
       "      <td>0.494880</td>\n",
       "      <td>0</td>\n",
       "      <td>0</td>\n",
       "    </tr>\n",
       "    <tr>\n",
       "      <th>115</th>\n",
       "      <td>-0.484450</td>\n",
       "      <td>0.999270</td>\n",
       "      <td>0</td>\n",
       "      <td>0</td>\n",
       "    </tr>\n",
       "    <tr>\n",
       "      <th>116</th>\n",
       "      <td>-0.006336</td>\n",
       "      <td>0.999270</td>\n",
       "      <td>0</td>\n",
       "      <td>0</td>\n",
       "    </tr>\n",
       "    <tr>\n",
       "      <th>117</th>\n",
       "      <td>0.632650</td>\n",
       "      <td>-0.030612</td>\n",
       "      <td>0</td>\n",
       "      <td>0</td>\n",
       "    </tr>\n",
       "  </tbody>\n",
       "</table>\n",
       "<p>118 rows × 4 columns</p>\n",
       "</div>"
      ],
      "text/plain": [
       "            x         y  label  predict\n",
       "0    0.051267  0.699560      1        1\n",
       "1   -0.092742  0.684940      1        1\n",
       "2   -0.213710  0.692250      1        1\n",
       "3   -0.375000  0.502190      1        1\n",
       "4   -0.513250  0.465640      1        1\n",
       "..        ...       ...    ...      ...\n",
       "113 -0.720620  0.538740      0        0\n",
       "114 -0.593890  0.494880      0        0\n",
       "115 -0.484450  0.999270      0        0\n",
       "116 -0.006336  0.999270      0        0\n",
       "117  0.632650 -0.030612      0        0\n",
       "\n",
       "[118 rows x 4 columns]"
      ]
     },
     "execution_count": 13,
     "metadata": {},
     "output_type": "execute_result"
    }
   ],
   "source": [
    "df['predict'] = y_predict\n",
    "df\n"
   ]
  },
  {
   "cell_type": "code",
   "execution_count": 14,
   "metadata": {},
   "outputs": [
    {
     "name": "stdout",
     "output_type": "stream",
     "text": [
      "Number of mislabeled points out of a total 118 points : 30\n"
     ]
    }
   ],
   "source": [
    "# see how good we did?\n",
    "print(\"Number of mislabeled points out of a total %d points : %d\"\n",
    "      % (len(y),sum(y != y_predict)))\n",
    "\n",
    "\n"
   ]
  },
  {
   "cell_type": "code",
   "execution_count": 15,
   "metadata": {
    "scrolled": true
   },
   "outputs": [
    {
     "data": {
      "image/png": "[encoded data removed]",
      "text/plain": [
       "<Figure size 432x288 with 1 Axes>"
      ]
     },
     "metadata": {
      "needs_background": "light"
     },
     "output_type": "display_data"
    }
   ],
   "source": [
    "# can we figure out which ones didnt match prediction\n",
    "\n",
    "groups = df.groupby('label')\n",
    "\n",
    "# Plot\n",
    "fig, ax = plt.subplots()\n",
    "ax.margins(0.05) # Optional, just adds 5% padding to the autoscaling\n",
    "for name, group in groups:\n",
    "    ax.plot(group.x, group.y, marker='o', linestyle='', ms=6, label=name)\n",
    "ax.legend()\n",
    "\n",
    "bad_filter = df.label != df.predict\n",
    "df_bad = df[bad_filter]\n",
    "ax.plot(df_bad.x, df_bad.y, \"ro\", ms=12, mew=.75, markerfacecolor=\"None\", markeredgecolor='red', linestyle='')\n",
    "\n",
    "plt.show()\n",
    "\n"
   ]
  },
  {
   "cell_type": "markdown",
   "metadata": {},
   "source": [
    "## define some helper routines"
   ]
  },
  {
   "cell_type": "code",
   "execution_count": 16,
   "metadata": {},
   "outputs": [],
   "source": [
    "def training_data_from_dataframe(df, feature_cols, label_col='label'):\n",
    "    X = df[feature_cols].values\n",
    "    y = df[label_col].values\n",
    "    \n",
    "    return X,y"
   ]
  },
  {
   "cell_type": "code",
   "execution_count": 17,
   "metadata": {},
   "outputs": [],
   "source": [
    "def scale_features(X):\n",
    "\n",
    "    scaler = StandardScaler()\n",
    "    scaler.fit(X)  # Don't cheat - fit only on training data\n",
    "    return scaler.transform(X)\n",
    "\n",
    "def scaled_data_from_dataframe(df, feature_cols, label_col='label'):\n",
    "    X,y = training_data_from_dataframe(df, feature_cols, label_col)\n",
    "    X_scaled = scale_features(X)\n",
    "    return X_scaled, y"
   ]
  },
  {
   "cell_type": "code",
   "execution_count": 18,
   "metadata": {},
   "outputs": [],
   "source": [
    "def train_classifer(classifier, df, feature_cols, label_col='label'):\n",
    "    X,y = training_data_from_dataframe(df, feature_cols)\n",
    "    trained_classifier = classifier.fit(X,y) \n",
    "    return trained_classifier"
   ]
  },
  {
   "cell_type": "code",
   "execution_count": 19,
   "metadata": {},
   "outputs": [],
   "source": [
    "def classifier_predict(trained_classifer, df, feature_cols, label_col='label'):\n",
    "    X,y = training_data_from_dataframe(df, feature_cols)\n",
    "    y_predict = trained_classifier.predict(X)\n",
    "    df['predict'] = y_predict\n",
    "    accuracy = 1. * sum(y == y_predict) / len(y)\n",
    "    return accuracy\n",
    "    "
   ]
  },
  {
   "cell_type": "code",
   "execution_count": 20,
   "metadata": {},
   "outputs": [],
   "source": [
    "def classifier_decision_boundary(trained_classifier, df, feature_cols):\n",
    "    f_range = list()\n",
    "    for ff in feature_cols:\n",
    "        f_min = df[ff].min()\n",
    "        f_max = df[ff].max()\n",
    "        f_step = (f_max - f_min) / 100.\n",
    "        f_range.append( (f_min, f_max, f_step) )\n",
    "        \n",
    "    xx, yy = np.mgrid[f_range[0][0]:f_range[0][1]:f_range[0][2], f_range[1][0]:f_range[1][1]:f_range[1][2]]\n",
    "    grid = np.c_[xx.ravel(), yy.ravel()]\n",
    "    probs = trained_classifier.predict_proba(grid)[:, 1].reshape(xx.shape)  \n",
    "    return(xx,yy,probs)"
   ]
  },
  {
   "cell_type": "code",
   "execution_count": 21,
   "metadata": {
    "scrolled": true
   },
   "outputs": [],
   "source": [
    "def plot_predict(df, trained_classifier=None, feature_cols=None):\n",
    "       \n",
    "    fig, ax = plt.subplots()\n",
    "    ax.margins(0.05) # Optional, just adds 5% padding to the autoscaling\n",
    "    \n",
    "    groups = df.groupby('label')\n",
    "    for name, group in groups:\n",
    "        ax.plot(group.x, group.y, marker='o', linestyle='', ms=6, label=name)\n",
    "        \n",
    "    bad_filter = df.label != df.predict\n",
    "    df_bad = df[bad_filter]\n",
    "    ax.plot(df_bad.x, df_bad.y, \"ro\", ms=12, mew=.75, markerfacecolor=\"None\", markeredgecolor='red', linestyle='')\n",
    "\n",
    "    if trained_classifier is not None:\n",
    "        try:\n",
    "            (xx,yy,probs) = classifier_decision_boundary(trained_classifier, df, feature_cols)\n",
    "            ax.contour(xx, yy, probs, levels=[.5], cmap=\"Greys\", vmin=0, vmax=1)\n",
    "        except:\n",
    "            pass\n",
    "    ax.legend()\n",
    "\n",
    "\n",
    "#fig = plot_predict(df, trained_classifier, feature_cols)\n"
   ]
  },
  {
   "cell_type": "markdown",
   "metadata": {},
   "source": [
    "## naive bayes\n",
    "\n",
    "Naive Bayes methods are a set of supervised learning algorithms based on applying Bayes’ theorem with the “naive” assumption of conditional independence between every pair of features given the value of the class variable."
   ]
  },
  {
   "cell_type": "code",
   "execution_count": 22,
   "metadata": {},
   "outputs": [
    {
     "name": "stdout",
     "output_type": "stream",
     "text": [
      "Number of mislabeled points out of a total 118 points : 30\n"
     ]
    }
   ],
   "source": [
    "feature_cols = ['x','y']\n",
    "X,y = training_data_from_dataframe(df, feature_cols)\n",
    "\n",
    "classifier = GaussianNB()\n",
    "trained_classifier = classifier.fit(X,y)\n",
    "y_predict = trained_classifier.predict(X)\n",
    "df['predict'] = y_predict\n",
    "\n",
    "print(\"Number of mislabeled points out of a total %d points : %d\"\n",
    "      % (len(y),sum(y != y_predict)))\n",
    "\n"
   ]
  },
  {
   "cell_type": "code",
   "execution_count": 23,
   "metadata": {},
   "outputs": [
    {
     "name": "stdout",
     "output_type": "stream",
     "text": [
      "training accuracy =  0.7457627118644068\n"
     ]
    },
    {
     "data": {
      "image/png": "[encoded data removed]",
      "text/plain": [
       "<Figure size 432x288 with 1 Axes>"
      ]
     },
     "metadata": {
      "needs_background": "light"
     },
     "output_type": "display_data"
    }
   ],
   "source": [
    "# visiualize training error\n",
    "print (\"training accuracy = \", classifier_predict(trained_classifier, df, feature_cols))\n",
    "plot_predict(df, trained_classifier, feature_cols)"
   ]
  },
  {
   "cell_type": "markdown",
   "metadata": {},
   "source": [
    "## logistic regression\n",
    "\n",
    "Logistic regression, despite its name, is a linear model for classification rather than regression. \n",
    "\n",
    "Logistic regression is also known in the literature as logit regression, maximum-entropy classification (MaxEnt) or the log-linear classifier. \n",
    "\n",
    "In this model, the probabilities describing the possible outcomes of a single trial are modeled using a logistic function."
   ]
  },
  {
   "cell_type": "code",
   "execution_count": 24,
   "metadata": {
    "scrolled": true
   },
   "outputs": [
    {
     "name": "stdout",
     "output_type": "stream",
     "text": [
      "training accuracy =  0.5423728813559322\n"
     ]
    },
    {
     "data": {
      "image/png": "[encoded data removed]",
      "text/plain": [
       "<Figure size 432x288 with 1 Axes>"
      ]
     },
     "metadata": {
      "needs_background": "light"
     },
     "output_type": "display_data"
    }
   ],
   "source": [
    "feature_cols = ['x','y']\n",
    "\n",
    "classifier = linear_model.LogisticRegression()\n",
    "trained_classifier = train_classifer(classifier, df, feature_cols)\n",
    "print (\"training accuracy = \", classifier_predict(trained_classifier, df, feature_cols))\n",
    "plot_predict(df, trained_classifier, feature_cols)"
   ]
  },
  {
   "cell_type": "markdown",
   "metadata": {},
   "source": [
    "## support vector machines (SVM)\n",
    "\n",
    "The advantages of support vector machines are:\n",
    "\n",
    "- Effective in high dimensional spaces.\n",
    "\n",
    "- Still effective in cases where number of dimensions is greater than the number of samples.\n",
    "\n",
    "- Uses a subset of training points in the decision function (called support vectors), so it is also memory efficient.\n",
    "\n",
    "- Versatile: different Kernel functions can be specified for the decision function. Common kernels are provided, but it is also possible to specify custom kernels."
   ]
  },
  {
   "cell_type": "code",
   "execution_count": 25,
   "metadata": {},
   "outputs": [
    {
     "name": "stdout",
     "output_type": "stream",
     "text": [
      "0.5508474576271186\n"
     ]
    },
    {
     "data": {
      "image/png": "[encoded data removed]",
      "text/plain": [
       "<Figure size 432x288 with 1 Axes>"
      ]
     },
     "metadata": {
      "needs_background": "light"
     },
     "output_type": "display_data"
    }
   ],
   "source": [
    "#linear SVM\n",
    "feature_cols = ['x','y']\n",
    "\n",
    "classifier = svm.SVC(kernel='linear', probability=True)\n",
    "trained_classifier = train_classifer(classifier, df, feature_cols)\n",
    "print (classifier_predict(trained_classifier, df, feature_cols))\n",
    "plot_predict(df, trained_classifier, feature_cols)"
   ]
  },
  {
   "cell_type": "code",
   "execution_count": 26,
   "metadata": {
    "scrolled": true
   },
   "outputs": [
    {
     "name": "stdout",
     "output_type": "stream",
     "text": [
      "0.6610169491525424\n"
     ]
    },
    {
     "data": {
      "image/png": "[encoded data removed]",
      "text/plain": [
       "<Figure size 432x288 with 1 Axes>"
      ]
     },
     "metadata": {
      "needs_background": "light"
     },
     "output_type": "display_data"
    }
   ],
   "source": [
    "#polynomial SVM\n",
    "feature_cols = ['x','y']\n",
    "\n",
    "classifier = svm.SVC(kernel='poly', probability=True)\n",
    "trained_classifier = train_classifer(classifier, df, feature_cols)\n",
    "print (classifier_predict(trained_classifier, df, feature_cols))\n",
    "plot_predict(df, trained_classifier, feature_cols)"
   ]
  },
  {
   "cell_type": "code",
   "execution_count": 27,
   "metadata": {},
   "outputs": [
    {
     "name": "stdout",
     "output_type": "stream",
     "text": [
      "0.847457627118644\n"
     ]
    },
    {
     "data": {
      "image/png": "[encoded data removed]",
      "text/plain": [
       "<Figure size 432x288 with 1 Axes>"
      ]
     },
     "metadata": {
      "needs_background": "light"
     },
     "output_type": "display_data"
    }
   ],
   "source": [
    "# rbf kernel for SVM\n",
    "feature_cols = ['x','y']\n",
    "\n",
    "classifier = svm.SVC(kernel='rbf', probability=True)\n",
    "trained_classifier = train_classifer(classifier, df, feature_cols)\n",
    "print (classifier_predict(trained_classifier, df, feature_cols))\n",
    "plot_predict(df, trained_classifier, feature_cols)"
   ]
  },
  {
   "cell_type": "markdown",
   "metadata": {},
   "source": [
    "## stochastic gradient descent (SGD)\n",
    "\n",
    "Linear classifiers (SVM, logistic regression, a.o.) with SGD training.\n",
    "\n"
   ]
  },
  {
   "cell_type": "code",
   "execution_count": 28,
   "metadata": {},
   "outputs": [
    {
     "name": "stdout",
     "output_type": "stream",
     "text": [
      "0.5084745762711864\n"
     ]
    },
    {
     "data": {
      "image/png": "[encoded data removed]",
      "text/plain": [
       "<Figure size 432x288 with 1 Axes>"
      ]
     },
     "metadata": {
      "needs_background": "light"
     },
     "output_type": "display_data"
    }
   ],
   "source": [
    "classifier = linear_model.SGDClassifier() # loss='hinge',  penalty=\"l2\")\n",
    "\n",
    "trained_classifier = train_classifer(classifier, df, feature_cols)\n",
    "print (classifier_predict(trained_classifier, df, feature_cols))\n",
    "plot_predict(df, trained_classifier, feature_cols)"
   ]
  },
  {
   "cell_type": "markdown",
   "metadata": {},
   "source": [
    "## perceptron\n",
    "\n",
    "Perceptron is a classification algorithm which shares the same underlying implementation with SGDClassifier. \n",
    "\n",
    "In fact, Perceptron() is equivalent to SGDClassifier(loss=\"perceptron\", eta0=1, learning_rate=\"constant\", penalty=None)."
   ]
  },
  {
   "cell_type": "code",
   "execution_count": 29,
   "metadata": {
    "scrolled": true
   },
   "outputs": [
    {
     "name": "stdout",
     "output_type": "stream",
     "text": [
      "0.5084745762711864\n"
     ]
    },
    {
     "data": {
      "image/png": "[encoded data removed]",
      "text/plain": [
       "<Figure size 432x288 with 1 Axes>"
      ]
     },
     "metadata": {
      "needs_background": "light"
     },
     "output_type": "display_data"
    }
   ],
   "source": [
    "classifier = linear_model.Perceptron()\n",
    "trained_classifier = train_classifer(classifier, df, feature_cols)\n",
    "print (classifier_predict(trained_classifier, df, feature_cols))\n",
    "plot_predict(df, trained_classifier, feature_cols)\n"
   ]
  },
  {
   "cell_type": "code",
   "execution_count": null,
   "metadata": {},
   "outputs": [],
   "source": []
  },
  {
   "cell_type": "code",
   "execution_count": null,
   "metadata": {},
   "outputs": [],
   "source": []
  }
 ],
 "metadata": {
  "kernelspec": {
   "display_name": "Python 3 (ipykernel)",
   "language": "python",
   "name": "python3"
  },
  "language_info": {
   "codemirror_mode": {
    "name": "ipython",
    "version": 3
   },
   "file_extension": ".py",
   "mimetype": "text/x-python",
   "name": "python",
   "nbconvert_exporter": "python",
   "pygments_lexer": "ipython3",
   "version": "3.9.7"
  }
 },
 "nbformat": 4,
 "nbformat_minor": 1
}
