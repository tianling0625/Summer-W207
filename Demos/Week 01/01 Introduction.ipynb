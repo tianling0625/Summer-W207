{
 "cells": [
  {
   "cell_type": "markdown",
   "metadata": {
    "id": "yfHnUrrxivlx"
   },
   "source": [
    "# Colab Setup\n",
    "\n",
    "This notebook gives a brief introduction to Colab and some of the libraries we'll use in the Machine Learning course. "
   ]
  },
  {
   "cell_type": "markdown",
   "metadata": {
    "id": "iVhYJkaXoEbV"
   },
   "source": [
    "## Using Colab\n",
    "\n",
    "A Colab is a list of *cells*. Each cell is either a text cell (like this one) or a code cell (like the one below). To run code cells, you must be connected to a runtime server. Click *Connect* in the toolbar (top-right). Then, to run the cell below:\n",
    "* Click the **Play icon** in the left gutter of the cell\n",
    "* Type **Cmd/Ctrl+Enter** to run the cell in place\n",
    "* Type **Shift+Enter** to run the cell and move focus to the next cell (adding one if none exists)\n",
    "\n",
    "Check out more keyboard shortcuts in **Tools->Keyboard shortcuts**."
   ]
  },
  {
   "cell_type": "code",
   "execution_count": null,
   "metadata": {
    "id": "Y6MzJPOCPMl1"
   },
   "outputs": [
    {
     "name": "stdout",
     "output_type": "stream",
     "text": [
      "Hello World\n",
      "7\n",
      "22\n"
     ]
    }
   ],
   "source": [
    "# Print Hello World.\n",
    "print(\"Hello World\")\n",
    "\n",
    "# Do some basic computation.\n",
    "x = 5\n",
    "y = x + 2\n",
    "print(y)\n",
    "\n",
    "# Define a Python function.\n",
    "def add_two(x):\n",
    "  return x+2\n",
    "print(add_two(20))"
   ]
  },
  {
   "cell_type": "markdown",
   "metadata": {
    "id": "SEdrm1KSEYyq"
   },
   "source": [
    "### Warning: Global Variables!\n",
    "\n",
    "In Colab, all the variables are global: once created, they are accessible from any code cell. However, you should make sure that your whole Colab executes properly from top to bottom. It's a good idea to use **Runtime -> Restart runtime** and then **Runtime -> Run all** to make sure everything works as intended, especially before you submit."
   ]
  },
  {
   "cell_type": "markdown",
   "metadata": {
    "id": "sA1JF3kjQute"
   },
   "source": [
    "# Brief Tour of Python Libraries\n",
    "\n",
    "Here, we'll briefly introduce the most important libraries used in this course."
   ]
  },
  {
   "cell_type": "markdown",
   "metadata": {
    "id": "cnX_B6_ARRD0"
   },
   "source": [
    "## Numpy\n",
    "\n",
    "Numpy is a scientific computing library with lots of tools, but at its core is the idea of an n-dimensional array. We will mostly use numpy to create and manipulate arrays. Note that a 1-D array is called a *vector*, a 2-D array is called a *matrix*, and n-D arrays are sometimes referred to as *tensors* (thus, *TensorFlow*, but more on that later).\n",
    "\n",
    "Try running the code below and make sure you understand what it's doing. See the [Numpy Quickstart Guide](https://numpy.org/doc/stable/user/quickstart.html) for more."
   ]
  },
  {
   "cell_type": "code",
   "execution_count": 2,
   "metadata": {
    "id": "PHgsV2P_VeV6"
   },
   "outputs": [
    {
     "name": "stdout",
     "output_type": "stream",
     "text": [
      "Here is x:\n",
      " [ 0  1  2  3  4  5  6  7  8  9 10 11 12 13 14]\n",
      "Shape of x: (15,)\n",
      "Here is y:\n",
      " [[ 0  1  2  3  4]\n",
      " [ 5  6  7  8  9]\n",
      " [10 11 12 13 14]]\n",
      "Shape of y: (3, 5)\n",
      "Here is the first row of y:\n",
      " [0 1 2 3 4]\n",
      "Here is the first column of y:\n",
      " [ 0  5 10]\n"
     ]
    }
   ],
   "source": [
    "import numpy as np\n",
    "\n",
    "# Create a new 1-D array with 15 integers.\n",
    "x = np.arange(0,15)\n",
    "print('Here is x:\\n', x)\n",
    "print('Shape of x:', x.shape)\n",
    "\n",
    "# Resize the array to 3 rows by 5 columns (3x5).\n",
    "y = x.reshape(3,5)\n",
    "print('Here is y:\\n', y)\n",
    "print('Shape of y:', y.shape)\n",
    "\n",
    "# Use array slicing to get a single row or a single column.\n",
    "print('Here is the first row of y:\\n', y[0,:])\n",
    "print('Here is the first column of y:\\n', y[:,0])"
   ]
  },
  {
   "cell_type": "markdown",
   "metadata": {
    "id": "hB7iMrurYdJN"
   },
   "source": [
    "## Matplotlib\n",
    "\n",
    "This is the plotting library we'll use for all kinds of data visualization. It's both powerful and confusing. Honestly, I never remember how to do anything with it, and rely on Google to find documentation (or better yet, examples) of what I want.\n",
    "\n",
    "In addition, the Seaborn library often makes the standard matplotlib output much nicer, and includes some fancy visualization tools that we'll use from time to time.\n",
    "\n",
    "Finally, you should familiarize yourself with reading the documentation pages for library functions like [np.random.uniform](https://numpy.org/doc/stable/reference/random/generated/numpy.random.uniform.html) and [matplotlib.pyplot.plot](https://matplotlib.org/stable/api/_as_gen/matplotlib.pyplot.plot.html)."
   ]
  },
  {
   "cell_type": "code",
   "execution_count": 3,
   "metadata": {
    "id": "ARwA4uAMWzHS"
   },
   "outputs": [
    {
     "data": {
      "image/png": "[encoded data removed]",
      "text/plain": [
       "<Figure size 432x288 with 1 Axes>"
      ]
     },
     "metadata": {},
     "output_type": "display_data"
    }
   ],
   "source": [
    "from matplotlib import pyplot as plt\n",
    "import seaborn as sns  # for nicer plots\n",
    "sns.set(style=\"darkgrid\")  # default style\n",
    "\n",
    "# Generate 100 x values.\n",
    "X = np.arange(0, 100)\n",
    "\n",
    "# Random values in [-10,10] with the same shape as X.\n",
    "noise = np.random.uniform(-10, 10, len(X))\n",
    "\n",
    "# Generate 100 y values with a linear relationship to x (plus the noise).\n",
    "Y = 0.25 * X + 5.0 + noise\n",
    "\n",
    "# Use the plot function to create a scatter plot.\n",
    "plt.plot(X, Y,\n",
    "         marker='.', linestyle='', color='blue', markersize=6)\n",
    "\n",
    "# Add axis labels and a title.\n",
    "plt.xlabel('X value')\n",
    "plt.ylabel('Y value')\n",
    "plt.title(\"Scatter of X vs Y\")\n",
    "plt.show()"
   ]
  },
  {
   "cell_type": "markdown",
   "metadata": {
    "id": "JFQoX3kU42R-"
   },
   "source": [
    "## Pandas\n",
    "\n",
    "Pandas is widely used for handling ML datasets and is well integrated with Numpy, Matplotlib, and TensorFlow. A Pandas *dataframe* object is a wrapper around a table (like a numpy array) with labeled columns. It's easiest to look at an example."
   ]
  },
  {
   "cell_type": "code",
   "execution_count": 4,
   "metadata": {
    "id": "qhNtoEXKzSnB"
   },
   "outputs": [
    {
     "data": {
      "text/html": [
       "<div>\n",
       "<style scoped>\n",
       "    .dataframe tbody tr th:only-of-type {\n",
       "        vertical-align: middle;\n",
       "    }\n",
       "\n",
       "    .dataframe tbody tr th {\n",
       "        vertical-align: top;\n",
       "    }\n",
       "\n",
       "    .dataframe thead th {\n",
       "        text-align: right;\n",
       "    }\n",
       "</style>\n",
       "<table border=\"1\" class=\"dataframe\">\n",
       "  <thead>\n",
       "    <tr style=\"text-align: right;\">\n",
       "      <th></th>\n",
       "      <th>longitude</th>\n",
       "      <th>latitude</th>\n",
       "      <th>housing_median_age</th>\n",
       "      <th>total_rooms</th>\n",
       "      <th>total_bedrooms</th>\n",
       "      <th>population</th>\n",
       "      <th>households</th>\n",
       "      <th>median_income</th>\n",
       "      <th>median_house_value</th>\n",
       "    </tr>\n",
       "  </thead>\n",
       "  <tbody>\n",
       "    <tr>\n",
       "      <th>0</th>\n",
       "      <td>-114.31</td>\n",
       "      <td>34.19</td>\n",
       "      <td>15.0</td>\n",
       "      <td>5612.0</td>\n",
       "      <td>1283.0</td>\n",
       "      <td>1015.0</td>\n",
       "      <td>472.0</td>\n",
       "      <td>1.4936</td>\n",
       "      <td>66900.0</td>\n",
       "    </tr>\n",
       "    <tr>\n",
       "      <th>1</th>\n",
       "      <td>-114.47</td>\n",
       "      <td>34.40</td>\n",
       "      <td>19.0</td>\n",
       "      <td>7650.0</td>\n",
       "      <td>1901.0</td>\n",
       "      <td>1129.0</td>\n",
       "      <td>463.0</td>\n",
       "      <td>1.8200</td>\n",
       "      <td>80100.0</td>\n",
       "    </tr>\n",
       "    <tr>\n",
       "      <th>2</th>\n",
       "      <td>-114.56</td>\n",
       "      <td>33.69</td>\n",
       "      <td>17.0</td>\n",
       "      <td>720.0</td>\n",
       "      <td>174.0</td>\n",
       "      <td>333.0</td>\n",
       "      <td>117.0</td>\n",
       "      <td>1.6509</td>\n",
       "      <td>85700.0</td>\n",
       "    </tr>\n",
       "    <tr>\n",
       "      <th>3</th>\n",
       "      <td>-114.57</td>\n",
       "      <td>33.64</td>\n",
       "      <td>14.0</td>\n",
       "      <td>1501.0</td>\n",
       "      <td>337.0</td>\n",
       "      <td>515.0</td>\n",
       "      <td>226.0</td>\n",
       "      <td>3.1917</td>\n",
       "      <td>73400.0</td>\n",
       "    </tr>\n",
       "    <tr>\n",
       "      <th>4</th>\n",
       "      <td>-114.57</td>\n",
       "      <td>33.57</td>\n",
       "      <td>20.0</td>\n",
       "      <td>1454.0</td>\n",
       "      <td>326.0</td>\n",
       "      <td>624.0</td>\n",
       "      <td>262.0</td>\n",
       "      <td>1.9250</td>\n",
       "      <td>65500.0</td>\n",
       "    </tr>\n",
       "  </tbody>\n",
       "</table>\n",
       "</div>"
      ],
      "text/plain": [
       "   longitude  latitude  housing_median_age  total_rooms  total_bedrooms  \\\n",
       "0    -114.31     34.19                15.0       5612.0          1283.0   \n",
       "1    -114.47     34.40                19.0       7650.0          1901.0   \n",
       "2    -114.56     33.69                17.0        720.0           174.0   \n",
       "3    -114.57     33.64                14.0       1501.0           337.0   \n",
       "4    -114.57     33.57                20.0       1454.0           326.0   \n",
       "\n",
       "   population  households  median_income  median_house_value  \n",
       "0      1015.0       472.0         1.4936             66900.0  \n",
       "1      1129.0       463.0         1.8200             80100.0  \n",
       "2       333.0       117.0         1.6509             85700.0  \n",
       "3       515.0       226.0         3.1917             73400.0  \n",
       "4       624.0       262.0         1.9250             65500.0  "
      ]
     },
     "metadata": {},
     "output_type": "display_data"
    },
    {
     "data": {
      "text/html": [
       "<div>\n",
       "<style scoped>\n",
       "    .dataframe tbody tr th:only-of-type {\n",
       "        vertical-align: middle;\n",
       "    }\n",
       "\n",
       "    .dataframe tbody tr th {\n",
       "        vertical-align: top;\n",
       "    }\n",
       "\n",
       "    .dataframe thead th {\n",
       "        text-align: right;\n",
       "    }\n",
       "</style>\n",
       "<table border=\"1\" class=\"dataframe\">\n",
       "  <thead>\n",
       "    <tr style=\"text-align: right;\">\n",
       "      <th></th>\n",
       "      <th>longitude</th>\n",
       "      <th>latitude</th>\n",
       "      <th>housing_median_age</th>\n",
       "      <th>total_rooms</th>\n",
       "      <th>total_bedrooms</th>\n",
       "      <th>population</th>\n",
       "      <th>households</th>\n",
       "      <th>median_income</th>\n",
       "      <th>median_house_value</th>\n",
       "    </tr>\n",
       "  </thead>\n",
       "  <tbody>\n",
       "    <tr>\n",
       "      <th>count</th>\n",
       "      <td>17000.000000</td>\n",
       "      <td>17000.000000</td>\n",
       "      <td>17000.000000</td>\n",
       "      <td>17000.000000</td>\n",
       "      <td>17000.000000</td>\n",
       "      <td>17000.000000</td>\n",
       "      <td>17000.000000</td>\n",
       "      <td>17000.000000</td>\n",
       "      <td>17000.000000</td>\n",
       "    </tr>\n",
       "    <tr>\n",
       "      <th>mean</th>\n",
       "      <td>-119.562108</td>\n",
       "      <td>35.625225</td>\n",
       "      <td>28.589353</td>\n",
       "      <td>2643.664412</td>\n",
       "      <td>539.410824</td>\n",
       "      <td>1429.573941</td>\n",
       "      <td>501.221941</td>\n",
       "      <td>3.883578</td>\n",
       "      <td>207300.912353</td>\n",
       "    </tr>\n",
       "    <tr>\n",
       "      <th>std</th>\n",
       "      <td>2.005166</td>\n",
       "      <td>2.137340</td>\n",
       "      <td>12.586937</td>\n",
       "      <td>2179.947071</td>\n",
       "      <td>421.499452</td>\n",
       "      <td>1147.852959</td>\n",
       "      <td>384.520841</td>\n",
       "      <td>1.908157</td>\n",
       "      <td>115983.764387</td>\n",
       "    </tr>\n",
       "    <tr>\n",
       "      <th>min</th>\n",
       "      <td>-124.350000</td>\n",
       "      <td>32.540000</td>\n",
       "      <td>1.000000</td>\n",
       "      <td>2.000000</td>\n",
       "      <td>1.000000</td>\n",
       "      <td>3.000000</td>\n",
       "      <td>1.000000</td>\n",
       "      <td>0.499900</td>\n",
       "      <td>14999.000000</td>\n",
       "    </tr>\n",
       "    <tr>\n",
       "      <th>25%</th>\n",
       "      <td>-121.790000</td>\n",
       "      <td>33.930000</td>\n",
       "      <td>18.000000</td>\n",
       "      <td>1462.000000</td>\n",
       "      <td>297.000000</td>\n",
       "      <td>790.000000</td>\n",
       "      <td>282.000000</td>\n",
       "      <td>2.566375</td>\n",
       "      <td>119400.000000</td>\n",
       "    </tr>\n",
       "    <tr>\n",
       "      <th>50%</th>\n",
       "      <td>-118.490000</td>\n",
       "      <td>34.250000</td>\n",
       "      <td>29.000000</td>\n",
       "      <td>2127.000000</td>\n",
       "      <td>434.000000</td>\n",
       "      <td>1167.000000</td>\n",
       "      <td>409.000000</td>\n",
       "      <td>3.544600</td>\n",
       "      <td>180400.000000</td>\n",
       "    </tr>\n",
       "    <tr>\n",
       "      <th>75%</th>\n",
       "      <td>-118.000000</td>\n",
       "      <td>37.720000</td>\n",
       "      <td>37.000000</td>\n",
       "      <td>3151.250000</td>\n",
       "      <td>648.250000</td>\n",
       "      <td>1721.000000</td>\n",
       "      <td>605.250000</td>\n",
       "      <td>4.767000</td>\n",
       "      <td>265000.000000</td>\n",
       "    </tr>\n",
       "    <tr>\n",
       "      <th>max</th>\n",
       "      <td>-114.310000</td>\n",
       "      <td>41.950000</td>\n",
       "      <td>52.000000</td>\n",
       "      <td>37937.000000</td>\n",
       "      <td>6445.000000</td>\n",
       "      <td>35682.000000</td>\n",
       "      <td>6082.000000</td>\n",
       "      <td>15.000100</td>\n",
       "      <td>500001.000000</td>\n",
       "    </tr>\n",
       "  </tbody>\n",
       "</table>\n",
       "</div>"
      ],
      "text/plain": [
       "          longitude      latitude  housing_median_age   total_rooms  \\\n",
       "count  17000.000000  17000.000000        17000.000000  17000.000000   \n",
       "mean    -119.562108     35.625225           28.589353   2643.664412   \n",
       "std        2.005166      2.137340           12.586937   2179.947071   \n",
       "min     -124.350000     32.540000            1.000000      2.000000   \n",
       "25%     -121.790000     33.930000           18.000000   1462.000000   \n",
       "50%     -118.490000     34.250000           29.000000   2127.000000   \n",
       "75%     -118.000000     37.720000           37.000000   3151.250000   \n",
       "max     -114.310000     41.950000           52.000000  37937.000000   \n",
       "\n",
       "       total_bedrooms    population    households  median_income  \\\n",
       "count    17000.000000  17000.000000  17000.000000   17000.000000   \n",
       "mean       539.410824   1429.573941    501.221941       3.883578   \n",
       "std        421.499452   1147.852959    384.520841       1.908157   \n",
       "min          1.000000      3.000000      1.000000       0.499900   \n",
       "25%        297.000000    790.000000    282.000000       2.566375   \n",
       "50%        434.000000   1167.000000    409.000000       3.544600   \n",
       "75%        648.250000   1721.000000    605.250000       4.767000   \n",
       "max       6445.000000  35682.000000   6082.000000      15.000100   \n",
       "\n",
       "       median_house_value  \n",
       "count        17000.000000  \n",
       "mean        207300.912353  \n",
       "std         115983.764387  \n",
       "min          14999.000000  \n",
       "25%         119400.000000  \n",
       "50%         180400.000000  \n",
       "75%         265000.000000  \n",
       "max         500001.000000  "
      ]
     },
     "metadata": {},
     "output_type": "display_data"
    },
    {
     "data": {
      "image/png": "[encoded data removed]",
      "text/plain": [
       "<Figure size 432x288 with 1 Axes>"
      ]
     },
     "metadata": {},
     "output_type": "display_data"
    }
   ],
   "source": [
    "import pandas as pd\n",
    "\n",
    "# Load the 1990s California Housing dataset as a Pandas dataframe.\n",
    "# For details, see https://developers.google.com/machine-learning/crash-course/california-housing-data-description.\n",
    "# Note that each example (row) in this dataset describes a neighborhood.\n",
    "ca_housing_df = pd.read_csv('https://download.mlcc.google.com/mledu-datasets/california_housing_train.csv')\n",
    "\n",
    "# Show the first few rows.\n",
    "# The display function is is not standard Python, but is useful in Colab to\n",
    "# print some objects that have their own rendering code (like a dataframe).\n",
    "# You can try replacing display() with print() to see the difference.\n",
    "display(ca_housing_df.head())\n",
    "\n",
    "# Show summary statistics for the data.\n",
    "display(ca_housing_df.describe())\n",
    "\n",
    "# Plot a histogram of the median house values.\n",
    "plt.hist(ca_housing_df['median_house_value'], bins=50)\n",
    "plt.title('CA Housing Data (1990s) Median House Value')\n",
    "plt.show()"
   ]
  },
  {
   "cell_type": "markdown",
   "metadata": {
    "id": "YQR5Op0X8cvG"
   },
   "source": [
    "## TensorFlow and Keras\n",
    "\n",
    "Finally, we'll be using TensorFlow to train ML models. TensorFlow is a large and complex library, including many constantly evolving functions and APIs (Keras is one set of convenient APIs inside TensorFlow). This means you'll want to learn how to use the documentation and the high-level ideas that guide its design.\n",
    "\n",
    "The trickiest thing to understand about TensorFlow is primary way in which it differs from standard programming. In a typical program, each line of code is executed sequentially. In TensorFlow, by contrast, you first define a computation graph. The graph specifies how data flows from input to output. However, no computation actually happens until data is passed into the graph and execution begins.\n",
    "\n",
    "Here's a simple example. Don't worry about understanding the ML details. In a few weeks, you'll understand everything in the code below."
   ]
  },
  {
   "cell_type": "code",
   "execution_count": 5,
   "metadata": {
    "id": "KPoiK0sr_Rj1"
   },
   "outputs": [
    {
     "name": "stderr",
     "output_type": "stream",
     "text": [
      "2022-05-11 18:05:01.346155: W tensorflow/stream_executor/platform/default/dso_loader.cc:64] Could not load dynamic library 'libcudart.so.11.0'; dlerror: libcudart.so.11.0: cannot open shared object file: No such file or directory\n",
      "2022-05-11 18:05:01.346189: I tensorflow/stream_executor/cuda/cudart_stub.cc:29] Ignore above cudart dlerror if you do not have a GPU set up on your machine.\n",
      "2022-05-11 18:05:03.197723: W tensorflow/stream_executor/platform/default/dso_loader.cc:64] Could not load dynamic library 'libcuda.so.1'; dlerror: libcuda.so.1: cannot open shared object file: No such file or directory\n",
      "2022-05-11 18:05:03.197804: W tensorflow/stream_executor/cuda/cuda_driver.cc:269] failed call to cuInit: UNKNOWN ERROR (303)\n",
      "2022-05-11 18:05:03.197831: I tensorflow/stream_executor/cuda/cuda_diagnostics.cc:156] kernel driver does not appear to be running on this host (jupyter-twang0): /proc/driver/nvidia/version does not exist\n",
      "2022-05-11 18:05:03.198394: I tensorflow/core/platform/cpu_feature_guard.cc:142] This TensorFlow binary is optimized with oneAPI Deep Neural Network Library (oneDNN) to use the following CPU instructions in performance-critical operations:  AVX2 FMA\n",
      "To enable them in other operations, rebuild TensorFlow with the appropriate compiler flags.\n",
      "2022-05-11 18:05:03.306847: I tensorflow/compiler/mlir/mlir_graph_optimization_pass.cc:185] None of the MLIR Optimization Passes are enabled (registered 2)\n"
     ]
    },
    {
     "name": "stdout",
     "output_type": "stream",
     "text": [
      "Epoch 1/5\n",
      "957/957 [==============================] - 2s 1ms/step - loss: 4.8156 - val_loss: 0.7856\n",
      "Epoch 2/5\n",
      "957/957 [==============================] - 1s 1ms/step - loss: 0.7491 - val_loss: 0.7236\n",
      "Epoch 3/5\n",
      "957/957 [==============================] - 1s 1ms/step - loss: 0.6842 - val_loss: 0.6461\n",
      "Epoch 4/5\n",
      "957/957 [==============================] - 1s 1ms/step - loss: 0.6315 - val_loss: 0.5955\n",
      "Epoch 5/5\n",
      "957/957 [==============================] - 1s 1ms/step - loss: 0.5970 - val_loss: 0.5677\n"
     ]
    },
    {
     "data": {
      "image/png": "[encoded data removed]",
      "text/plain": [
       "<Figure size 432x288 with 1 Axes>"
      ]
     },
     "metadata": {},
     "output_type": "display_data"
    }
   ],
   "source": [
    "import tensorflow as tf\n",
    "from tensorflow import keras\n",
    "\n",
    "# Column names to use as input features.\n",
    "features = ['housing_median_age', 'total_rooms', 'total_bedrooms',\n",
    "            'population', 'households', 'median_income']\n",
    "\n",
    "# Apply log transforms to input features and output values.\n",
    "X = np.log(ca_housing_df[features])\n",
    "Y = np.log(ca_housing_df['median_house_value'])\n",
    "\n",
    "def build_model(num_features):\n",
    "  \"\"\"Return a simple linear regression model using the Keras Sequential API.\"\"\"\n",
    "  # Clear session and set a random seed for consistent behavior.\n",
    "  tf.keras.backend.clear_session()\n",
    "  tf.random.set_seed(0)\n",
    "\n",
    "  # Use Keras Sequential API to build a linear regression model.\n",
    "  model = keras.Sequential()\n",
    "  model.add(keras.layers.Dense(\n",
    "      input_shape=[num_features], # each input has num_features features\n",
    "      units=1,                    # there is a single output\n",
    "      use_bias=True               # include a learned bias parameter\n",
    "      ))\n",
    "  \n",
    "  # Use mean absolute error as our loss and the Adam optimizer.\n",
    "  model.compile(loss='mae', optimizer='Adam')\n",
    "  return model\n",
    "\n",
    "# Build a model and train it. Hold out 10% of data for validation.\n",
    "model = build_model(num_features=len(features))\n",
    "model.fit(x=X, y=Y,\n",
    "          validation_split=0.1, batch_size=16, epochs=5)\n",
    "\n",
    "# Use the model to predict the training labels.\n",
    "Y_pred = model.predict(x=X).flatten()\n",
    "\n",
    "# Compute training data errors by converting back from the log scale.\n",
    "error = np.exp(Y) - np.exp(Y_pred)\n",
    "mean_error = error.mean()\n",
    "\n",
    "# Plot an error histogram.\n",
    "plt.hist(error, bins=20, range=(-1e6, 1e6), alpha=0.6)\n",
    "\n",
    "# Also show the average error explicitly in the same plot.\n",
    "plt.axvline(mean_error, color='k', linestyle='dashed', linewidth=1)\n",
    "min_ylim, max_ylim = plt.ylim()\n",
    "plt.text(mean_error, max_ylim*0.9, 'Mean: {:.2f}'.format(mean_error))\n",
    "plt.show()"
   ]
  },
  {
   "cell_type": "markdown",
   "metadata": {
    "id": "MviuWVAu-S-T"
   },
   "source": [
    "## Exercise 1: Plot histograms\n",
    "After reading over the code above, plot a [histogram](https://en.wikipedia.org/wiki/Histogram) of the population values in the California Housing dataset, using 100 bins. Also plot a second histogram of the log of the population values."
   ]
  },
  {
   "cell_type": "markdown",
   "metadata": {
    "id": "1RShD7FG-d1E"
   },
   "source": [
    "### Student Solution"
   ]
  },
  {
   "cell_type": "code",
   "execution_count": 6,
   "metadata": {
    "id": "Te86PLFF-5JX"
   },
   "outputs": [],
   "source": [
    "# YOUR CODE HERE"
   ]
  },
  {
   "cell_type": "markdown",
   "metadata": {
    "id": "AiFEKgwE-5vj"
   },
   "source": [
    "WRITE YOUR ANSWER HERE"
   ]
  },
  {
   "cell_type": "markdown",
   "metadata": {
    "id": "YN7zJcc1AS4I"
   },
   "source": [
    "### Answer Key"
   ]
  },
  {
   "cell_type": "code",
   "execution_count": 8,
   "metadata": {
    "id": "Y1s37HTw_j2E"
   },
   "outputs": [
    {
     "data": {
      "image/png": "[encoded data removed]",
      "text/plain": [
       "<Figure size 432x288 with 1 Axes>"
      ]
     },
     "metadata": {},
     "output_type": "display_data"
    },
    {
     "data": {
      "image/png": "[encoded data removed]",
      "text/plain": [
       "<Figure size 432x288 with 1 Axes>"
      ]
     },
     "metadata": {},
     "output_type": "display_data"
    }
   ],
   "source": [
    "plt.hist(ca_housing_df['population'], bins=100)\n",
    "plt.show()\n",
    "plt.hist(np.log(ca_housing_df['population']), bins=100)\n",
    "plt.show()"
   ]
  }
 ],
 "metadata": {
  "colab": {
   "authorship_tag": "ABX9TyMVA8wkMfmiS7YXmrgI+HcP",
   "name": "01 Introduction.ipynb",
   "provenance": [],
   "toc_visible": true
  },
  "kernelspec": {
   "display_name": "Python 3 (ipykernel)",
   "language": "python",
   "name": "python3"
  },
  "language_info": {
   "codemirror_mode": {
    "name": "ipython",
    "version": 3
   },
   "file_extension": ".py",
   "mimetype": "text/x-python",
   "name": "python",
   "nbconvert_exporter": "python",
   "pygments_lexer": "ipython3",
   "version": "3.9.12"
  }
 },
 "nbformat": 4,
 "nbformat_minor": 4
}
