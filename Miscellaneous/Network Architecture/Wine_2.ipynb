{
 "cells": [
  {
   "cell_type": "code",
   "execution_count": 1,
   "id": "242a342b-4590-49b6-a07b-a4e515a9613b",
   "metadata": {},
   "outputs": [],
   "source": [
    "import numpy as np\n",
    "import pandas as pd\n",
    "import matplotlib.pyplot as plt\n",
    "%matplotlib inline"
   ]
  },
  {
   "cell_type": "code",
   "execution_count": 2,
   "id": "8f3b7939-3d0f-4a79-8b7f-e2d592822278",
   "metadata": {},
   "outputs": [
    {
     "data": {
      "text/html": [
       "<div>\n",
       "<style scoped>\n",
       "    .dataframe tbody tr th:only-of-type {\n",
       "        vertical-align: middle;\n",
       "    }\n",
       "\n",
       "    .dataframe tbody tr th {\n",
       "        vertical-align: top;\n",
       "    }\n",
       "\n",
       "    .dataframe thead th {\n",
       "        text-align: right;\n",
       "    }\n",
       "</style>\n",
       "<table border=\"1\" class=\"dataframe\">\n",
       "  <thead>\n",
       "    <tr style=\"text-align: right;\">\n",
       "      <th></th>\n",
       "      <th>alcohol</th>\n",
       "      <th>malic_acid</th>\n",
       "      <th>ash</th>\n",
       "      <th>alcalinity_of_ash</th>\n",
       "      <th>magnesium</th>\n",
       "      <th>total_phenols</th>\n",
       "      <th>flavanoids</th>\n",
       "      <th>nonflavanoid_phenols</th>\n",
       "      <th>proanthocyanins</th>\n",
       "      <th>color_intensity</th>\n",
       "      <th>hue</th>\n",
       "      <th>od280/od315_of_diluted_wines</th>\n",
       "      <th>proline</th>\n",
       "      <th>Type</th>\n",
       "    </tr>\n",
       "  </thead>\n",
       "  <tbody>\n",
       "    <tr>\n",
       "      <th>0</th>\n",
       "      <td>14.23</td>\n",
       "      <td>1.71</td>\n",
       "      <td>2.43</td>\n",
       "      <td>15.6</td>\n",
       "      <td>127.0</td>\n",
       "      <td>2.80</td>\n",
       "      <td>3.06</td>\n",
       "      <td>0.28</td>\n",
       "      <td>2.29</td>\n",
       "      <td>5.64</td>\n",
       "      <td>1.04</td>\n",
       "      <td>3.92</td>\n",
       "      <td>1065.0</td>\n",
       "      <td>0</td>\n",
       "    </tr>\n",
       "    <tr>\n",
       "      <th>1</th>\n",
       "      <td>13.20</td>\n",
       "      <td>1.78</td>\n",
       "      <td>2.14</td>\n",
       "      <td>11.2</td>\n",
       "      <td>100.0</td>\n",
       "      <td>2.65</td>\n",
       "      <td>2.76</td>\n",
       "      <td>0.26</td>\n",
       "      <td>1.28</td>\n",
       "      <td>4.38</td>\n",
       "      <td>1.05</td>\n",
       "      <td>3.40</td>\n",
       "      <td>1050.0</td>\n",
       "      <td>0</td>\n",
       "    </tr>\n",
       "    <tr>\n",
       "      <th>2</th>\n",
       "      <td>13.16</td>\n",
       "      <td>2.36</td>\n",
       "      <td>2.67</td>\n",
       "      <td>18.6</td>\n",
       "      <td>101.0</td>\n",
       "      <td>2.80</td>\n",
       "      <td>3.24</td>\n",
       "      <td>0.30</td>\n",
       "      <td>2.81</td>\n",
       "      <td>5.68</td>\n",
       "      <td>1.03</td>\n",
       "      <td>3.17</td>\n",
       "      <td>1185.0</td>\n",
       "      <td>0</td>\n",
       "    </tr>\n",
       "    <tr>\n",
       "      <th>3</th>\n",
       "      <td>14.37</td>\n",
       "      <td>1.95</td>\n",
       "      <td>2.50</td>\n",
       "      <td>16.8</td>\n",
       "      <td>113.0</td>\n",
       "      <td>3.85</td>\n",
       "      <td>3.49</td>\n",
       "      <td>0.24</td>\n",
       "      <td>2.18</td>\n",
       "      <td>7.80</td>\n",
       "      <td>0.86</td>\n",
       "      <td>3.45</td>\n",
       "      <td>1480.0</td>\n",
       "      <td>0</td>\n",
       "    </tr>\n",
       "    <tr>\n",
       "      <th>4</th>\n",
       "      <td>13.24</td>\n",
       "      <td>2.59</td>\n",
       "      <td>2.87</td>\n",
       "      <td>21.0</td>\n",
       "      <td>118.0</td>\n",
       "      <td>2.80</td>\n",
       "      <td>2.69</td>\n",
       "      <td>0.39</td>\n",
       "      <td>1.82</td>\n",
       "      <td>4.32</td>\n",
       "      <td>1.04</td>\n",
       "      <td>2.93</td>\n",
       "      <td>735.0</td>\n",
       "      <td>0</td>\n",
       "    </tr>\n",
       "  </tbody>\n",
       "</table>\n",
       "</div>"
      ],
      "text/plain": [
       "   alcohol  malic_acid   ash  alcalinity_of_ash  magnesium  total_phenols  \\\n",
       "0    14.23        1.71  2.43               15.6      127.0           2.80   \n",
       "1    13.20        1.78  2.14               11.2      100.0           2.65   \n",
       "2    13.16        2.36  2.67               18.6      101.0           2.80   \n",
       "3    14.37        1.95  2.50               16.8      113.0           3.85   \n",
       "4    13.24        2.59  2.87               21.0      118.0           2.80   \n",
       "\n",
       "   flavanoids  nonflavanoid_phenols  proanthocyanins  color_intensity   hue  \\\n",
       "0        3.06                  0.28             2.29             5.64  1.04   \n",
       "1        2.76                  0.26             1.28             4.38  1.05   \n",
       "2        3.24                  0.30             2.81             5.68  1.03   \n",
       "3        3.49                  0.24             2.18             7.80  0.86   \n",
       "4        2.69                  0.39             1.82             4.32  1.04   \n",
       "\n",
       "   od280/od315_of_diluted_wines  proline  Type  \n",
       "0                          3.92   1065.0     0  \n",
       "1                          3.40   1050.0     0  \n",
       "2                          3.17   1185.0     0  \n",
       "3                          3.45   1480.0     0  \n",
       "4                          2.93    735.0     0  "
      ]
     },
     "execution_count": 2,
     "metadata": {},
     "output_type": "execute_result"
    }
   ],
   "source": [
    "#Importing Dataset\n",
    "#To demonstrate various clustering algorithms in python, the Wine dataset will be used which has three classes in the dependent variable and using this dataset clusters will be formed.\n",
    "\n",
    "from sklearn import datasets\n",
    "wine = datasets.load_wine()\n",
    "wine_data = pd.DataFrame(wine.data)\n",
    "wine_data.columns = wine.feature_names\n",
    "wine_data['Type']=wine.target\n",
    "wine_data.head()"
   ]
  },
  {
   "cell_type": "code",
   "execution_count": 3,
   "id": "11baab08-ecbb-4ee0-9251-b623088445d4",
   "metadata": {},
   "outputs": [],
   "source": [
    "#Preparing Data\n",
    "#Here we have the target variable ‘Type’. We need to remove the target variable so that this dataset can be used to work in an unsupervised learning environment. The iloc function is used to get the features we require. We also use .values function to get an array of the dataset.\n",
    "#(Note that we transformed the dataset to an array so that we can plot the graphs of the clusters).\n",
    "\n",
    "wine_X = wine_data.iloc[:, [0, 1, 2, 3, 4, 5, 6, 7, 8, 9, 10, 11, 12]].values"
   ]
  },
  {
   "cell_type": "code",
   "execution_count": 4,
   "id": "5aebf64f-25c5-4261-8849-fac02bead287",
   "metadata": {},
   "outputs": [],
   "source": [
    "\n",
    "# Now we will separate the target variable from the original dataset and again convert it to an array by using numpy.\n",
    "\n",
    "wine_Y = wine_data['Type']\n",
    "wine_Y = np.array(wine_Y)"
   ]
  },
  {
   "cell_type": "code",
   "execution_count": 5,
   "id": "d6cb107d-059a-4a40-81b6-b3e147f1b284",
   "metadata": {},
   "outputs": [
    {
     "data": {
      "text/plain": [
       "<matplotlib.legend.Legend at 0x13d1c2910>"
      ]
     },
     "execution_count": 5,
     "metadata": {},
     "output_type": "execute_result"
    },
    {
     "data": {
      "image/png": "[encoded data removed]",
      "text/plain": [
       "<Figure size 432x288 with 1 Axes>"
      ]
     },
     "metadata": {
      "needs_background": "light"
     },
     "output_type": "display_data"
    }
   ],
   "source": [
    "#Wine dataset clustering plot\n",
    "# Visualise Classes\n",
    "#In this Wine dataset, we have three classes. We visualise these classes in a 2-D graph.\n",
    "\n",
    "plt.scatter(wine_X[wine_Y == 0, 0], wine_X[wine_Y == 0, 12], s = 80, c = 'orange', label = 'Type 0')\n",
    "plt.scatter(wine_X[wine_Y == 1, 0], wine_X[wine_Y == 1, 12], s = 80, c = 'yellow', label = 'Type 1')\n",
    "plt.scatter(wine_X[wine_Y == 2, 0], wine_X[wine_Y == 2, 12], s = 80, c = 'green', label = 'Type 2')\n",
    "\n",
    "plt.title(\"Wine Dataset Plot\")\n",
    "plt.legend()"
   ]
  },
  {
   "cell_type": "code",
   "execution_count": 6,
   "id": "f15d3c0b-ca8e-4ea0-9a22-6f3a57744773",
   "metadata": {},
   "outputs": [],
   "source": [
    "# Wine dataset for KMeans\n",
    "\n",
    "'''Kmeans is a kind of Unsupervised type of Clustering . It basically takes input from Dataset and predicts the clusters \n",
    "accordinly'''\n",
    "\n",
    "from sklearn.cluster import KMeans"
   ]
  },
  {
   "cell_type": "code",
   "execution_count": 7,
   "id": "e6822235-8574-4f6a-94c2-0da703cd2da8",
   "metadata": {},
   "outputs": [],
   "source": [
    "\n",
    "# Calculating WCSS (within-cluster sums of squares) \n",
    "\n",
    "wcss=[]\n",
    "for i in range(1, 11):\n",
    "    kmeans = KMeans(n_clusters = i, init = 'k-means++', max_iter = 300, n_init = 10, random_state = 0)\n",
    "    kmeans.fit(wine_X)\n",
    "    wcss.append(kmeans.inertia_)"
   ]
  },
  {
   "cell_type": "code",
   "execution_count": 8,
   "id": "39de3ee1-5cc3-4d72-bd5f-285fd3f52a1f",
   "metadata": {},
   "outputs": [
    {
     "data": {
      "text/plain": [
       "Text(0, 0.5, 'WCSS')"
      ]
     },
     "execution_count": 8,
     "metadata": {},
     "output_type": "execute_result"
    },
    {
     "data": {
      "image/png": "[encoded data removed]",
      "text/plain": [
       "<Figure size 432x288 with 1 Axes>"
      ]
     },
     "metadata": {
      "needs_background": "light"
     },
     "output_type": "display_data"
    }
   ],
   "source": [
    "# Plot the WCSS\n",
    "'''Elbow-Method using WCSS: This is based on principle that while clustering performance as measured by WCSS increases (i.e. WCSS decreases) \n",
    "with increase in k, rate of increase is usually decreasing. So performance improvement for increasing number of cluster \n",
    "from, say, 3 to 4 is higher than that for increasing from 4 to 5. '''\n",
    "\n",
    "plt.plot(range(1, 11), wcss)\n",
    "plt.title('The elbow method')\n",
    "plt.xlabel('Number of clusters')\n",
    "plt.ylabel('WCSS')"
   ]
  },
  {
   "cell_type": "code",
   "execution_count": 9,
   "id": "4f1495a8-2862-4b26-b632-f0169eefadce",
   "metadata": {},
   "outputs": [
    {
     "data": {
      "text/plain": [
       "array([1, 1, 1, 3, 4, 3, 3, 3, 1, 1, 3, 3, 3, 1, 3, 3, 3, 1, 3, 4, 4, 4,\n",
       "       1, 1, 4, 4, 1, 3, 4, 1, 3, 3, 1, 3, 1, 4, 4, 1, 1, 4, 4, 1, 1, 0,\n",
       "       4, 1, 1, 1, 1, 3, 1, 3, 1, 3, 1, 1, 1, 3, 3, 2, 0, 2, 0, 2, 2, 0,\n",
       "       2, 2, 4, 0, 4, 2, 2, 1, 4, 2, 2, 2, 4, 2, 2, 0, 0, 2, 2, 2, 2, 0,\n",
       "       0, 0, 2, 2, 2, 2, 2, 4, 0, 2, 0, 2, 0, 0, 2, 2, 0, 2, 2, 2, 2, 0,\n",
       "       0, 2, 0, 2, 2, 2, 2, 2, 2, 0, 0, 2, 2, 2, 2, 2, 2, 2, 2, 0, 0, 2,\n",
       "       0, 0, 0, 0, 0, 2, 0, 0, 0, 4, 2, 0, 4, 4, 2, 0, 0, 0, 2, 2, 2, 0,\n",
       "       0, 0, 2, 4, 0, 0, 2, 0, 0, 0, 0, 2, 0, 0, 4, 0, 2, 2, 0, 4, 4, 4,\n",
       "       4, 0], dtype=int32)"
      ]
     },
     "execution_count": 9,
     "metadata": {},
     "output_type": "execute_result"
    }
   ],
   "source": [
    "# Running K-Means Model\n",
    "\n",
    "cluster_Kmeans = KMeans(n_clusters=5)\n",
    "model_kmeans = cluster_Kmeans.fit(wine_X)\n",
    "pred_kmeans = model_kmeans.labels_\n",
    "pred_kmeans"
   ]
  },
  {
   "cell_type": "code",
   "execution_count": 10,
   "id": "22e6e5dd-f249-4faa-8a79-524bec6111d6",
   "metadata": {},
   "outputs": [
    {
     "data": {
      "text/plain": [
       "<matplotlib.legend.Legend at 0x13ff91340>"
      ]
     },
     "execution_count": 10,
     "metadata": {},
     "output_type": "execute_result"
    },
    {
     "data": {
      "image/png": "[encoded data removed]",
      "text/plain": [
       "<Figure size 432x288 with 1 Axes>"
      ]
     },
     "metadata": {
      "needs_background": "light"
     },
     "output_type": "display_data"
    }
   ],
   "source": [
    "# Visualizing Output\n",
    "# In the above output we got value labels: ‘0’, ‘1’  and ‘2’. For a better understanding, we can visualize these clusters.\n",
    "\n",
    "plt.scatter(wine_X[pred_kmeans == 0, 0], wine_X[pred_kmeans == 0, 12], s = 80, c = 'orange', label = 'Type 0')\n",
    "plt.scatter(wine_X[pred_kmeans == 1, 0], wine_X[pred_kmeans == 1, 12], s = 80, c = 'yellow', label = 'Type 1')\n",
    "plt.scatter(wine_X[pred_kmeans == 2, 0], wine_X[pred_kmeans == 2, 12], s = 80, c = 'green', label = 'Type 2')\n",
    "\n",
    "plt.title('Kmeans Clustering plot for Wine dataset')\n",
    "plt.legend()"
   ]
  },
  {
   "cell_type": "code",
   "execution_count": 11,
   "id": "763c2786-7544-491a-9e38-c9c12bc68806",
   "metadata": {},
   "outputs": [],
   "source": [
    "# Importing Libraries for Modelling.\n",
    "\n",
    "from sklearn import neighbors, datasets, preprocessing\n",
    "from sklearn.model_selection import train_test_split\n",
    "from sklearn.metrics import accuracy_score\n",
    "from sklearn.metrics import classification_report\n",
    "from sklearn.metrics import confusion_matrix"
   ]
  },
  {
   "cell_type": "code",
   "execution_count": 12,
   "id": "f41c0468-e2f3-4f0c-b53d-7fef170b9609",
   "metadata": {},
   "outputs": [
    {
     "name": "stdout",
     "output_type": "stream",
     "text": [
      "Accuracy Score 0.9555555555555556\n",
      "Confusion matrix [[21  0  0]\n",
      " [ 1 12  0]\n",
      " [ 0  1 10]]\n",
      "Classification               precision    recall  f1-score   support\n",
      "\n",
      "           0       0.95      1.00      0.98        21\n",
      "           1       0.92      0.92      0.92        13\n",
      "           2       1.00      0.91      0.95        11\n",
      "\n",
      "    accuracy                           0.96        45\n",
      "   macro avg       0.96      0.94      0.95        45\n",
      "weighted avg       0.96      0.96      0.96        45\n",
      "\n"
     ]
    }
   ],
   "source": [
    "X, y = wine.data[:, :], wine.target\n",
    "\n",
    "#Setting training and testing values\n",
    "\n",
    "Xtrain, Xtest, y_train, y_test = train_test_split(X, y)\n",
    "scaler = preprocessing.StandardScaler().fit(Xtrain)\n",
    "Xtrain = scaler.transform(Xtrain)\n",
    "Xtest = scaler.transform(Xtest)\n",
    "\n",
    "# Modeling is done using KNN classifiers.\n",
    "knn = neighbors.KNeighborsClassifier(n_neighbors=4)\n",
    "knn.fit(Xtrain, y_train)\n",
    "y_pred = knn.predict(Xtest)\n",
    "\n",
    "print('Accuracy Score', accuracy_score(y_test, y_pred))\n",
    "print('Confusion matrix',  confusion_matrix(y_test, y_pred))\n",
    "print('Classification', classification_report(y_test, y_pred))"
   ]
  },
  {
   "cell_type": "code",
   "execution_count": 13,
   "id": "d06c32f7-ee00-405d-9a2d-bcfc70a7f084",
   "metadata": {},
   "outputs": [
    {
     "data": {
      "text/plain": [
       "0.9299065420560748"
      ]
     },
     "execution_count": 13,
     "metadata": {},
     "output_type": "execute_result"
    }
   ],
   "source": [
    "from sklearn.metrics import cohen_kappa_score\n",
    "cluster = cohen_kappa_score(y_test, y_pred)\n",
    "cluster"
   ]
  },
  {
   "cell_type": "code",
   "execution_count": 14,
   "id": "28c608c0-6066-4fe5-a4ef-49d5943ce8a5",
   "metadata": {},
   "outputs": [],
   "source": [
    "X, y = wine.data[:, :], wine.target\n",
    "Xtrain, Xtest, y_train, y_test = train_test_split(X, y, test_size=0.2, random_state=0)"
   ]
  },
  {
   "cell_type": "code",
   "execution_count": 15,
   "id": "cfefcee5-f948-4d02-af08-115d0eb72cad",
   "metadata": {},
   "outputs": [
    {
     "name": "stdout",
     "output_type": "stream",
     "text": [
      "Logistic Regression :\n",
      "Accuracy =  0.9166666666666666\n",
      "[[13  1  0]\n",
      " [ 1 14  1]\n",
      " [ 0  0  6]]\n"
     ]
    },
    {
     "name": "stderr",
     "output_type": "stream",
     "text": [
      "/Users/ishaani/.pyenv/versions/3.9.2/lib/python3.9/site-packages/sklearn/linear_model/_logistic.py:763: ConvergenceWarning: lbfgs failed to converge (status=1):\n",
      "STOP: TOTAL NO. of ITERATIONS REACHED LIMIT.\n",
      "\n",
      "Increase the number of iterations (max_iter) or scale the data as shown in:\n",
      "    https://scikit-learn.org/stable/modules/preprocessing.html\n",
      "Please also refer to the documentation for alternative solver options:\n",
      "    https://scikit-learn.org/stable/modules/linear_model.html#logistic-regression\n",
      "  n_iter_i = _check_optimize_result(\n"
     ]
    }
   ],
   "source": [
    "#Logistic Regression\n",
    "from sklearn.metrics import confusion_matrix\n",
    "from sklearn.metrics import accuracy_score\n",
    "\n",
    "from sklearn.linear_model import LogisticRegression\n",
    "classifier = LogisticRegression()\n",
    "classifier.fit(Xtrain,y_train)\n",
    "y_pred = classifier.predict(Xtest)\n",
    "cm = confusion_matrix(y_test,y_pred)\n",
    "accuracy = accuracy_score(y_test,y_pred)\n",
    "print(\"Logistic Regression :\")\n",
    "print(\"Accuracy = \", accuracy)\n",
    "print(cm)"
   ]
  },
  {
   "cell_type": "code",
   "execution_count": 16,
   "id": "f3cb6397-2d1c-4512-a7f6-7b9cd2b71469",
   "metadata": {},
   "outputs": [
    {
     "data": {
      "text/plain": [
       "0.8679706601466992"
      ]
     },
     "execution_count": 16,
     "metadata": {},
     "output_type": "execute_result"
    }
   ],
   "source": [
    "#cohen kappa accuracy for logistic regression\n",
    "from sklearn.metrics import cohen_kappa_score\n",
    "cluster = cohen_kappa_score(y_test, y_pred)\n",
    "cluster"
   ]
  },
  {
   "cell_type": "code",
   "execution_count": 17,
   "id": "3fb13160-7568-485c-980a-6cdeb1d3e271",
   "metadata": {},
   "outputs": [
    {
     "name": "stdout",
     "output_type": "stream",
     "text": [
      "K Nearest Neighbors :\n",
      "Accuracy =  0.8055555555555556\n",
      "[[13  0  1]\n",
      " [ 0 14  2]\n",
      " [ 2  2  2]]\n"
     ]
    }
   ],
   "source": [
    "#K Nearest Neighbors\n",
    "from sklearn.neighbors import KNeighborsClassifier\n",
    "Xtrain, Xtest, y_train, y_test = train_test_split(X, y, test_size=0.2, random_state=0)\n",
    "classifier = KNeighborsClassifier(n_neighbors=5, p=2, metric='minkowski')\n",
    "classifier.fit(Xtrain,y_train)\n",
    "y_pred = classifier.predict(Xtest)\n",
    "cm = confusion_matrix(y_test,y_pred)\n",
    "accuracy = accuracy_score(y_test,y_pred)\n",
    "print(\"K Nearest Neighbors :\")\n",
    "print(\"Accuracy = \", accuracy)\n",
    "print(cm)"
   ]
  },
  {
   "cell_type": "code",
   "execution_count": 18,
   "id": "109b0457-9549-4b9e-a69a-516512f85ba1",
   "metadata": {},
   "outputs": [
    {
     "data": {
      "text/plain": [
       "0.685"
      ]
     },
     "execution_count": 18,
     "metadata": {},
     "output_type": "execute_result"
    }
   ],
   "source": [
    "#cohen kappa accuracy k-nn\n",
    "\n",
    "from sklearn.metrics import cohen_kappa_score\n",
    "cluster = cohen_kappa_score(y_test, y_pred)\n",
    "cluster"
   ]
  },
  {
   "cell_type": "code",
   "execution_count": 19,
   "id": "a6f8cea4-d63c-4923-8791-ccb1f6708e56",
   "metadata": {},
   "outputs": [
    {
     "name": "stdout",
     "output_type": "stream",
     "text": [
      "Support Vector Machine:\n",
      "Accuracy =  0.7777777777777778\n",
      "[[13  0  1]\n",
      " [ 0 12  4]\n",
      " [ 0  3  3]]\n"
     ]
    }
   ],
   "source": [
    "#Support Vector Machine\n",
    "from sklearn.svm import SVC\n",
    "Xtrain, Xtest, y_train, y_test = train_test_split(X, y, test_size=0.2, random_state=0)\n",
    "classifier = SVC()\n",
    "classifier.fit(Xtrain,y_train)\n",
    "y_pred = classifier.predict(Xtest)\n",
    "cm = confusion_matrix(y_test,y_pred)\n",
    "accuracy = accuracy_score(y_test,y_pred)\n",
    "print(\"Support Vector Machine:\")\n",
    "print(\"Accuracy = \", accuracy)\n",
    "print(cm)"
   ]
  },
  {
   "cell_type": "code",
   "execution_count": 20,
   "id": "c29f09c3-fb50-49d0-b4e7-9849fdfc52fe",
   "metadata": {},
   "outputs": [
    {
     "data": {
      "text/plain": [
       "0.6513317191283292"
      ]
     },
     "execution_count": 20,
     "metadata": {},
     "output_type": "execute_result"
    }
   ],
   "source": [
    "#cohen kappa accuracy svm\n",
    "\n",
    "from sklearn.metrics import cohen_kappa_score\n",
    "cluster = cohen_kappa_score(y_test, y_pred)\n",
    "cluster"
   ]
  },
  {
   "cell_type": "code",
   "execution_count": 21,
   "id": "c0a38de0-0e3f-460a-bfe2-6edc34c8874c",
   "metadata": {},
   "outputs": [
    {
     "name": "stdout",
     "output_type": "stream",
     "text": [
      "Gaussian Naive Bayes :\n",
      "Accuracy =  0.9166666666666666\n",
      "[[14  0  0]\n",
      " [ 2 13  1]\n",
      " [ 0  0  6]]\n"
     ]
    }
   ],
   "source": [
    "\n",
    "#Gaussian Naive Bayes\n",
    "from sklearn.naive_bayes import GaussianNB\n",
    "classifier = GaussianNB()\n",
    "classifier.fit(Xtrain,y_train)\n",
    "y_pred = classifier.predict(Xtest)\n",
    "cm = confusion_matrix(y_test,y_pred)\n",
    "accuracy = accuracy_score(y_test,y_pred)\n",
    "print(\"Gaussian Naive Bayes :\")\n",
    "print(\"Accuracy = \", accuracy)\n",
    "print(cm)"
   ]
  },
  {
   "cell_type": "code",
   "execution_count": 22,
   "id": "480d9ad7-2013-4071-b160-7ac0f626c425",
   "metadata": {},
   "outputs": [
    {
     "data": {
      "text/plain": [
       "0.8686131386861313"
      ]
     },
     "execution_count": 22,
     "metadata": {},
     "output_type": "execute_result"
    }
   ],
   "source": [
    "#cohen kappa accuracy Naive Bayes\n",
    "\n",
    "from sklearn.metrics import cohen_kappa_score\n",
    "cluster = cohen_kappa_score(y_test, y_pred)\n",
    "cluster"
   ]
  },
  {
   "cell_type": "code",
   "execution_count": 23,
   "id": "e1def952-1d5f-46f5-ba6c-27ecefeb906a",
   "metadata": {},
   "outputs": [
    {
     "name": "stdout",
     "output_type": "stream",
     "text": [
      "Decision Tree Classifier :\n",
      "Accuracy =  0.9166666666666666\n",
      "[[13  1  0]\n",
      " [ 1 14  1]\n",
      " [ 0  0  6]]\n"
     ]
    }
   ],
   "source": [
    "#Decision Tree Classifier\n",
    "from sklearn.model_selection import train_test_split\n",
    "\n",
    "\n",
    "from sklearn.tree import DecisionTreeClassifier as DT\n",
    "from sklearn.metrics import confusion_matrix\n",
    "from sklearn.metrics import accuracy_score\n",
    "\n",
    "classifier = DT(criterion='entropy', random_state=0)\n",
    "classifier.fit(Xtrain,y_train)\n",
    "y_pred = classifier.predict(Xtest)\n",
    "cm = confusion_matrix(y_test,y_pred)\n",
    "print(\"Decision Tree Classifier :\")\n",
    "print(\"Accuracy = \", accuracy)\n",
    "print(cm)"
   ]
  },
  {
   "cell_type": "code",
   "execution_count": 24,
   "id": "9036ef73-c545-4985-b7b3-fcf004456b81",
   "metadata": {},
   "outputs": [
    {
     "data": {
      "text/plain": [
       "0.8679706601466992"
      ]
     },
     "execution_count": 24,
     "metadata": {},
     "output_type": "execute_result"
    }
   ],
   "source": [
    "#cohen kappa accuracy for Decision trees\n",
    "from sklearn.metrics import cohen_kappa_score\n",
    "cluster = cohen_kappa_score(y_test, y_pred)\n",
    "cluster"
   ]
  },
  {
   "cell_type": "code",
   "execution_count": 25,
   "id": "a4dabeed-6e3f-47bc-be09-d0860c1e77ea",
   "metadata": {},
   "outputs": [
    {
     "name": "stdout",
     "output_type": "stream",
     "text": [
      "Random Forest Classifier :\n",
      "Accuracy =  0.9166666666666666\n",
      "[[14  0  0]\n",
      " [ 1 15  0]\n",
      " [ 0  0  6]]\n"
     ]
    }
   ],
   "source": [
    "#Random Forest Classifier\n",
    "from sklearn.ensemble import RandomForestClassifier as RF\n",
    "\n",
    "classifier = RF(n_estimators=10, criterion='entropy', random_state=0)\n",
    "classifier.fit(Xtrain,y_train)\n",
    "y_pred = classifier.predict(Xtest)\n",
    "cm = confusion_matrix(y_test,y_pred)\n",
    "print(\"Random Forest Classifier :\")\n",
    "print(\"Accuracy = \", accuracy)\n",
    "print(cm)"
   ]
  },
  {
   "cell_type": "code",
   "execution_count": 26,
   "id": "86e72b7a-afcf-4bbb-a733-688544592dfe",
   "metadata": {},
   "outputs": [
    {
     "data": {
      "text/plain": [
       "0.9555555555555556"
      ]
     },
     "execution_count": 26,
     "metadata": {},
     "output_type": "execute_result"
    }
   ],
   "source": [
    "#cohen kappa accuracy for RF \n",
    "from sklearn.metrics import cohen_kappa_score\n",
    "cluster = cohen_kappa_score(y_test, y_pred)\n",
    "cluster\n"
   ]
  },
  {
   "cell_type": "code",
   "execution_count": 27,
   "id": "aaa64ae4-95d4-4f8d-836e-728924862e46",
   "metadata": {},
   "outputs": [],
   "source": [
    "# Hierarchical Clustering\n",
    "''' Hierarchical clustering is a method of cluster analysis which seeks to build a hierarchy of clusters. It is aka Hierarchicla \n",
    "CLustering Analysis(HCA)'''\n",
    "\n",
    "# Import Library\n",
    "import matplotlib.pyplot as plt  \n",
    "from sklearn.cluster import AgglomerativeClustering\n",
    "from sklearn.datasets import load_wine"
   ]
  },
  {
   "cell_type": "code",
   "execution_count": 28,
   "id": "b7d9af3d-cefa-4a36-9fae-c7720f720c73",
   "metadata": {},
   "outputs": [],
   "source": [
    "\n",
    "# Plotting of Dendrogram\n",
    "\n",
    "import scipy.cluster.hierarchy as sch"
   ]
  },
  {
   "cell_type": "code",
   "execution_count": 29,
   "id": "8e7ffe5d-5837-41dd-9903-fc0efbbaf77c",
   "metadata": {},
   "outputs": [
    {
     "data": {
      "text/plain": [
       "Text(0, 0.5, 'Euclidean distance in the space with other variables')"
      ]
     },
     "execution_count": 29,
     "metadata": {},
     "output_type": "execute_result"
    },
    {
     "data": {
      "image/png": "[encoded data removed]",
      "text/plain": [
       "<Figure size 1440x504 with 1 Axes>"
      ]
     },
     "metadata": {
      "needs_background": "light"
     },
     "output_type": "display_data"
    }
   ],
   "source": [
    "#Decide the number of clusters by using this dendrogram\n",
    "Z = sch.linkage(wine_X, method = 'median')\n",
    "plt.figure(figsize=(20,7))\n",
    "den = sch.dendrogram(Z)\n",
    "plt.title('Dendrogram for the clustering of the dataset wine)')\n",
    "plt.xlabel('Type')\n",
    "plt.ylabel('Euclidean distance in the space with other variables')"
   ]
  },
  {
   "cell_type": "code",
   "execution_count": 30,
   "id": "a4bf7044-756f-4704-8811-f86acefe687e",
   "metadata": {},
   "outputs": [
    {
     "data": {
      "text/plain": [
       "array([0, 0, 0, 0, 2, 0, 0, 0, 0, 0, 0, 0, 0, 0, 0, 0, 0, 0, 0, 2, 2, 2,\n",
       "       0, 0, 2, 2, 0, 0, 2, 0, 0, 0, 0, 0, 0, 2, 2, 0, 0, 2, 2, 0, 0, 2,\n",
       "       2, 0, 0, 0, 0, 0, 0, 0, 0, 0, 0, 0, 0, 0, 0, 1, 2, 1, 2, 1, 1, 2,\n",
       "       1, 1, 2, 2, 2, 1, 1, 0, 2, 1, 1, 1, 2, 1, 1, 2, 2, 1, 1, 1, 1, 1,\n",
       "       2, 2, 1, 1, 1, 1, 1, 0, 2, 1, 2, 1, 2, 1, 1, 1, 2, 1, 1, 1, 1, 2,\n",
       "       1, 1, 1, 1, 1, 1, 1, 1, 1, 1, 2, 1, 1, 1, 1, 1, 1, 1, 1, 1, 2, 1,\n",
       "       1, 1, 2, 2, 2, 1, 1, 1, 1, 2, 1, 1, 2, 2, 1, 2, 2, 1, 1, 1, 1, 2,\n",
       "       2, 2, 1, 2, 2, 2, 1, 2, 1, 2, 2, 1, 2, 2, 2, 2, 1, 1, 2, 2, 2, 2,\n",
       "       2, 1])"
      ]
     },
     "execution_count": 30,
     "metadata": {},
     "output_type": "execute_result"
    }
   ],
   "source": [
    "# Building an Agglomerative Clustering Model\n",
    "\n",
    "#Initialise Model\n",
    "\n",
    "cluster_H = AgglomerativeClustering(n_clusters=3)\n",
    "# Modelling the data\n",
    "model_clt = cluster_H.fit(wine_X)\n",
    "model_clt\n",
    "pred1 = model_clt.labels_\n",
    "pred1"
   ]
  },
  {
   "cell_type": "code",
   "execution_count": 31,
   "id": "2d8a7295-2425-47b3-ac44-6b18d96bc189",
   "metadata": {},
   "outputs": [
    {
     "data": {
      "text/plain": [
       "<matplotlib.legend.Legend at 0x14043d4c0>"
      ]
     },
     "execution_count": 31,
     "metadata": {},
     "output_type": "execute_result"
    },
    {
     "data": {
      "image/png": "[encoded data removed]",
      "text/plain": [
       "<Figure size 432x288 with 1 Axes>"
      ]
     },
     "metadata": {
      "needs_background": "light"
     },
     "output_type": "display_data"
    }
   ],
   "source": [
    "# Plotting the HCA Cluster\n",
    "\n",
    "plt.scatter(wine_X[pred1 == 0, 9], wine_X[pred1 == 0, 4], s = 20, c = 'orange', label = 'Type 0')\n",
    "plt.scatter(wine_X[pred1 == 1, 3], wine_X[pred1 == 1, 12], s = 20, c = 'yellow', label = 'Type 1')\n",
    "plt.scatter(wine_X[pred1 == 2, 1], wine_X[pred1 == 2, 12], s = 20, c = 'green', label = 'Type 2')\n",
    "plt.title('Hierarchical Plot for Wine dataset')\n",
    "plt.legend()"
   ]
  },
  {
   "cell_type": "code",
   "execution_count": 32,
   "id": "3021ad63-f95d-4601-a61d-5950f367e046",
   "metadata": {},
   "outputs": [
    {
     "data": {
      "text/plain": [
       "0.6966292134831461"
      ]
     },
     "execution_count": 32,
     "metadata": {},
     "output_type": "execute_result"
    }
   ],
   "source": [
    "import sklearn.metrics as sm\n",
    "\n",
    "target = pd.DataFrame(wine.target)\n",
    "#based on the dendrogram we have two clusetes \n",
    "k =3 \n",
    "#build the model\n",
    "HClustering = AgglomerativeClustering(n_clusters=k , affinity=\"euclidean\",linkage=\"ward\")\n",
    "#fit the model on the dataset\n",
    "HClustering.fit(wine_X)\n",
    "#accuracy of the model\n",
    "sm.accuracy_score(target,HClustering.labels_)"
   ]
  },
  {
   "cell_type": "code",
   "execution_count": 33,
   "id": "43d3288b-f6a3-455f-b20b-d4621df61ee0",
   "metadata": {},
   "outputs": [
    {
     "data": {
      "text/plain": [
       "0.9555555555555556"
      ]
     },
     "execution_count": 33,
     "metadata": {},
     "output_type": "execute_result"
    }
   ],
   "source": [
    "\n",
    "from sklearn.metrics import cohen_kappa_score\n",
    "cluster = cohen_kappa_score(y_test, y_pred)\n",
    "cluster"
   ]
  },
  {
   "cell_type": "code",
   "execution_count": 34,
   "id": "58cec4b8-529e-4d60-8a87-8424827b04df",
   "metadata": {},
   "outputs": [],
   "source": [
    "X, y = wine.data[:, :], wine.target\n",
    "Xtrain, Xtest, y_train, y_test = train_test_split(X, y, test_size=0.6, random_state=0)"
   ]
  },
  {
   "cell_type": "code",
   "execution_count": 35,
   "id": "83eb4f33-3efb-49dd-b7bd-4f407f905bbf",
   "metadata": {},
   "outputs": [
    {
     "name": "stdout",
     "output_type": "stream",
     "text": [
      "Logistic Regression :\n",
      "Accuracy =  0.9252336448598131\n",
      "[[32  2  0]\n",
      " [ 4 40  2]\n",
      " [ 0  0 27]]\n"
     ]
    },
    {
     "name": "stderr",
     "output_type": "stream",
     "text": [
      "/Users/ishaani/.pyenv/versions/3.9.2/lib/python3.9/site-packages/sklearn/linear_model/_logistic.py:763: ConvergenceWarning: lbfgs failed to converge (status=1):\n",
      "STOP: TOTAL NO. of ITERATIONS REACHED LIMIT.\n",
      "\n",
      "Increase the number of iterations (max_iter) or scale the data as shown in:\n",
      "    https://scikit-learn.org/stable/modules/preprocessing.html\n",
      "Please also refer to the documentation for alternative solver options:\n",
      "    https://scikit-learn.org/stable/modules/linear_model.html#logistic-regression\n",
      "  n_iter_i = _check_optimize_result(\n"
     ]
    }
   ],
   "source": [
    "#Logistic Regression\n",
    "from sklearn.metrics import confusion_matrix\n",
    "from sklearn.metrics import accuracy_score\n",
    "\n",
    "from sklearn.linear_model import LogisticRegression\n",
    "classifier = LogisticRegression()\n",
    "classifier.fit(Xtrain,y_train)\n",
    "y_pred = classifier.predict(Xtest)\n",
    "cm = confusion_matrix(y_test,y_pred)\n",
    "accuracy = accuracy_score(y_test,y_pred)\n",
    "print(\"Logistic Regression :\")\n",
    "print(\"Accuracy = \", accuracy)\n",
    "print(cm)"
   ]
  },
  {
   "cell_type": "code",
   "execution_count": 36,
   "id": "14c81174-aaa5-4a09-b18e-162aea317354",
   "metadata": {},
   "outputs": [
    {
     "data": {
      "text/plain": [
       "0.8860186418109187"
      ]
     },
     "execution_count": 36,
     "metadata": {},
     "output_type": "execute_result"
    }
   ],
   "source": [
    "from sklearn.metrics import cohen_kappa_score\n",
    "cluster = cohen_kappa_score(y_test, y_pred)\n",
    "cluster"
   ]
  },
  {
   "cell_type": "code",
   "execution_count": 37,
   "id": "34f70f63-fbd0-4dd8-a77b-8aebe6f922a0",
   "metadata": {},
   "outputs": [
    {
     "name": "stdout",
     "output_type": "stream",
     "text": [
      "K Nearest Neighbors :\n",
      "Accuracy =  0.7111111111111111\n",
      "[[10  1  3]\n",
      " [ 1 18  4]\n",
      " [ 0  4  4]]\n"
     ]
    }
   ],
   "source": [
    "#K Nearest Neighbors\n",
    "from sklearn.neighbors import KNeighborsClassifier\n",
    "Xtrain, Xtest, y_train, y_test = train_test_split(X, y)\n",
    "classifier = KNeighborsClassifier(n_neighbors=5, p=2, metric='minkowski')\n",
    "classifier.fit(Xtrain,y_train)\n",
    "y_pred = classifier.predict(Xtest)\n",
    "cm = confusion_matrix(y_test,y_pred)\n",
    "accuracy = accuracy_score(y_test,y_pred)\n",
    "print(\"K Nearest Neighbors :\")\n",
    "print(\"Accuracy = \", accuracy)\n",
    "print(cm)"
   ]
  },
  {
   "cell_type": "code",
   "execution_count": 38,
   "id": "0db3ef0b-f7a8-40fe-84df-6deb6f2a0a88",
   "metadata": {},
   "outputs": [
    {
     "data": {
      "text/plain": [
       "0.5334928229665072"
      ]
     },
     "execution_count": 38,
     "metadata": {},
     "output_type": "execute_result"
    }
   ],
   "source": [
    "from sklearn.metrics import cohen_kappa_score\n",
    "cluster = cohen_kappa_score(y_test, y_pred)\n",
    "cluster"
   ]
  },
  {
   "cell_type": "code",
   "execution_count": 39,
   "id": "0fcd2430-a525-4c25-8ac0-19e229695c7d",
   "metadata": {},
   "outputs": [
    {
     "name": "stdout",
     "output_type": "stream",
     "text": [
      "Support Vector Machine:\n",
      "Accuracy =  0.7777777777777778\n",
      "[[6 0 0]\n",
      " [0 6 1]\n",
      " [0 3 2]]\n"
     ]
    }
   ],
   "source": [
    "#Support Vector Machine\n",
    "from sklearn.svm import SVC\n",
    "Xtrain, Xtest, y_train, y_test = train_test_split(X, y, test_size=0.1, random_state=0)\n",
    "classifier = SVC(random_state=0)\n",
    "classifier.fit(Xtrain,y_train)\n",
    "y_pred = classifier.predict(Xtest)\n",
    "cm = confusion_matrix(y_test,y_pred)\n",
    "accuracy = accuracy_score(y_test,y_pred)\n",
    "print(\"Support Vector Machine:\")\n",
    "print(\"Accuracy = \", accuracy)\n",
    "print(cm)"
   ]
  },
  {
   "cell_type": "code",
   "execution_count": 40,
   "id": "08d6ae25-4411-430e-990d-74dc16f4ec89",
   "metadata": {},
   "outputs": [
    {
     "data": {
      "text/plain": [
       "0.6571428571428573"
      ]
     },
     "execution_count": 40,
     "metadata": {},
     "output_type": "execute_result"
    }
   ],
   "source": [
    "\n",
    "from sklearn.metrics import cohen_kappa_score\n",
    "cluster = cohen_kappa_score(y_test, y_pred)\n",
    "cluster"
   ]
  },
  {
   "cell_type": "code",
   "execution_count": 41,
   "id": "b7c1cedd-d846-4c6c-9329-abdbfc2ea672",
   "metadata": {},
   "outputs": [
    {
     "name": "stdout",
     "output_type": "stream",
     "text": [
      "Gaussian Naive Bayes :\n",
      "Accuracy =  1.0\n",
      "[[12  0  0]\n",
      " [ 0 19  0]\n",
      " [ 0  0 14]]\n"
     ]
    }
   ],
   "source": [
    "#Gaussian Naive Bayes\n",
    "from sklearn.naive_bayes import GaussianNB\n",
    "Xtrain, Xtest, y_train, y_test = train_test_split(X, y)\n",
    "classifier = GaussianNB()\n",
    "classifier.fit(Xtrain,y_train)\n",
    "y_pred = classifier.predict(Xtest)\n",
    "cm = confusion_matrix(y_test,y_pred)\n",
    "accuracy = accuracy_score(y_test,y_pred)\n",
    "print(\"Gaussian Naive Bayes :\")\n",
    "print(\"Accuracy = \", accuracy)\n",
    "print(cm)"
   ]
  },
  {
   "cell_type": "code",
   "execution_count": 42,
   "id": "eb419614-3027-4e42-8fec-ef506a06cd57",
   "metadata": {},
   "outputs": [
    {
     "ename": "SyntaxError",
     "evalue": "invalid syntax (2283961366.py, line 16)",
     "output_type": "error",
     "traceback": [
      "\u001b[0;36m  File \u001b[0;32m\"/var/folders/_l/nxk5n50d4954zcf_h7rmk5y80000gn/T/ipykernel_88459/2283961366.py\"\u001b[0;36m, line \u001b[0;32m16\u001b[0m\n\u001b[0;31m    print(cm)a_score(y_test, y_pred)\u001b[0m\n\u001b[0m             ^\u001b[0m\n\u001b[0;31mSyntaxError\u001b[0m\u001b[0;31m:\u001b[0m invalid syntax\n"
     ]
    }
   ],
   "source": [
    "\n",
    "from sklearn.metrics import cohen_kappa_score\n",
    "cluster = cohen_kapp#Decision Tree Classifier\n",
    "from sklearn.model_selection import train_test_split\n",
    "Xtrain, Xtest, y_train, y_test = train_test_split(X, y, test_size=0.3, random_state=0)\n",
    "\n",
    "from sklearn.tree import DecisionTreeClassifier as DT\n",
    "from sklearn.metrics import confusion_matrix\n",
    "from sklearn.metrics import accuracy_score\n",
    "\n",
    "classifier = DT(criterion='entropy', random_state=0)\n",
    "classifier.fit(Xtrain,y_train)\n",
    "y_pred = classifier.predict(Xtest)\n",
    "cm = confusion_matrix(y_test,y_pred)\n",
    "print(\"Decision Tree Classifier :\")\n",
    "print(\"Accuracy = \", accuracy)\n",
    "print(cm)a_score(y_test, y_pred)\n",
    "cluster"
   ]
  },
  {
   "cell_type": "code",
   "execution_count": 43,
   "id": "9f61ea2d-b3fb-4b6e-87a7-a8ba0a2f271e",
   "metadata": {},
   "outputs": [
    {
     "data": {
      "text/plain": [
       "1.0"
      ]
     },
     "execution_count": 43,
     "metadata": {},
     "output_type": "execute_result"
    }
   ],
   "source": [
    "\n",
    "from sklearn.metrics import cohen_kappa_score\n",
    "cluster = cohen_kappa_score(y_test, y_pred)\n",
    "cluster"
   ]
  },
  {
   "cell_type": "code",
   "execution_count": 44,
   "id": "b9bc606c-e357-45bc-b881-5f4c48b516e0",
   "metadata": {},
   "outputs": [
    {
     "name": "stdout",
     "output_type": "stream",
     "text": [
      "Random Forest Classifier :\n",
      "Accuracy =  1.0\n",
      "[[16  0  0]\n",
      " [ 2 12  1]\n",
      " [ 0  0 14]]\n"
     ]
    }
   ],
   "source": [
    "#Random Forest Classifier\n",
    "from sklearn.ensemble import RandomForestClassifier as RF\n",
    "Xtrain, Xtest, y_train, y_test = train_test_split(X, y)\n",
    "classifier = RF(n_estimators=10, criterion='entropy', random_state=0)\n",
    "classifier.fit(Xtrain,y_train)\n",
    "y_pred = classifier.predict(Xtest)\n",
    "cm = confusion_matrix(y_test,y_pred)\n",
    "print(\"Random Forest Classifier :\")\n",
    "print(\"Accuracy = \", accuracy)\n",
    "print(cm)"
   ]
  },
  {
   "cell_type": "code",
   "execution_count": 45,
   "id": "166a300e-79e4-435f-bc66-95d7d8732b02",
   "metadata": {},
   "outputs": [
    {
     "data": {
      "text/plain": [
       "0.8997772828507795"
      ]
     },
     "execution_count": 45,
     "metadata": {},
     "output_type": "execute_result"
    }
   ],
   "source": [
    "from sklearn.metrics import cohen_kappa_score\n",
    "cluster = cohen_kappa_score(y_test, y_pred)\n",
    "cluster"
   ]
  },
  {
   "cell_type": "code",
   "execution_count": null,
   "id": "9fb199cd-7c56-4918-aef9-d885ce9d96b7",
   "metadata": {},
   "outputs": [],
   "source": []
  }
 ],
 "metadata": {
  "kernelspec": {
   "display_name": "Python 3 (ipykernel)",
   "language": "python",
   "name": "python3"
  },
  "language_info": {
   "codemirror_mode": {
    "name": "ipython",
    "version": 3
   },
   "file_extension": ".py",
   "mimetype": "text/x-python",
   "name": "python",
   "nbconvert_exporter": "python",
   "pygments_lexer": "ipython3",
   "version": "3.9.2"
  }
 },
 "nbformat": 4,
 "nbformat_minor": 5
}
