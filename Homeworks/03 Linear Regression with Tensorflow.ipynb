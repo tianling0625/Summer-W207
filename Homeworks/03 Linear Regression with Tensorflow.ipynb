{
 "cells": [
  {
   "cell_type": "markdown",
   "metadata": {
    "id": "MKsRDH5ZUdfasdv"
   },
   "source": [
    "# Lab 3"
   ]
  },
  {
   "cell_type": "markdown",
   "metadata": {
    "id": "43534tdfgs-v"
   },
   "source": [
    "This lab continues our study of linear regression. You'll train your first models with Tensorflow, using a real dataset to predict car prices from their features. Note that Tensorflow is a rapidly changing library. This means you'll often see warnings about deprecations. You can ignore the warnings in our labs."
   ]
  },
  {
   "cell_type": "code",
   "execution_count": 13,
   "metadata": {
    "id": "7X58hOMTUH-w"
   },
   "outputs": [],
   "source": [
    "# Import the libraries we'll use below.\n",
    "import numpy as np\n",
    "from matplotlib import pyplot as plt\n",
    "import pandas as pd\n",
    "import seaborn as sns  # for nicer plots\n",
    "sns.set(style=\"darkgrid\")  # default style\n",
    "import tensorflow as tf"
   ]
  },
  {
   "cell_type": "markdown",
   "metadata": {
    "id": "rHLcriKWLRe4"
   },
   "source": [
    "## Understanding the data\n",
    "Below, we'll train models using some real data. Here we'll use the [Automobile Data Set](https://archive.ics.uci.edu/ml/datasets/automobile)  from 1985 Ward's Automotive Yearbook that is part of the [UCI Machine Learning Repository](https://archive.ics.uci.edu/ml/datasets).\n",
    "\n",
    "But before doing any training (or evaluating), let's make sure we understand what we're working with. "
   ]
  },
  {
   "cell_type": "markdown",
   "metadata": {
    "id": "load_auto_data_set_text"
   },
   "source": [
    "### Load the data\n",
    "Load the data using the column names from [Automobile Data Set](https://archive.ics.uci.edu/ml/datasets/automobile). We'll only use a few of the columns so don't worry about understanding what they all mean."
   ]
  },
  {
   "cell_type": "code",
   "execution_count": 14,
   "metadata": {
    "id": "load_auto_data_set_code"
   },
   "outputs": [
    {
     "data": {
      "text/html": [
       "<div>\n",
       "<style scoped>\n",
       "    .dataframe tbody tr th:only-of-type {\n",
       "        vertical-align: middle;\n",
       "    }\n",
       "\n",
       "    .dataframe tbody tr th {\n",
       "        vertical-align: top;\n",
       "    }\n",
       "\n",
       "    .dataframe thead th {\n",
       "        text-align: right;\n",
       "    }\n",
       "</style>\n",
       "<table border=\"1\" class=\"dataframe\">\n",
       "  <thead>\n",
       "    <tr style=\"text-align: right;\">\n",
       "      <th></th>\n",
       "      <th>symboling</th>\n",
       "      <th>losses</th>\n",
       "      <th>make</th>\n",
       "      <th>fuel-type</th>\n",
       "      <th>aspiration</th>\n",
       "      <th>num-doors</th>\n",
       "      <th>body-style</th>\n",
       "      <th>drive-wheels</th>\n",
       "      <th>engine-location</th>\n",
       "      <th>wheel-base</th>\n",
       "      <th>...</th>\n",
       "      <th>engine-size</th>\n",
       "      <th>fuel-system</th>\n",
       "      <th>bore</th>\n",
       "      <th>stroke</th>\n",
       "      <th>compression-ratio</th>\n",
       "      <th>horsepower</th>\n",
       "      <th>peak-rpm</th>\n",
       "      <th>city-mpg</th>\n",
       "      <th>highway-mpg</th>\n",
       "      <th>price</th>\n",
       "    </tr>\n",
       "  </thead>\n",
       "  <tbody>\n",
       "    <tr>\n",
       "      <th>0</th>\n",
       "      <td>3</td>\n",
       "      <td>?</td>\n",
       "      <td>alfa-romero</td>\n",
       "      <td>gas</td>\n",
       "      <td>std</td>\n",
       "      <td>two</td>\n",
       "      <td>convertible</td>\n",
       "      <td>rwd</td>\n",
       "      <td>front</td>\n",
       "      <td>88.6</td>\n",
       "      <td>...</td>\n",
       "      <td>130</td>\n",
       "      <td>mpfi</td>\n",
       "      <td>3.47</td>\n",
       "      <td>2.68</td>\n",
       "      <td>9.0</td>\n",
       "      <td>111</td>\n",
       "      <td>5000</td>\n",
       "      <td>21</td>\n",
       "      <td>27</td>\n",
       "      <td>13495</td>\n",
       "    </tr>\n",
       "    <tr>\n",
       "      <th>1</th>\n",
       "      <td>3</td>\n",
       "      <td>?</td>\n",
       "      <td>alfa-romero</td>\n",
       "      <td>gas</td>\n",
       "      <td>std</td>\n",
       "      <td>two</td>\n",
       "      <td>convertible</td>\n",
       "      <td>rwd</td>\n",
       "      <td>front</td>\n",
       "      <td>88.6</td>\n",
       "      <td>...</td>\n",
       "      <td>130</td>\n",
       "      <td>mpfi</td>\n",
       "      <td>3.47</td>\n",
       "      <td>2.68</td>\n",
       "      <td>9.0</td>\n",
       "      <td>111</td>\n",
       "      <td>5000</td>\n",
       "      <td>21</td>\n",
       "      <td>27</td>\n",
       "      <td>16500</td>\n",
       "    </tr>\n",
       "    <tr>\n",
       "      <th>2</th>\n",
       "      <td>1</td>\n",
       "      <td>?</td>\n",
       "      <td>alfa-romero</td>\n",
       "      <td>gas</td>\n",
       "      <td>std</td>\n",
       "      <td>two</td>\n",
       "      <td>hatchback</td>\n",
       "      <td>rwd</td>\n",
       "      <td>front</td>\n",
       "      <td>94.5</td>\n",
       "      <td>...</td>\n",
       "      <td>152</td>\n",
       "      <td>mpfi</td>\n",
       "      <td>2.68</td>\n",
       "      <td>3.47</td>\n",
       "      <td>9.0</td>\n",
       "      <td>154</td>\n",
       "      <td>5000</td>\n",
       "      <td>19</td>\n",
       "      <td>26</td>\n",
       "      <td>16500</td>\n",
       "    </tr>\n",
       "    <tr>\n",
       "      <th>3</th>\n",
       "      <td>2</td>\n",
       "      <td>164</td>\n",
       "      <td>audi</td>\n",
       "      <td>gas</td>\n",
       "      <td>std</td>\n",
       "      <td>four</td>\n",
       "      <td>sedan</td>\n",
       "      <td>fwd</td>\n",
       "      <td>front</td>\n",
       "      <td>99.8</td>\n",
       "      <td>...</td>\n",
       "      <td>109</td>\n",
       "      <td>mpfi</td>\n",
       "      <td>3.19</td>\n",
       "      <td>3.40</td>\n",
       "      <td>10.0</td>\n",
       "      <td>102</td>\n",
       "      <td>5500</td>\n",
       "      <td>24</td>\n",
       "      <td>30</td>\n",
       "      <td>13950</td>\n",
       "    </tr>\n",
       "    <tr>\n",
       "      <th>4</th>\n",
       "      <td>2</td>\n",
       "      <td>164</td>\n",
       "      <td>audi</td>\n",
       "      <td>gas</td>\n",
       "      <td>std</td>\n",
       "      <td>four</td>\n",
       "      <td>sedan</td>\n",
       "      <td>4wd</td>\n",
       "      <td>front</td>\n",
       "      <td>99.4</td>\n",
       "      <td>...</td>\n",
       "      <td>136</td>\n",
       "      <td>mpfi</td>\n",
       "      <td>3.19</td>\n",
       "      <td>3.40</td>\n",
       "      <td>8.0</td>\n",
       "      <td>115</td>\n",
       "      <td>5500</td>\n",
       "      <td>18</td>\n",
       "      <td>22</td>\n",
       "      <td>17450</td>\n",
       "    </tr>\n",
       "    <tr>\n",
       "      <th>...</th>\n",
       "      <td>...</td>\n",
       "      <td>...</td>\n",
       "      <td>...</td>\n",
       "      <td>...</td>\n",
       "      <td>...</td>\n",
       "      <td>...</td>\n",
       "      <td>...</td>\n",
       "      <td>...</td>\n",
       "      <td>...</td>\n",
       "      <td>...</td>\n",
       "      <td>...</td>\n",
       "      <td>...</td>\n",
       "      <td>...</td>\n",
       "      <td>...</td>\n",
       "      <td>...</td>\n",
       "      <td>...</td>\n",
       "      <td>...</td>\n",
       "      <td>...</td>\n",
       "      <td>...</td>\n",
       "      <td>...</td>\n",
       "      <td>...</td>\n",
       "    </tr>\n",
       "    <tr>\n",
       "      <th>200</th>\n",
       "      <td>-1</td>\n",
       "      <td>95</td>\n",
       "      <td>volvo</td>\n",
       "      <td>gas</td>\n",
       "      <td>std</td>\n",
       "      <td>four</td>\n",
       "      <td>sedan</td>\n",
       "      <td>rwd</td>\n",
       "      <td>front</td>\n",
       "      <td>109.1</td>\n",
       "      <td>...</td>\n",
       "      <td>141</td>\n",
       "      <td>mpfi</td>\n",
       "      <td>3.78</td>\n",
       "      <td>3.15</td>\n",
       "      <td>9.5</td>\n",
       "      <td>114</td>\n",
       "      <td>5400</td>\n",
       "      <td>23</td>\n",
       "      <td>28</td>\n",
       "      <td>16845</td>\n",
       "    </tr>\n",
       "    <tr>\n",
       "      <th>201</th>\n",
       "      <td>-1</td>\n",
       "      <td>95</td>\n",
       "      <td>volvo</td>\n",
       "      <td>gas</td>\n",
       "      <td>turbo</td>\n",
       "      <td>four</td>\n",
       "      <td>sedan</td>\n",
       "      <td>rwd</td>\n",
       "      <td>front</td>\n",
       "      <td>109.1</td>\n",
       "      <td>...</td>\n",
       "      <td>141</td>\n",
       "      <td>mpfi</td>\n",
       "      <td>3.78</td>\n",
       "      <td>3.15</td>\n",
       "      <td>8.7</td>\n",
       "      <td>160</td>\n",
       "      <td>5300</td>\n",
       "      <td>19</td>\n",
       "      <td>25</td>\n",
       "      <td>19045</td>\n",
       "    </tr>\n",
       "    <tr>\n",
       "      <th>202</th>\n",
       "      <td>-1</td>\n",
       "      <td>95</td>\n",
       "      <td>volvo</td>\n",
       "      <td>gas</td>\n",
       "      <td>std</td>\n",
       "      <td>four</td>\n",
       "      <td>sedan</td>\n",
       "      <td>rwd</td>\n",
       "      <td>front</td>\n",
       "      <td>109.1</td>\n",
       "      <td>...</td>\n",
       "      <td>173</td>\n",
       "      <td>mpfi</td>\n",
       "      <td>3.58</td>\n",
       "      <td>2.87</td>\n",
       "      <td>8.8</td>\n",
       "      <td>134</td>\n",
       "      <td>5500</td>\n",
       "      <td>18</td>\n",
       "      <td>23</td>\n",
       "      <td>21485</td>\n",
       "    </tr>\n",
       "    <tr>\n",
       "      <th>203</th>\n",
       "      <td>-1</td>\n",
       "      <td>95</td>\n",
       "      <td>volvo</td>\n",
       "      <td>diesel</td>\n",
       "      <td>turbo</td>\n",
       "      <td>four</td>\n",
       "      <td>sedan</td>\n",
       "      <td>rwd</td>\n",
       "      <td>front</td>\n",
       "      <td>109.1</td>\n",
       "      <td>...</td>\n",
       "      <td>145</td>\n",
       "      <td>idi</td>\n",
       "      <td>3.01</td>\n",
       "      <td>3.40</td>\n",
       "      <td>23.0</td>\n",
       "      <td>106</td>\n",
       "      <td>4800</td>\n",
       "      <td>26</td>\n",
       "      <td>27</td>\n",
       "      <td>22470</td>\n",
       "    </tr>\n",
       "    <tr>\n",
       "      <th>204</th>\n",
       "      <td>-1</td>\n",
       "      <td>95</td>\n",
       "      <td>volvo</td>\n",
       "      <td>gas</td>\n",
       "      <td>turbo</td>\n",
       "      <td>four</td>\n",
       "      <td>sedan</td>\n",
       "      <td>rwd</td>\n",
       "      <td>front</td>\n",
       "      <td>109.1</td>\n",
       "      <td>...</td>\n",
       "      <td>141</td>\n",
       "      <td>mpfi</td>\n",
       "      <td>3.78</td>\n",
       "      <td>3.15</td>\n",
       "      <td>9.5</td>\n",
       "      <td>114</td>\n",
       "      <td>5400</td>\n",
       "      <td>19</td>\n",
       "      <td>25</td>\n",
       "      <td>22625</td>\n",
       "    </tr>\n",
       "  </tbody>\n",
       "</table>\n",
       "<p>205 rows × 26 columns</p>\n",
       "</div>"
      ],
      "text/plain": [
       "     symboling losses         make fuel-type aspiration num-doors  \\\n",
       "0            3      ?  alfa-romero       gas        std       two   \n",
       "1            3      ?  alfa-romero       gas        std       two   \n",
       "2            1      ?  alfa-romero       gas        std       two   \n",
       "3            2    164         audi       gas        std      four   \n",
       "4            2    164         audi       gas        std      four   \n",
       "..         ...    ...          ...       ...        ...       ...   \n",
       "200         -1     95        volvo       gas        std      four   \n",
       "201         -1     95        volvo       gas      turbo      four   \n",
       "202         -1     95        volvo       gas        std      four   \n",
       "203         -1     95        volvo    diesel      turbo      four   \n",
       "204         -1     95        volvo       gas      turbo      four   \n",
       "\n",
       "      body-style drive-wheels engine-location  wheel-base  ...  engine-size  \\\n",
       "0    convertible          rwd           front        88.6  ...          130   \n",
       "1    convertible          rwd           front        88.6  ...          130   \n",
       "2      hatchback          rwd           front        94.5  ...          152   \n",
       "3          sedan          fwd           front        99.8  ...          109   \n",
       "4          sedan          4wd           front        99.4  ...          136   \n",
       "..           ...          ...             ...         ...  ...          ...   \n",
       "200        sedan          rwd           front       109.1  ...          141   \n",
       "201        sedan          rwd           front       109.1  ...          141   \n",
       "202        sedan          rwd           front       109.1  ...          173   \n",
       "203        sedan          rwd           front       109.1  ...          145   \n",
       "204        sedan          rwd           front       109.1  ...          141   \n",
       "\n",
       "     fuel-system  bore  stroke compression-ratio horsepower  peak-rpm  \\\n",
       "0           mpfi  3.47    2.68               9.0        111      5000   \n",
       "1           mpfi  3.47    2.68               9.0        111      5000   \n",
       "2           mpfi  2.68    3.47               9.0        154      5000   \n",
       "3           mpfi  3.19    3.40              10.0        102      5500   \n",
       "4           mpfi  3.19    3.40               8.0        115      5500   \n",
       "..           ...   ...     ...               ...        ...       ...   \n",
       "200         mpfi  3.78    3.15               9.5        114      5400   \n",
       "201         mpfi  3.78    3.15               8.7        160      5300   \n",
       "202         mpfi  3.58    2.87               8.8        134      5500   \n",
       "203          idi  3.01    3.40              23.0        106      4800   \n",
       "204         mpfi  3.78    3.15               9.5        114      5400   \n",
       "\n",
       "    city-mpg highway-mpg  price  \n",
       "0         21          27  13495  \n",
       "1         21          27  16500  \n",
       "2         19          26  16500  \n",
       "3         24          30  13950  \n",
       "4         18          22  17450  \n",
       "..       ...         ...    ...  \n",
       "200       23          28  16845  \n",
       "201       19          25  19045  \n",
       "202       18          23  21485  \n",
       "203       26          27  22470  \n",
       "204       19          25  22625  \n",
       "\n",
       "[205 rows x 26 columns]"
      ]
     },
     "metadata": {},
     "output_type": "display_data"
    }
   ],
   "source": [
    "# Provide the names for the feature columns since the CSV file with the data\n",
    "# does not have a header row.\n",
    "cols = ['symboling', 'losses', 'make', 'fuel-type', 'aspiration', 'num-doors',\n",
    "        'body-style', 'drive-wheels', 'engine-location', 'wheel-base',\n",
    "        'length', 'width', 'height', 'weight', 'engine-type', 'num-cylinders',\n",
    "        'engine-size', 'fuel-system', 'bore', 'stroke', 'compression-ratio',\n",
    "        'horsepower', 'peak-rpm', 'city-mpg', 'highway-mpg', 'price']\n",
    "\n",
    "# Load the data from a CSV file into a pandas dataframe. Remember that each row\n",
    "# is an example and each column in a feature.\n",
    "car_data = pd.read_csv(\n",
    "    'https://storage.googleapis.com/ml_universities/cars_dataset/cars_data.csv',\n",
    "    sep=',', names=cols, header=None, encoding='latin-1')\n",
    "\n",
    "# Display applies built-in formatting for nicer printing, if available.\n",
    "display(car_data)"
   ]
  },
  {
   "cell_type": "code",
   "execution_count": 15,
   "metadata": {},
   "outputs": [
    {
     "data": {
      "text/plain": [
       "array([0, 1, 2, 3])"
      ]
     },
     "execution_count": 15,
     "metadata": {},
     "output_type": "execute_result"
    }
   ],
   "source": [
    "np.arange(4)"
   ]
  },
  {
   "cell_type": "markdown",
   "metadata": {
    "id": "DvcJJ_rUifF2"
   },
   "source": [
    "### Randomize\n",
    "Since we'll be using SGD (Stochastic Gradient Descent) for training, it is important that **each batch is a random sample of the data** so that the gradient computed is representative. Note that the original data (above) appears sorted by *make* in alphabetic order."
   ]
  },
  {
   "cell_type": "code",
   "execution_count": 16,
   "metadata": {
    "id": "3webN4USifuB"
   },
   "outputs": [
    {
     "name": "stdout",
     "output_type": "stream",
     "text": [
      "indices: [  0   1   2   3   4   5   6   7   8   9  10  11  12  13  14  15  16  17\n",
      "  18  19  20  21  22  23  24  25  26  27  28  29  30  31  32  33  34  35\n",
      "  36  37  38  39  40  41  42  43  44  45  46  47  48  49  50  51  52  53\n",
      "  54  55  56  57  58  59  60  61  62  63  64  65  66  67  68  69  70  71\n",
      "  72  73  74  75  76  77  78  79  80  81  82  83  84  85  86  87  88  89\n",
      "  90  91  92  93  94  95  96  97  98  99 100 101 102 103 104 105 106 107\n",
      " 108 109 110 111 112 113 114 115 116 117 118 119 120 121 122 123 124 125\n",
      " 126 127 128 129 130 131 132 133 134 135 136 137 138 139 140 141 142 143\n",
      " 144 145 146 147 148 149 150 151 152 153 154 155 156 157 158 159 160 161\n",
      " 162 163 164 165 166 167 168 169 170 171 172 173 174 175 176 177 178 179\n",
      " 180 181 182 183 184 185 186 187 188 189 190 191 192 193 194 195 196 197\n",
      " 198 199 200 201 202 203 204] \n",
      "\n",
      "shuffled indices: [ 52 181   5  18 188 170  76 154 104  33  12 129  55  66  45 169 130   7\n",
      "  37 152  80 111 131 171 179 138 156 113 161  89 183 193 125 173  92  16\n",
      " 189 136  22  74  44   4  71 134 145 122  26  83 149 186   8  90 163  61\n",
      "  75 106  63 198 143  24  30 135  40  60  56 101  86  19 155  97  54 184\n",
      "  51 139 141 112  96 107 146 110 178  14  27 108 185 126  46 191 200 162\n",
      "  62   2  59 123 124  43  10 109  73 196 182 150  98   3  93 118 160 199\n",
      "  50   0  94 116  95  64 144  41  69  49  48  85 202  13 153  23 190 137\n",
      "  20  15  78 100 166 203   6  68  84 121 157 187 158  91 176  11 119 102\n",
      "  35  57  65   1 120 164  42 105 132 177  17  38 133  53 159 128  34  28\n",
      " 114 151  31 168 127 180  32 167 142 204 147  29  99  82 175  79 115 148\n",
      " 197  72  77  25 165  81 201 174 194  39  58 140  88  70  87  36  21   9\n",
      " 103 195  67 192 117  47 172] \n",
      "\n"
     ]
    },
    {
     "data": {
      "text/html": [
       "<div>\n",
       "<style scoped>\n",
       "    .dataframe tbody tr th:only-of-type {\n",
       "        vertical-align: middle;\n",
       "    }\n",
       "\n",
       "    .dataframe tbody tr th {\n",
       "        vertical-align: top;\n",
       "    }\n",
       "\n",
       "    .dataframe thead th {\n",
       "        text-align: right;\n",
       "    }\n",
       "</style>\n",
       "<table border=\"1\" class=\"dataframe\">\n",
       "  <thead>\n",
       "    <tr style=\"text-align: right;\">\n",
       "      <th></th>\n",
       "      <th>symboling</th>\n",
       "      <th>losses</th>\n",
       "      <th>make</th>\n",
       "      <th>fuel-type</th>\n",
       "      <th>aspiration</th>\n",
       "      <th>num-doors</th>\n",
       "      <th>body-style</th>\n",
       "      <th>drive-wheels</th>\n",
       "      <th>engine-location</th>\n",
       "      <th>wheel-base</th>\n",
       "      <th>...</th>\n",
       "      <th>engine-size</th>\n",
       "      <th>fuel-system</th>\n",
       "      <th>bore</th>\n",
       "      <th>stroke</th>\n",
       "      <th>compression-ratio</th>\n",
       "      <th>horsepower</th>\n",
       "      <th>peak-rpm</th>\n",
       "      <th>city-mpg</th>\n",
       "      <th>highway-mpg</th>\n",
       "      <th>price</th>\n",
       "    </tr>\n",
       "  </thead>\n",
       "  <tbody>\n",
       "    <tr>\n",
       "      <th>52</th>\n",
       "      <td>1</td>\n",
       "      <td>104</td>\n",
       "      <td>mazda</td>\n",
       "      <td>gas</td>\n",
       "      <td>std</td>\n",
       "      <td>two</td>\n",
       "      <td>hatchback</td>\n",
       "      <td>fwd</td>\n",
       "      <td>front</td>\n",
       "      <td>93.1</td>\n",
       "      <td>...</td>\n",
       "      <td>91</td>\n",
       "      <td>2bbl</td>\n",
       "      <td>3.03</td>\n",
       "      <td>3.15</td>\n",
       "      <td>9.0</td>\n",
       "      <td>68</td>\n",
       "      <td>5000</td>\n",
       "      <td>31</td>\n",
       "      <td>38</td>\n",
       "      <td>6795</td>\n",
       "    </tr>\n",
       "    <tr>\n",
       "      <th>181</th>\n",
       "      <td>-1</td>\n",
       "      <td>?</td>\n",
       "      <td>toyota</td>\n",
       "      <td>gas</td>\n",
       "      <td>std</td>\n",
       "      <td>four</td>\n",
       "      <td>wagon</td>\n",
       "      <td>rwd</td>\n",
       "      <td>front</td>\n",
       "      <td>104.5</td>\n",
       "      <td>...</td>\n",
       "      <td>161</td>\n",
       "      <td>mpfi</td>\n",
       "      <td>3.27</td>\n",
       "      <td>3.35</td>\n",
       "      <td>9.2</td>\n",
       "      <td>156</td>\n",
       "      <td>5200</td>\n",
       "      <td>19</td>\n",
       "      <td>24</td>\n",
       "      <td>15750</td>\n",
       "    </tr>\n",
       "    <tr>\n",
       "      <th>5</th>\n",
       "      <td>2</td>\n",
       "      <td>?</td>\n",
       "      <td>audi</td>\n",
       "      <td>gas</td>\n",
       "      <td>std</td>\n",
       "      <td>two</td>\n",
       "      <td>sedan</td>\n",
       "      <td>fwd</td>\n",
       "      <td>front</td>\n",
       "      <td>99.8</td>\n",
       "      <td>...</td>\n",
       "      <td>136</td>\n",
       "      <td>mpfi</td>\n",
       "      <td>3.19</td>\n",
       "      <td>3.40</td>\n",
       "      <td>8.5</td>\n",
       "      <td>110</td>\n",
       "      <td>5500</td>\n",
       "      <td>19</td>\n",
       "      <td>25</td>\n",
       "      <td>15250</td>\n",
       "    </tr>\n",
       "    <tr>\n",
       "      <th>18</th>\n",
       "      <td>2</td>\n",
       "      <td>121</td>\n",
       "      <td>chevrolet</td>\n",
       "      <td>gas</td>\n",
       "      <td>std</td>\n",
       "      <td>two</td>\n",
       "      <td>hatchback</td>\n",
       "      <td>fwd</td>\n",
       "      <td>front</td>\n",
       "      <td>88.4</td>\n",
       "      <td>...</td>\n",
       "      <td>61</td>\n",
       "      <td>2bbl</td>\n",
       "      <td>2.91</td>\n",
       "      <td>3.03</td>\n",
       "      <td>9.5</td>\n",
       "      <td>48</td>\n",
       "      <td>5100</td>\n",
       "      <td>47</td>\n",
       "      <td>53</td>\n",
       "      <td>5151</td>\n",
       "    </tr>\n",
       "    <tr>\n",
       "      <th>188</th>\n",
       "      <td>2</td>\n",
       "      <td>94</td>\n",
       "      <td>volkswagen</td>\n",
       "      <td>gas</td>\n",
       "      <td>std</td>\n",
       "      <td>four</td>\n",
       "      <td>sedan</td>\n",
       "      <td>fwd</td>\n",
       "      <td>front</td>\n",
       "      <td>97.3</td>\n",
       "      <td>...</td>\n",
       "      <td>109</td>\n",
       "      <td>mpfi</td>\n",
       "      <td>3.19</td>\n",
       "      <td>3.40</td>\n",
       "      <td>10.0</td>\n",
       "      <td>100</td>\n",
       "      <td>5500</td>\n",
       "      <td>26</td>\n",
       "      <td>32</td>\n",
       "      <td>9995</td>\n",
       "    </tr>\n",
       "    <tr>\n",
       "      <th>...</th>\n",
       "      <td>...</td>\n",
       "      <td>...</td>\n",
       "      <td>...</td>\n",
       "      <td>...</td>\n",
       "      <td>...</td>\n",
       "      <td>...</td>\n",
       "      <td>...</td>\n",
       "      <td>...</td>\n",
       "      <td>...</td>\n",
       "      <td>...</td>\n",
       "      <td>...</td>\n",
       "      <td>...</td>\n",
       "      <td>...</td>\n",
       "      <td>...</td>\n",
       "      <td>...</td>\n",
       "      <td>...</td>\n",
       "      <td>...</td>\n",
       "      <td>...</td>\n",
       "      <td>...</td>\n",
       "      <td>...</td>\n",
       "      <td>...</td>\n",
       "    </tr>\n",
       "    <tr>\n",
       "      <th>67</th>\n",
       "      <td>-1</td>\n",
       "      <td>93</td>\n",
       "      <td>mercedes-benz</td>\n",
       "      <td>diesel</td>\n",
       "      <td>turbo</td>\n",
       "      <td>four</td>\n",
       "      <td>sedan</td>\n",
       "      <td>rwd</td>\n",
       "      <td>front</td>\n",
       "      <td>110.0</td>\n",
       "      <td>...</td>\n",
       "      <td>183</td>\n",
       "      <td>idi</td>\n",
       "      <td>3.58</td>\n",
       "      <td>3.64</td>\n",
       "      <td>21.5</td>\n",
       "      <td>123</td>\n",
       "      <td>4350</td>\n",
       "      <td>22</td>\n",
       "      <td>25</td>\n",
       "      <td>25552</td>\n",
       "    </tr>\n",
       "    <tr>\n",
       "      <th>192</th>\n",
       "      <td>0</td>\n",
       "      <td>?</td>\n",
       "      <td>volkswagen</td>\n",
       "      <td>diesel</td>\n",
       "      <td>turbo</td>\n",
       "      <td>four</td>\n",
       "      <td>sedan</td>\n",
       "      <td>fwd</td>\n",
       "      <td>front</td>\n",
       "      <td>100.4</td>\n",
       "      <td>...</td>\n",
       "      <td>97</td>\n",
       "      <td>idi</td>\n",
       "      <td>3.01</td>\n",
       "      <td>3.40</td>\n",
       "      <td>23.0</td>\n",
       "      <td>68</td>\n",
       "      <td>4500</td>\n",
       "      <td>33</td>\n",
       "      <td>38</td>\n",
       "      <td>13845</td>\n",
       "    </tr>\n",
       "    <tr>\n",
       "      <th>117</th>\n",
       "      <td>0</td>\n",
       "      <td>161</td>\n",
       "      <td>peugot</td>\n",
       "      <td>gas</td>\n",
       "      <td>turbo</td>\n",
       "      <td>four</td>\n",
       "      <td>sedan</td>\n",
       "      <td>rwd</td>\n",
       "      <td>front</td>\n",
       "      <td>108.0</td>\n",
       "      <td>...</td>\n",
       "      <td>134</td>\n",
       "      <td>mpfi</td>\n",
       "      <td>3.61</td>\n",
       "      <td>3.21</td>\n",
       "      <td>7.0</td>\n",
       "      <td>142</td>\n",
       "      <td>5600</td>\n",
       "      <td>18</td>\n",
       "      <td>24</td>\n",
       "      <td>18150</td>\n",
       "    </tr>\n",
       "    <tr>\n",
       "      <th>47</th>\n",
       "      <td>0</td>\n",
       "      <td>145</td>\n",
       "      <td>jaguar</td>\n",
       "      <td>gas</td>\n",
       "      <td>std</td>\n",
       "      <td>four</td>\n",
       "      <td>sedan</td>\n",
       "      <td>rwd</td>\n",
       "      <td>front</td>\n",
       "      <td>113.0</td>\n",
       "      <td>...</td>\n",
       "      <td>258</td>\n",
       "      <td>mpfi</td>\n",
       "      <td>3.63</td>\n",
       "      <td>4.17</td>\n",
       "      <td>8.1</td>\n",
       "      <td>176</td>\n",
       "      <td>4750</td>\n",
       "      <td>15</td>\n",
       "      <td>19</td>\n",
       "      <td>32250</td>\n",
       "    </tr>\n",
       "    <tr>\n",
       "      <th>172</th>\n",
       "      <td>2</td>\n",
       "      <td>134</td>\n",
       "      <td>toyota</td>\n",
       "      <td>gas</td>\n",
       "      <td>std</td>\n",
       "      <td>two</td>\n",
       "      <td>convertible</td>\n",
       "      <td>rwd</td>\n",
       "      <td>front</td>\n",
       "      <td>98.4</td>\n",
       "      <td>...</td>\n",
       "      <td>146</td>\n",
       "      <td>mpfi</td>\n",
       "      <td>3.62</td>\n",
       "      <td>3.50</td>\n",
       "      <td>9.3</td>\n",
       "      <td>116</td>\n",
       "      <td>4800</td>\n",
       "      <td>24</td>\n",
       "      <td>30</td>\n",
       "      <td>17669</td>\n",
       "    </tr>\n",
       "  </tbody>\n",
       "</table>\n",
       "<p>205 rows × 26 columns</p>\n",
       "</div>"
      ],
      "text/plain": [
       "     symboling losses           make fuel-type aspiration num-doors  \\\n",
       "52           1    104          mazda       gas        std       two   \n",
       "181         -1      ?         toyota       gas        std      four   \n",
       "5            2      ?           audi       gas        std       two   \n",
       "18           2    121      chevrolet       gas        std       two   \n",
       "188          2     94     volkswagen       gas        std      four   \n",
       "..         ...    ...            ...       ...        ...       ...   \n",
       "67          -1     93  mercedes-benz    diesel      turbo      four   \n",
       "192          0      ?     volkswagen    diesel      turbo      four   \n",
       "117          0    161         peugot       gas      turbo      four   \n",
       "47           0    145         jaguar       gas        std      four   \n",
       "172          2    134         toyota       gas        std       two   \n",
       "\n",
       "      body-style drive-wheels engine-location  wheel-base  ...  engine-size  \\\n",
       "52     hatchback          fwd           front        93.1  ...           91   \n",
       "181        wagon          rwd           front       104.5  ...          161   \n",
       "5          sedan          fwd           front        99.8  ...          136   \n",
       "18     hatchback          fwd           front        88.4  ...           61   \n",
       "188        sedan          fwd           front        97.3  ...          109   \n",
       "..           ...          ...             ...         ...  ...          ...   \n",
       "67         sedan          rwd           front       110.0  ...          183   \n",
       "192        sedan          fwd           front       100.4  ...           97   \n",
       "117        sedan          rwd           front       108.0  ...          134   \n",
       "47         sedan          rwd           front       113.0  ...          258   \n",
       "172  convertible          rwd           front        98.4  ...          146   \n",
       "\n",
       "     fuel-system  bore  stroke compression-ratio horsepower  peak-rpm  \\\n",
       "52          2bbl  3.03    3.15               9.0         68      5000   \n",
       "181         mpfi  3.27    3.35               9.2        156      5200   \n",
       "5           mpfi  3.19    3.40               8.5        110      5500   \n",
       "18          2bbl  2.91    3.03               9.5         48      5100   \n",
       "188         mpfi  3.19    3.40              10.0        100      5500   \n",
       "..           ...   ...     ...               ...        ...       ...   \n",
       "67           idi  3.58    3.64              21.5        123      4350   \n",
       "192          idi  3.01    3.40              23.0         68      4500   \n",
       "117         mpfi  3.61    3.21               7.0        142      5600   \n",
       "47          mpfi  3.63    4.17               8.1        176      4750   \n",
       "172         mpfi  3.62    3.50               9.3        116      4800   \n",
       "\n",
       "    city-mpg highway-mpg  price  \n",
       "52        31          38   6795  \n",
       "181       19          24  15750  \n",
       "5         19          25  15250  \n",
       "18        47          53   5151  \n",
       "188       26          32   9995  \n",
       "..       ...         ...    ...  \n",
       "67        22          25  25552  \n",
       "192       33          38  13845  \n",
       "117       18          24  18150  \n",
       "47        15          19  32250  \n",
       "172       24          30  17669  \n",
       "\n",
       "[205 rows x 26 columns]"
      ]
     },
     "metadata": {},
     "output_type": "display_data"
    }
   ],
   "source": [
    "# We want to shuffle the order of the rows without touching the columns.\n",
    "# First, we get a list of indices corresponding to the rows.\n",
    "indices = np.arange(car_data.shape[0])\n",
    "print('indices:', indices, '\\n')\n",
    "\n",
    "# Next, we shuffle the indices using np.random.permutation but set a random seed\n",
    "# so that everyone gets the same results each time.\n",
    "np.random.seed(0)\n",
    "shuffled_indices = np.random.permutation(indices)\n",
    "print('shuffled indices:', shuffled_indices, '\\n')\n",
    "\n",
    "# Finally, we use dataframe.reindex to change the ordering of the original\n",
    "# dataframe.\n",
    "car_data = car_data.reindex(shuffled_indices)\n",
    "display(car_data)\n",
    "\n",
    "# Note that this could be done in one fancy line:\n",
    "# car_data = car_data.reindex(np.random.permutation(car_data.shape[0]))"
   ]
  },
  {
   "cell_type": "markdown",
   "metadata": {
    "id": "67gI95UG0FAW"
   },
   "source": [
    "### Feature selection\n",
    "To keep things simple, we will keep just a few of the 26 columns. Since the values come as strings, we need to convert them to floats. Also, we remove examples (rows) that have some missing value(s) of the columns we care about. Note that in general, there are various ways to deal with missing features, and this strategy of dropping examples with any missing feature is not ideal."
   ]
  },
  {
   "cell_type": "code",
   "execution_count": 17,
   "metadata": {
    "id": "zwu8udZY0Fkj"
   },
   "outputs": [
    {
     "data": {
      "text/html": [
       "<div>\n",
       "<style scoped>\n",
       "    .dataframe tbody tr th:only-of-type {\n",
       "        vertical-align: middle;\n",
       "    }\n",
       "\n",
       "    .dataframe tbody tr th {\n",
       "        vertical-align: top;\n",
       "    }\n",
       "\n",
       "    .dataframe thead th {\n",
       "        text-align: right;\n",
       "    }\n",
       "</style>\n",
       "<table border=\"1\" class=\"dataframe\">\n",
       "  <thead>\n",
       "    <tr style=\"text-align: right;\">\n",
       "      <th></th>\n",
       "      <th>horsepower</th>\n",
       "      <th>peak-rpm</th>\n",
       "      <th>city-mpg</th>\n",
       "      <th>highway-mpg</th>\n",
       "      <th>price</th>\n",
       "    </tr>\n",
       "  </thead>\n",
       "  <tbody>\n",
       "    <tr>\n",
       "      <th>52</th>\n",
       "      <td>68.0</td>\n",
       "      <td>5000.0</td>\n",
       "      <td>31</td>\n",
       "      <td>38</td>\n",
       "      <td>6795.0</td>\n",
       "    </tr>\n",
       "    <tr>\n",
       "      <th>181</th>\n",
       "      <td>156.0</td>\n",
       "      <td>5200.0</td>\n",
       "      <td>19</td>\n",
       "      <td>24</td>\n",
       "      <td>15750.0</td>\n",
       "    </tr>\n",
       "    <tr>\n",
       "      <th>5</th>\n",
       "      <td>110.0</td>\n",
       "      <td>5500.0</td>\n",
       "      <td>19</td>\n",
       "      <td>25</td>\n",
       "      <td>15250.0</td>\n",
       "    </tr>\n",
       "    <tr>\n",
       "      <th>18</th>\n",
       "      <td>48.0</td>\n",
       "      <td>5100.0</td>\n",
       "      <td>47</td>\n",
       "      <td>53</td>\n",
       "      <td>5151.0</td>\n",
       "    </tr>\n",
       "    <tr>\n",
       "      <th>188</th>\n",
       "      <td>100.0</td>\n",
       "      <td>5500.0</td>\n",
       "      <td>26</td>\n",
       "      <td>32</td>\n",
       "      <td>9995.0</td>\n",
       "    </tr>\n",
       "    <tr>\n",
       "      <th>...</th>\n",
       "      <td>...</td>\n",
       "      <td>...</td>\n",
       "      <td>...</td>\n",
       "      <td>...</td>\n",
       "      <td>...</td>\n",
       "    </tr>\n",
       "    <tr>\n",
       "      <th>67</th>\n",
       "      <td>123.0</td>\n",
       "      <td>4350.0</td>\n",
       "      <td>22</td>\n",
       "      <td>25</td>\n",
       "      <td>25552.0</td>\n",
       "    </tr>\n",
       "    <tr>\n",
       "      <th>192</th>\n",
       "      <td>68.0</td>\n",
       "      <td>4500.0</td>\n",
       "      <td>33</td>\n",
       "      <td>38</td>\n",
       "      <td>13845.0</td>\n",
       "    </tr>\n",
       "    <tr>\n",
       "      <th>117</th>\n",
       "      <td>142.0</td>\n",
       "      <td>5600.0</td>\n",
       "      <td>18</td>\n",
       "      <td>24</td>\n",
       "      <td>18150.0</td>\n",
       "    </tr>\n",
       "    <tr>\n",
       "      <th>47</th>\n",
       "      <td>176.0</td>\n",
       "      <td>4750.0</td>\n",
       "      <td>15</td>\n",
       "      <td>19</td>\n",
       "      <td>32250.0</td>\n",
       "    </tr>\n",
       "    <tr>\n",
       "      <th>172</th>\n",
       "      <td>116.0</td>\n",
       "      <td>4800.0</td>\n",
       "      <td>24</td>\n",
       "      <td>30</td>\n",
       "      <td>17669.0</td>\n",
       "    </tr>\n",
       "  </tbody>\n",
       "</table>\n",
       "<p>199 rows × 5 columns</p>\n",
       "</div>"
      ],
      "text/plain": [
       "     horsepower  peak-rpm  city-mpg  highway-mpg    price\n",
       "52         68.0    5000.0        31           38   6795.0\n",
       "181       156.0    5200.0        19           24  15750.0\n",
       "5         110.0    5500.0        19           25  15250.0\n",
       "18         48.0    5100.0        47           53   5151.0\n",
       "188       100.0    5500.0        26           32   9995.0\n",
       "..          ...       ...       ...          ...      ...\n",
       "67        123.0    4350.0        22           25  25552.0\n",
       "192        68.0    4500.0        33           38  13845.0\n",
       "117       142.0    5600.0        18           24  18150.0\n",
       "47        176.0    4750.0        15           19  32250.0\n",
       "172       116.0    4800.0        24           30  17669.0\n",
       "\n",
       "[199 rows x 5 columns]"
      ]
     },
     "metadata": {},
     "output_type": "display_data"
    }
   ],
   "source": [
    "# Choose a subset of columns (these are all numeric).\n",
    "columns = ['horsepower', 'peak-rpm', 'city-mpg', 'highway-mpg', 'price']\n",
    "car_data = car_data[columns]\n",
    "\n",
    "# Convert strings to numeric values, coercing missing values to nan.\n",
    "for column in columns:\n",
    "  car_data[column] = pd.to_numeric(car_data[column], errors='coerce')\n",
    "\n",
    "# The dropna function drops rows with missing value(s) by default.\n",
    "car_data = car_data.dropna()\n",
    "\n",
    "# This leaves us with 199 examples.\n",
    "display(car_data)"
   ]
  },
  {
   "cell_type": "markdown",
   "metadata": {
    "id": "S55LmJ9DwRJg"
   },
   "source": [
    "### Train/Test split\n",
    "Now that we've shuffled the order, we can split into portions for train and test easily. We'll try to avoid looking at the test data.\n",
    "\n",
    "We're going to train models that **predict price from the other columns**, so we'll create separate variables for input and output data.\n"
   ]
  },
  {
   "cell_type": "code",
   "execution_count": 18,
   "metadata": {
    "id": "Fj3U4nBMm0QX"
   },
   "outputs": [
    {
     "name": "stdout",
     "output_type": "stream",
     "text": [
      "train data shape: (160, 4)\n",
      "train labels shape: (160,)\n",
      "test data shape: (39, 4)\n",
      "test labels shape: (39,)\n"
     ]
    }
   ],
   "source": [
    "# We'll use these input features.\n",
    "features = ['horsepower', 'peak-rpm', 'city-mpg', 'highway-mpg']\n",
    "\n",
    "# Use a ~80/20 train/test split.\n",
    "car_train = car_data[:160]\n",
    "car_test = car_data[160:]\n",
    "\n",
    "# Create separate variables for features (inputs) and labels (outputs).\n",
    "# We will be using these in the cells below.\n",
    "car_train_features = car_train[features]\n",
    "car_test_features = car_test[features]\n",
    "car_train_labels = car_train['price']\n",
    "car_test_labels = car_test['price']\n",
    "\n",
    "# Confirm the data shapes are as expected.\n",
    "print('train data shape:', car_train_features.shape)\n",
    "print('train labels shape:', car_train_labels.shape)\n",
    "print('test data shape:', car_test_features.shape)\n",
    "print('test labels shape:', car_test_labels.shape)"
   ]
  },
  {
   "cell_type": "code",
   "execution_count": 19,
   "metadata": {},
   "outputs": [
    {
     "data": {
      "text/plain": [
       "pandas.core.frame.DataFrame"
      ]
     },
     "execution_count": 19,
     "metadata": {},
     "output_type": "execute_result"
    }
   ],
   "source": [
    "type(car_train_features)"
   ]
  },
  {
   "cell_type": "markdown",
   "metadata": {
    "id": "1dGZgYo7gp4X"
   },
   "source": [
    "---\n",
    "### Exercise 1: Baseline (8 points)"
   ]
  },
  {
   "cell_type": "markdown",
   "metadata": {},
   "source": [
    "Now that we have test data, we can evaluate a baseline. We'll use the average price of cars in the training set as our baseline model -- that is, the baseline always predicts the average price regardless of the input. And, instead of MSE, let's use **RMSE** (root mean squared error) -- that is, just take the square root of the MSE -- as our evaluation metric.\n",
    "\n",
    "1. Implement this baseline.\n",
    "2. Compute the RMSE of the baseline on both the train and test data.\n",
    "3. Is the test RMSE larger or smaller than the train RMSE? Explain whether this is what you'd expect."
   ]
  },
  {
   "cell_type": "code",
   "execution_count": 42,
   "metadata": {
    "id": "osBXeXWygp4T"
   },
   "outputs": [
    {
     "name": "stdout",
     "output_type": "stream",
     "text": [
      "RMSE of baseline on train data: 7946.598808255957\n",
      "RMSE of baseline on test data: 7965.950903945884\n"
     ]
    }
   ],
   "source": [
    "#Baseline function\n",
    "\n",
    "def base_model(input ,output):\n",
    "    ave = np.average(output)\n",
    "    return ave\n",
    "\n",
    "base_model(car_train_features, car_train_labels)\n",
    "\n",
    "#RMSE calculation\n",
    "err_train = car_train_labels - base_model(car_train_features,car_train_labels)\n",
    "err_test = car_test_labels - base_model(car_test_features,car_test_labels)\n",
    "RMSE_train = np.sqrt(np.average(err_train * err_train))\n",
    "RMSE_test = np.sqrt(np.average(err_test * err_test))\n",
    "print(\"RMSE of baseline on train data:\",RMSE_train)\n",
    "print(\"RMSE of baseline on test data:\",RMSE_test)"
   ]
  },
  {
   "cell_type": "markdown",
   "metadata": {
    "id": "_j-BZ24fkWII"
   },
   "source": [
    "*Written answer:*\n",
    "\n",
    "The test RMSE is larger than the train RMSE. \n",
    "This could be one of the multiple results within certain circumstances of expectation. In general, a larger sample size will have the RMSE/MSE converged to a centain nunmber depends on the distribution of samples. \n"
   ]
  },
  {
   "cell_type": "markdown",
   "metadata": {
    "id": "dsBULSBygp4R"
   },
   "source": [
    "---"
   ]
  },
  {
   "cell_type": "markdown",
   "metadata": {
    "id": "wPQ2gQ4D8Jg6"
   },
   "source": [
    "### Feature histograms\n",
    "It's hard to stare at a matrix of 160x5 numbers (the shape of our training data) and know what to make of it. Plotting feature histograms is a good way to start building intuition about the data. This gives us a sense of the distribution of each feature, but not how the features relate to each other.\n",
    "\n",
    "We can also use the `describe` function to look at some aggregate statistics for the `DataFrame`."
   ]
  },
  {
   "cell_type": "code",
   "execution_count": 43,
   "metadata": {
    "id": "BTz4yHT0xMUS"
   },
   "outputs": [
    {
     "data": {
      "image/png": "[encoded data removed]",
      "text/plain": [
       "<Figure size 1080x216 with 5 Axes>"
      ]
     },
     "metadata": {},
     "output_type": "display_data"
    },
    {
     "data": {
      "text/html": [
       "<div>\n",
       "<style scoped>\n",
       "    .dataframe tbody tr th:only-of-type {\n",
       "        vertical-align: middle;\n",
       "    }\n",
       "\n",
       "    .dataframe tbody tr th {\n",
       "        vertical-align: top;\n",
       "    }\n",
       "\n",
       "    .dataframe thead th {\n",
       "        text-align: right;\n",
       "    }\n",
       "</style>\n",
       "<table border=\"1\" class=\"dataframe\">\n",
       "  <thead>\n",
       "    <tr style=\"text-align: right;\">\n",
       "      <th></th>\n",
       "      <th>horsepower</th>\n",
       "      <th>peak-rpm</th>\n",
       "      <th>city-mpg</th>\n",
       "      <th>highway-mpg</th>\n",
       "      <th>price</th>\n",
       "    </tr>\n",
       "  </thead>\n",
       "  <tbody>\n",
       "    <tr>\n",
       "      <th>count</th>\n",
       "      <td>160.000000</td>\n",
       "      <td>160.000000</td>\n",
       "      <td>160.000000</td>\n",
       "      <td>160.000000</td>\n",
       "      <td>160.000000</td>\n",
       "    </tr>\n",
       "    <tr>\n",
       "      <th>mean</th>\n",
       "      <td>101.468750</td>\n",
       "      <td>5105.625000</td>\n",
       "      <td>25.493750</td>\n",
       "      <td>31.025000</td>\n",
       "      <td>13064.675000</td>\n",
       "    </tr>\n",
       "    <tr>\n",
       "      <th>std</th>\n",
       "      <td>38.227542</td>\n",
       "      <td>467.059162</td>\n",
       "      <td>6.649346</td>\n",
       "      <td>7.106512</td>\n",
       "      <td>7971.548944</td>\n",
       "    </tr>\n",
       "    <tr>\n",
       "      <th>min</th>\n",
       "      <td>48.000000</td>\n",
       "      <td>4150.000000</td>\n",
       "      <td>13.000000</td>\n",
       "      <td>16.000000</td>\n",
       "      <td>5118.000000</td>\n",
       "    </tr>\n",
       "    <tr>\n",
       "      <th>25%</th>\n",
       "      <td>70.000000</td>\n",
       "      <td>4800.000000</td>\n",
       "      <td>19.000000</td>\n",
       "      <td>25.000000</td>\n",
       "      <td>7609.000000</td>\n",
       "    </tr>\n",
       "    <tr>\n",
       "      <th>50%</th>\n",
       "      <td>93.000000</td>\n",
       "      <td>5100.000000</td>\n",
       "      <td>25.000000</td>\n",
       "      <td>30.500000</td>\n",
       "      <td>10320.000000</td>\n",
       "    </tr>\n",
       "    <tr>\n",
       "      <th>75%</th>\n",
       "      <td>115.250000</td>\n",
       "      <td>5500.000000</td>\n",
       "      <td>31.000000</td>\n",
       "      <td>37.000000</td>\n",
       "      <td>16500.000000</td>\n",
       "    </tr>\n",
       "    <tr>\n",
       "      <th>max</th>\n",
       "      <td>262.000000</td>\n",
       "      <td>6600.000000</td>\n",
       "      <td>49.000000</td>\n",
       "      <td>54.000000</td>\n",
       "      <td>45400.000000</td>\n",
       "    </tr>\n",
       "  </tbody>\n",
       "</table>\n",
       "</div>"
      ],
      "text/plain": [
       "       horsepower     peak-rpm    city-mpg  highway-mpg         price\n",
       "count  160.000000   160.000000  160.000000   160.000000    160.000000\n",
       "mean   101.468750  5105.625000   25.493750    31.025000  13064.675000\n",
       "std     38.227542   467.059162    6.649346     7.106512   7971.548944\n",
       "min     48.000000  4150.000000   13.000000    16.000000   5118.000000\n",
       "25%     70.000000  4800.000000   19.000000    25.000000   7609.000000\n",
       "50%     93.000000  5100.000000   25.000000    30.500000  10320.000000\n",
       "75%    115.250000  5500.000000   31.000000    37.000000  16500.000000\n",
       "max    262.000000  6600.000000   49.000000    54.000000  45400.000000"
      ]
     },
     "metadata": {},
     "output_type": "display_data"
    }
   ],
   "source": [
    "plt.figure(figsize=(15, 3))\n",
    "for i in range(len(columns)):\n",
    "  plt.subplot(1, 5, i+1)\n",
    "  plt.hist(np.array(car_train[columns[i]]))\n",
    "  plt.title(columns[i])\n",
    "plt.show()\n",
    "\n",
    "display(car_train.describe())"
   ]
  },
  {
   "cell_type": "markdown",
   "metadata": {
    "id": "T4wvvzKoUIAN"
   },
   "source": [
    "---\n",
    "### Exercise 2: Feature correlations (8 points)"
   ]
  },
  {
   "cell_type": "markdown",
   "metadata": {},
   "source": [
    "Using pandas [`corr()`](https://pandas.pydata.org/pandas-docs/stable/reference/api/pandas.DataFrame.corr.html) to print all the pairwise correlation coefficients for the columns (use the training data only). See also the [Wikipedia page on correlation](https://en.wikipedia.org/wiki/Correlation) for more background.\n",
    "\n",
    "Then answer the following questions:\n",
    "\n",
    "1. It appears that higher-priced cars have higher or lower fuel efficiency?\n",
    "1. Which two features are likely to be most redundant?\n",
    "1. Which feature is likely to be least useful for predicting price?\n",
    "\n",
    "Extra (ungraded): try using [`sns.pairplot`](https://seaborn.pydata.org/generated/seaborn.pairplot.html) to examine each pair of features."
   ]
  },
  {
   "cell_type": "code",
   "execution_count": 44,
   "metadata": {
    "id": "HJtwrjdO6TbS"
   },
   "outputs": [
    {
     "name": "stdout",
     "output_type": "stream",
     "text": [
      "             horsepower  peak-rpm  city-mpg  highway-mpg     price\n",
      "horsepower     1.000000  0.104330 -0.815571    -0.798128  0.829328\n",
      "peak-rpm       0.104330  1.000000 -0.140634    -0.084458 -0.082567\n",
      "city-mpg      -0.815571 -0.140634  1.000000     0.973606 -0.695344\n",
      "highway-mpg   -0.798128 -0.084458  0.973606     1.000000 -0.703647\n",
      "price          0.829328 -0.082567 -0.695344    -0.703647  1.000000\n"
     ]
    },
    {
     "data": {
      "text/plain": [
       "<seaborn.axisgrid.PairGrid at 0x7fce0b386310>"
      ]
     },
     "execution_count": 44,
     "metadata": {},
     "output_type": "execute_result"
    },
    {
     "data": {
      "image/png": "[encoded data removed]",
      "text/plain": [
       "<Figure size 900x900 with 30 Axes>"
      ]
     },
     "metadata": {},
     "output_type": "display_data"
    }
   ],
   "source": [
    "cm = car_train.corr()\n",
    "print(cm)\n",
    "sns.pairplot(car_train)"
   ]
  },
  {
   "cell_type": "markdown",
   "metadata": {
    "id": "j9EH9D7Faf9n"
   },
   "source": [
    "*Written answer:*\n",
    "\n",
    "1.  Higher priced cars have lower fuel efficiency with the correlation between `price` and city-mpg`/`highway-mpg` as -0.7.\n",
    "2. `city-mpg` and `highway-mpg` are very much correlated. One of the two could potentially be removed from the feature.\n",
    "3. With the correlation of -0.08, `peak-rpm` would have minimal contribution to the price prediction."
   ]
  },
  {
   "cell_type": "markdown",
   "metadata": {
    "id": "xxOhpvdW6TbX"
   },
   "source": [
    "---"
   ]
  },
  {
   "cell_type": "markdown",
   "metadata": {
    "id": "vDsxLnljlp0C"
   },
   "source": [
    "## Tensorflow\n",
    "\n",
    "Let's train a linear regression model much like we did in the previous assignment, but this time using Tensorflow. Tensorflow is a powerful library with a complicated API so it is easy to get overwhelmed. We'll try to keep it simple."
   ]
  },
  {
   "cell_type": "markdown",
   "metadata": {
    "id": "JjIwkSWBRp_i"
   },
   "source": [
    "### Build a model\n",
    "Here's how you use Tensorflow: First, you build a *computational graph*, and then you send data through it.\n",
    "\n",
    "This is confusing, but you'll get used to it. The computational graph for linear regression is very simple. There are many ways to build graphs, but the [Keras library](https://www.tensorflow.org/api_docs/python/tf/keras) is recommended. Here, we're using [`keras.layers.Dense`](https://www.tensorflow.org/api_docs/python/tf/keras/layers/Dense) to create a model layer. We will go over Tensorflow and Keras in more detail, so don't worry about understanding everything now."
   ]
  },
  {
   "cell_type": "code",
   "execution_count": 45,
   "metadata": {
    "id": "pfdRzjk-RgpG"
   },
   "outputs": [],
   "source": [
    "def build_model(num_features, learning_rate):\n",
    "  \"\"\"Build a TF linear regression model using Keras.\n",
    "\n",
    "  Args:\n",
    "    num_features: The number of input features.\n",
    "    learning_rate: The desired learning rate for SGD.\n",
    "\n",
    "  Returns:\n",
    "    model: A tf.keras model (graph).\n",
    "  \"\"\"\n",
    "  # This is not strictly necessary, but each time you build a model, TF adds\n",
    "  # new nodes (rather than overwriting), so the colab session can end up\n",
    "  # storing lots of copies of the graph when you only care about the most\n",
    "  # recent. Also, as there is some randomness built into training with SGD,\n",
    "  # setting a random seed ensures that results are the same on each identical\n",
    "  # training run.\n",
    "  tf.keras.backend.clear_session()\n",
    "  tf.random.set_seed(0)\n",
    "\n",
    "  # Build a model using keras.Sequential. While this is intended for neural\n",
    "  # networks (which may have multiple layers), we want just a single layer for\n",
    "  # linear regression.\n",
    "  model = tf.keras.Sequential()\n",
    "  model.add(tf.keras.layers.Dense(\n",
    "      units=1,                     # output dim\n",
    "      input_shape=[num_features],  # input dim\n",
    "      use_bias=True,               # use a bias (intercept) param\n",
    "      kernel_initializer=tf.ones_initializer,  # initialize params to 1\n",
    "      bias_initializer=tf.ones_initializer,    # initialize bias to 1\n",
    "  ))\n",
    "\n",
    "  # We need to choose an optimizer. We'll use SGD, which is actually mini-batch\n",
    "  # SGD. We can specify the batch size to use for training later.\n",
    "  optimizer = tf.keras.optimizers.SGD(learning_rate=learning_rate)\n",
    "\n",
    "  # Finally, we compile the model. This finalizes the graph for training.\n",
    "  # We specify the MSE loss.\n",
    "  model.compile(loss='mse', optimizer=optimizer)\n",
    "  return model"
   ]
  },
  {
   "cell_type": "markdown",
   "metadata": {
    "id": "oweNCtkrfSSm"
   },
   "source": [
    "After we've built a model, we can inspect the initial parameters (weights). There should be two ($w_0$ and $b$) and they should be initialized to 1, which we specified above using `tf.ones_initializer`. Unlike our code in the last assignment, Tensorflow stores the bias/intercept separately from the other weights/parameters for the layer. We also don't need to prepend a column of 1s to learn the bias -- Tensorflow handles this for us."
   ]
  },
  {
   "cell_type": "code",
   "execution_count": 46,
   "metadata": {
    "id": "deD_nYrTfSvc"
   },
   "outputs": [
    {
     "name": "stdout",
     "output_type": "stream",
     "text": [
      "Weights: [[1.]]\n",
      "Biases: [1.]\n"
     ]
    }
   ],
   "source": [
    "# Build a model.\n",
    "model = build_model(num_features=1, learning_rate=0.0001)\n",
    "\n",
    "# Use get_weights() which returns lists of weights and biases for the layer.\n",
    "weights, biases = model.layers[0].get_weights()\n",
    "print('Weights:', weights)\n",
    "print('Biases:', biases)"
   ]
  },
  {
   "cell_type": "markdown",
   "metadata": {
    "id": "V-XRH2zqhND9"
   },
   "source": [
    "Let's also try building a model with 2 features. Notice that in both cases, the weights are 2-D while the biases are 1-D."
   ]
  },
  {
   "cell_type": "code",
   "execution_count": 47,
   "metadata": {
    "id": "ob6MerNohWjh"
   },
   "outputs": [
    {
     "name": "stdout",
     "output_type": "stream",
     "text": [
      "Weights: [[1.]\n",
      " [1.]]\n",
      "Biases: [1.]\n"
     ]
    }
   ],
   "source": [
    "# Build a model and look at the initial parameter values.\n",
    "model = build_model(num_features=2, learning_rate=0.0001)\n",
    "weights, biases = model.layers[0].get_weights()\n",
    "print('Weights:', weights)\n",
    "print('Biases:', biases)"
   ]
  },
  {
   "cell_type": "markdown",
   "metadata": {
    "id": "e9sNzLTFWliB"
   },
   "source": [
    "### Making predictions\n",
    "Wait, we haven't trained yet! Why are we talking about making predictions? Well, remember that a model is a computational graph. That means we can pass data (of the expected shape) through the model (using the current values of the parameters) to make predictions.\n",
    "\n",
    "Before training, the parameters are set to their initial values (1s in our case). During training, we use the current predictions to compute a gradient and update the parameter values. Making predictions using the model without updating parameter values is called **Inference**.\n",
    "\n",
    "In the example code below, make sure you understand the output of `predict`."
   ]
  },
  {
   "cell_type": "code",
   "execution_count": 48,
   "metadata": {
    "id": "ZrpMK0XfX4-M"
   },
   "outputs": [
    {
     "name": "stdout",
     "output_type": "stream",
     "text": [
      "[[43.]]\n",
      "[[ 43.]\n",
      " [100.]]\n"
     ]
    }
   ],
   "source": [
    "# Build a model that expects 1 input feature.\n",
    "model = build_model(num_features=1, learning_rate=0.0001)\n",
    "\n",
    "# Make a prediction for a single input.\n",
    "print(model.predict([42]))\n",
    "\n",
    "# Make predictions for 2 inputs.\n",
    "print(model.predict([42, 99]))"
   ]
  },
  {
   "cell_type": "markdown",
   "metadata": {
    "id": "ymSX7q8zh9AJ"
   },
   "source": [
    "### Train a model\n",
    "Now let's actually train a model, initially with just 1 feature -- the horsepower. Notice that the `fit` function can take pandas DataFrame objects for input (x) and output (y). In addition, we can convert the return value into a DataFrame that tracks training metrics (in this case, training data loss and validation data loss) after each *epoch* (a full pass through the training data).\n",
    "\n",
    "Remember that we're using SGD, which is actually mini-batch SGD. That is, each time the model estimates the loss for the current weights, it randomly samples a batch of training examples (of the specified size) to do so.\n",
    "\n",
    "Finally, we'll reserve some more examples (taken out of the training set) as a *validation set*. We use this data to check for overfitting while training. Why not use the *test set* for this purpose? We want to maintain the purity of the test set so we try to only use it at the end of the experimental process."
   ]
  },
  {
   "cell_type": "code",
   "execution_count": 49,
   "metadata": {
    "id": "ixvnITrVf4r3"
   },
   "outputs": [
    {
     "data": {
      "text/html": [
       "<div>\n",
       "<style scoped>\n",
       "    .dataframe tbody tr th:only-of-type {\n",
       "        vertical-align: middle;\n",
       "    }\n",
       "\n",
       "    .dataframe tbody tr th {\n",
       "        vertical-align: top;\n",
       "    }\n",
       "\n",
       "    .dataframe thead th {\n",
       "        text-align: right;\n",
       "    }\n",
       "</style>\n",
       "<table border=\"1\" class=\"dataframe\">\n",
       "  <thead>\n",
       "    <tr style=\"text-align: right;\">\n",
       "      <th></th>\n",
       "      <th>loss</th>\n",
       "      <th>val_loss</th>\n",
       "    </tr>\n",
       "  </thead>\n",
       "  <tbody>\n",
       "    <tr>\n",
       "      <th>0</th>\n",
       "      <td>9.451236e+08</td>\n",
       "      <td>2.757709e+09</td>\n",
       "    </tr>\n",
       "    <tr>\n",
       "      <th>1</th>\n",
       "      <td>1.157148e+10</td>\n",
       "      <td>2.634771e+10</td>\n",
       "    </tr>\n",
       "    <tr>\n",
       "      <th>2</th>\n",
       "      <td>8.129331e+10</td>\n",
       "      <td>3.772780e+11</td>\n",
       "    </tr>\n",
       "    <tr>\n",
       "      <th>3</th>\n",
       "      <td>1.176510e+12</td>\n",
       "      <td>3.559108e+12</td>\n",
       "    </tr>\n",
       "    <tr>\n",
       "      <th>4</th>\n",
       "      <td>5.976483e+12</td>\n",
       "      <td>3.931731e+13</td>\n",
       "    </tr>\n",
       "  </tbody>\n",
       "</table>\n",
       "</div>"
      ],
      "text/plain": [
       "           loss      val_loss\n",
       "0  9.451236e+08  2.757709e+09\n",
       "1  1.157148e+10  2.634771e+10\n",
       "2  8.129331e+10  3.772780e+11\n",
       "3  1.176510e+12  3.559108e+12\n",
       "4  5.976483e+12  3.931731e+13"
      ]
     },
     "metadata": {},
     "output_type": "display_data"
    }
   ],
   "source": [
    "model = build_model(num_features=1, learning_rate=0.0001)\n",
    "\n",
    "history = model.fit(\n",
    "  x = car_train_features[['horsepower']],\n",
    "  y = car_train_labels,\n",
    "  validation_split=0.1,  # use 10% of the examples as a validation set\n",
    "  epochs=5,\n",
    "  batch_size=32,\n",
    "  verbose=0)\n",
    "\n",
    "# Convert the return value into a DataFrame so we can see the loss after each\n",
    "# epoch. The history includes training data loss ('loss') and validation data\n",
    "# loss ('val_loss').\n",
    "history = pd.DataFrame(history.history)\n",
    "display(history)\n"
   ]
  },
  {
   "cell_type": "markdown",
   "metadata": {
    "id": "D3HOTSNmjKU5"
   },
   "source": [
    "### Feature scaling\n",
    "The loss is increasing as we train! What's going wrong?\n",
    "\n",
    "Look back at the histograms above. Notice that the scale of each feature value is different. Horsepower ranges from 48 to 262, while price ranges from \\$5118 to \\$45400. These different scales makes it more difficult to set the learning rate, and may make learning nearly impossible when we use multiple features (the scales of the gradients will overwhelm the actual feature importances).\n",
    "\n",
    "First, try reducing the learning rate above by 10x to 1e-5. That should fix the problem for now.\n",
    "\n",
    "But a better solution is to normalize the features so they are all roughly in the same range. We'll do this with mean and variance normalization. That is, for each feature, we subtract the mean (center the distribution on 0) and divide by the standard deviation (set the variance to 1)."
   ]
  },
  {
   "cell_type": "markdown",
   "metadata": {
    "id": "T_CdHB5ol6Gw"
   },
   "source": [
    "---\n",
    "### Exercise 3: Feature normalization (8 points)"
   ]
  },
  {
   "cell_type": "markdown",
   "metadata": {},
   "source": [
    "Apply mean and variance normalization to produce car_train_features_norm and car_test_features_norm. These should be copies of the car_train_features and car_test_features, but with normalized feature values. Note that we're not normalizing the labels (prices).\n",
    "\n",
    "* DataFrame objects have `mean` and `std` functions you can use.\n",
    "* **Important:** You can't normalize the test data by computing mean and variance on the test data, as this would violate our willful blindness of the test data.\n",
    "* Use the `describe` function (as above) to verify your normalized data looks right."
   ]
  },
  {
   "cell_type": "code",
   "execution_count": 65,
   "metadata": {
    "id": "q9KKnJ9ymfqc"
   },
   "outputs": [
    {
     "data": {
      "text/html": [
       "<div>\n",
       "<style scoped>\n",
       "    .dataframe tbody tr th:only-of-type {\n",
       "        vertical-align: middle;\n",
       "    }\n",
       "\n",
       "    .dataframe tbody tr th {\n",
       "        vertical-align: top;\n",
       "    }\n",
       "\n",
       "    .dataframe thead th {\n",
       "        text-align: right;\n",
       "    }\n",
       "</style>\n",
       "<table border=\"1\" class=\"dataframe\">\n",
       "  <thead>\n",
       "    <tr style=\"text-align: right;\">\n",
       "      <th></th>\n",
       "      <th>horsepower</th>\n",
       "      <th>peak-rpm</th>\n",
       "      <th>city-mpg</th>\n",
       "      <th>highway-mpg</th>\n",
       "    </tr>\n",
       "  </thead>\n",
       "  <tbody>\n",
       "    <tr>\n",
       "      <th>count</th>\n",
       "      <td>160.000000</td>\n",
       "      <td>160.000000</td>\n",
       "      <td>1.600000e+02</td>\n",
       "      <td>1.600000e+02</td>\n",
       "    </tr>\n",
       "    <tr>\n",
       "      <th>mean</th>\n",
       "      <td>0.000000</td>\n",
       "      <td>0.000000</td>\n",
       "      <td>2.053913e-16</td>\n",
       "      <td>2.109424e-16</td>\n",
       "    </tr>\n",
       "    <tr>\n",
       "      <th>std</th>\n",
       "      <td>1.000000</td>\n",
       "      <td>1.000000</td>\n",
       "      <td>1.000000e+00</td>\n",
       "      <td>1.000000e+00</td>\n",
       "    </tr>\n",
       "    <tr>\n",
       "      <th>min</th>\n",
       "      <td>-1.398697</td>\n",
       "      <td>-2.046047</td>\n",
       "      <td>-1.878944e+00</td>\n",
       "      <td>-2.114258e+00</td>\n",
       "    </tr>\n",
       "    <tr>\n",
       "      <th>25%</th>\n",
       "      <td>-0.823196</td>\n",
       "      <td>-0.654360</td>\n",
       "      <td>-9.765999e-01</td>\n",
       "      <td>-8.478139e-01</td>\n",
       "    </tr>\n",
       "    <tr>\n",
       "      <th>50%</th>\n",
       "      <td>-0.221535</td>\n",
       "      <td>-0.012043</td>\n",
       "      <td>-7.425543e-02</td>\n",
       "      <td>-7.387590e-02</td>\n",
       "    </tr>\n",
       "    <tr>\n",
       "      <th>75%</th>\n",
       "      <td>0.360506</td>\n",
       "      <td>0.844379</td>\n",
       "      <td>8.280890e-01</td>\n",
       "      <td>8.407781e-01</td>\n",
       "    </tr>\n",
       "    <tr>\n",
       "      <th>max</th>\n",
       "      <td>4.199361</td>\n",
       "      <td>3.199541</td>\n",
       "      <td>3.535122e+00</td>\n",
       "      <td>3.232950e+00</td>\n",
       "    </tr>\n",
       "  </tbody>\n",
       "</table>\n",
       "</div>"
      ],
      "text/plain": [
       "       horsepower    peak-rpm      city-mpg   highway-mpg\n",
       "count  160.000000  160.000000  1.600000e+02  1.600000e+02\n",
       "mean     0.000000    0.000000  2.053913e-16  2.109424e-16\n",
       "std      1.000000    1.000000  1.000000e+00  1.000000e+00\n",
       "min     -1.398697   -2.046047 -1.878944e+00 -2.114258e+00\n",
       "25%     -0.823196   -0.654360 -9.765999e-01 -8.478139e-01\n",
       "50%     -0.221535   -0.012043 -7.425543e-02 -7.387590e-02\n",
       "75%      0.360506    0.844379  8.280890e-01  8.407781e-01\n",
       "max      4.199361    3.199541  3.535122e+00  3.232950e+00"
      ]
     },
     "metadata": {},
     "output_type": "display_data"
    },
    {
     "data": {
      "text/html": [
       "<div>\n",
       "<style scoped>\n",
       "    .dataframe tbody tr th:only-of-type {\n",
       "        vertical-align: middle;\n",
       "    }\n",
       "\n",
       "    .dataframe tbody tr th {\n",
       "        vertical-align: top;\n",
       "    }\n",
       "\n",
       "    .dataframe thead th {\n",
       "        text-align: right;\n",
       "    }\n",
       "</style>\n",
       "<table border=\"1\" class=\"dataframe\">\n",
       "  <thead>\n",
       "    <tr style=\"text-align: right;\">\n",
       "      <th></th>\n",
       "      <th>horsepower</th>\n",
       "      <th>peak-rpm</th>\n",
       "      <th>city-mpg</th>\n",
       "      <th>highway-mpg</th>\n",
       "    </tr>\n",
       "  </thead>\n",
       "  <tbody>\n",
       "    <tr>\n",
       "      <th>count</th>\n",
       "      <td>39.000000</td>\n",
       "      <td>39.000000</td>\n",
       "      <td>39.000000</td>\n",
       "      <td>39.000000</td>\n",
       "    </tr>\n",
       "    <tr>\n",
       "      <th>mean</th>\n",
       "      <td>0.257378</td>\n",
       "      <td>0.130694</td>\n",
       "      <td>-0.224646</td>\n",
       "      <td>-0.245261</td>\n",
       "    </tr>\n",
       "    <tr>\n",
       "      <th>std</th>\n",
       "      <td>0.888604</td>\n",
       "      <td>1.147576</td>\n",
       "      <td>0.824446</td>\n",
       "      <td>0.778770</td>\n",
       "    </tr>\n",
       "    <tr>\n",
       "      <th>min</th>\n",
       "      <td>-1.084787</td>\n",
       "      <td>-1.938994</td>\n",
       "      <td>-1.578163</td>\n",
       "      <td>-1.832826</td>\n",
       "    </tr>\n",
       "    <tr>\n",
       "      <th>25%</th>\n",
       "      <td>-0.456968</td>\n",
       "      <td>-0.654360</td>\n",
       "      <td>-0.976600</td>\n",
       "      <td>-0.847814</td>\n",
       "    </tr>\n",
       "    <tr>\n",
       "      <th>50%</th>\n",
       "      <td>0.327807</td>\n",
       "      <td>0.202062</td>\n",
       "      <td>-0.224646</td>\n",
       "      <td>-0.144234</td>\n",
       "    </tr>\n",
       "    <tr>\n",
       "      <th>75%</th>\n",
       "      <td>0.720194</td>\n",
       "      <td>0.844379</td>\n",
       "      <td>0.226526</td>\n",
       "      <td>0.207556</td>\n",
       "    </tr>\n",
       "    <tr>\n",
       "      <th>max</th>\n",
       "      <td>2.760608</td>\n",
       "      <td>3.199541</td>\n",
       "      <td>1.880824</td>\n",
       "      <td>1.544358</td>\n",
       "    </tr>\n",
       "  </tbody>\n",
       "</table>\n",
       "</div>"
      ],
      "text/plain": [
       "       horsepower   peak-rpm   city-mpg  highway-mpg\n",
       "count   39.000000  39.000000  39.000000    39.000000\n",
       "mean     0.257378   0.130694  -0.224646    -0.245261\n",
       "std      0.888604   1.147576   0.824446     0.778770\n",
       "min     -1.084787  -1.938994  -1.578163    -1.832826\n",
       "25%     -0.456968  -0.654360  -0.976600    -0.847814\n",
       "50%      0.327807   0.202062  -0.224646    -0.144234\n",
       "75%      0.720194   0.844379   0.226526     0.207556\n",
       "max      2.760608   3.199541   1.880824     1.544358"
      ]
     },
     "metadata": {},
     "output_type": "display_data"
    }
   ],
   "source": [
    "# YOUR CODE HERE\n",
    "car_train_features_norm = car_train_features.sub(car_train_features.mean()).div(car_train_features.std())\n",
    "car_test_features_norm = car_test_features.sub(car_train_features.mean()).div(car_train_features.std())\n",
    "display(car_train_features_norm.describe())\n",
    "display(car_test_features_norm.describe())"
   ]
  },
  {
   "cell_type": "markdown",
   "metadata": {},
   "source": [
    "---index"
   ]
  },
  {
   "cell_type": "markdown",
   "metadata": {
    "id": "WW0Kv3WLe1ZG"
   },
   "source": [
    "### Training with features\n",
    "We're ready to run some experiments with different sets of input features. To start, here's a simple function that plots train and validation set loss."
   ]
  },
  {
   "cell_type": "code",
   "execution_count": 66,
   "metadata": {
    "id": "X7Bo1FKqe8B2"
   },
   "outputs": [],
   "source": [
    "def plot_loss(model, history):\n",
    "  \"\"\"Plot the loss after each training epoch.\"\"\"\n",
    "  # Convert the history object into a DataFrame.\n",
    "  history = pd.DataFrame(history.history)\n",
    "\n",
    "  plt.figure()\n",
    "  plt.xlabel('Epoch')\n",
    "  plt.ylabel('Loss')\n",
    "  plt.plot(range(len(history)), history['loss'], marker='.', color='black')\n",
    "  plt.plot(range(len(history)), history['val_loss'], marker='.', color='red')\n",
    "  plt.legend(['train loss', 'validation loss'])\n",
    "  plt.show()\n",
    "\n",
    "  # Show the final train loss value and the learned model weights.\n",
    "  print('Final train loss:', list(history['loss'])[-1])\n",
    "  print('Final weights:', model.layers[0].get_weights())"
   ]
  },
  {
   "cell_type": "markdown",
   "metadata": {
    "id": "m5rwUw5FGae6"
   },
   "source": [
    "---\n",
    "### Exercise 4: Adjusting learning rate (8 points)"
   ]
  },
  {
   "cell_type": "markdown",
   "metadata": {},
   "source": [
    "Retrain the model predicting price from horsepower, but now using your normalized features. Report validation loss for learning rates [0.0001, 0.001, 0.01, 0.1, 1] after 150 epochs of training. Which produces the best validation loss?"
   ]
  },
  {
   "cell_type": "code",
   "execution_count": 73,
   "metadata": {
    "id": "iXUQ7dSHpKe4"
   },
   "outputs": [
    {
     "data": {
      "image/png": "[encoded data removed]",
      "text/plain": [
       "<Figure size 432x288 with 1 Axes>"
      ]
     },
     "metadata": {},
     "output_type": "display_data"
    },
    {
     "name": "stdout",
     "output_type": "stream",
     "text": [
      "Final train loss: 176059392.0\n",
      "Final weights: [array([[840.51404]], dtype=float32), array([1813.1569], dtype=float32)]\n"
     ]
    },
    {
     "ename": "AttributeError",
     "evalue": "'NoneType' object has no attribute 'title'",
     "output_type": "error",
     "traceback": [
      "\u001b[0;31m---------------------------------------------------------------------------\u001b[0m",
      "\u001b[0;31mAttributeError\u001b[0m                            Traceback (most recent call last)",
      "Input \u001b[0;32mIn [73]\u001b[0m, in \u001b[0;36m<cell line: 54>\u001b[0;34m()\u001b[0m\n\u001b[1;32m     35\u001b[0m history4 \u001b[38;5;241m=\u001b[39m model4\u001b[38;5;241m.\u001b[39mfit(\n\u001b[1;32m     36\u001b[0m   \u001b[38;5;66;03m# use the normalized features prepared above\u001b[39;00m\n\u001b[1;32m     37\u001b[0m   x \u001b[38;5;241m=\u001b[39m car_train_features_norm[[\u001b[38;5;124m'\u001b[39m\u001b[38;5;124mhorsepower\u001b[39m\u001b[38;5;124m'\u001b[39m]],\n\u001b[0;32m   (...)\u001b[0m\n\u001b[1;32m     41\u001b[0m   batch_size\u001b[38;5;241m=\u001b[39m\u001b[38;5;241m32\u001b[39m,\n\u001b[1;32m     42\u001b[0m   verbose\u001b[38;5;241m=\u001b[39m\u001b[38;5;241m0\u001b[39m)\n\u001b[1;32m     44\u001b[0m history5 \u001b[38;5;241m=\u001b[39m model5\u001b[38;5;241m.\u001b[39mfit(\n\u001b[1;32m     45\u001b[0m   \u001b[38;5;66;03m# use the normalized features prepared above\u001b[39;00m\n\u001b[1;32m     46\u001b[0m   x \u001b[38;5;241m=\u001b[39m car_train_features_norm[[\u001b[38;5;124m'\u001b[39m\u001b[38;5;124mhorsepower\u001b[39m\u001b[38;5;124m'\u001b[39m]],\n\u001b[0;32m   (...)\u001b[0m\n\u001b[1;32m     50\u001b[0m   batch_size\u001b[38;5;241m=\u001b[39m\u001b[38;5;241m32\u001b[39m,\n\u001b[1;32m     51\u001b[0m   verbose\u001b[38;5;241m=\u001b[39m\u001b[38;5;241m0\u001b[39m)\n\u001b[0;32m---> 54\u001b[0m \u001b[43mplot_loss\u001b[49m\u001b[43m(\u001b[49m\u001b[43mmodel1\u001b[49m\u001b[43m,\u001b[49m\u001b[43m \u001b[49m\u001b[43mhistory1\u001b[49m\u001b[43m)\u001b[49m\u001b[38;5;241;43m.\u001b[39;49m\u001b[43mtitle\u001b[49m(\u001b[38;5;124m\"\u001b[39m\u001b[38;5;124ms\u001b[39m\u001b[38;5;124m\"\u001b[39m)\n\u001b[1;32m     55\u001b[0m plot_loss(model2, history2)\n\u001b[1;32m     56\u001b[0m plot_loss(model3, history3)\n",
      "\u001b[0;31mAttributeError\u001b[0m: 'NoneType' object has no attribute 'title'"
     ]
    }
   ],
   "source": [
    "# EDIT CODE HERE\n",
    "model1 = build_model(num_features=1, learning_rate=.0001)\n",
    "model2 = build_model(num_features=1, learning_rate=.001)\n",
    "model3 = build_model(num_features=1, learning_rate=.01)\n",
    "model4 = build_model(num_features=1, learning_rate=.1)\n",
    "model5 = build_model(num_features=1, learning_rate=1)\n",
    "\n",
    "history1 = model1.fit(\n",
    "  # use the normalized features prepared above\n",
    "  x = car_train_features_norm[['horsepower']],\n",
    "  y = car_train_labels,\n",
    "  validation_split=0.1,\n",
    "  epochs=150,\n",
    "  batch_size=32,\n",
    "  verbose=0)\n",
    "\n",
    "history2 = model2.fit(\n",
    "  # use the normalized features prepared above\n",
    "  x = car_train_features_norm[['horsepower']],\n",
    "  y = car_train_labels,\n",
    "  validation_split=0.1,\n",
    "  epochs=150,\n",
    "  batch_size=32,\n",
    "  verbose=0)\n",
    "\n",
    "history3 = model3.fit(\n",
    "  # use the normalized features prepared above\n",
    "  x = car_train_features_norm[['horsepower']],\n",
    "  y = car_train_labels,\n",
    "  validation_split=0.1,\n",
    "  epochs=150,\n",
    "  batch_size=32,\n",
    "  verbose=0)\n",
    "\n",
    "history4 = model4.fit(\n",
    "  # use the normalized features prepared above\n",
    "  x = car_train_features_norm[['horsepower']],\n",
    "  y = car_train_labels,\n",
    "  validation_split=0.1,\n",
    "  epochs=150,\n",
    "  batch_size=32,\n",
    "  verbose=0)\n",
    "\n",
    "history5 = model5.fit(\n",
    "  # use the normalized features prepared above\n",
    "  x = car_train_features_norm[['horsepower']],\n",
    "  y = car_train_labels,\n",
    "  validation_split=0.1,\n",
    "  epochs=150,\n",
    "  batch_size=32,\n",
    "  verbose=0)\n",
    "\n",
    "\n",
    "plot_loss(model1, history1)\n",
    "plot_loss(model2, history2)\n",
    "plot_loss(model3, history3)\n",
    "plot_loss(model4, history4)\n",
    "plot_loss(model5, history5)"
   ]
  },
  {
   "cell_type": "markdown",
   "metadata": {
    "id": "x6oPtykohZeP"
   },
   "source": [
    "*Written answer:*\n",
    "\n",
    "With the final train loss of 19829208.0, the third model `model3` with learning rate = 0.01 produces the best validation loss after 150 epochs of training."
   ]
  },
  {
   "cell_type": "markdown",
   "metadata": {
    "id": "aNV4KM1QIBti"
   },
   "source": [
    "---"
   ]
  },
  {
   "cell_type": "markdown",
   "metadata": {
    "id": "JDXOSmd-h-rA"
   },
   "source": [
    "### Exercise 5: Adding features (8 points)"
   ]
  },
  {
   "cell_type": "markdown",
   "metadata": {},
   "source": [
    "The goal of this exercise is to compile a table of results -- RMSE computed on the test data for the baseline and 4 models:\n",
    "1. features = horsepower\n",
    "2. features = horsepower, peak-rpm\n",
    "3. features = horsepower, peak-rpm, highway-mpg\n",
    "4. features = horsepower, peak-rpm, highway-mpg, city-mpg\n",
    "\n",
    "For consistency, use a batch size of 32, 150 epochs, and the best learning rate you found above."
   ]
  },
  {
   "cell_type": "code",
   "execution_count": 76,
   "metadata": {
    "id": "-Yarz9pGh-rC"
   },
   "outputs": [
    {
     "data": {
      "image/png": "[encoded data removed]",
      "text/plain": [
       "<Figure size 432x288 with 1 Axes>"
      ]
     },
     "metadata": {},
     "output_type": "display_data"
    },
    {
     "name": "stdout",
     "output_type": "stream",
     "text": [
      "Final train loss: 19829208.0\n",
      "Final weights: [array([[6535.6763]], dtype=float32), array([13029.8955], dtype=float32)]\n",
      "Test rmse: 5480.311852440516\n"
     ]
    },
    {
     "data": {
      "image/png": "[encoded data removed]",
      "text/plain": [
       "<Figure size 432x288 with 1 Axes>"
      ]
     },
     "metadata": {},
     "output_type": "display_data"
    },
    {
     "name": "stdout",
     "output_type": "stream",
     "text": [
      "Final train loss: 17721160.0\n",
      "Final weights: [array([[ 6649.286 ],\n",
      "       [-1482.6652]], dtype=float32), array([13015.372], dtype=float32)]\n",
      "Test rmse: 5072.518900901208\n"
     ]
    },
    {
     "data": {
      "image/png": "[encoded data removed]",
      "text/plain": [
       "<Figure size 432x288 with 1 Axes>"
      ]
     },
     "metadata": {},
     "output_type": "display_data"
    },
    {
     "name": "stdout",
     "output_type": "stream",
     "text": [
      "Final train loss: 17297126.0\n",
      "Final weights: [array([[ 5591.4443],\n",
      "       [-1507.7004],\n",
      "       [-1216.8341]], dtype=float32), array([12995.716], dtype=float32)]\n",
      "Test rmse: 4978.610649568814\n"
     ]
    },
    {
     "data": {
      "image/png": "[encoded data removed]",
      "text/plain": [
       "<Figure size 432x288 with 1 Axes>"
      ]
     },
     "metadata": {},
     "output_type": "display_data"
    },
    {
     "name": "stdout",
     "output_type": "stream",
     "text": [
      "Final train loss: 17292606.0\n",
      "Final weights: [array([[ 5711.921 ],\n",
      "       [-1503.803 ],\n",
      "       [-1143.5787],\n",
      "       [   76.0156]], dtype=float32), array([12997.804], dtype=float32)]\n",
      "Test rmse: 4982.229822077661\n"
     ]
    }
   ],
   "source": [
    "feature1 = ['horsepower']\n",
    "feature2 = ['horsepower', 'peak-rpm']\n",
    "feature3 = ['horsepower', 'peak-rpm', 'highway-mpg']\n",
    "feature4 = ['horsepower', 'peak-rpm', 'highway-mpg', 'city-mpg']\n",
    "\n",
    "\n",
    "def run_experiment(features, learning_rate):\n",
    "  model = build_model(len(features), learning_rate)\n",
    "\n",
    "  history = model.fit(\n",
    "    x = car_train_features_norm[features],\n",
    "    y = car_train_labels,\n",
    "    validation_split=0.1,\n",
    "    epochs=150,\n",
    "    batch_size=32,\n",
    "    verbose=0)\n",
    "\n",
    "  plot_loss(model, history)\n",
    "\n",
    "  # Make predictions on test data\n",
    "  test_loss = model.evaluate(car_test_features_norm[features],\n",
    "                             car_test_labels,\n",
    "                             verbose=0)\n",
    "  test_rmse = np.sqrt(test_loss)\n",
    "  print('Test rmse:', test_rmse)\n",
    "\n",
    "run_experiment(feature1, 0.01)\n",
    "run_experiment(feature2, 0.01)\n",
    "run_experiment(feature3, 0.01)\n",
    "run_experiment(feature4, 0.01)"
   ]
  },
  {
   "cell_type": "markdown",
   "metadata": {
    "id": "YBcyy0oTh-rF"
   },
   "source": [
    "*Written answer:*\n",
    "\n",
    "Model | Test RMSE\n",
    "--- | ---\n",
    "Baseline | 7965.95\n",
    "Horsepower | 5480.31\n",
    "+Peak-RPM | 5072.52\n",
    "+Highway-MPG | 4978.61\n",
    "+City-MPG | 4982.23\n"
   ]
  },
  {
   "cell_type": "markdown",
   "metadata": {},
   "source": [
    "---"
   ]
  },
  {
   "cell_type": "markdown",
   "metadata": {
    "id": "HNWpEPgZjyNL"
   },
   "source": [
    "## Review\n",
    "* The **[Pandas](https://pandas.pydata.org/) library** is very useful for manipulating datasets and works well with numpy.\n",
    "* Use a random split into train and test data and measure performance on the test data, starting from a simple **baseline**.\n",
    "* Examine data using histograms and correlations to help build intuition before training any models.\n",
    "* **Tensorflow** works by first building a **computational graph**; then, you can pass data through the graph to produce predictions, updating parameters via gradient descent in training mode; we use the **Keras API** to easily configure models.\n",
    "* Training is often quite sensitive to the **learning rate** hyperparameter, and feature normalization is an important strategy to avoid differences in the scale of the feature derivatives (gradient) that can make learning impossible."
   ]
  },
  {
   "cell_type": "code",
   "execution_count": null,
   "metadata": {},
   "outputs": [],
   "source": []
  }
 ],
 "metadata": {
  "accelerator": "GPU",
  "colab": {
   "collapsed_sections": [
    "copyright"
   ],
   "name": "03 Linear Regression with Tensorflow.ipynb",
   "private_outputs": true,
   "provenance": [],
   "toc_visible": true
  },
  "kernelspec": {
   "display_name": "Python 3 (ipykernel)",
   "language": "python",
   "name": "python3"
  },
  "language_info": {
   "codemirror_mode": {
    "name": "ipython",
    "version": 3
   },
   "file_extension": ".py",
   "mimetype": "text/x-python",
   "name": "python",
   "nbconvert_exporter": "python",
   "pygments_lexer": "ipython3",
   "version": "3.9.12"
  }
 },
 "nbformat": 4,
 "nbformat_minor": 4
}
