{
<<<<<<< HEAD
 "cells": [
  {
   "cell_type": "markdown",
   "metadata": {
    "id": "oeL1CksCWEql"
   },
   "source": [
    "# Lab 8: \n",
    "\n",
    "##K-means Clustering\n",
    "\n",
    "[The RGB color model](https://en.wikipedia.org/wiki/RGB_color_model) is an additive color model in which the red, green, and blue primary colors of light are added together in various ways to reproduce a broad array of colors. The name of the model comes from the initials of the three additive primary colors, red, green, and blue.\n",
    "\n",
    "There are plenty of RBG-to-color converters on the web \n",
    "https://www.rapidtables.com/convert/color/rgb-to-hex.html\n",
    "\n",
    "These two RGB triples look almost identical to the human eye\n",
    "- [0, 0, 255]\n",
    "- [0, 1, 255]\n",
    "\n",
    "However there is no \"reverse lookup\" that tells you that \"this color is close to blue\" unless it is a [basic](https://en.wikipedia.org/wiki/Web_colors#Basic_colors) or [extended](https://en.wikipedia.org/wiki/Web_colors#Extended_colors) color with a specified RGB value.\n",
    "\n",
    "For this assignment you are provided a file with RGB triples for a bunch of colors.\n",
    "\n",
    "The task is to use K-means clustering to:\n",
    "\n",
    "- group the colors into color families\n",
    "- make a histogram of your color clusters to see the dsitribution of colors\n",
    "- establish some human-readable names for your clusters like red, blue, yellow, etc.\n",
    "- determine the centroids of the clusters\n",
    "- write a function that makes the best guess of an RGB triple based on the centroids\n",
    "- make some visual output to show that your guesses worked"
   ]
  },
  {
   "cell_type": "code",
   "execution_count": 1,
   "metadata": {
    "executionInfo": {
     "elapsed": 829,
     "status": "ok",
     "timestamp": 1656563875056,
     "user": {
      "displayName": "Tianyu Wang",
      "userId": "07425378355766880287"
     },
     "user_tz": 420
    },
    "id": "lpOiog6ffG1N"
   },
   "outputs": [],
   "source": [
    "## import necessary libraries and packages\n",
    "import pandas\n",
    "import numpy as np\n",
    "import matplotlib.pyplot as plt\n",
    "from mpl_toolkits.mplot3d import Axes3D\n",
    "from sklearn.cluster import KMeans"
   ]
  },
  {
   "cell_type": "markdown",
   "metadata": {
    "id": "1vulsLQRfAzV"
   },
   "source": [
    "## Load Data\n",
    "\n",
    "This color data was taken from a selection of digital ad images where the goal of the project was to understand if the presence of certain colors were indicative of high performing ads.\n",
    "\n",
    "However, before making a predictive model, it was necessary to actually classify the color of RBG triples that were present in the images.\n",
    "\n",
    "It is important to note that if the color values were uniformly distributed there would be no value in clustering.\n"
   ]
  },
  {
   "cell_type": "code",
   "execution_count": 2,
   "metadata": {
    "executionInfo": {
     "elapsed": 9,
     "status": "ok",
     "timestamp": 1656563876206,
     "user": {
      "displayName": "Tianyu Wang",
      "userId": "07425378355766880287"
     },
     "user_tz": 420
    },
    "id": "ojQcyUk0fDG_"
   },
   "outputs": [],
   "source": [
    "data_file = \"rgb_colors.csv\"\n",
    "df_colors = pandas.read_csv(data_file)\n"
   ]
  },
  {
   "cell_type": "markdown",
   "metadata": {
    "id": "sC7gYG67hEEi"
   },
   "source": [
    "## Examine data\n",
    "\n",
    "If our thesis is correct, similar colors should be near each other in the 3-dimensional RBG space.\n",
    "\n",
    "To visualize this we can plot the RBG components and verify that this is the case.\n",
    "\n",
    "Note that in the plot below, the full RGB triple is used to tell pandas/matplotlib what color to make each dot."
   ]
  },
  {
   "cell_type": "code",
   "execution_count": 3,
   "metadata": {
    "colab": {
     "base_uri": "https://localhost:8080/"
    },
    "executionInfo": {
     "elapsed": 10,
     "status": "ok",
     "timestamp": 1656563876207,
     "user": {
      "displayName": "Tianyu Wang",
      "userId": "07425378355766880287"
     },
     "user_tz": 420
    },
    "id": "4Q_cJb7BC-MO",
    "outputId": "2360c4fd-c142-45f3-98a6-36532a277127"
   },
   "outputs": [
=======
  "cells": [
    {
      "cell_type": "markdown",
      "metadata": {
        "id": "oeL1CksCWEql"
      },
      "source": [
        "# Lab 8: \n",
        "\n",
        "##K-means Clustering\n",
        "\n",
        "[The RGB color model](https://en.wikipedia.org/wiki/RGB_color_model) is an additive color model in which the red, green, and blue primary colors of light are added together in various ways to reproduce a broad array of colors. The name of the model comes from the initials of the three additive primary colors, red, green, and blue.\n",
        "\n",
        "There are plenty of RBG-to-color converters on the web \n",
        "https://www.rapidtables.com/convert/color/rgb-to-hex.html\n",
        "\n",
        "These two RGB triples look almost identical to the human eye\n",
        "- [0, 0, 255]\n",
        "- [0, 1, 255]\n",
        "\n",
        "However there is no \"reverse lookup\" that tells you that \"this color is close to blue\" unless it is a [basic](https://en.wikipedia.org/wiki/Web_colors#Basic_colors) or [extended](https://en.wikipedia.org/wiki/Web_colors#Extended_colors) color with a specified RGB value.\n",
        "\n",
        "For this assignment you are provided a file with RGB triples for a bunch of colors.\n",
        "\n",
        "The task is to use K-means clustering to:\n",
        "\n",
        "- group the colors into color families\n",
        "- make a histogram of your color clusters to see the dsitribution of colors\n",
        "- establish some human-readable names for your clusters like red, blue, yellow, etc.\n",
        "- determine the centroids of the clusters\n",
        "- write a function that makes the best guess of an RGB triple based on the centroids\n",
        "- make some visual output to show that your guesses worked"
      ]
    },
>>>>>>> 50ca7b2f1c1d232c9d65a3f322863e9c9d565ca2
    {
      "cell_type": "code",
      "execution_count": null,
      "metadata": {
        "id": "lpOiog6ffG1N"
      },
      "outputs": [],
      "source": [
        "## import necessary libraries and packages\n",
        "import pandas\n",
        "import numpy as np\n",
        "import matplotlib.pyplot as plt\n",
        "from mpl_toolkits.mplot3d import Axes3D\n",
        "from sklearn.cluster import KMeans"
      ]
<<<<<<< HEAD
     },
     "execution_count": 3,
     "metadata": {},
     "output_type": "execute_result"
    }
   ],
   "source": [
    "# how many data points?\n",
    "len(df_colors)"
   ]
  },
  {
   "cell_type": "code",
   "execution_count": 4,
   "metadata": {
    "colab": {
     "base_uri": "https://localhost:8080/",
     "height": 206
    },
    "executionInfo": {
     "elapsed": 8,
     "status": "ok",
     "timestamp": 1656563876207,
     "user": {
      "displayName": "Tianyu Wang",
      "userId": "07425378355766880287"
     },
     "user_tz": 420
    },
    "id": "XEhZjtLHcAZa",
    "outputId": "250d6b61-9057-436b-91ad-ea06e6746cfe"
   },
   "outputs": [
    {
     "data": {
      "text/html": [
       "<div>\n",
       "<style scoped>\n",
       "    .dataframe tbody tr th:only-of-type {\n",
       "        vertical-align: middle;\n",
       "    }\n",
       "\n",
       "    .dataframe tbody tr th {\n",
       "        vertical-align: top;\n",
       "    }\n",
       "\n",
       "    .dataframe thead th {\n",
       "        text-align: right;\n",
       "    }\n",
       "</style>\n",
       "<table border=\"1\" class=\"dataframe\">\n",
       "  <thead>\n",
       "    <tr style=\"text-align: right;\">\n",
       "      <th></th>\n",
       "      <th>red</th>\n",
       "      <th>green</th>\n",
       "      <th>blue</th>\n",
       "    </tr>\n",
       "  </thead>\n",
       "  <tbody>\n",
       "    <tr>\n",
       "      <th>0</th>\n",
       "      <td>233</td>\n",
       "      <td>197</td>\n",
       "      <td>146</td>\n",
       "    </tr>\n",
       "    <tr>\n",
       "      <th>1</th>\n",
       "      <td>183</td>\n",
       "      <td>97</td>\n",
       "      <td>58</td>\n",
       "    </tr>\n",
       "    <tr>\n",
       "      <th>2</th>\n",
       "      <td>188</td>\n",
       "      <td>84</td>\n",
       "      <td>7</td>\n",
       "    </tr>\n",
       "    <tr>\n",
       "      <th>3</th>\n",
       "      <td>247</td>\n",
       "      <td>252</td>\n",
       "      <td>254</td>\n",
       "    </tr>\n",
       "    <tr>\n",
       "      <th>4</th>\n",
       "      <td>248</td>\n",
       "      <td>253</td>\n",
       "      <td>253</td>\n",
       "    </tr>\n",
       "  </tbody>\n",
       "</table>\n",
       "</div>"
      ],
      "text/plain": [
       "   red  green  blue\n",
       "0  233    197   146\n",
       "1  183     97    58\n",
       "2  188     84     7\n",
       "3  247    252   254\n",
       "4  248    253   253"
      ]
     },
     "execution_count": 4,
     "metadata": {},
     "output_type": "execute_result"
    }
   ],
   "source": [
    "# what is in our DataFrame?\n",
    "df_colors.head()"
   ]
  },
  {
   "cell_type": "code",
   "execution_count": 5,
   "metadata": {
    "colab": {
     "base_uri": "https://localhost:8080/",
     "height": 266
    },
    "executionInfo": {
     "elapsed": 375,
     "status": "ok",
     "timestamp": 1656563876575,
     "user": {
      "displayName": "Tianyu Wang",
      "userId": "07425378355766880287"
     },
     "user_tz": 420
    },
    "id": "7adadJysAozT",
    "outputId": "353fddce-a1a6-4a83-83c8-149ed7fd4bdd"
   },
   "outputs": [
    {
     "name": "stderr",
     "output_type": "stream",
     "text": [
      "/tmp/ipykernel_78/1483985810.py:4: MatplotlibDeprecationWarning: Calling gca() with keyword arguments was deprecated in Matplotlib 3.4. Starting two minor releases later, gca() will take no keyword arguments. The gca() function should only be used to get the current axes, or if no axes exist, create new axes with default keyword arguments. To create a new axes with non-default arguments, use plt.axes() or plt.subplot().\n",
      "  fig = plt.figure().gca(projection='3d')\n"
     ]
    },
    {
     "data": {
      "text/plain": [
       "<mpl_toolkits.mplot3d.art3d.Path3DCollection at 0x7ff0df936dc0>"
      ]
     },
     "execution_count": 5,
     "metadata": {},
     "output_type": "execute_result"
    },
    {
     "data": {
      "image/png": "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\n",
      "text/plain": [
       "<Figure size 432x288 with 1 Axes>"
      ]
     },
     "metadata": {
      "needs_background": "light"
     },
     "output_type": "display_data"
    }
   ],
   "source": [
    "# make a 3d scatter plot\n",
    "colors = np.array(df_colors.values)/256 # colors need to be (r,b,g) tuple in the range of 0-1\n",
    "\n",
    "fig = plt.figure().gca(projection='3d')\n",
    "fig.scatter(df_colors.red, df_colors.green, df_colors.blue, color=colors )"
   ]
  },
  {
   "cell_type": "markdown",
   "metadata": {
    "id": "iKTKmUYllvmx"
   },
   "source": [
    "### Exercise 1: Construct K-means model (4 points)\n",
    "\n",
    "Fit a KMeans model with 10 clusters.  Be sure to use a fixed `random_state` so that you get consistent results.\n",
    "\n",
    "Use the `predict` function to get the cluster predictions for each data point and add this to the `df_colors` DataFrame "
   ]
  },
  {
   "cell_type": "markdown",
   "metadata": {
    "id": "4UM_zK5UJZK4"
   },
   "source": [
    "##### Student Solution"
   ]
  },
  {
   "cell_type": "code",
   "execution_count": 6,
   "metadata": {
    "colab": {
     "base_uri": "https://localhost:8080/",
     "height": 424
    },
    "executionInfo": {
     "elapsed": 243,
     "status": "ok",
     "timestamp": 1656563876814,
     "user": {
      "displayName": "Tianyu Wang",
      "userId": "07425378355766880287"
     },
     "user_tz": 420
    },
    "id": "ROCne7e6JlKk",
    "outputId": "b3b7972f-5e78-425b-e13d-7307b6e9a7a8"
   },
   "outputs": [
    {
     "data": {
      "text/html": [
       "<div>\n",
       "<style scoped>\n",
       "    .dataframe tbody tr th:only-of-type {\n",
       "        vertical-align: middle;\n",
       "    }\n",
       "\n",
       "    .dataframe tbody tr th {\n",
       "        vertical-align: top;\n",
       "    }\n",
       "\n",
       "    .dataframe thead th {\n",
       "        text-align: right;\n",
       "    }\n",
       "</style>\n",
       "<table border=\"1\" class=\"dataframe\">\n",
       "  <thead>\n",
       "    <tr style=\"text-align: right;\">\n",
       "      <th></th>\n",
       "      <th>red</th>\n",
       "      <th>green</th>\n",
       "      <th>blue</th>\n",
       "      <th>cluster</th>\n",
       "    </tr>\n",
       "  </thead>\n",
       "  <tbody>\n",
       "    <tr>\n",
       "      <th>0</th>\n",
       "      <td>233</td>\n",
       "      <td>197</td>\n",
       "      <td>146</td>\n",
       "      <td>6</td>\n",
       "    </tr>\n",
       "    <tr>\n",
       "      <th>1</th>\n",
       "      <td>183</td>\n",
       "      <td>97</td>\n",
       "      <td>58</td>\n",
       "      <td>3</td>\n",
       "    </tr>\n",
       "    <tr>\n",
       "      <th>2</th>\n",
       "      <td>188</td>\n",
       "      <td>84</td>\n",
       "      <td>7</td>\n",
       "      <td>3</td>\n",
       "    </tr>\n",
       "    <tr>\n",
       "      <th>3</th>\n",
       "      <td>247</td>\n",
       "      <td>252</td>\n",
       "      <td>254</td>\n",
       "      <td>2</td>\n",
       "    </tr>\n",
       "    <tr>\n",
       "      <th>4</th>\n",
       "      <td>248</td>\n",
       "      <td>253</td>\n",
       "      <td>253</td>\n",
       "      <td>2</td>\n",
       "    </tr>\n",
       "    <tr>\n",
       "      <th>...</th>\n",
       "      <td>...</td>\n",
       "      <td>...</td>\n",
       "      <td>...</td>\n",
       "      <td>...</td>\n",
       "    </tr>\n",
       "    <tr>\n",
       "      <th>2025</th>\n",
       "      <td>27</td>\n",
       "      <td>123</td>\n",
       "      <td>141</td>\n",
       "      <td>9</td>\n",
       "    </tr>\n",
       "    <tr>\n",
       "      <th>2026</th>\n",
       "      <td>194</td>\n",
       "      <td>193</td>\n",
       "      <td>198</td>\n",
       "      <td>6</td>\n",
       "    </tr>\n",
       "    <tr>\n",
       "      <th>2027</th>\n",
       "      <td>41</td>\n",
       "      <td>113</td>\n",
       "      <td>197</td>\n",
       "      <td>9</td>\n",
       "    </tr>\n",
       "    <tr>\n",
       "      <th>2028</th>\n",
       "      <td>35</td>\n",
       "      <td>114</td>\n",
       "      <td>197</td>\n",
       "      <td>9</td>\n",
       "    </tr>\n",
       "    <tr>\n",
       "      <th>2029</th>\n",
       "      <td>27</td>\n",
       "      <td>123</td>\n",
       "      <td>141</td>\n",
       "      <td>9</td>\n",
       "    </tr>\n",
       "  </tbody>\n",
       "</table>\n",
       "<p>2030 rows × 4 columns</p>\n",
       "</div>"
      ],
      "text/plain": [
       "      red  green  blue  cluster\n",
       "0     233    197   146        6\n",
       "1     183     97    58        3\n",
       "2     188     84     7        3\n",
       "3     247    252   254        2\n",
       "4     248    253   253        2\n",
       "...   ...    ...   ...      ...\n",
       "2025   27    123   141        9\n",
       "2026  194    193   198        6\n",
       "2027   41    113   197        9\n",
       "2028   35    114   197        9\n",
       "2029   27    123   141        9\n",
       "\n",
       "[2030 rows x 4 columns]"
      ]
     },
     "execution_count": 6,
     "metadata": {},
     "output_type": "execute_result"
    }
   ],
   "source": [
    "n_clusters = 10\n",
    "random_state = 10  # makes sure you get the same results each time\n",
    "\n",
    "## get np array for RBG values\n",
    "X = np.array(df_colors.values)\n",
    "\n",
    "\n",
    "def fit_kmeans(X, n_clusters, random_state):\n",
    "  model = KMeans(n_clusters=n_clusters, random_state=random_state, init='k-means++')\n",
    "  model.fit(X)\n",
    "  return model\n",
    "\n",
    "model = fit_kmeans(X, n_clusters, random_state)\n",
    "\n",
    "## get cluster prediction and add to DataFrame\n",
    "df_colors['cluster'] = model.predict(X)\n",
    "df_colors\n"
   ]
  },
  {
   "cell_type": "markdown",
   "metadata": {
    "id": "ZboSuE-Gd9Zh"
   },
   "source": [
    "## Visualize results for K-means clustering\n"
   ]
  },
  {
   "cell_type": "markdown",
   "metadata": {
    "id": "PtsNYYLSe_D1"
   },
   "source": [
    "### Exercise 2: Plot a histogram of the distribution of clusters (4 points)\n",
    "\n",
    "Since there are 10 clusters, using the `pandas.DataFrame.hist()` will render the correct distribution of values across each bin since 10 is the default number of bins.\n",
    "\n",
    "Make sure that your visual output also matches the output of `Series.value_counts()`\n"
   ]
  },
  {
   "cell_type": "markdown",
   "metadata": {
    "id": "asvG7XGwKKHS"
   },
   "source": [
    "##### Student Solution"
   ]
  },
  {
   "cell_type": "code",
   "execution_count": 7,
   "metadata": {
    "colab": {
     "base_uri": "https://localhost:8080/",
     "height": 513
    },
    "executionInfo": {
     "elapsed": 489,
     "status": "ok",
     "timestamp": 1656563877299,
     "user": {
      "displayName": "Tianyu Wang",
      "userId": "07425378355766880287"
     },
     "user_tz": 420
    },
    "id": "gwPsVEGGKGSr",
    "outputId": "501fab8e-7528-485e-9782-ca4cd1080cdd"
   },
   "outputs": [
    {
     "name": "stdout",
     "output_type": "stream",
     "text": [
      "0    338\n",
      "1     88\n",
      "2    399\n",
      "3    151\n",
      "4    181\n",
      "5    119\n",
      "6    244\n",
      "7    115\n",
      "8    201\n",
      "9    194\n",
      "Name: cluster, dtype: int64\n"
     ]
    },
    {
     "data": {
      "text/plain": [
       "array([[<AxesSubplot:title={'center':'cluster'}>]], dtype=object)"
      ]
     },
     "execution_count": 7,
     "metadata": {},
     "output_type": "execute_result"
    },
    {
     "data": {
      "image/png": "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\n",
      "text/plain": [
       "<Figure size 432x288 with 1 Axes>"
      ]
     },
     "metadata": {
      "needs_background": "light"
     },
     "output_type": "display_data"
    }
   ],
   "source": [
    "from pandas.core.indexes.period import period_range\n",
    "## plot histogram and print out number of points in each color cluster\n",
    "\n",
    "## YOUR CODE HERE ## \n",
    "counts = df_colors['cluster'].value_counts().sort_index()\n",
    "print(counts)\n",
    "\n",
    "hist = df_colors.hist(column=['cluster'])\n",
    "hist"
   ]
  },
  {
   "cell_type": "markdown",
   "metadata": {
    "id": "wcgxW7trbt4p"
   },
   "source": [
    "### Examine results of clustering"
   ]
  },
  {
   "cell_type": "code",
   "execution_count": 8,
   "metadata": {
    "colab": {
     "base_uri": "https://localhost:8080/",
     "height": 297
    },
    "executionInfo": {
     "elapsed": 349,
     "status": "ok",
     "timestamp": 1656563877640,
     "user": {
      "displayName": "Tianyu Wang",
      "userId": "07425378355766880287"
     },
     "user_tz": 420
    },
    "id": "8sw287rQb0lo",
    "outputId": "17871d83-6103-48b5-fefb-b087819cfed1"
   },
   "outputs": [
    {
     "data": {
      "text/plain": [
       "<AxesSubplot:xlabel='index', ylabel='cluster'>"
      ]
     },
     "execution_count": 8,
     "metadata": {},
     "output_type": "execute_result"
    },
    {
     "data": {
      "image/png": "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\n",
      "text/plain": [
       "<Figure size 432x288 with 1 Axes>"
      ]
     },
     "metadata": {
      "needs_background": "light"
     },
     "output_type": "display_data"
    }
   ],
   "source": [
    "# take a look at distribution of colors - only the first 500 for clarity\n",
    "df_colors[:500].reset_index(drop=False).plot(x='index', y='cluster', kind='scatter', color=colors[:500])"
   ]
  },
  {
   "cell_type": "markdown",
   "metadata": {
    "id": "c0mBWkg2cUcj"
   },
   "source": [
    "### Exercise 3: Establish some human-readable names for your clusters like red, blue, yellow, etc. (4 points)\n",
    "\n",
    "\n"
   ]
  },
  {
   "cell_type": "markdown",
   "metadata": {
    "id": "RH5gMTLkKgeb"
   },
   "source": [
    "##### Student Solution"
   ]
  },
  {
   "cell_type": "code",
   "execution_count": 9,
   "metadata": {
    "colab": {
     "base_uri": "https://localhost:8080/"
    },
    "executionInfo": {
     "elapsed": 8,
     "status": "ok",
     "timestamp": 1656563877641,
     "user": {
      "displayName": "Tianyu Wang",
      "userId": "07425378355766880287"
     },
     "user_tz": 420
    },
    "id": "Nn-zY57rcYFn",
    "outputId": "d23fd309-bc5b-44de-c372-317f37c63ef2"
   },
   "outputs": [
    {
     "data": {
      "text/plain": [
       "{0: 'black',\n",
       " 1: 'sky blue',\n",
       " 2: 'light grey',\n",
       " 3: 'red',\n",
       " 4: 'brown grey',\n",
       " 5: 'yellow',\n",
       " 6: 'grey',\n",
       " 7: 'sea blue',\n",
       " 8: 'dark green grey',\n",
       " 9: 'grey blue'}"
      ]
     },
     "execution_count": 9,
     "metadata": {},
     "output_type": "execute_result"
    }
   ],
   "source": [
    "# name your clusters\n",
    "\n",
    "## YOUR CODE HERE ## \n",
    "\n",
    "color_dict = {\n",
    "    0:'black', \n",
    "    1:'sky blue',\n",
    "    2:'light grey', \n",
    "    3:'red', \n",
    "    4:'brown grey', \n",
    "    5:'yellow', \n",
    "    6:'grey', \n",
    "    7:'sea blue', \n",
    "    8:'dark green grey',\n",
    "    9:'grey blue',\n",
    "    # etc etc ...\n",
    "}\n",
    "\n",
    "color_dict"
   ]
  },
  {
   "cell_type": "markdown",
   "metadata": {
    "id": "hqygpwqUcjuL"
   },
   "source": [
    "### Exercise 4: Determine the centroids of the clusters (4 points)\n"
   ]
  },
  {
   "cell_type": "markdown",
   "metadata": {
    "id": "4M2FoubOLeTe"
   },
   "source": [
    "##### Student Solution"
   ]
  },
  {
   "cell_type": "code",
   "execution_count": 10,
   "metadata": {
    "colab": {
     "base_uri": "https://localhost:8080/"
    },
    "executionInfo": {
     "elapsed": 495,
     "status": "ok",
     "timestamp": 1656563878130,
     "user": {
      "displayName": "Tianyu Wang",
      "userId": "07425378355766880287"
     },
     "user_tz": 420
    },
    "id": "O0ppzlJSLnBV",
    "outputId": "faf19739-f653-45c9-80d4-fcf13ef0eddf"
   },
   "outputs": [
    {
     "name": "stdout",
     "output_type": "stream",
     "text": [
      "            R           G           B\n",
      "0   13.742604   12.257396   16.142012\n",
      "1  117.681818  203.022727  228.022727\n",
      "2  244.112782  246.619048  246.125313\n",
      "3  192.655629   29.589404   38.801325\n",
      "4  105.696133   88.132597   85.563536\n",
      "5  224.605042  181.310924   42.067227\n",
      "6  184.586066  176.512295  159.073770\n",
      "7    5.408696   84.852174  195.191304\n",
      "8   47.965174   65.422886   46.383085\n",
      "9   58.288660  131.829897  179.896907\n"
     ]
    }
   ],
   "source": [
    "# get centroids\n",
    "\n",
    "## YOUR CODE HERE ## \n",
    "colorcluster = model.fit(X)\n",
    "centroids = colorcluster.cluster_centers_\n",
    "centroids = pandas.DataFrame(centroids, columns = ['R','G','B'])\n",
    "print(centroids)\n",
    "\n",
    "\n"
   ]
  },
  {
   "cell_type": "markdown",
   "metadata": {
    "id": "4vxCLwk1czBJ"
   },
   "source": [
    "### Exercise 5: Write a function that makes the best guess of an RGB triple based on the centroids (4 points)\n",
    "\n",
    "The  [`KMeans.predict()`](https://scikit-learn.org/stable/modules/generated/sklearn.cluster.KMeans.html#sklearn.cluster.KMeans.predict) function predicts the cluster of any test data point by returning the cluster whose center is closest to the test data point.\n",
    "\n",
    "Without using `predict()` write a function that guesses the color of an RBG triple by finding the nearest centroid.\n",
    "\n",
    "There are many ways to calculate distance.  For this exercise it is sufficient to use a simple Euclidean distance formula.\n"
   ]
  },
  {
   "cell_type": "markdown",
   "metadata": {
    "id": "NGiSb93cghfC"
   },
   "source": [
    "##### Student Solution"
   ]
  },
  {
   "cell_type": "code",
   "execution_count": 11,
   "metadata": {
    "colab": {
     "base_uri": "https://localhost:8080/"
    },
    "executionInfo": {
     "elapsed": 7,
     "status": "ok",
     "timestamp": 1656563878131,
     "user": {
      "displayName": "Tianyu Wang",
      "userId": "07425378355766880287"
     },
     "user_tz": 420
    },
    "id": "Ocw4OTu2c2DF",
    "outputId": "700b0903-860c-40af-a613-ff82f8f0088d"
   },
   "outputs": [
    {
     "name": "stdout",
     "output_type": "stream",
     "text": [
      "red\n"
     ]
    }
   ],
   "source": [
    "from numpy.ma.core import sqrt\n",
    "## your color guessing function\n",
    "def guess_color(centroids, color_dict, test_color):\n",
    "\n",
    "  ## YOUR CODE HERE ## \n",
    "  cal = centroids\n",
    "  cal['R_test'] = test_color[0]\n",
    "  cal['G_test'] = test_color[1]\n",
    "  cal['B_test'] = test_color[2]\n",
    "  cal['Distance'] = ((cal['R']-cal['R_test'])**2 + (cal['G']-cal['G_test'])**2 + (cal['B']-cal['B_test'])**2)**(1/2)\n",
    "  color_index = cal['Distance'].idxmin()\n",
    "  color_name = color_dict[color_index]\n",
    "  return color_name\n",
    "\n",
    "color1 = [200, 5, 5]  # approximately red \n",
    "print(guess_color(centroids=centroids, color_dict=color_dict, test_color=color1))\n",
    "\n"
   ]
  },
  {
   "cell_type": "markdown",
   "metadata": {
    "id": "Ffx7sbNMfe4u"
   },
   "source": [
    "### Exercise 6: Write a function that returns the colors name based on the `predict()` function (4 points)\n"
   ]
  },
  {
   "cell_type": "code",
   "execution_count": 12,
   "metadata": {
    "colab": {
     "base_uri": "https://localhost:8080/"
    },
    "executionInfo": {
     "elapsed": 6,
     "status": "ok",
     "timestamp": 1656563878131,
     "user": {
      "displayName": "Tianyu Wang",
      "userId": "07425378355766880287"
     },
     "user_tz": 420
    },
    "id": "LR1cSDFvvNK-",
    "outputId": "9ae0b763-013c-437a-dea1-9a2c05a13a74"
   },
   "outputs": [
    {
     "data": {
      "text/plain": [
       "array([[200,   5,   5]])"
      ]
     },
     "execution_count": 12,
     "metadata": {},
     "output_type": "execute_result"
    }
   ],
   "source": [
    "np.array([color1])"
   ]
  },
  {
   "cell_type": "code",
   "execution_count": 13,
   "metadata": {
    "colab": {
     "base_uri": "https://localhost:8080/"
    },
    "executionInfo": {
     "elapsed": 4,
     "status": "ok",
     "timestamp": 1656563878131,
     "user": {
      "displayName": "Tianyu Wang",
      "userId": "07425378355766880287"
     },
     "user_tz": 420
    },
    "id": "vwJN1DUQfrD_",
    "outputId": "bbf8902f-9e67-4d95-8657-1856e45007b5"
   },
   "outputs": [
    {
     "name": "stdout",
     "output_type": "stream",
     "text": [
      "red\n"
     ]
    }
   ],
   "source": [
    "def predict_color(model, color_dict, test_color):\n",
    "\n",
    "    color_array = np.array([test_color])\n",
    "    color_index = model.predict(color_array)[0]\n",
    "    color_name = color_dict[color_index]\n",
    "    return color_name\n",
    "\n",
    "color1 = [200, 5, 5] # approximately red \n",
    "print(predict_color(model=model, color_dict=color_dict, test_color=color1))\n"
   ]
  },
  {
   "cell_type": "markdown",
   "metadata": {
    "id": "niUwnKpZhFeP"
   },
   "source": [
    "### Exercise 7: Explainability - make some visual output to show that your guesses worked (4 points)\n",
    "\n",
    "It is very important in data sceince, when possible, to have a \"visual confirmation\" that our code is working.  Think of this as an explainability exercise where you need to vefiry that your code it working.\n",
    "\n",
    "Use `matplotlib` to make some visual out to verify that `color1` is indeed RED.\n",
    "\n",
    "Here is an example, but anything that shows the color in a programmatic way is fine.\n",
    "\n",
    "![red.png](data:image/png;base64,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)\n",
    "\n",
    "\n"
   ]
  },
  {
   "cell_type": "code",
   "execution_count": 14,
   "metadata": {
    "colab": {
     "base_uri": "https://localhost:8080/",
     "height": 269
    },
    "executionInfo": {
     "elapsed": 235,
     "status": "ok",
     "timestamp": 1656563878363,
     "user": {
      "displayName": "Tianyu Wang",
      "userId": "07425378355766880287"
     },
     "user_tz": 420
    },
    "id": "U-ZJuciof8s8",
    "outputId": "a40ed699-2afe-4789-9f68-b2db70a8b0e4"
   },
   "outputs": [
    {
     "data": {
      "image/png": "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\n",
      "text/plain": [
       "<Figure size 432x288 with 1 Axes>"
      ]
     },
     "metadata": {
      "needs_background": "light"
     },
     "output_type": "display_data"
    }
   ],
   "source": [
    "from numpy.core.fromnumeric import size\n",
    "from matplotlib import text\n",
    "def show_color(test_color, color_name):\n",
    "\n",
    "  plt.xlim(0, 5)\n",
    "  plt.ylim(0, 5)\n",
    "  plt.grid()\n",
    "  plt.plot(2.5, 2.5, marker=\"o\", markersize=30, \n",
    "           markerfacecolor=tuple(np.array(test_color)/255),\n",
    "           markeredgecolor = tuple(np.array(test_color)/255))\n",
    "  plt.text(2.5, 1.5, color_name,horizontalalignment='center',fontsize=14)\n",
    "  plt.show()\n",
    "\n",
    "\n",
    "color1 = [200, 5, 5] # approximately red \n",
    "color1_name = guess_color(centroids=centroids, color_dict=color_dict, test_color=color1)\n",
    "show_color(color1, color1_name)"
   ]
  },
  {
   "cell_type": "markdown",
   "metadata": {
    "id": "_wmPs6IFlPV0"
   },
   "source": [
    "### Exercise 8: Check a range of colors (4 points)\n",
    " \n",
    "Given the list of `test_colors`, predict the colors using your `guess_color` function\n",
    "\n",
    "Comment on how good the guesses are.  Are there any unexcepted results? \n"
   ]
  },
  {
   "cell_type": "code",
   "execution_count": 15,
   "metadata": {
    "executionInfo": {
     "elapsed": 3,
     "status": "ok",
     "timestamp": 1656563878364,
     "user": {
      "displayName": "Tianyu Wang",
      "userId": "07425378355766880287"
     },
     "user_tz": 420
    },
    "id": "kSvZ6Y1uByd4"
   },
   "outputs": [],
   "source": [
    "## generate test colors\n",
    "def make_test_colors(n=3):\n",
    "  test_colors = list()\n",
    "  for rr in range(n+1):\n",
    "    for gg in range(n+1):\n",
    "      for bb in range(n+1):\n",
    "        red = int(rr/n*255)\n",
    "        green = int(gg/n*255)\n",
    "        blue = int(bb/n*255)\n",
    "\n",
    "        color = [red, green, blue]\n",
    "        test_colors.append(color)\n",
    "  test_colors = np.array(test_colors)\n",
    "  return test_colors\n"
   ]
  },
  {
   "cell_type": "code",
   "execution_count": 16,
   "metadata": {
    "executionInfo": {
     "elapsed": 441,
     "status": "ok",
     "timestamp": 1656563878802,
     "user": {
      "displayName": "Tianyu Wang",
      "userId": "07425378355766880287"
     },
     "user_tz": 420
    },
    "id": "qz3UN4kTDdof"
   },
   "outputs": [],
   "source": [
    "test_colors = make_test_colors()\n",
    "test_results = list()\n",
    "colordf = pandas.DataFrame(test_colors, columns=['R','G','B'])\n",
    "for ii,cc in enumerate(test_colors):\n",
    "  guesscolor = guess_color(centroids, color_dict, cc)\n",
    "  test_results.append(guesscolor)\n",
    "  pass\n",
    "colordf['Guess'] = test_results\n"
   ]
  },
  {
   "cell_type": "code",
   "execution_count": 17,
   "metadata": {
    "colab": {
     "base_uri": "https://localhost:8080/",
     "height": 424
    },
    "executionInfo": {
     "elapsed": 4,
     "status": "ok",
     "timestamp": 1656563878803,
     "user": {
      "displayName": "Tianyu Wang",
      "userId": "07425378355766880287"
     },
     "user_tz": 420
    },
    "id": "M77mmUMerl4p",
    "outputId": "15a1ba3c-ca6e-43cc-92dd-d46b0f4a53fc"
   },
   "outputs": [
    {
     "data": {
      "text/html": [
       "<div>\n",
       "<style scoped>\n",
       "    .dataframe tbody tr th:only-of-type {\n",
       "        vertical-align: middle;\n",
       "    }\n",
       "\n",
       "    .dataframe tbody tr th {\n",
       "        vertical-align: top;\n",
       "    }\n",
       "\n",
       "    .dataframe thead th {\n",
       "        text-align: right;\n",
       "    }\n",
       "</style>\n",
       "<table border=\"1\" class=\"dataframe\">\n",
       "  <thead>\n",
       "    <tr style=\"text-align: right;\">\n",
       "      <th></th>\n",
       "      <th>R</th>\n",
       "      <th>G</th>\n",
       "      <th>B</th>\n",
       "      <th>Guess</th>\n",
       "    </tr>\n",
       "  </thead>\n",
       "  <tbody>\n",
       "    <tr>\n",
       "      <th>0</th>\n",
       "      <td>0</td>\n",
       "      <td>0</td>\n",
       "      <td>0</td>\n",
       "      <td>black</td>\n",
       "    </tr>\n",
       "    <tr>\n",
       "      <th>1</th>\n",
       "      <td>0</td>\n",
       "      <td>0</td>\n",
       "      <td>85</td>\n",
       "      <td>black</td>\n",
       "    </tr>\n",
       "    <tr>\n",
       "      <th>2</th>\n",
       "      <td>0</td>\n",
       "      <td>0</td>\n",
       "      <td>170</td>\n",
       "      <td>sea blue</td>\n",
       "    </tr>\n",
       "    <tr>\n",
       "      <th>3</th>\n",
       "      <td>0</td>\n",
       "      <td>0</td>\n",
       "      <td>255</td>\n",
       "      <td>sea blue</td>\n",
       "    </tr>\n",
       "    <tr>\n",
       "      <th>4</th>\n",
       "      <td>0</td>\n",
       "      <td>85</td>\n",
       "      <td>0</td>\n",
       "      <td>dark green grey</td>\n",
       "    </tr>\n",
       "    <tr>\n",
       "      <th>...</th>\n",
       "      <td>...</td>\n",
       "      <td>...</td>\n",
       "      <td>...</td>\n",
       "      <td>...</td>\n",
       "    </tr>\n",
       "    <tr>\n",
       "      <th>59</th>\n",
       "      <td>255</td>\n",
       "      <td>170</td>\n",
       "      <td>255</td>\n",
       "      <td>light grey</td>\n",
       "    </tr>\n",
       "    <tr>\n",
       "      <th>60</th>\n",
       "      <td>255</td>\n",
       "      <td>255</td>\n",
       "      <td>0</td>\n",
       "      <td>yellow</td>\n",
       "    </tr>\n",
       "    <tr>\n",
       "      <th>61</th>\n",
       "      <td>255</td>\n",
       "      <td>255</td>\n",
       "      <td>85</td>\n",
       "      <td>yellow</td>\n",
       "    </tr>\n",
       "    <tr>\n",
       "      <th>62</th>\n",
       "      <td>255</td>\n",
       "      <td>255</td>\n",
       "      <td>170</td>\n",
       "      <td>light grey</td>\n",
       "    </tr>\n",
       "    <tr>\n",
       "      <th>63</th>\n",
       "      <td>255</td>\n",
       "      <td>255</td>\n",
       "      <td>255</td>\n",
       "      <td>light grey</td>\n",
       "    </tr>\n",
       "  </tbody>\n",
       "</table>\n",
       "<p>64 rows × 4 columns</p>\n",
       "</div>"
      ],
      "text/plain": [
       "      R    G    B            Guess\n",
       "0     0    0    0            black\n",
       "1     0    0   85            black\n",
       "2     0    0  170         sea blue\n",
       "3     0    0  255         sea blue\n",
       "4     0   85    0  dark green grey\n",
       "..  ...  ...  ...              ...\n",
       "59  255  170  255       light grey\n",
       "60  255  255    0           yellow\n",
       "61  255  255   85           yellow\n",
       "62  255  255  170       light grey\n",
       "63  255  255  255       light grey\n",
       "\n",
       "[64 rows x 4 columns]"
      ]
     },
     "execution_count": 17,
     "metadata": {},
     "output_type": "execute_result"
    }
   ],
   "source": [
    "colordf"
   ]
  },
  {
   "cell_type": "code",
   "execution_count": 18,
   "metadata": {
    "colab": {
     "base_uri": "https://localhost:8080/",
     "height": 297
    },
    "executionInfo": {
     "elapsed": 450,
     "status": "ok",
     "timestamp": 1656563879250,
     "user": {
      "displayName": "Tianyu Wang",
      "userId": "07425378355766880287"
     },
     "user_tz": 420
    },
    "id": "9KeAyXZkyhLT",
    "outputId": "4d4ae060-2d9d-49ef-b754-000c7288d8d3"
   },
   "outputs": [
    {
     "data": {
      "text/plain": [
       "<AxesSubplot:xlabel='index', ylabel='Guess'>"
      ]
     },
     "execution_count": 18,
     "metadata": {},
     "output_type": "execute_result"
    },
    {
     "data": {
      "image/png": "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\n",
      "text/plain": [
       "<Figure size 432x288 with 1 Axes>"
      ]
     },
     "metadata": {
      "needs_background": "light"
     },
     "output_type": "display_data"
    }
   ],
   "source": [
    "testcolor = np.array(colordf[['R','G','B']].values)/256\n",
    "colordf.reset_index(drop=False).plot(x='index', y='Guess', kind='scatter', color=testcolor)"
   ]
  },
  {
   "cell_type": "markdown",
   "metadata": {
    "id": "nMPGpDfb4GVH"
   },
   "source": [
    "We can see from the plot shown above, some of the colors were not properly clustered. \n",
    "\n",
    "Some unexpected color were shown in \"grey blue\", \"grey\". \"sky blue\" and \"grey blue\" has some purple dots in them. \n",
    "\n",
    "In general, the cluster does not have a very good resolution and the cluster were not comprehensive enough to cover some colors like purple, white, or orange. "
   ]
  },
  {
   "cell_type": "code",
   "execution_count": null,
   "metadata": {
    "executionInfo": {
     "elapsed": 4,
     "status": "ok",
     "timestamp": 1656563879251,
     "user": {
      "displayName": "Tianyu Wang",
      "userId": "07425378355766880287"
     },
     "user_tz": 420
    },
    "id": "S-U7WvjQ4FJe"
   },
   "outputs": [],
   "source": []
  },
  {
   "cell_type": "markdown",
   "metadata": {
    "id": "r_AS45RWoc2D"
   },
   "source": [
    "## Review\n",
    "\n"
   ]
  }
 ],
 "metadata": {
  "colab": {
   "collapsed_sections": [],
   "name": "08_Kmeans_Clustering.ipynb",
   "provenance": []
  },
  "kernelspec": {
   "display_name": "Python 3 (ipykernel)",
   "language": "python",
   "name": "python3"
  },
  "language_info": {
   "codemirror_mode": {
    "name": "ipython",
    "version": 3
   },
   "file_extension": ".py",
   "mimetype": "text/x-python",
   "name": "python",
   "nbconvert_exporter": "python",
   "pygments_lexer": "ipython3",
   "version": "3.9.13"
  }
 },
 "nbformat": 4,
 "nbformat_minor": 4
}
=======
    },
    {
      "cell_type": "markdown",
      "metadata": {
        "id": "1vulsLQRfAzV"
      },
      "source": [
        "## Load Data\n",
        "\n",
        "This color data was taken from a selection of digital ad images where the goal of the project was to understand if the presence of certain colors were indicative of high performing ads.\n",
        "\n",
        "However, before making a predictive model, it was necessary to actually classify the color of RBG triples that were present in the images.\n",
        "\n",
        "It is important to note that if the color values were uniformly distributed there would be no value in clustering.\n"
      ]
    },
    {
      "cell_type": "code",
      "execution_count": null,
      "metadata": {
        "id": "ojQcyUk0fDG_"
      },
      "outputs": [],
      "source": [
        "data_file = \"rgb_colors.csv\"\n",
        "df_colors = pandas.read_csv(data_file)\n"
      ]
    },
    {
      "cell_type": "markdown",
      "metadata": {
        "id": "sC7gYG67hEEi"
      },
      "source": [
        "## Examine data\n",
        "\n",
        "If our thesis is correct, similar colors should be near each other in the 3-dimensional RBG space.\n",
        "\n",
        "To visualize this we can plot the RBG components and verify that this is the case.\n",
        "\n",
        "Note that in the plot below, the full RGB triple is used to tell pandas/matplotlib what color to make each dot."
      ]
    },
    {
      "cell_type": "code",
      "execution_count": null,
      "metadata": {
        "colab": {
          "base_uri": "https://localhost:8080/"
        },
        "id": "4Q_cJb7BC-MO",
        "outputId": "2c7d2397-5de3-4597-8273-9c5806dad660"
      },
      "outputs": [
        {
          "data": {
            "text/plain": [
              "2030"
            ]
          },
          "execution_count": 3,
          "metadata": {},
          "output_type": "execute_result"
        }
      ],
      "source": [
        "# how many data points?\n",
        "len(df_colors)"
      ]
    },
    {
      "cell_type": "code",
      "execution_count": null,
      "metadata": {
        "colab": {
          "base_uri": "https://localhost:8080/",
          "height": 206
        },
        "id": "XEhZjtLHcAZa",
        "outputId": "c10a4202-8a57-44cc-859d-2a2aea7e9277"
      },
      "outputs": [
        {
          "data": {
            "text/html": [
              "<div>\n",
              "<style scoped>\n",
              "    .dataframe tbody tr th:only-of-type {\n",
              "        vertical-align: middle;\n",
              "    }\n",
              "\n",
              "    .dataframe tbody tr th {\n",
              "        vertical-align: top;\n",
              "    }\n",
              "\n",
              "    .dataframe thead th {\n",
              "        text-align: right;\n",
              "    }\n",
              "</style>\n",
              "<table border=\"1\" class=\"dataframe\">\n",
              "  <thead>\n",
              "    <tr style=\"text-align: right;\">\n",
              "      <th></th>\n",
              "      <th>red</th>\n",
              "      <th>green</th>\n",
              "      <th>blue</th>\n",
              "    </tr>\n",
              "  </thead>\n",
              "  <tbody>\n",
              "    <tr>\n",
              "      <th>0</th>\n",
              "      <td>233</td>\n",
              "      <td>197</td>\n",
              "      <td>146</td>\n",
              "    </tr>\n",
              "    <tr>\n",
              "      <th>1</th>\n",
              "      <td>183</td>\n",
              "      <td>97</td>\n",
              "      <td>58</td>\n",
              "    </tr>\n",
              "    <tr>\n",
              "      <th>2</th>\n",
              "      <td>188</td>\n",
              "      <td>84</td>\n",
              "      <td>7</td>\n",
              "    </tr>\n",
              "    <tr>\n",
              "      <th>3</th>\n",
              "      <td>247</td>\n",
              "      <td>252</td>\n",
              "      <td>254</td>\n",
              "    </tr>\n",
              "    <tr>\n",
              "      <th>4</th>\n",
              "      <td>248</td>\n",
              "      <td>253</td>\n",
              "      <td>253</td>\n",
              "    </tr>\n",
              "  </tbody>\n",
              "</table>\n",
              "</div>"
            ],
            "text/plain": [
              "   red  green  blue\n",
              "0  233    197   146\n",
              "1  183     97    58\n",
              "2  188     84     7\n",
              "3  247    252   254\n",
              "4  248    253   253"
            ]
          },
          "execution_count": 4,
          "metadata": {},
          "output_type": "execute_result"
        }
      ],
      "source": [
        "# what is in our DataFrame?\n",
        "df_colors.head()"
      ]
    },
    {
      "cell_type": "code",
      "execution_count": null,
      "metadata": {
        "colab": {
          "base_uri": "https://localhost:8080/",
          "height": 266
        },
        "id": "7adadJysAozT",
        "outputId": "8b3e5ae8-b2ff-4bd9-ef21-7990100d28f8"
      },
      "outputs": [
        {
          "name": "stderr",
          "output_type": "stream",
          "text": [
            "/var/folders/41/n781yz6s45l8lb8wjyh02jqm0000gn/T/ipykernel_23750/1483985810.py:4: MatplotlibDeprecationWarning: Calling gca() with keyword arguments was deprecated in Matplotlib 3.4. Starting two minor releases later, gca() will take no keyword arguments. The gca() function should only be used to get the current axes, or if no axes exist, create new axes with default keyword arguments. To create a new axes with non-default arguments, use plt.axes() or plt.subplot().\n",
            "  fig = plt.figure().gca(projection='3d')\n"
          ]
        },
        {
          "data": {
            "text/plain": [
              "<mpl_toolkits.mplot3d.art3d.Path3DCollection at 0x7f9088045490>"
            ]
          },
          "execution_count": 5,
          "metadata": {},
          "output_type": "execute_result"
        },
        {
          "data": {
            "image/png": "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\n",
            "text/plain": [
              "<Figure size 432x288 with 1 Axes>"
            ]
          },
          "metadata": {
            "needs_background": "light"
          },
          "output_type": "display_data"
        }
      ],
      "source": [
        "# make a 3d scatter plot\n",
        "colors = np.array(df_colors.values)/256 # colors need to be (r,b,g) tuple in the range of 0-1\n",
        "\n",
        "fig = plt.figure().gca(projection='3d')\n",
        "fig.scatter(df_colors.red, df_colors.green, df_colors.blue, color=colors )"
      ]
    },
    {
      "cell_type": "markdown",
      "metadata": {
        "id": "iKTKmUYllvmx"
      },
      "source": [
        "### Exercise 1: Construct K-means model (4 points)\n",
        "\n",
        "Fit a KMeans model with 10 clusters.  Be sure to use a fixed `random_state` so that you get consistent results.\n",
        "\n",
        "Use the `predict` function to get the cluster predictions for each data point and add this to the `df_colors` DataFrame "
      ]
    },
    {
      "cell_type": "markdown",
      "metadata": {
        "id": "4UM_zK5UJZK4"
      },
      "source": [
        "##### Student Solution"
      ]
    },
    {
      "cell_type": "code",
      "execution_count": null,
      "metadata": {
        "id": "ROCne7e6JlKk"
      },
      "outputs": [],
      "source": [
        "n_clusters = 10\n",
        "random_state = 10  # makes sure you get the same results each time\n",
        "\n",
        "## get np array for RBG values\n",
        "X = np.array(df_colors.values)\n",
        "\n",
        "\n",
        "def fit_kmeans(X, n_clusters, random_state):\n",
        "  ## YOUR CODE HERE ## \n",
        "  model = None\n",
        "  return model\n",
        "\n",
        "model = fit_kmeans(X, n_clusters, random_state)\n",
        "\n",
        "## get cluster prediction and add to DataFrame\n",
        "df_colors['cluster'] = model.predict(X)\n",
        "df_colors\n"
      ]
    },
    {
      "cell_type": "markdown",
      "metadata": {
        "id": "ZboSuE-Gd9Zh"
      },
      "source": [
        "## Visualize results for K-means clustering\n"
      ]
    },
    {
      "cell_type": "markdown",
      "metadata": {
        "id": "PtsNYYLSe_D1"
      },
      "source": [
        "### Exercise 2: Plot a histogram of the distribution of clusters (4 points)\n",
        "\n",
        "Since there are 10 clusters, using the `pandas.DataFrame.hist()` will render the correct distribution of values across each bin since 10 is the default number of bins.\n",
        "\n",
        "Make sure that your visual output also matches the output of `Series.value_counts()`\n"
      ]
    },
    {
      "cell_type": "markdown",
      "metadata": {
        "id": "asvG7XGwKKHS"
      },
      "source": [
        "##### Student Solution"
      ]
    },
    {
      "cell_type": "code",
      "execution_count": null,
      "metadata": {
        "id": "gwPsVEGGKGSr"
      },
      "outputs": [],
      "source": [
        "## plot histogram and print out number of points in each color cluster\n",
        "\n",
        "## YOUR CODE HERE ## \n"
      ]
    },
    {
      "cell_type": "markdown",
      "metadata": {
        "id": "wcgxW7trbt4p"
      },
      "source": [
        "### Examine results of clustering"
      ]
    },
    {
      "cell_type": "code",
      "execution_count": null,
      "metadata": {
        "id": "8sw287rQb0lo"
      },
      "outputs": [],
      "source": [
        "# take a look at distribution of colors - only the first 500 for clarity\n",
        "df_colors[:500].reset_index(drop=False).plot(x='index', y='cluster', kind='scatter', color=colors[:500])"
      ]
    },
    {
      "cell_type": "markdown",
      "metadata": {
        "id": "c0mBWkg2cUcj"
      },
      "source": [
        "### Exercise 3: Establish some human-readable names for your clusters like red, blue, yellow, etc. (4 points)\n",
        "\n",
        "\n"
      ]
    },
    {
      "cell_type": "markdown",
      "metadata": {
        "id": "RH5gMTLkKgeb"
      },
      "source": [
        "##### Student Solution"
      ]
    },
    {
      "cell_type": "code",
      "execution_count": null,
      "metadata": {
        "colab": {
          "base_uri": "https://localhost:8080/"
        },
        "id": "Nn-zY57rcYFn",
        "outputId": "1c2a7d5a-1d08-40f9-d051-b9f4bf798585"
      },
      "outputs": [
        {
          "data": {
            "text/plain": [
              "{0: 'color 1', 1: 'color 2'}"
            ]
          },
          "execution_count": 8,
          "metadata": {},
          "output_type": "execute_result"
        }
      ],
      "source": [
        "# name your clusters\n",
        "\n",
        "## YOUR CODE HERE ## \n",
        "\n",
        "color_dict = {\n",
        "    0:'color 1', \n",
        "    1:'color 2', \n",
        "    # etc etc ...\n",
        "}\n",
        "\n",
        "color_dict"
      ]
    },
    {
      "cell_type": "markdown",
      "metadata": {
        "id": "hqygpwqUcjuL"
      },
      "source": [
        "### Exercise 4: Determine the centroids of the clusters (4 points)\n"
      ]
    },
    {
      "cell_type": "markdown",
      "metadata": {
        "id": "4M2FoubOLeTe"
      },
      "source": [
        "##### Student Solution"
      ]
    },
    {
      "cell_type": "code",
      "execution_count": null,
      "metadata": {
        "id": "O0ppzlJSLnBV"
      },
      "outputs": [],
      "source": [
        "# get centroids\n",
        "\n",
        "## YOUR CODE HERE ## \n",
        "centroids = None\n",
        "\n",
        "\n"
      ]
    },
    {
      "cell_type": "markdown",
      "metadata": {
        "id": "4vxCLwk1czBJ"
      },
      "source": [
        "### Exercise 5: Write a function that makes the best guess of an RGB triple based on the centroids (4 points)\n",
        "\n",
        "The  [`KMeans.predict()`](https://scikit-learn.org/stable/modules/generated/sklearn.cluster.KMeans.html#sklearn.cluster.KMeans.predict) function predicts the cluster of any test data point by returning the cluster whose center is closest to the test data point.\n",
        "\n",
        "Without using `predict()` write a function that guesses the color of an RBG triple by finding the nearest centroid.\n",
        "\n",
        "There are many ways to calculate distance.  For this exercise it is sufficient to use a simple Euclidean distance formula.\n"
      ]
    },
    {
      "cell_type": "markdown",
      "metadata": {
        "id": "NGiSb93cghfC"
      },
      "source": [
        "##### Student Solution"
      ]
    },
    {
      "cell_type": "code",
      "execution_count": null,
      "metadata": {
        "id": "Ocw4OTu2c2DF"
      },
      "outputs": [],
      "source": [
        "## your color guessing function\n",
        "def guess_color(centroids, color_dict, test_color):\n",
        "\n",
        "  ## YOUR CODE HERE ## \n",
        "  color_name = None\n",
        "  return color_name\n",
        "\n",
        "color1 = [200, 5, 5]  # approximately red \n",
        "print(guess_color(centroids=centroids, color_dict=color_dict, test_color=color1))\n",
        "\n"
      ]
    },
    {
      "cell_type": "markdown",
      "metadata": {
        "id": "Ffx7sbNMfe4u"
      },
      "source": [
        "### Exercise 6: Write a function that returns the colors name based on the `predict()` function (4 points)\n"
      ]
    },
    {
      "cell_type": "code",
      "execution_count": null,
      "metadata": {
        "id": "vwJN1DUQfrD_"
      },
      "outputs": [],
      "source": [
        "def predict_color(model, color_dict, test_color):\n",
        "\n",
        "    ## YOUR CODE HERE ## \n",
        "    color_name = None\n",
        "    return color_name\n",
        "\n",
        "color1 = [200, 5, 5] # approximately red \n",
        "print(predict_color(model=model, color_dict=color_dict, test_color=color1))\n"
      ]
    },
    {
      "cell_type": "markdown",
      "metadata": {
        "id": "niUwnKpZhFeP"
      },
      "source": [
        "### Exercise 7: Explainability - make some visual output to show that your guesses worked (4 points)\n",
        "\n",
        "It is very important in data sceince, when possible, to have a \"visual confirmation\" that our code is working.  Think of this as an explainability exercise where you need to vefiry that your code it working.\n",
        "\n",
        "Use `matplotlib` to make some visual out to verify that `color1` is indeed RED.\n",
        "\n",
        "Here is an example, but anything that shows the color in a programmatic way is fine.\n",
        "\n",
        "![red.png](data:image/png;base64,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)\n",
        "\n",
        "\n"
      ]
    },
    {
      "cell_type": "code",
      "execution_count": null,
      "metadata": {
        "id": "U-ZJuciof8s8"
      },
      "outputs": [],
      "source": [
        "def show_color(test_color, color_name):\n",
        "\n",
        "  ## do something\n",
        "\n",
        "\n",
        "color1 = [200, 5, 5] # approximately red \n",
        "color1_name = guess_color(centroids=centroids, color_dict=color_dict, test_color=color1)\n",
        "show_color(color1, color1_name)"
      ]
    },
    {
      "cell_type": "markdown",
      "metadata": {
        "id": "_wmPs6IFlPV0"
      },
      "source": [
        "### Exercise 8: Check a range of colors (4 points)\n",
        " \n",
        "Given the list of `test_colors`, predict the colors using your `guess_color` function\n",
        "\n",
        "Comment on how good the guesses are.  Are there any unexcepted results? \n"
      ]
    },
    {
      "cell_type": "code",
      "execution_count": null,
      "metadata": {
        "id": "kSvZ6Y1uByd4"
      },
      "outputs": [],
      "source": [
        "## generate test colors\n",
        "def make_test_colors(n=3):\n",
        "  test_colors = list()\n",
        "  for rr in range(n+1):\n",
        "    for gg in range(n+1):\n",
        "      for bb in range(n+1):\n",
        "        red = int(rr/n*255)\n",
        "        green = int(gg/n*255)\n",
        "        blue = int(bb/n*255)\n",
        "\n",
        "        color = [red, green, blue]\n",
        "        test_colors.append(color)\n",
        "  test_colors = np.array(test_colors)\n",
        "  return test_colors\n"
      ]
    },
    {
      "cell_type": "code",
      "execution_count": null,
      "metadata": {
        "id": "qz3UN4kTDdof"
      },
      "outputs": [],
      "source": [
        "test_colors = make_test_colors()\n",
        "\n",
        "for ii,cc in enumerate(test_colors):\n",
        "  ## do something clever\n",
        "  # pass\n",
        "  \n",
        "  "
      ]
    },
    {
      "cell_type": "markdown",
      "metadata": {
        "id": "r_AS45RWoc2D"
      },
      "source": [
        "## Review\n",
        "\n"
      ]
    }
  ],
  "metadata": {
    "colab": {
      "name": "08 Kmeans Clustering.ipynb",
      "provenance": []
    },
    "kernelspec": {
      "display_name": "Python 3 (ipykernel)",
      "language": "python",
      "name": "python3"
    },
    "language_info": {
      "codemirror_mode": {
        "name": "ipython",
        "version": 3
      },
      "file_extension": ".py",
      "mimetype": "text/x-python",
      "name": "python",
      "nbconvert_exporter": "python",
      "pygments_lexer": "ipython3",
      "version": "3.9.7"
    }
  },
  "nbformat": 4,
  "nbformat_minor": 0
}
>>>>>>> 50ca7b2f1c1d232c9d65a3f322863e9c9d565ca2
