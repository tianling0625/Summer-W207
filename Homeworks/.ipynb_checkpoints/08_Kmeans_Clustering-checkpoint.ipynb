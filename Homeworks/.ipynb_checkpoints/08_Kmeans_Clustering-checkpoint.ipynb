{
 "cells": [
  {
   "cell_type": "markdown",
   "metadata": {
    "id": "oeL1CksCWEql"
   },
   "source": [
    "# Lab 8: \n",
    "\n",
    "##K-means Clustering\n",
    "\n",
    "[The RGB color model](https://en.wikipedia.org/wiki/RGB_color_model) is an additive color model in which the red, green, and blue primary colors of light are added together in various ways to reproduce a broad array of colors. The name of the model comes from the initials of the three additive primary colors, red, green, and blue.\n",
    "\n",
    "There are plenty of RBG-to-color converters on the web \n",
    "https://www.rapidtables.com/convert/color/rgb-to-hex.html\n",
    "\n",
    "These two RGB triples look almost identical to the human eye\n",
    "- [0, 0, 255]\n",
    "- [0, 1, 255]\n",
    "\n",
    "However there is no \"reverse lookup\" that tells you that \"this color is close to blue\" unless it is a [basic](https://en.wikipedia.org/wiki/Web_colors#Basic_colors) or [extended](https://en.wikipedia.org/wiki/Web_colors#Extended_colors) color with a specified RGB value.\n",
    "\n",
    "For this assignment you are provided a file with RGB triples for a bunch of colors.\n",
    "\n",
    "The task is to use K-means clustering to:\n",
    "\n",
    "- group the colors into color families\n",
    "- make a histogram of your color clusters to see the dsitribution of colors\n",
    "- establish some human-readable names for your clusters like red, blue, yellow, etc.\n",
    "- determine the centroids of the clusters\n",
    "- write a function that makes the best guess of an RGB triple based on the centroids\n",
    "- make some visual output to show that your guesses worked"
   ]
  },
  {
   "cell_type": "code",
   "execution_count": 1,
   "metadata": {
    "executionInfo": {
     "elapsed": 829,
     "status": "ok",
     "timestamp": 1656563875056,
     "user": {
      "displayName": "Tianyu Wang",
      "userId": "07425378355766880287"
     },
     "user_tz": 420
    },
    "id": "lpOiog6ffG1N"
   },
   "outputs": [],
   "source": [
    "## import necessary libraries and packages\n",
    "import pandas\n",
    "import numpy as np\n",
    "import matplotlib.pyplot as plt\n",
    "from mpl_toolkits.mplot3d import Axes3D\n",
    "from sklearn.cluster import KMeans"
   ]
  },
  {
   "cell_type": "markdown",
   "metadata": {
    "id": "1vulsLQRfAzV"
   },
   "source": [
    "## Load Data\n",
    "\n",
    "This color data was taken from a selection of digital ad images where the goal of the project was to understand if the presence of certain colors were indicative of high performing ads.\n",
    "\n",
    "However, before making a predictive model, it was necessary to actually classify the color of RBG triples that were present in the images.\n",
    "\n",
    "It is important to note that if the color values were uniformly distributed there would be no value in clustering.\n"
   ]
  },
  {
   "cell_type": "code",
   "execution_count": 4,
   "metadata": {
    "executionInfo": {
     "elapsed": 9,
     "status": "ok",
     "timestamp": 1656563876206,
     "user": {
      "displayName": "Tianyu Wang",
      "userId": "07425378355766880287"
     },
     "user_tz": 420
    },
    "id": "ojQcyUk0fDG_"
   },
   "outputs": [],
   "source": [
    "data_file = \"rgb_colors.csv\"\n",
    "df_colors = pandas.read_csv(data_file)\n"
   ]
  },
  {
   "cell_type": "markdown",
   "metadata": {
    "id": "sC7gYG67hEEi"
   },
   "source": [
    "## Examine data\n",
    "\n",
    "If our thesis is correct, similar colors should be near each other in the 3-dimensional RBG space.\n",
    "\n",
    "To visualize this we can plot the RBG components and verify that this is the case.\n",
    "\n",
    "Note that in the plot below, the full RGB triple is used to tell pandas/matplotlib what color to make each dot."
   ]
  },
  {
   "cell_type": "code",
   "execution_count": 5,
   "metadata": {
    "colab": {
     "base_uri": "https://localhost:8080/"
    },
    "executionInfo": {
     "elapsed": 10,
     "status": "ok",
     "timestamp": 1656563876207,
     "user": {
      "displayName": "Tianyu Wang",
      "userId": "07425378355766880287"
     },
     "user_tz": 420
    },
    "id": "4Q_cJb7BC-MO",
    "outputId": "2360c4fd-c142-45f3-98a6-36532a277127"
   },
   "outputs": [
    {
     "data": {
      "text/plain": [
       "2030"
      ]
     },
     "execution_count": 5,
     "metadata": {},
     "output_type": "execute_result"
    }
   ],
   "source": [
    "# how many data points?\n",
    "len(df_colors)"
   ]
  },
  {
   "cell_type": "code",
   "execution_count": 6,
   "metadata": {
    "colab": {
     "base_uri": "https://localhost:8080/",
     "height": 206
    },
    "executionInfo": {
     "elapsed": 8,
     "status": "ok",
     "timestamp": 1656563876207,
     "user": {
      "displayName": "Tianyu Wang",
      "userId": "07425378355766880287"
     },
     "user_tz": 420
    },
    "id": "XEhZjtLHcAZa",
    "outputId": "250d6b61-9057-436b-91ad-ea06e6746cfe"
   },
   "outputs": [
    {
     "data": {
      "text/html": [
       "\n",
       "  <div id=\"df-bd5a2b28-bc9c-4242-940d-3fc9e542fe78\">\n",
       "    <div class=\"colab-df-container\">\n",
       "      <div>\n",
       "<style scoped>\n",
       "    .dataframe tbody tr th:only-of-type {\n",
       "        vertical-align: middle;\n",
       "    }\n",
       "\n",
       "    .dataframe tbody tr th {\n",
       "        vertical-align: top;\n",
       "    }\n",
       "\n",
       "    .dataframe thead th {\n",
       "        text-align: right;\n",
       "    }\n",
       "</style>\n",
       "<table border=\"1\" class=\"dataframe\">\n",
       "  <thead>\n",
       "    <tr style=\"text-align: right;\">\n",
       "      <th></th>\n",
       "      <th>red</th>\n",
       "      <th>green</th>\n",
       "      <th>blue</th>\n",
       "    </tr>\n",
       "  </thead>\n",
       "  <tbody>\n",
       "    <tr>\n",
       "      <th>0</th>\n",
       "      <td>233</td>\n",
       "      <td>197</td>\n",
       "      <td>146</td>\n",
       "    </tr>\n",
       "    <tr>\n",
       "      <th>1</th>\n",
       "      <td>183</td>\n",
       "      <td>97</td>\n",
       "      <td>58</td>\n",
       "    </tr>\n",
       "    <tr>\n",
       "      <th>2</th>\n",
       "      <td>188</td>\n",
       "      <td>84</td>\n",
       "      <td>7</td>\n",
       "    </tr>\n",
       "    <tr>\n",
       "      <th>3</th>\n",
       "      <td>247</td>\n",
       "      <td>252</td>\n",
       "      <td>254</td>\n",
       "    </tr>\n",
       "    <tr>\n",
       "      <th>4</th>\n",
       "      <td>248</td>\n",
       "      <td>253</td>\n",
       "      <td>253</td>\n",
       "    </tr>\n",
       "  </tbody>\n",
       "</table>\n",
       "</div>\n",
       "      <button class=\"colab-df-convert\" onclick=\"convertToInteractive('df-bd5a2b28-bc9c-4242-940d-3fc9e542fe78')\"\n",
       "              title=\"Convert this dataframe to an interactive table.\"\n",
       "              style=\"display:none;\">\n",
       "        \n",
       "  <svg xmlns=\"http://www.w3.org/2000/svg\" height=\"24px\"viewBox=\"0 0 24 24\"\n",
       "       width=\"24px\">\n",
       "    <path d=\"M0 0h24v24H0V0z\" fill=\"none\"/>\n",
       "    <path d=\"M18.56 5.44l.94 2.06.94-2.06 2.06-.94-2.06-.94-.94-2.06-.94 2.06-2.06.94zm-11 1L8.5 8.5l.94-2.06 2.06-.94-2.06-.94L8.5 2.5l-.94 2.06-2.06.94zm10 10l.94 2.06.94-2.06 2.06-.94-2.06-.94-.94-2.06-.94 2.06-2.06.94z\"/><path d=\"M17.41 7.96l-1.37-1.37c-.4-.4-.92-.59-1.43-.59-.52 0-1.04.2-1.43.59L10.3 9.45l-7.72 7.72c-.78.78-.78 2.05 0 2.83L4 21.41c.39.39.9.59 1.41.59.51 0 1.02-.2 1.41-.59l7.78-7.78 2.81-2.81c.8-.78.8-2.07 0-2.86zM5.41 20L4 18.59l7.72-7.72 1.47 1.35L5.41 20z\"/>\n",
       "  </svg>\n",
       "      </button>\n",
       "      \n",
       "  <style>\n",
       "    .colab-df-container {\n",
       "      display:flex;\n",
       "      flex-wrap:wrap;\n",
       "      gap: 12px;\n",
       "    }\n",
       "\n",
       "    .colab-df-convert {\n",
       "      background-color: #E8F0FE;\n",
       "      border: none;\n",
       "      border-radius: 50%;\n",
       "      cursor: pointer;\n",
       "      display: none;\n",
       "      fill: #1967D2;\n",
       "      height: 32px;\n",
       "      padding: 0 0 0 0;\n",
       "      width: 32px;\n",
       "    }\n",
       "\n",
       "    .colab-df-convert:hover {\n",
       "      background-color: #E2EBFA;\n",
       "      box-shadow: 0px 1px 2px rgba(60, 64, 67, 0.3), 0px 1px 3px 1px rgba(60, 64, 67, 0.15);\n",
       "      fill: #174EA6;\n",
       "    }\n",
       "\n",
       "    [theme=dark] .colab-df-convert {\n",
       "      background-color: #3B4455;\n",
       "      fill: #D2E3FC;\n",
       "    }\n",
       "\n",
       "    [theme=dark] .colab-df-convert:hover {\n",
       "      background-color: #434B5C;\n",
       "      box-shadow: 0px 1px 3px 1px rgba(0, 0, 0, 0.15);\n",
       "      filter: drop-shadow(0px 1px 2px rgba(0, 0, 0, 0.3));\n",
       "      fill: #FFFFFF;\n",
       "    }\n",
       "  </style>\n",
       "\n",
       "      <script>\n",
       "        const buttonEl =\n",
       "          document.querySelector('#df-bd5a2b28-bc9c-4242-940d-3fc9e542fe78 button.colab-df-convert');\n",
       "        buttonEl.style.display =\n",
       "          google.colab.kernel.accessAllowed ? 'block' : 'none';\n",
       "\n",
       "        async function convertToInteractive(key) {\n",
       "          const element = document.querySelector('#df-bd5a2b28-bc9c-4242-940d-3fc9e542fe78');\n",
       "          const dataTable =\n",
       "            await google.colab.kernel.invokeFunction('convertToInteractive',\n",
       "                                                     [key], {});\n",
       "          if (!dataTable) return;\n",
       "\n",
       "          const docLinkHtml = 'Like what you see? Visit the ' +\n",
       "            '<a target=\"_blank\" href=https://colab.research.google.com/notebooks/data_table.ipynb>data table notebook</a>'\n",
       "            + ' to learn more about interactive tables.';\n",
       "          element.innerHTML = '';\n",
       "          dataTable['output_type'] = 'display_data';\n",
       "          await google.colab.output.renderOutput(dataTable, element);\n",
       "          const docLink = document.createElement('div');\n",
       "          docLink.innerHTML = docLinkHtml;\n",
       "          element.appendChild(docLink);\n",
       "        }\n",
       "      </script>\n",
       "    </div>\n",
       "  </div>\n",
       "  "
      ],
      "text/plain": [
       "   red  green  blue\n",
       "0  233    197   146\n",
       "1  183     97    58\n",
       "2  188     84     7\n",
       "3  247    252   254\n",
       "4  248    253   253"
      ]
     },
     "execution_count": 6,
     "metadata": {},
     "output_type": "execute_result"
    }
   ],
   "source": [
    "# what is in our DataFrame?\n",
    "df_colors.head()"
   ]
  },
  {
   "cell_type": "code",
   "execution_count": 7,
   "metadata": {
    "colab": {
     "base_uri": "https://localhost:8080/",
     "height": 266
    },
    "executionInfo": {
     "elapsed": 375,
     "status": "ok",
     "timestamp": 1656563876575,
     "user": {
      "displayName": "Tianyu Wang",
      "userId": "07425378355766880287"
     },
     "user_tz": 420
    },
    "id": "7adadJysAozT",
    "outputId": "353fddce-a1a6-4a83-83c8-149ed7fd4bdd"
   },
   "outputs": [
    {
     "data": {
      "text/plain": [
       "<mpl_toolkits.mplot3d.art3d.Path3DCollection at 0x7fd0a54d99d0>"
      ]
     },
     "execution_count": 7,
     "metadata": {},
     "output_type": "execute_result"
    },
    {
     "data": {
      "image/png": "[encoded data removed]",
      "text/plain": [
       "<Figure size 432x288 with 1 Axes>"
      ]
     },
     "metadata": {
      "needs_background": "light"
     },
     "output_type": "display_data"
    }
   ],
   "source": [
    "# make a 3d scatter plot\n",
    "colors = np.array(df_colors.values)/256 # colors need to be (r,b,g) tuple in the range of 0-1\n",
    "\n",
    "fig = plt.figure().gca(projection='3d')\n",
    "fig.scatter(df_colors.red, df_colors.green, df_colors.blue, color=colors )"
   ]
  },
  {
   "cell_type": "markdown",
   "metadata": {
    "id": "iKTKmUYllvmx"
   },
   "source": [
    "### Exercise 1: Construct K-means model (4 points)\n",
    "\n",
    "Fit a KMeans model with 10 clusters.  Be sure to use a fixed `random_state` so that you get consistent results.\n",
    "\n",
    "Use the `predict` function to get the cluster predictions for each data point and add this to the `df_colors` DataFrame "
   ]
  },
  {
   "cell_type": "markdown",
   "metadata": {
    "id": "4UM_zK5UJZK4"
   },
   "source": [
    "##### Student Solution"
   ]
  },
  {
   "cell_type": "code",
   "execution_count": 8,
   "metadata": {
    "colab": {
     "base_uri": "https://localhost:8080/",
     "height": 424
    },
    "executionInfo": {
     "elapsed": 243,
     "status": "ok",
     "timestamp": 1656563876814,
     "user": {
      "displayName": "Tianyu Wang",
      "userId": "07425378355766880287"
     },
     "user_tz": 420
    },
    "id": "ROCne7e6JlKk",
    "outputId": "b3b7972f-5e78-425b-e13d-7307b6e9a7a8"
   },
   "outputs": [
    {
     "data": {
      "text/html": [
       "\n",
       "  <div id=\"df-4e72099b-5267-447a-8337-1eafc51c84e2\">\n",
       "    <div class=\"colab-df-container\">\n",
       "      <div>\n",
       "<style scoped>\n",
       "    .dataframe tbody tr th:only-of-type {\n",
       "        vertical-align: middle;\n",
       "    }\n",
       "\n",
       "    .dataframe tbody tr th {\n",
       "        vertical-align: top;\n",
       "    }\n",
       "\n",
       "    .dataframe thead th {\n",
       "        text-align: right;\n",
       "    }\n",
       "</style>\n",
       "<table border=\"1\" class=\"dataframe\">\n",
       "  <thead>\n",
       "    <tr style=\"text-align: right;\">\n",
       "      <th></th>\n",
       "      <th>red</th>\n",
       "      <th>green</th>\n",
       "      <th>blue</th>\n",
       "      <th>cluster</th>\n",
       "    </tr>\n",
       "  </thead>\n",
       "  <tbody>\n",
       "    <tr>\n",
       "      <th>0</th>\n",
       "      <td>233</td>\n",
       "      <td>197</td>\n",
       "      <td>146</td>\n",
       "      <td>6</td>\n",
       "    </tr>\n",
       "    <tr>\n",
       "      <th>1</th>\n",
       "      <td>183</td>\n",
       "      <td>97</td>\n",
       "      <td>58</td>\n",
       "      <td>3</td>\n",
       "    </tr>\n",
       "    <tr>\n",
       "      <th>2</th>\n",
       "      <td>188</td>\n",
       "      <td>84</td>\n",
       "      <td>7</td>\n",
       "      <td>3</td>\n",
       "    </tr>\n",
       "    <tr>\n",
       "      <th>3</th>\n",
       "      <td>247</td>\n",
       "      <td>252</td>\n",
       "      <td>254</td>\n",
       "      <td>2</td>\n",
       "    </tr>\n",
       "    <tr>\n",
       "      <th>4</th>\n",
       "      <td>248</td>\n",
       "      <td>253</td>\n",
       "      <td>253</td>\n",
       "      <td>2</td>\n",
       "    </tr>\n",
       "    <tr>\n",
       "      <th>...</th>\n",
       "      <td>...</td>\n",
       "      <td>...</td>\n",
       "      <td>...</td>\n",
       "      <td>...</td>\n",
       "    </tr>\n",
       "    <tr>\n",
       "      <th>2025</th>\n",
       "      <td>27</td>\n",
       "      <td>123</td>\n",
       "      <td>141</td>\n",
       "      <td>9</td>\n",
       "    </tr>\n",
       "    <tr>\n",
       "      <th>2026</th>\n",
       "      <td>194</td>\n",
       "      <td>193</td>\n",
       "      <td>198</td>\n",
       "      <td>6</td>\n",
       "    </tr>\n",
       "    <tr>\n",
       "      <th>2027</th>\n",
       "      <td>41</td>\n",
       "      <td>113</td>\n",
       "      <td>197</td>\n",
       "      <td>9</td>\n",
       "    </tr>\n",
       "    <tr>\n",
       "      <th>2028</th>\n",
       "      <td>35</td>\n",
       "      <td>114</td>\n",
       "      <td>197</td>\n",
       "      <td>9</td>\n",
       "    </tr>\n",
       "    <tr>\n",
       "      <th>2029</th>\n",
       "      <td>27</td>\n",
       "      <td>123</td>\n",
       "      <td>141</td>\n",
       "      <td>9</td>\n",
       "    </tr>\n",
       "  </tbody>\n",
       "</table>\n",
       "<p>2030 rows × 4 columns</p>\n",
       "</div>\n",
       "      <button class=\"colab-df-convert\" onclick=\"convertToInteractive('df-4e72099b-5267-447a-8337-1eafc51c84e2')\"\n",
       "              title=\"Convert this dataframe to an interactive table.\"\n",
       "              style=\"display:none;\">\n",
       "        \n",
       "  <svg xmlns=\"http://www.w3.org/2000/svg\" height=\"24px\"viewBox=\"0 0 24 24\"\n",
       "       width=\"24px\">\n",
       "    <path d=\"M0 0h24v24H0V0z\" fill=\"none\"/>\n",
       "    <path d=\"M18.56 5.44l.94 2.06.94-2.06 2.06-.94-2.06-.94-.94-2.06-.94 2.06-2.06.94zm-11 1L8.5 8.5l.94-2.06 2.06-.94-2.06-.94L8.5 2.5l-.94 2.06-2.06.94zm10 10l.94 2.06.94-2.06 2.06-.94-2.06-.94-.94-2.06-.94 2.06-2.06.94z\"/><path d=\"M17.41 7.96l-1.37-1.37c-.4-.4-.92-.59-1.43-.59-.52 0-1.04.2-1.43.59L10.3 9.45l-7.72 7.72c-.78.78-.78 2.05 0 2.83L4 21.41c.39.39.9.59 1.41.59.51 0 1.02-.2 1.41-.59l7.78-7.78 2.81-2.81c.8-.78.8-2.07 0-2.86zM5.41 20L4 18.59l7.72-7.72 1.47 1.35L5.41 20z\"/>\n",
       "  </svg>\n",
       "      </button>\n",
       "      \n",
       "  <style>\n",
       "    .colab-df-container {\n",
       "      display:flex;\n",
       "      flex-wrap:wrap;\n",
       "      gap: 12px;\n",
       "    }\n",
       "\n",
       "    .colab-df-convert {\n",
       "      background-color: #E8F0FE;\n",
       "      border: none;\n",
       "      border-radius: 50%;\n",
       "      cursor: pointer;\n",
       "      display: none;\n",
       "      fill: #1967D2;\n",
       "      height: 32px;\n",
       "      padding: 0 0 0 0;\n",
       "      width: 32px;\n",
       "    }\n",
       "\n",
       "    .colab-df-convert:hover {\n",
       "      background-color: #E2EBFA;\n",
       "      box-shadow: 0px 1px 2px rgba(60, 64, 67, 0.3), 0px 1px 3px 1px rgba(60, 64, 67, 0.15);\n",
       "      fill: #174EA6;\n",
       "    }\n",
       "\n",
       "    [theme=dark] .colab-df-convert {\n",
       "      background-color: #3B4455;\n",
       "      fill: #D2E3FC;\n",
       "    }\n",
       "\n",
       "    [theme=dark] .colab-df-convert:hover {\n",
       "      background-color: #434B5C;\n",
       "      box-shadow: 0px 1px 3px 1px rgba(0, 0, 0, 0.15);\n",
       "      filter: drop-shadow(0px 1px 2px rgba(0, 0, 0, 0.3));\n",
       "      fill: #FFFFFF;\n",
       "    }\n",
       "  </style>\n",
       "\n",
       "      <script>\n",
       "        const buttonEl =\n",
       "          document.querySelector('#df-4e72099b-5267-447a-8337-1eafc51c84e2 button.colab-df-convert');\n",
       "        buttonEl.style.display =\n",
       "          google.colab.kernel.accessAllowed ? 'block' : 'none';\n",
       "\n",
       "        async function convertToInteractive(key) {\n",
       "          const element = document.querySelector('#df-4e72099b-5267-447a-8337-1eafc51c84e2');\n",
       "          const dataTable =\n",
       "            await google.colab.kernel.invokeFunction('convertToInteractive',\n",
       "                                                     [key], {});\n",
       "          if (!dataTable) return;\n",
       "\n",
       "          const docLinkHtml = 'Like what you see? Visit the ' +\n",
       "            '<a target=\"_blank\" href=https://colab.research.google.com/notebooks/data_table.ipynb>data table notebook</a>'\n",
       "            + ' to learn more about interactive tables.';\n",
       "          element.innerHTML = '';\n",
       "          dataTable['output_type'] = 'display_data';\n",
       "          await google.colab.output.renderOutput(dataTable, element);\n",
       "          const docLink = document.createElement('div');\n",
       "          docLink.innerHTML = docLinkHtml;\n",
       "          element.appendChild(docLink);\n",
       "        }\n",
       "      </script>\n",
       "    </div>\n",
       "  </div>\n",
       "  "
      ],
      "text/plain": [
       "      red  green  blue  cluster\n",
       "0     233    197   146        6\n",
       "1     183     97    58        3\n",
       "2     188     84     7        3\n",
       "3     247    252   254        2\n",
       "4     248    253   253        2\n",
       "...   ...    ...   ...      ...\n",
       "2025   27    123   141        9\n",
       "2026  194    193   198        6\n",
       "2027   41    113   197        9\n",
       "2028   35    114   197        9\n",
       "2029   27    123   141        9\n",
       "\n",
       "[2030 rows x 4 columns]"
      ]
     },
     "execution_count": 8,
     "metadata": {},
     "output_type": "execute_result"
    }
   ],
   "source": [
    "n_clusters = 10\n",
    "random_state = 10  # makes sure you get the same results each time\n",
    "\n",
    "## get np array for RBG values\n",
    "X = np.array(df_colors.values)\n",
    "\n",
    "\n",
    "def fit_kmeans(X, n_clusters, random_state):\n",
    "  model = KMeans(n_clusters=n_clusters, random_state=random_state, init='k-means++')\n",
    "  model.fit(X)\n",
    "  return model\n",
    "\n",
    "model = fit_kmeans(X, n_clusters, random_state)\n",
    "\n",
    "## get cluster prediction and add to DataFrame\n",
    "df_colors['cluster'] = model.predict(X)\n",
    "df_colors\n"
   ]
  },
  {
   "cell_type": "markdown",
   "metadata": {
    "id": "ZboSuE-Gd9Zh"
   },
   "source": [
    "## Visualize results for K-means clustering\n"
   ]
  },
  {
   "cell_type": "markdown",
   "metadata": {
    "id": "PtsNYYLSe_D1"
   },
   "source": [
    "### Exercise 2: Plot a histogram of the distribution of clusters (4 points)\n",
    "\n",
    "Since there are 10 clusters, using the `pandas.DataFrame.hist()` will render the correct distribution of values across each bin since 10 is the default number of bins.\n",
    "\n",
    "Make sure that your visual output also matches the output of `Series.value_counts()`\n"
   ]
  },
  {
   "cell_type": "markdown",
   "metadata": {
    "id": "asvG7XGwKKHS"
   },
   "source": [
    "##### Student Solution"
   ]
  },
  {
   "cell_type": "code",
   "execution_count": 9,
   "metadata": {
    "colab": {
     "base_uri": "https://localhost:8080/",
     "height": 513
    },
    "executionInfo": {
     "elapsed": 489,
     "status": "ok",
     "timestamp": 1656563877299,
     "user": {
      "displayName": "Tianyu Wang",
      "userId": "07425378355766880287"
     },
     "user_tz": 420
    },
    "id": "gwPsVEGGKGSr",
    "outputId": "501fab8e-7528-485e-9782-ca4cd1080cdd"
   },
   "outputs": [
    {
     "name": "stdout",
     "output_type": "stream",
     "text": [
      "0    338\n",
      "1     88\n",
      "2    399\n",
      "3    151\n",
      "4    181\n",
      "5    119\n",
      "6    244\n",
      "7    115\n",
      "8    201\n",
      "9    194\n",
      "Name: cluster, dtype: int64\n"
     ]
    },
    {
     "data": {
      "text/plain": [
       "array([[<matplotlib.axes._subplots.AxesSubplot object at 0x7fd09e7bacd0>]],\n",
       "      dtype=object)"
      ]
     },
     "execution_count": 9,
     "metadata": {},
     "output_type": "execute_result"
    },
    {
     "data": {
      "image/png": "[encoded data removed]",
      "text/plain": [
       "<Figure size 432x288 with 1 Axes>"
      ]
     },
     "metadata": {
      "needs_background": "light"
     },
     "output_type": "display_data"
    }
   ],
   "source": [
    "from pandas.core.indexes.period import period_range\n",
    "## plot histogram and print out number of points in each color cluster\n",
    "\n",
    "## YOUR CODE HERE ## \n",
    "counts = df_colors['cluster'].value_counts().sort_index()\n",
    "print(counts)\n",
    "\n",
    "hist = df_colors.hist(column=['cluster'])\n",
    "hist"
   ]
  },
  {
   "cell_type": "markdown",
   "metadata": {
    "id": "wcgxW7trbt4p"
   },
   "source": [
    "### Examine results of clustering"
   ]
  },
  {
   "cell_type": "code",
   "execution_count": 10,
   "metadata": {
    "colab": {
     "base_uri": "https://localhost:8080/",
     "height": 297
    },
    "executionInfo": {
     "elapsed": 349,
     "status": "ok",
     "timestamp": 1656563877640,
     "user": {
      "displayName": "Tianyu Wang",
      "userId": "07425378355766880287"
     },
     "user_tz": 420
    },
    "id": "8sw287rQb0lo",
    "outputId": "17871d83-6103-48b5-fefb-b087819cfed1"
   },
   "outputs": [
    {
     "data": {
      "text/plain": [
       "<matplotlib.axes._subplots.AxesSubplot at 0x7fd09e782810>"
      ]
     },
     "execution_count": 10,
     "metadata": {},
     "output_type": "execute_result"
    },
    {
     "data": {
      "image/png": "[encoded data removed]",
      "text/plain": [
       "<Figure size 432x288 with 1 Axes>"
      ]
     },
     "metadata": {
      "needs_background": "light"
     },
     "output_type": "display_data"
    }
   ],
   "source": [
    "# take a look at distribution of colors - only the first 500 for clarity\n",
    "df_colors[:500].reset_index(drop=False).plot(x='index', y='cluster', kind='scatter', color=colors[:500])"
   ]
  },
  {
   "cell_type": "markdown",
   "metadata": {
    "id": "c0mBWkg2cUcj"
   },
   "source": [
    "### Exercise 3: Establish some human-readable names for your clusters like red, blue, yellow, etc. (4 points)\n",
    "\n",
    "\n"
   ]
  },
  {
   "cell_type": "markdown",
   "metadata": {
    "id": "RH5gMTLkKgeb"
   },
   "source": [
    "##### Student Solution"
   ]
  },
  {
   "cell_type": "code",
   "execution_count": 11,
   "metadata": {
    "colab": {
     "base_uri": "https://localhost:8080/"
    },
    "executionInfo": {
     "elapsed": 8,
     "status": "ok",
     "timestamp": 1656563877641,
     "user": {
      "displayName": "Tianyu Wang",
      "userId": "07425378355766880287"
     },
     "user_tz": 420
    },
    "id": "Nn-zY57rcYFn",
    "outputId": "d23fd309-bc5b-44de-c372-317f37c63ef2"
   },
   "outputs": [
    {
     "data": {
      "text/plain": [
       "{0: 'black',\n",
       " 1: 'sky blue',\n",
       " 2: 'light grey',\n",
       " 3: 'red',\n",
       " 4: 'brown grey',\n",
       " 5: 'yellow',\n",
       " 6: 'grey',\n",
       " 7: 'sea blue',\n",
       " 8: 'dark green grey',\n",
       " 9: 'grey blue'}"
      ]
     },
     "execution_count": 11,
     "metadata": {},
     "output_type": "execute_result"
    }
   ],
   "source": [
    "# name your clusters\n",
    "\n",
    "## YOUR CODE HERE ## \n",
    "\n",
    "color_dict = {\n",
    "    0:'black', \n",
    "    1:'sky blue',\n",
    "    2:'light grey', \n",
    "    3:'red', \n",
    "    4:'brown grey', \n",
    "    5:'yellow', \n",
    "    6:'grey', \n",
    "    7:'sea blue', \n",
    "    8:'dark green grey',\n",
    "    9:'grey blue',\n",
    "    # etc etc ...\n",
    "}\n",
    "\n",
    "color_dict"
   ]
  },
  {
   "cell_type": "markdown",
   "metadata": {
    "id": "hqygpwqUcjuL"
   },
   "source": [
    "### Exercise 4: Determine the centroids of the clusters (4 points)\n"
   ]
  },
  {
   "cell_type": "markdown",
   "metadata": {
    "id": "4M2FoubOLeTe"
   },
   "source": [
    "##### Student Solution"
   ]
  },
  {
   "cell_type": "code",
   "execution_count": 12,
   "metadata": {
    "colab": {
     "base_uri": "https://localhost:8080/"
    },
    "executionInfo": {
     "elapsed": 495,
     "status": "ok",
     "timestamp": 1656563878130,
     "user": {
      "displayName": "Tianyu Wang",
      "userId": "07425378355766880287"
     },
     "user_tz": 420
    },
    "id": "O0ppzlJSLnBV",
    "outputId": "faf19739-f653-45c9-80d4-fcf13ef0eddf"
   },
   "outputs": [
    {
     "name": "stdout",
     "output_type": "stream",
     "text": [
      "            R           G           B\n",
      "0   13.742604   12.257396   16.142012\n",
      "1  117.681818  203.022727  228.022727\n",
      "2  244.112782  246.619048  246.125313\n",
      "3  192.655629   29.589404   38.801325\n",
      "4  105.696133   88.132597   85.563536\n",
      "5  224.605042  181.310924   42.067227\n",
      "6  184.586066  176.512295  159.073770\n",
      "7    5.408696   84.852174  195.191304\n",
      "8   47.965174   65.422886   46.383085\n",
      "9   58.288660  131.829897  179.896907\n"
     ]
    }
   ],
   "source": [
    "# get centroids\n",
    "\n",
    "## YOUR CODE HERE ## \n",
    "colorcluster = model.fit(X)\n",
    "centroids = colorcluster.cluster_centers_\n",
    "centroids = pandas.DataFrame(centroids, columns = ['R','G','B'])\n",
    "print(centroids)\n",
    "\n",
    "\n"
   ]
  },
  {
   "cell_type": "markdown",
   "metadata": {
    "id": "4vxCLwk1czBJ"
   },
   "source": [
    "### Exercise 5: Write a function that makes the best guess of an RGB triple based on the centroids (4 points)\n",
    "\n",
    "The  [`KMeans.predict()`](https://scikit-learn.org/stable/modules/generated/sklearn.cluster.KMeans.html#sklearn.cluster.KMeans.predict) function predicts the cluster of any test data point by returning the cluster whose center is closest to the test data point.\n",
    "\n",
    "Without using `predict()` write a function that guesses the color of an RBG triple by finding the nearest centroid.\n",
    "\n",
    "There are many ways to calculate distance.  For this exercise it is sufficient to use a simple Euclidean distance formula.\n"
   ]
  },
  {
   "cell_type": "markdown",
   "metadata": {
    "id": "NGiSb93cghfC"
   },
   "source": [
    "##### Student Solution"
   ]
  },
  {
   "cell_type": "code",
   "execution_count": 13,
   "metadata": {
    "colab": {
     "base_uri": "https://localhost:8080/"
    },
    "executionInfo": {
     "elapsed": 7,
     "status": "ok",
     "timestamp": 1656563878131,
     "user": {
      "displayName": "Tianyu Wang",
      "userId": "07425378355766880287"
     },
     "user_tz": 420
    },
    "id": "Ocw4OTu2c2DF",
    "outputId": "700b0903-860c-40af-a613-ff82f8f0088d"
   },
   "outputs": [
    {
     "name": "stdout",
     "output_type": "stream",
     "text": [
      "red\n"
     ]
    }
   ],
   "source": [
    "from numpy.ma.core import sqrt\n",
    "## your color guessing function\n",
    "def guess_color(centroids, color_dict, test_color):\n",
    "\n",
    "  ## YOUR CODE HERE ## \n",
    "  cal = centroids\n",
    "  cal['R_test'] = test_color[0]\n",
    "  cal['G_test'] = test_color[1]\n",
    "  cal['B_test'] = test_color[2]\n",
    "  cal['Distance'] = ((cal['R']-cal['R_test'])**2 + (cal['G']-cal['G_test'])**2 + (cal['B']-cal['B_test'])**2)**(1/2)\n",
    "  color_index = cal['Distance'].idxmin()\n",
    "  color_name = color_dict[color_index]\n",
    "  return color_name\n",
    "\n",
    "color1 = [200, 5, 5]  # approximately red \n",
    "print(guess_color(centroids=centroids, color_dict=color_dict, test_color=color1))\n",
    "\n"
   ]
  },
  {
   "cell_type": "markdown",
   "metadata": {
    "id": "Ffx7sbNMfe4u"
   },
   "source": [
    "### Exercise 6: Write a function that returns the colors name based on the `predict()` function (4 points)\n"
   ]
  },
  {
   "cell_type": "code",
   "execution_count": 14,
   "metadata": {
    "colab": {
     "base_uri": "https://localhost:8080/"
    },
    "executionInfo": {
     "elapsed": 6,
     "status": "ok",
     "timestamp": 1656563878131,
     "user": {
      "displayName": "Tianyu Wang",
      "userId": "07425378355766880287"
     },
     "user_tz": 420
    },
    "id": "LR1cSDFvvNK-",
    "outputId": "9ae0b763-013c-437a-dea1-9a2c05a13a74"
   },
   "outputs": [
    {
     "data": {
      "text/plain": [
       "array([[200,   5,   5]])"
      ]
     },
     "execution_count": 14,
     "metadata": {},
     "output_type": "execute_result"
    }
   ],
   "source": [
    "np.array([color1])"
   ]
  },
  {
   "cell_type": "code",
   "execution_count": 15,
   "metadata": {
    "colab": {
     "base_uri": "https://localhost:8080/"
    },
    "executionInfo": {
     "elapsed": 4,
     "status": "ok",
     "timestamp": 1656563878131,
     "user": {
      "displayName": "Tianyu Wang",
      "userId": "07425378355766880287"
     },
     "user_tz": 420
    },
    "id": "vwJN1DUQfrD_",
    "outputId": "bbf8902f-9e67-4d95-8657-1856e45007b5"
   },
   "outputs": [
    {
     "name": "stdout",
     "output_type": "stream",
     "text": [
      "red\n"
     ]
    }
   ],
   "source": [
    "def predict_color(model, color_dict, test_color):\n",
    "\n",
    "    color_array = np.array([test_color])\n",
    "    color_index = model.predict(color_array)[0]\n",
    "    color_name = color_dict[color_index]\n",
    "    return color_name\n",
    "\n",
    "color1 = [200, 5, 5] # approximately red \n",
    "print(predict_color(model=model, color_dict=color_dict, test_color=color1))\n"
   ]
  },
  {
   "cell_type": "markdown",
   "metadata": {
    "id": "niUwnKpZhFeP"
   },
   "source": [
    "### Exercise 7: Explainability - make some visual output to show that your guesses worked (4 points)\n",
    "\n",
    "It is very important in data sceince, when possible, to have a \"visual confirmation\" that our code is working.  Think of this as an explainability exercise where you need to vefiry that your code it working.\n",
    "\n",
    "Use `matplotlib` to make some visual out to verify that `color1` is indeed RED.\n",
    "\n",
    "Here is an example, but anything that shows the color in a programmatic way is fine.\n",
    "\n",
    "![red.png](data:image/png;base64,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)\n",
    "\n",
    "\n"
   ]
  },
  {
   "cell_type": "code",
   "execution_count": 16,
   "metadata": {
    "colab": {
     "base_uri": "https://localhost:8080/",
     "height": 269
    },
    "executionInfo": {
     "elapsed": 235,
     "status": "ok",
     "timestamp": 1656563878363,
     "user": {
      "displayName": "Tianyu Wang",
      "userId": "07425378355766880287"
     },
     "user_tz": 420
    },
    "id": "U-ZJuciof8s8",
    "outputId": "a40ed699-2afe-4789-9f68-b2db70a8b0e4"
   },
   "outputs": [
    {
     "data": {
      "image/png": "[encoded data removed]",
      "text/plain": [
       "<Figure size 432x288 with 1 Axes>"
      ]
     },
     "metadata": {
      "needs_background": "light"
     },
     "output_type": "display_data"
    }
   ],
   "source": [
    "from numpy.core.fromnumeric import size\n",
    "from matplotlib import text\n",
    "def show_color(test_color, color_name):\n",
    "\n",
    "  plt.xlim(0, 5)\n",
    "  plt.ylim(0, 5)\n",
    "  plt.grid()\n",
    "  plt.plot(2.5, 2.5, marker=\"o\", markersize=30, \n",
    "           markerfacecolor=tuple(np.array(test_color)/255),\n",
    "           markeredgecolor = tuple(np.array(test_color)/255))\n",
    "  plt.text(2.5, 1.5, color_name,horizontalalignment='center',fontsize=14)\n",
    "  plt.show()\n",
    "\n",
    "\n",
    "color1 = [200, 5, 5] # approximately red \n",
    "color1_name = guess_color(centroids=centroids, color_dict=color_dict, test_color=color1)\n",
    "show_color(color1, color1_name)"
   ]
  },
  {
   "cell_type": "markdown",
   "metadata": {
    "id": "_wmPs6IFlPV0"
   },
   "source": [
    "### Exercise 8: Check a range of colors (4 points)\n",
    " \n",
    "Given the list of `test_colors`, predict the colors using your `guess_color` function\n",
    "\n",
    "Comment on how good the guesses are.  Are there any unexcepted results? \n"
   ]
  },
  {
   "cell_type": "code",
   "execution_count": 17,
   "metadata": {
    "executionInfo": {
     "elapsed": 3,
     "status": "ok",
     "timestamp": 1656563878364,
     "user": {
      "displayName": "Tianyu Wang",
      "userId": "07425378355766880287"
     },
     "user_tz": 420
    },
    "id": "kSvZ6Y1uByd4"
   },
   "outputs": [],
   "source": [
    "## generate test colors\n",
    "def make_test_colors(n=3):\n",
    "  test_colors = list()\n",
    "  for rr in range(n+1):\n",
    "    for gg in range(n+1):\n",
    "      for bb in range(n+1):\n",
    "        red = int(rr/n*255)\n",
    "        green = int(gg/n*255)\n",
    "        blue = int(bb/n*255)\n",
    "\n",
    "        color = [red, green, blue]\n",
    "        test_colors.append(color)\n",
    "  test_colors = np.array(test_colors)\n",
    "  return test_colors\n"
   ]
  },
  {
   "cell_type": "code",
   "execution_count": 18,
   "metadata": {
    "executionInfo": {
     "elapsed": 441,
     "status": "ok",
     "timestamp": 1656563878802,
     "user": {
      "displayName": "Tianyu Wang",
      "userId": "07425378355766880287"
     },
     "user_tz": 420
    },
    "id": "qz3UN4kTDdof"
   },
   "outputs": [],
   "source": [
    "test_colors = make_test_colors()\n",
    "test_results = list()\n",
    "colordf = pandas.DataFrame(test_colors, columns=['R','G','B'])\n",
    "for ii,cc in enumerate(test_colors):\n",
    "  guesscolor = guess_color(centroids, color_dict, cc)\n",
    "  test_results.append(guesscolor)\n",
    "  pass\n",
    "colordf['Guess'] = test_results\n"
   ]
  },
  {
   "cell_type": "code",
   "execution_count": 19,
   "metadata": {
    "colab": {
     "base_uri": "https://localhost:8080/",
     "height": 424
    },
    "executionInfo": {
     "elapsed": 4,
     "status": "ok",
     "timestamp": 1656563878803,
     "user": {
      "displayName": "Tianyu Wang",
      "userId": "07425378355766880287"
     },
     "user_tz": 420
    },
    "id": "M77mmUMerl4p",
    "outputId": "15a1ba3c-ca6e-43cc-92dd-d46b0f4a53fc"
   },
   "outputs": [
    {
     "data": {
      "text/html": [
       "\n",
       "  <div id=\"df-e20e3af8-de0d-4e7b-818d-51998e3c0eb1\">\n",
       "    <div class=\"colab-df-container\">\n",
       "      <div>\n",
       "<style scoped>\n",
       "    .dataframe tbody tr th:only-of-type {\n",
       "        vertical-align: middle;\n",
       "    }\n",
       "\n",
       "    .dataframe tbody tr th {\n",
       "        vertical-align: top;\n",
       "    }\n",
       "\n",
       "    .dataframe thead th {\n",
       "        text-align: right;\n",
       "    }\n",
       "</style>\n",
       "<table border=\"1\" class=\"dataframe\">\n",
       "  <thead>\n",
       "    <tr style=\"text-align: right;\">\n",
       "      <th></th>\n",
       "      <th>R</th>\n",
       "      <th>G</th>\n",
       "      <th>B</th>\n",
       "      <th>Guess</th>\n",
       "    </tr>\n",
       "  </thead>\n",
       "  <tbody>\n",
       "    <tr>\n",
       "      <th>0</th>\n",
       "      <td>0</td>\n",
       "      <td>0</td>\n",
       "      <td>0</td>\n",
       "      <td>black</td>\n",
       "    </tr>\n",
       "    <tr>\n",
       "      <th>1</th>\n",
       "      <td>0</td>\n",
       "      <td>0</td>\n",
       "      <td>85</td>\n",
       "      <td>black</td>\n",
       "    </tr>\n",
       "    <tr>\n",
       "      <th>2</th>\n",
       "      <td>0</td>\n",
       "      <td>0</td>\n",
       "      <td>170</td>\n",
       "      <td>sea blue</td>\n",
       "    </tr>\n",
       "    <tr>\n",
       "      <th>3</th>\n",
       "      <td>0</td>\n",
       "      <td>0</td>\n",
       "      <td>255</td>\n",
       "      <td>sea blue</td>\n",
       "    </tr>\n",
       "    <tr>\n",
       "      <th>4</th>\n",
       "      <td>0</td>\n",
       "      <td>85</td>\n",
       "      <td>0</td>\n",
       "      <td>dark green grey</td>\n",
       "    </tr>\n",
       "    <tr>\n",
       "      <th>...</th>\n",
       "      <td>...</td>\n",
       "      <td>...</td>\n",
       "      <td>...</td>\n",
       "      <td>...</td>\n",
       "    </tr>\n",
       "    <tr>\n",
       "      <th>59</th>\n",
       "      <td>255</td>\n",
       "      <td>170</td>\n",
       "      <td>255</td>\n",
       "      <td>light grey</td>\n",
       "    </tr>\n",
       "    <tr>\n",
       "      <th>60</th>\n",
       "      <td>255</td>\n",
       "      <td>255</td>\n",
       "      <td>0</td>\n",
       "      <td>yellow</td>\n",
       "    </tr>\n",
       "    <tr>\n",
       "      <th>61</th>\n",
       "      <td>255</td>\n",
       "      <td>255</td>\n",
       "      <td>85</td>\n",
       "      <td>yellow</td>\n",
       "    </tr>\n",
       "    <tr>\n",
       "      <th>62</th>\n",
       "      <td>255</td>\n",
       "      <td>255</td>\n",
       "      <td>170</td>\n",
       "      <td>light grey</td>\n",
       "    </tr>\n",
       "    <tr>\n",
       "      <th>63</th>\n",
       "      <td>255</td>\n",
       "      <td>255</td>\n",
       "      <td>255</td>\n",
       "      <td>light grey</td>\n",
       "    </tr>\n",
       "  </tbody>\n",
       "</table>\n",
       "<p>64 rows × 4 columns</p>\n",
       "</div>\n",
       "      <button class=\"colab-df-convert\" onclick=\"convertToInteractive('df-e20e3af8-de0d-4e7b-818d-51998e3c0eb1')\"\n",
       "              title=\"Convert this dataframe to an interactive table.\"\n",
       "              style=\"display:none;\">\n",
       "        \n",
       "  <svg xmlns=\"http://www.w3.org/2000/svg\" height=\"24px\"viewBox=\"0 0 24 24\"\n",
       "       width=\"24px\">\n",
       "    <path d=\"M0 0h24v24H0V0z\" fill=\"none\"/>\n",
       "    <path d=\"M18.56 5.44l.94 2.06.94-2.06 2.06-.94-2.06-.94-.94-2.06-.94 2.06-2.06.94zm-11 1L8.5 8.5l.94-2.06 2.06-.94-2.06-.94L8.5 2.5l-.94 2.06-2.06.94zm10 10l.94 2.06.94-2.06 2.06-.94-2.06-.94-.94-2.06-.94 2.06-2.06.94z\"/><path d=\"M17.41 7.96l-1.37-1.37c-.4-.4-.92-.59-1.43-.59-.52 0-1.04.2-1.43.59L10.3 9.45l-7.72 7.72c-.78.78-.78 2.05 0 2.83L4 21.41c.39.39.9.59 1.41.59.51 0 1.02-.2 1.41-.59l7.78-7.78 2.81-2.81c.8-.78.8-2.07 0-2.86zM5.41 20L4 18.59l7.72-7.72 1.47 1.35L5.41 20z\"/>\n",
       "  </svg>\n",
       "      </button>\n",
       "      \n",
       "  <style>\n",
       "    .colab-df-container {\n",
       "      display:flex;\n",
       "      flex-wrap:wrap;\n",
       "      gap: 12px;\n",
       "    }\n",
       "\n",
       "    .colab-df-convert {\n",
       "      background-color: #E8F0FE;\n",
       "      border: none;\n",
       "      border-radius: 50%;\n",
       "      cursor: pointer;\n",
       "      display: none;\n",
       "      fill: #1967D2;\n",
       "      height: 32px;\n",
       "      padding: 0 0 0 0;\n",
       "      width: 32px;\n",
       "    }\n",
       "\n",
       "    .colab-df-convert:hover {\n",
       "      background-color: #E2EBFA;\n",
       "      box-shadow: 0px 1px 2px rgba(60, 64, 67, 0.3), 0px 1px 3px 1px rgba(60, 64, 67, 0.15);\n",
       "      fill: #174EA6;\n",
       "    }\n",
       "\n",
       "    [theme=dark] .colab-df-convert {\n",
       "      background-color: #3B4455;\n",
       "      fill: #D2E3FC;\n",
       "    }\n",
       "\n",
       "    [theme=dark] .colab-df-convert:hover {\n",
       "      background-color: #434B5C;\n",
       "      box-shadow: 0px 1px 3px 1px rgba(0, 0, 0, 0.15);\n",
       "      filter: drop-shadow(0px 1px 2px rgba(0, 0, 0, 0.3));\n",
       "      fill: #FFFFFF;\n",
       "    }\n",
       "  </style>\n",
       "\n",
       "      <script>\n",
       "        const buttonEl =\n",
       "          document.querySelector('#df-e20e3af8-de0d-4e7b-818d-51998e3c0eb1 button.colab-df-convert');\n",
       "        buttonEl.style.display =\n",
       "          google.colab.kernel.accessAllowed ? 'block' : 'none';\n",
       "\n",
       "        async function convertToInteractive(key) {\n",
       "          const element = document.querySelector('#df-e20e3af8-de0d-4e7b-818d-51998e3c0eb1');\n",
       "          const dataTable =\n",
       "            await google.colab.kernel.invokeFunction('convertToInteractive',\n",
       "                                                     [key], {});\n",
       "          if (!dataTable) return;\n",
       "\n",
       "          const docLinkHtml = 'Like what you see? Visit the ' +\n",
       "            '<a target=\"_blank\" href=https://colab.research.google.com/notebooks/data_table.ipynb>data table notebook</a>'\n",
       "            + ' to learn more about interactive tables.';\n",
       "          element.innerHTML = '';\n",
       "          dataTable['output_type'] = 'display_data';\n",
       "          await google.colab.output.renderOutput(dataTable, element);\n",
       "          const docLink = document.createElement('div');\n",
       "          docLink.innerHTML = docLinkHtml;\n",
       "          element.appendChild(docLink);\n",
       "        }\n",
       "      </script>\n",
       "    </div>\n",
       "  </div>\n",
       "  "
      ],
      "text/plain": [
       "      R    G    B            Guess\n",
       "0     0    0    0            black\n",
       "1     0    0   85            black\n",
       "2     0    0  170         sea blue\n",
       "3     0    0  255         sea blue\n",
       "4     0   85    0  dark green grey\n",
       "..  ...  ...  ...              ...\n",
       "59  255  170  255       light grey\n",
       "60  255  255    0           yellow\n",
       "61  255  255   85           yellow\n",
       "62  255  255  170       light grey\n",
       "63  255  255  255       light grey\n",
       "\n",
       "[64 rows x 4 columns]"
      ]
     },
     "execution_count": 19,
     "metadata": {},
     "output_type": "execute_result"
    }
   ],
   "source": [
    "colordf"
   ]
  },
  {
   "cell_type": "code",
   "execution_count": 20,
   "metadata": {
    "colab": {
     "base_uri": "https://localhost:8080/",
     "height": 297
    },
    "executionInfo": {
     "elapsed": 450,
     "status": "ok",
     "timestamp": 1656563879250,
     "user": {
      "displayName": "Tianyu Wang",
      "userId": "07425378355766880287"
     },
     "user_tz": 420
    },
    "id": "9KeAyXZkyhLT",
    "outputId": "4d4ae060-2d9d-49ef-b754-000c7288d8d3"
   },
   "outputs": [
    {
     "data": {
      "text/plain": [
       "<matplotlib.axes._subplots.AxesSubplot at 0x7fd09e665610>"
      ]
     },
     "execution_count": 20,
     "metadata": {},
     "output_type": "execute_result"
    },
    {
     "data": {
      "image/png": "[encoded data removed]",
      "text/plain": [
       "<Figure size 432x288 with 1 Axes>"
      ]
     },
     "metadata": {
      "needs_background": "light"
     },
     "output_type": "display_data"
    }
   ],
   "source": [
    "testcolor = np.array(colordf[['R','G','B']].values)/256\n",
    "colordf.reset_index(drop=False).plot(x='index', y='Guess', kind='scatter', color=testcolor)"
   ]
  },
  {
   "cell_type": "markdown",
   "metadata": {
    "id": "nMPGpDfb4GVH"
   },
   "source": [
    "We can see from the plot shown above, some of the colors were not properly clustered. \n",
    "\n",
    "Some unexpected color were shown in \"grey blue\", \"grey\". \"sky blue\" and \"grey blue\" has some purple dots in them. \n",
    "\n",
    "In general, the cluster does not have a very good resolution and the cluster were not comprehensive enough to cover some colors like purple, white, or orange. "
   ]
  },
  {
   "cell_type": "code",
   "execution_count": 20,
   "metadata": {
    "executionInfo": {
     "elapsed": 4,
     "status": "ok",
     "timestamp": 1656563879251,
     "user": {
      "displayName": "Tianyu Wang",
      "userId": "07425378355766880287"
     },
     "user_tz": 420
    },
    "id": "S-U7WvjQ4FJe"
   },
   "outputs": [],
   "source": []
  },
  {
   "cell_type": "markdown",
   "metadata": {
    "id": "r_AS45RWoc2D"
   },
   "source": [
    "## Review\n",
    "\n"
   ]
  }
 ],
 "metadata": {
  "colab": {
   "collapsed_sections": [],
   "name": "08_Kmeans_Clustering.ipynb",
   "provenance": []
  },
  "kernelspec": {
   "display_name": "Python 3 (ipykernel)",
   "language": "python",
   "name": "python3"
  },
  "language_info": {
   "codemirror_mode": {
    "name": "ipython",
    "version": 3
   },
   "file_extension": ".py",
   "mimetype": "text/x-python",
   "name": "python",
   "nbconvert_exporter": "python",
   "pygments_lexer": "ipython3",
   "version": "3.9.13"
  }
 },
 "nbformat": 4,
 "nbformat_minor": 4
}
