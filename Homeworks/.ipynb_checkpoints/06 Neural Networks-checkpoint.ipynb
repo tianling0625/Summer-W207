{
  "cells": [
    {
      "cell_type": "markdown",
      "metadata": {
        "id": "MKsRDH5ZUdfasdv"
      },
      "source": [
        "# Lab 6"
      ]
    },
    {
      "cell_type": "markdown",
      "metadata": {
        "id": "43534tdfgs-v"
      },
      "source": [
        "This lab connects all the pieces involved in training feed-forward fully connected neural networks. You will run a full set of experiments to explore different hyperparameters and hidden layer sizes for both the MNIST and FASHION_MNIST datasets, and report your findings."
      ]
    },
    {
      "cell_type": "code",
      "execution_count": 1,
      "metadata": {
        "id": "7X58hOMTUH-w"
      },
      "outputs": [],
      "source": [
        "# Import the libraries we'll use below.\n",
        "import numpy as np\n",
        "from matplotlib import pyplot as plt\n",
        "import pandas as pd\n",
        "import seaborn as sns  # for nicer plots\n",
        "sns.set(style=\"darkgrid\")  # default style\n",
        "\n",
        "import tensorflow as tf\n",
        "from tensorflow import keras\n",
        "from keras import metrics\n",
        "tf.get_logger().setLevel('INFO')"
      ]
    },
    {
      "cell_type": "markdown",
      "metadata": {
        "id": "zL5O-SOu7kYN"
      },
      "source": [
        "## Datasets\n"
      ]
    },
    {
      "cell_type": "markdown",
      "metadata": {
        "id": "WYpm_zG37xay"
      },
      "source": [
        "### Fashion MNIST\n",
        "\n",
        "We load the fashion_mnist dataset as before."
      ]
    },
    {
      "cell_type": "code",
      "execution_count": 2,
      "metadata": {
        "colab": {
          "base_uri": "https://localhost:8080/",
          "height": 482
        },
        "id": "load_auto_data_set_code",
        "outputId": "787d4918-99fc-46df-b8d0-cb041b943eff"
      },
      "outputs": [
        {
          "output_type": "stream",
          "name": "stdout",
          "text": [
            "Downloading data from https://storage.googleapis.com/tensorflow/tf-keras-datasets/train-labels-idx1-ubyte.gz\n",
            "32768/29515 [=================================] - 0s 0us/step\n",
            "40960/29515 [=========================================] - 0s 0us/step\n",
            "Downloading data from https://storage.googleapis.com/tensorflow/tf-keras-datasets/train-images-idx3-ubyte.gz\n",
            "26427392/26421880 [==============================] - 0s 0us/step\n",
            "26435584/26421880 [==============================] - 0s 0us/step\n",
            "Downloading data from https://storage.googleapis.com/tensorflow/tf-keras-datasets/t10k-labels-idx1-ubyte.gz\n",
            "16384/5148 [===============================================================================================] - 0s 0us/step\n",
            "Downloading data from https://storage.googleapis.com/tensorflow/tf-keras-datasets/t10k-images-idx3-ubyte.gz\n",
            "4423680/4422102 [==============================] - 0s 0us/step\n",
            "4431872/4422102 [==============================] - 0s 0us/step\n",
            "Label: t-shirt\n"
          ]
        },
        {
          "output_type": "display_data",
          "data": {
            "text/plain": [
              "<Figure size 432x288 with 1 Axes>"
            ],
            "image/png": "[encoded data removed]"
          },
          "metadata": {
            "needs_background": "light"
          }
        }
      ],
      "source": [
        "from keras.datasets import fashion_mnist\n",
        "\n",
        "# Load the Fashion MNIST dataset.\n",
        "(X_train_fashion, Y_train_fashion), (X_test_fashion, Y_test_fashion) = fashion_mnist.load_data()\n",
        "X_train_fashion = X_train_fashion / 255.\n",
        "X_test_fashion = X_test_fashion / 255.\n",
        "\n",
        "# Flatten Y_train and Y_test, so they become vectors of label values.\n",
        "Y_train_fashion = Y_train_fashion.flatten()\n",
        "Y_test_fashion = Y_test_fashion.flatten()\n",
        "\n",
        "label_names = ['t-shirt', 'trouser', 'pullover', 'dress', 'coat',\n",
        "               'sandal', 'shirt', 'sneaker', 'bag', 'ankle boot']\n",
        "\n",
        "# Apply random shufflying to training examples.\n",
        "np.random.seed(0)\n",
        "indices = np.arange(X_train_fashion.shape[0])\n",
        "shuffled_indices = np.random.permutation(indices)\n",
        "X_train_fashion = X_train_fashion[shuffled_indices]\n",
        "Y_train_fashion = Y_train_fashion[shuffled_indices]\n",
        "\n",
        "# Show the first training example.\n",
        "print('Label: %s' %label_names[Y_train_fashion[0]])\n",
        "plt.imshow(X_train_fashion[0], cmap='gray')\n",
        "plt.show()"
      ]
    },
    {
      "cell_type": "markdown",
      "metadata": {
        "id": "ND9b1ShF745M"
      },
      "source": [
        "### MNIST\n",
        "\n",
        "We also load the (digits) mnist dataset in the same way. Note that the number of train/test examples as well as the data shapes are identical to fashion_mnist."
      ]
    },
    {
      "cell_type": "code",
      "execution_count": 3,
      "metadata": {
        "colab": {
          "base_uri": "https://localhost:8080/",
          "height": 339
        },
        "id": "ACD38quoz8D_",
        "outputId": "c9cf6639-3d9f-4386-8902-8f543de39b9b"
      },
      "outputs": [
        {
          "output_type": "stream",
          "name": "stdout",
          "text": [
            "Downloading data from https://storage.googleapis.com/tensorflow/tf-keras-datasets/mnist.npz\n",
            "11493376/11490434 [==============================] - 0s 0us/step\n",
            "11501568/11490434 [==============================] - 0s 0us/step\n",
            "Label: 3\n"
          ]
        },
        {
          "output_type": "display_data",
          "data": {
            "text/plain": [
              "<Figure size 432x288 with 1 Axes>"
            ],
            "image/png": "[encoded data removed]"
          },
          "metadata": {
            "needs_background": "light"
          }
        }
      ],
      "source": [
        "from keras.datasets import mnist\n",
        "\n",
        "# Load the MNIST dataset.\n",
        "(X_train_digits, Y_train_digits), (X_test_digits, Y_test_digits) = mnist.load_data()\n",
        "X_train_digits = X_train_digits / 255\n",
        "X_test_digits = X_test_digits / 255\n",
        "\n",
        "# Flatten Y_train and Y_test, so they become vectors of label values.\n",
        "Y_train_digits = Y_train_digits.flatten()\n",
        "Y_test_digits = Y_test_digits.flatten()\n",
        "\n",
        "# Apply random shufflying to training examples.\n",
        "np.random.seed(0)\n",
        "indices = np.arange(X_train_digits.shape[0])\n",
        "shuffled_indices = np.random.permutation(indices)\n",
        "X_train_digits = X_train_digits[shuffled_indices]\n",
        "Y_train_digits = Y_train_digits[shuffled_indices]\n",
        "\n",
        "# Show the first training example.\n",
        "print('Label: %d' %Y_train_digits[0])\n",
        "plt.imshow(X_train_digits[0], cmap='gray')\n",
        "plt.show()"
      ]
    },
    {
      "cell_type": "code",
      "execution_count": 4,
      "metadata": {
        "colab": {
          "base_uri": "https://localhost:8080/"
        },
        "id": "w_kMLjVqDU0u",
        "outputId": "95434dc1-ef4a-4cf3-e062-4a181219f60f"
      },
      "outputs": [
        {
          "output_type": "stream",
          "name": "stdout",
          "text": [
            "(60000, 28, 28)\n"
          ]
        }
      ],
      "source": [
        "print(X_train_fashion.shape)"
      ]
    },
    {
      "cell_type": "markdown",
      "metadata": {
        "id": "09EpBz1w0_Nj"
      },
      "source": [
        "## Build a Model\n",
        "\n",
        "We will write a build_model function that allows for a range of experiments on both datasets."
      ]
    },
    {
      "cell_type": "markdown",
      "metadata": {
        "id": "BWbRPrMyHZ2J"
      },
      "source": [
        "---\n",
        "### Exercise 1 (58points)\n",
        "\n",
        "Fill in code that implements the build_model function, including all the arguments listed in the function definition."
      ]
    },
    {
      "cell_type": "code",
      "execution_count": 5,
      "metadata": {
        "id": "-GeBGPGhQ5bu"
      },
      "outputs": [],
      "source": [
        "def build_model(n_classes,\n",
        "                hidden_layer_sizes=[],\n",
        "                activation='relu',\n",
        "                optimizer='SGD',\n",
        "                learning_rate=0.01):\n",
        "  \"\"\"Build a multi-class logistic regression model using Keras.\n",
        "\n",
        "  Args:\n",
        "    n_classes: Number of output classes in the dataset.\n",
        "    hidden_layer_sizes: A list with the number of units in each hidden layer.\n",
        "    activation: The activation function to use for the hidden layers.\n",
        "    optimizer: The optimizer to use (SGD, Adam).\n",
        "    learning_rate: The desired learning rate for the optimizer.\n",
        "\n",
        "  Returns:\n",
        "    model: A tf.keras model (graph).\n",
        "  \"\"\"\n",
        "  tf.keras.backend.clear_session()\n",
        "  np.random.seed(0)\n",
        "  tf.random.set_seed(0)\n",
        "\n",
        "  # YOUR CODE HERE\n",
        "\n",
        "  model = tf.keras.Sequential()\n",
        "  model.add(keras.layers.Flatten())\n",
        "  model.add(tf.keras.Input(shape=(784,), name='Input'))\n",
        "  for index, hidden_layer_size in enumerate(hidden_layer_sizes):\n",
        "    model.add(tf.keras.layers.Dense(units=hidden_layer_size,\n",
        "                                    activation=activation,\n",
        "                                    name=f\"Hidden_{index}\"))\n",
        "  model.add(tf.keras.layers.Dense(units=n_classes, activation='sigmoid', name='Output'))\n",
        "  if optimizer=='SGD':\n",
        "    opt = keras.optimizers.SGD(learning_rate=learning_rate)\n",
        "  elif optimizer == 'Adam':\n",
        "    opt = keras.optimizers.Adam(learning_rate=learning_rate)\n",
        "  model.compile(loss = 'sparse_categorical_crossentropy',  optimizer = opt, metrics=['accuracy'])\n",
        "\n",
        "  return model"
      ]
    },
    {
      "cell_type": "markdown",
      "metadata": {
        "id": "DO-d_F58Q-6O"
      },
      "source": [
        "---"
      ]
    },
    {
      "cell_type": "markdown",
      "metadata": {
        "id": "SYpd5gUeH9pn"
      },
      "source": [
        "## Run Experiments\n",
        "\n",
        "We can now run a suite of experiments to see how the hyperparameters and layer sizes effect performance. The train_and_evaluate function below can be used to run experiments and retrieve results."
      ]
    },
    {
      "cell_type": "code",
      "execution_count": 6,
      "metadata": {
        "colab": {
          "base_uri": "https://localhost:8080/",
          "height": 321
        },
        "id": "OKeyZXLJJlA4",
        "outputId": "bd6a6e5e-7584-42f9-8940-d32ca4fe965a"
      },
      "outputs": [
        {
          "output_type": "stream",
          "name": "stdout",
          "text": [
            "Training...\n"
          ]
        },
        {
          "output_type": "display_data",
          "data": {
            "text/plain": [
              "<Figure size 432x288 with 1 Axes>"
            ],
            "image/png": "[encoded data removed]"
          },
          "metadata": {
            "needs_background": "light"
          }
        },
        {
          "output_type": "stream",
          "name": "stdout",
          "text": [
            "Test Accuracy: 0.9207\n"
          ]
        }
      ],
      "source": [
        "def train_and_evaluate(data='digits',\n",
        "                       hidden_layer_sizes=[],\n",
        "                       activation='tanh',\n",
        "                       optimizer='Adam',\n",
        "                       learning_rate=0.01,\n",
        "                       num_epochs=5):\n",
        "\n",
        "  # Build the model.\n",
        "  model = build_model(n_classes=10,\n",
        "                      hidden_layer_sizes=hidden_layer_sizes,\n",
        "                      activation=activation,\n",
        "                      optimizer=optimizer,\n",
        "                      learning_rate=learning_rate)\n",
        "\n",
        "  # Select the dataset.\n",
        "  if data == 'digits':\n",
        "    X_train = X_train_digits\n",
        "    X_test = X_test_digits\n",
        "    Y_train = Y_train_digits\n",
        "    Y_test = Y_test_digits\n",
        "  elif data == 'fashion':\n",
        "    X_train = X_train_fashion\n",
        "    X_test = X_test_fashion\n",
        "    Y_train = Y_train_fashion\n",
        "    Y_test = Y_test_fashion\n",
        "  else:\n",
        "    raise 'Unsupported dataset: %s' %data\n",
        "\n",
        "  # Train the model.\n",
        "  print('Training...')\n",
        "  history = model.fit(\n",
        "    x=X_train,\n",
        "    y=Y_train,\n",
        "    epochs=num_epochs,\n",
        "    batch_size=64,\n",
        "    validation_split=0.1,\n",
        "    verbose=0)\n",
        "\n",
        "  # Retrieve the training metrics (after each train epoch) and the final test\n",
        "  # accuracy.\n",
        "  train_accuracy = history.history['accuracy']\n",
        "  val_accuracy = history.history['val_accuracy']\n",
        "  plt.plot(train_accuracy, label='train_accuracy')\n",
        "  plt.plot(val_accuracy, label='validation accuracy')\n",
        "  plt.xticks(range(num_epochs))\n",
        "  plt.xlabel('Train epochs')\n",
        "  plt.legend()\n",
        "  plt.show()\n",
        "\n",
        "  test_accuracy = model.evaluate(x=X_test, y=Y_test, verbose=0,\n",
        "                                 return_dict=True)['accuracy']\n",
        "  return test_accuracy\n",
        "\n",
        "print('Test Accuracy: %1.4f' %train_and_evaluate())"
      ]
    },
    {
      "cell_type": "markdown",
      "metadata": {
        "id": "d0Ewe-W8IT-J"
      },
      "source": [
        "---\n",
        "### Exercise 2 (8 points)\n",
        "\n",
        "Run experiments and fill in the test results in the table below. Feel free to extend the table to more experiments as you see fit."
      ]
    },
    {
      "cell_type": "code",
      "execution_count": null,
      "metadata": {
        "colab": {
          "base_uri": "https://localhost:8080/"
        },
        "id": "G4-m_aiJDU0x",
        "outputId": "5e3edee5-b099-4bac-bb6e-85ffe7da7918"
      },
      "outputs": [
        {
          "output_type": "stream",
          "name": "stdout",
          "text": [
            "Training...\n"
          ]
        }
      ],
      "source": [
        "def train_and_evaluate(data='fashion',\n",
        "                       hidden_layer_sizes=[128,128],\n",
        "                       activation='relu',\n",
        "                       optimizer='Adam',\n",
        "                       learning_rate=0.01,\n",
        "                       num_epochs=8):\n",
        "\n",
        "  # Build the model.\n",
        "  model = build_model(n_classes=10,\n",
        "                      hidden_layer_sizes=hidden_layer_sizes,\n",
        "                      activation=activation,\n",
        "                      optimizer=optimizer,\n",
        "                      learning_rate=learning_rate)\n",
        "\n",
        "  # Select the dataset.\n",
        "  if data == 'digits':\n",
        "    X_train = X_train_digits\n",
        "    X_test = X_test_digits\n",
        "    Y_train = Y_train_digits\n",
        "    Y_test = Y_test_digits\n",
        "  elif data == 'fashion':\n",
        "    X_train = X_train_fashion\n",
        "    X_test = X_test_fashion\n",
        "    Y_train = Y_train_fashion\n",
        "    Y_test = Y_test_fashion\n",
        "  else:\n",
        "    raise 'Unsupported dataset: %s' %data\n",
        "\n",
        "  # Train the model.\n",
        "  print('Training...')\n",
        "  history = model.fit(\n",
        "    x=X_train,\n",
        "    y=Y_train,\n",
        "    epochs=num_epochs,\n",
        "    batch_size=64,\n",
        "    validation_split=0.1,\n",
        "    verbose=0)\n",
        "\n",
        "  # Retrieve the training metrics (after each train epoch) and the final test\n",
        "  # accuracy.\n",
        "  train_accuracy = history.history['accuracy']\n",
        "  val_accuracy = history.history['val_accuracy']\n",
        "  plt.plot(train_accuracy, label='train_accuracy')\n",
        "  plt.plot(val_accuracy, label='validation accuracy')\n",
        "  plt.xticks(range(num_epochs))\n",
        "  plt.xlabel('Train epochs')\n",
        "  plt.legend()\n",
        "  plt.show()\n",
        "\n",
        "  test_accuracy = model.evaluate(x=X_test, y=Y_test, verbose=0,\n",
        "                                 return_dict=True)['accuracy']\n",
        "  return test_accuracy\n",
        "\n",
        "print('Test Accuracy: %1.4f' %train_and_evaluate())"
      ]
    },
    {
      "cell_type": "markdown",
      "metadata": {
        "id": "i_ddqOToQ6WW"
      },
      "source": [
        "#### Student Solution\n",
        "\n",
        "DATA | HIDDEN SIZES | ACTIVATION | OPTIMIZER | LEARNING RATE | #PARAMETERS | NUM_EPOCHS | TEST ACCURACY\n",
        "-|-|-|-|-|-|-|-\n",
        "digits|[]|tanh|SGD|0.01||5|0.8966\n",
        "digits|[]|relu|SGD|0.01||5|0.8966\n",
        "digits|[]|relu|Adam|0.01||5|0.9207\n",
        "digits|[128]|relu|Adam|0.01||5|0.9640\n",
        "digits|[256,128]|relu|Adam|0.01||5|0.9673\n",
        "-\n",
        "fashion|[]|tanh|SGD|0.01||5|0.8092\n",
        "fashion|[]|relu|SGD|0.01||5|0.8092\n",
        "fashion|[]|relu|Adam|0.01||5|0.8356\n",
        "fashion|[128]|relu|Adam|0.01||5|0.8545\n",
        "fashion|[256,128]|relu|Adam|0.01||5|0.8421\n",
        "fashion|[128,128,128]|relu|Adam|0.01||5|0.8555\n",
        "fashion|[128,128]|relu|Adam|0.01||8|0.8618\n",
        "\n",
        "\n"
      ]
    }
  ],
  "metadata": {
    "colab": {
      "collapsed_sections": [],
      "name": "Wang_Tianyu_06.ipynb",
      "provenance": []
    },
    "kernelspec": {
      "display_name": "Python 3 (ipykernel)",
      "language": "python",
      "name": "python3"
    },
    "language_info": {
      "codemirror_mode": {
        "name": "ipython",
        "version": 3
      },
      "file_extension": ".py",
      "mimetype": "text/x-python",
      "name": "python",
      "nbconvert_exporter": "python",
      "pygments_lexer": "ipython3",
      "version": "3.9.13"
    }
  },
  "nbformat": 4,
  "nbformat_minor": 0
}